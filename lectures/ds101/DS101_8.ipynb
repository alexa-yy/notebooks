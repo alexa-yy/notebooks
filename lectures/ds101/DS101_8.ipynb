{
 "cells": [
  {
   "cell_type": "markdown",
   "metadata": {},
   "source": [
    "# Intro to Data Science\n",
    "## Part VIII. - Deep Learning and it's applications\n",
    "\n",
    "### Table of contents\n",
    "\n",
    "- #### Deep learning basics\n",
    "    - <a href=\"#What-is-Deep-Learning?\">Theory</a>\n",
    "    - <a href=\"#1.-Neuron-types\">Neuron types</a>\n",
    "    - <a href=\"#2.-Activision-and-Loss-functions\">Activision and loss functions</a>\n",
    "    - <a href=\"#3.-Layer-Architecture-types\">Layer Architecture types</a>\n",
    "    - <a href=\"#4.-Building-a-network\">Building a network</a>\n",
    "    \n",
    "- #### In practice\n",
    "    - <a href=\"#Classification-Regression\">Theory</a>\n",
    "    - <a href=\"#Image-processing\">Theory</a>\n",
    "    - <a href=\"#Text-embedding\">Cross Validation</a>\n",
    "    \n",
    "---\n",
    "\n",
    "# I. Deep learning basics\n",
    "\n",
    "## What is Deep Learning?\n",
    "\n",
    "Placeholder.\n",
    "\n",
    "## Why is it important?\n",
    "\n",
    "Placeholder.\n",
    "\n",
    "## Tools\n",
    "- Scikit-Learn\n",
    "- Gensim\n",
    "- Tensorflow\n",
    "- Torch\n",
    "- Keras"
   ]
  },
  {
   "cell_type": "code",
   "execution_count": null,
   "metadata": {},
   "outputs": [],
   "source": []
  }
 ],
 "metadata": {
  "kernelspec": {
   "display_name": "Python 3",
   "language": "python",
   "name": "python3"
  },
  "language_info": {
   "codemirror_mode": {
    "name": "ipython",
    "version": 3
   },
   "file_extension": ".py",
   "mimetype": "text/x-python",
   "name": "python",
   "nbconvert_exporter": "python",
   "pygments_lexer": "ipython3",
   "version": "3.7.2"
  }
 },
 "nbformat": 4,
 "nbformat_minor": 2
}
