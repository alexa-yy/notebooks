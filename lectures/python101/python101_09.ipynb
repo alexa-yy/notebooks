{
 "cells": [
  {
   "cell_type": "markdown",
   "metadata": {},
   "source": [
    "# !!!!! FIND OTHER DATASOURCE !!!!!"
   ]
  },
  {
   "cell_type": "markdown",
   "metadata": {},
   "source": [
    "# Python 101\n",
    "## Part IX.\n",
    "---\n",
    "## Dataframes and visualization\n",
    "### Act I: Use the pandas, Luke!\n",
    "\n",
    "<img src=\"pics/pandas.png\" align=\"left\">\n",
    "<br style=\"clear:left;\"/>"
   ]
  },
  {
   "cell_type": "code",
   "execution_count": 2,
   "metadata": {},
   "outputs": [],
   "source": [
    "import pandas as pd"
   ]
  },
  {
   "cell_type": "markdown",
   "metadata": {},
   "source": [
    "#### Part I. Basic pandas operations\n",
    "- read csv data into a pandas dataframe"
   ]
  },
  {
   "cell_type": "code",
   "execution_count": 5,
   "metadata": {},
   "outputs": [],
   "source": [
    "data = pd.read_csv('./data/vote2014.csv', quotechar='\"', delimiter=';', encoding='utf-8')"
   ]
  },
  {
   "cell_type": "markdown",
   "metadata": {},
   "source": [
    "- show the first 5 rows"
   ]
  },
  {
   "cell_type": "code",
   "execution_count": 6,
   "metadata": {},
   "outputs": [
    {
     "data": {
      "text/html": [
       "<div>\n",
       "<style scoped>\n",
       "    .dataframe tbody tr th:only-of-type {\n",
       "        vertical-align: middle;\n",
       "    }\n",
       "\n",
       "    .dataframe tbody tr th {\n",
       "        vertical-align: top;\n",
       "    }\n",
       "\n",
       "    .dataframe thead th {\n",
       "        text-align: right;\n",
       "    }\n",
       "</style>\n",
       "<table border=\"1\" class=\"dataframe\">\n",
       "  <thead>\n",
       "    <tr style=\"text-align: right;\">\n",
       "      <th></th>\n",
       "      <th>region</th>\n",
       "      <th>subregion</th>\n",
       "      <th>subid</th>\n",
       "      <th>name</th>\n",
       "      <th>party</th>\n",
       "      <th>votes</th>\n",
       "      <th>votes %</th>\n",
       "    </tr>\n",
       "  </thead>\n",
       "  <tbody>\n",
       "    <tr>\n",
       "      <th>0</th>\n",
       "      <td>BUDAPEST</td>\n",
       "      <td>Budapest V.ker.</td>\n",
       "      <td>2</td>\n",
       "      <td>Szöllősi Istvánné</td>\n",
       "      <td>SZOCIÁLDEMOKRATÁK</td>\n",
       "      <td>321</td>\n",
       "      <td>0.68</td>\n",
       "    </tr>\n",
       "    <tr>\n",
       "      <th>1</th>\n",
       "      <td>BUDAPEST</td>\n",
       "      <td>Budapest V.ker.</td>\n",
       "      <td>3</td>\n",
       "      <td>Schiffer András</td>\n",
       "      <td>LMP</td>\n",
       "      <td>6482</td>\n",
       "      <td>13.65</td>\n",
       "    </tr>\n",
       "    <tr>\n",
       "      <th>2</th>\n",
       "      <td>BUDAPEST</td>\n",
       "      <td>Budapest V.ker.</td>\n",
       "      <td>4</td>\n",
       "      <td>Rogán Antal</td>\n",
       "      <td>FIDESZ-KDNP</td>\n",
       "      <td>21503</td>\n",
       "      <td>45.29</td>\n",
       "    </tr>\n",
       "    <tr>\n",
       "      <th>3</th>\n",
       "      <td>BUDAPEST</td>\n",
       "      <td>Budapest V.ker.</td>\n",
       "      <td>5</td>\n",
       "      <td>Hegedűs Lóránt Gézáné</td>\n",
       "      <td>JOBBIK</td>\n",
       "      <td>3713</td>\n",
       "      <td>7.82</td>\n",
       "    </tr>\n",
       "    <tr>\n",
       "      <th>4</th>\n",
       "      <td>BUDAPEST</td>\n",
       "      <td>Budapest V.ker.</td>\n",
       "      <td>6</td>\n",
       "      <td>Kerék-Bárczy Szabolcs</td>\n",
       "      <td>MSZP-EGYÜTT-DK-PM-MLP</td>\n",
       "      <td>15459</td>\n",
       "      <td>32.56</td>\n",
       "    </tr>\n",
       "  </tbody>\n",
       "</table>\n",
       "</div>"
      ],
      "text/plain": [
       "     region        subregion  subid                   name  \\\n",
       "0  BUDAPEST  Budapest V.ker.      2      Szöllősi Istvánné   \n",
       "1  BUDAPEST  Budapest V.ker.      3        Schiffer András   \n",
       "2  BUDAPEST  Budapest V.ker.      4            Rogán Antal   \n",
       "3  BUDAPEST  Budapest V.ker.      5  Hegedűs Lóránt Gézáné   \n",
       "4  BUDAPEST  Budapest V.ker.      6  Kerék-Bárczy Szabolcs   \n",
       "\n",
       "                   party  votes  votes %  \n",
       "0      SZOCIÁLDEMOKRATÁK    321     0.68  \n",
       "1                    LMP   6482    13.65  \n",
       "2            FIDESZ-KDNP  21503    45.29  \n",
       "3                 JOBBIK   3713     7.82  \n",
       "4  MSZP-EGYÜTT-DK-PM-MLP  15459    32.56  "
      ]
     },
     "execution_count": 6,
     "metadata": {},
     "output_type": "execute_result"
    }
   ],
   "source": [
    "data.head()"
   ]
  },
  {
   "cell_type": "markdown",
   "metadata": {},
   "source": [
    "- get a dataframe's column names"
   ]
  },
  {
   "cell_type": "code",
   "execution_count": 7,
   "metadata": {},
   "outputs": [
    {
     "data": {
      "text/plain": [
       "Index(['region', 'subregion', 'subid', 'name', 'party', 'votes', 'votes %'], dtype='object')"
      ]
     },
     "execution_count": 7,
     "metadata": {},
     "output_type": "execute_result"
    }
   ],
   "source": [
    "data.columns"
   ]
  },
  {
   "cell_type": "markdown",
   "metadata": {},
   "source": [
    "- select a subset of columns"
   ]
  },
  {
   "cell_type": "code",
   "execution_count": 8,
   "metadata": {},
   "outputs": [
    {
     "data": {
      "text/html": [
       "<div>\n",
       "<style scoped>\n",
       "    .dataframe tbody tr th:only-of-type {\n",
       "        vertical-align: middle;\n",
       "    }\n",
       "\n",
       "    .dataframe tbody tr th {\n",
       "        vertical-align: top;\n",
       "    }\n",
       "\n",
       "    .dataframe thead th {\n",
       "        text-align: right;\n",
       "    }\n",
       "</style>\n",
       "<table border=\"1\" class=\"dataframe\">\n",
       "  <thead>\n",
       "    <tr style=\"text-align: right;\">\n",
       "      <th></th>\n",
       "      <th>name</th>\n",
       "      <th>votes</th>\n",
       "    </tr>\n",
       "  </thead>\n",
       "  <tbody>\n",
       "    <tr>\n",
       "      <th>0</th>\n",
       "      <td>Szöllősi Istvánné</td>\n",
       "      <td>321</td>\n",
       "    </tr>\n",
       "    <tr>\n",
       "      <th>1</th>\n",
       "      <td>Schiffer András</td>\n",
       "      <td>6482</td>\n",
       "    </tr>\n",
       "    <tr>\n",
       "      <th>2</th>\n",
       "      <td>Rogán Antal</td>\n",
       "      <td>21503</td>\n",
       "    </tr>\n",
       "    <tr>\n",
       "      <th>3</th>\n",
       "      <td>Hegedűs Lóránt Gézáné</td>\n",
       "      <td>3713</td>\n",
       "    </tr>\n",
       "    <tr>\n",
       "      <th>4</th>\n",
       "      <td>Kerék-Bárczy Szabolcs</td>\n",
       "      <td>15459</td>\n",
       "    </tr>\n",
       "  </tbody>\n",
       "</table>\n",
       "</div>"
      ],
      "text/plain": [
       "                    name  votes\n",
       "0      Szöllősi Istvánné    321\n",
       "1        Schiffer András   6482\n",
       "2            Rogán Antal  21503\n",
       "3  Hegedűs Lóránt Gézáné   3713\n",
       "4  Kerék-Bárczy Szabolcs  15459"
      ]
     },
     "execution_count": 8,
     "metadata": {},
     "output_type": "execute_result"
    }
   ],
   "source": [
    "data[['name', 'votes']].head()"
   ]
  },
  {
   "cell_type": "markdown",
   "metadata": {},
   "source": [
    "- filter columns by selecting subset of columns"
   ]
  },
  {
   "cell_type": "code",
   "execution_count": 9,
   "metadata": {},
   "outputs": [
    {
     "data": {
      "text/plain": [
       "['region', 'subregion', 'name', 'party', 'votes', 'votes %']"
      ]
     },
     "execution_count": 9,
     "metadata": {},
     "output_type": "execute_result"
    }
   ],
   "source": [
    "cols_i_want = [col for col in data.columns if not col == 'subid']\n",
    "cols_i_want"
   ]
  },
  {
   "cell_type": "code",
   "execution_count": 10,
   "metadata": {},
   "outputs": [
    {
     "data": {
      "text/html": [
       "<div>\n",
       "<style scoped>\n",
       "    .dataframe tbody tr th:only-of-type {\n",
       "        vertical-align: middle;\n",
       "    }\n",
       "\n",
       "    .dataframe tbody tr th {\n",
       "        vertical-align: top;\n",
       "    }\n",
       "\n",
       "    .dataframe thead th {\n",
       "        text-align: right;\n",
       "    }\n",
       "</style>\n",
       "<table border=\"1\" class=\"dataframe\">\n",
       "  <thead>\n",
       "    <tr style=\"text-align: right;\">\n",
       "      <th></th>\n",
       "      <th>region</th>\n",
       "      <th>subregion</th>\n",
       "      <th>name</th>\n",
       "      <th>party</th>\n",
       "      <th>votes</th>\n",
       "      <th>votes %</th>\n",
       "    </tr>\n",
       "  </thead>\n",
       "  <tbody>\n",
       "    <tr>\n",
       "      <th>0</th>\n",
       "      <td>BUDAPEST</td>\n",
       "      <td>Budapest V.ker.</td>\n",
       "      <td>Szöllősi Istvánné</td>\n",
       "      <td>SZOCIÁLDEMOKRATÁK</td>\n",
       "      <td>321</td>\n",
       "      <td>0.68</td>\n",
       "    </tr>\n",
       "    <tr>\n",
       "      <th>1</th>\n",
       "      <td>BUDAPEST</td>\n",
       "      <td>Budapest V.ker.</td>\n",
       "      <td>Schiffer András</td>\n",
       "      <td>LMP</td>\n",
       "      <td>6482</td>\n",
       "      <td>13.65</td>\n",
       "    </tr>\n",
       "    <tr>\n",
       "      <th>2</th>\n",
       "      <td>BUDAPEST</td>\n",
       "      <td>Budapest V.ker.</td>\n",
       "      <td>Rogán Antal</td>\n",
       "      <td>FIDESZ-KDNP</td>\n",
       "      <td>21503</td>\n",
       "      <td>45.29</td>\n",
       "    </tr>\n",
       "    <tr>\n",
       "      <th>3</th>\n",
       "      <td>BUDAPEST</td>\n",
       "      <td>Budapest V.ker.</td>\n",
       "      <td>Hegedűs Lóránt Gézáné</td>\n",
       "      <td>JOBBIK</td>\n",
       "      <td>3713</td>\n",
       "      <td>7.82</td>\n",
       "    </tr>\n",
       "    <tr>\n",
       "      <th>4</th>\n",
       "      <td>BUDAPEST</td>\n",
       "      <td>Budapest V.ker.</td>\n",
       "      <td>Kerék-Bárczy Szabolcs</td>\n",
       "      <td>MSZP-EGYÜTT-DK-PM-MLP</td>\n",
       "      <td>15459</td>\n",
       "      <td>32.56</td>\n",
       "    </tr>\n",
       "  </tbody>\n",
       "</table>\n",
       "</div>"
      ],
      "text/plain": [
       "     region        subregion                   name                  party  \\\n",
       "0  BUDAPEST  Budapest V.ker.      Szöllősi Istvánné      SZOCIÁLDEMOKRATÁK   \n",
       "1  BUDAPEST  Budapest V.ker.        Schiffer András                    LMP   \n",
       "2  BUDAPEST  Budapest V.ker.            Rogán Antal            FIDESZ-KDNP   \n",
       "3  BUDAPEST  Budapest V.ker.  Hegedűs Lóránt Gézáné                 JOBBIK   \n",
       "4  BUDAPEST  Budapest V.ker.  Kerék-Bárczy Szabolcs  MSZP-EGYÜTT-DK-PM-MLP   \n",
       "\n",
       "   votes  votes %  \n",
       "0    321     0.68  \n",
       "1   6482    13.65  \n",
       "2  21503    45.29  \n",
       "3   3713     7.82  \n",
       "4  15459    32.56  "
      ]
     },
     "execution_count": 10,
     "metadata": {},
     "output_type": "execute_result"
    }
   ],
   "source": [
    "data[cols_i_want].head()"
   ]
  },
  {
   "cell_type": "markdown",
   "metadata": {},
   "source": [
    "__Caution!__ `data[cols]` only creates a view!  \n",
    "Use `data = data[cols]` if you want on a subset."
   ]
  },
  {
   "cell_type": "code",
   "execution_count": 11,
   "metadata": {},
   "outputs": [
    {
     "data": {
      "text/html": [
       "<div>\n",
       "<style scoped>\n",
       "    .dataframe tbody tr th:only-of-type {\n",
       "        vertical-align: middle;\n",
       "    }\n",
       "\n",
       "    .dataframe tbody tr th {\n",
       "        vertical-align: top;\n",
       "    }\n",
       "\n",
       "    .dataframe thead th {\n",
       "        text-align: right;\n",
       "    }\n",
       "</style>\n",
       "<table border=\"1\" class=\"dataframe\">\n",
       "  <thead>\n",
       "    <tr style=\"text-align: right;\">\n",
       "      <th></th>\n",
       "      <th>region</th>\n",
       "      <th>subregion</th>\n",
       "      <th>subid</th>\n",
       "      <th>name</th>\n",
       "      <th>party</th>\n",
       "      <th>votes</th>\n",
       "      <th>votes %</th>\n",
       "    </tr>\n",
       "  </thead>\n",
       "  <tbody>\n",
       "    <tr>\n",
       "      <th>0</th>\n",
       "      <td>BUDAPEST</td>\n",
       "      <td>Budapest V.ker.</td>\n",
       "      <td>2</td>\n",
       "      <td>Szöllősi Istvánné</td>\n",
       "      <td>SZOCIÁLDEMOKRATÁK</td>\n",
       "      <td>321</td>\n",
       "      <td>0.68</td>\n",
       "    </tr>\n",
       "    <tr>\n",
       "      <th>1</th>\n",
       "      <td>BUDAPEST</td>\n",
       "      <td>Budapest V.ker.</td>\n",
       "      <td>3</td>\n",
       "      <td>Schiffer András</td>\n",
       "      <td>LMP</td>\n",
       "      <td>6482</td>\n",
       "      <td>13.65</td>\n",
       "    </tr>\n",
       "    <tr>\n",
       "      <th>2</th>\n",
       "      <td>BUDAPEST</td>\n",
       "      <td>Budapest V.ker.</td>\n",
       "      <td>4</td>\n",
       "      <td>Rogán Antal</td>\n",
       "      <td>FIDESZ-KDNP</td>\n",
       "      <td>21503</td>\n",
       "      <td>45.29</td>\n",
       "    </tr>\n",
       "    <tr>\n",
       "      <th>3</th>\n",
       "      <td>BUDAPEST</td>\n",
       "      <td>Budapest V.ker.</td>\n",
       "      <td>5</td>\n",
       "      <td>Hegedűs Lóránt Gézáné</td>\n",
       "      <td>JOBBIK</td>\n",
       "      <td>3713</td>\n",
       "      <td>7.82</td>\n",
       "    </tr>\n",
       "    <tr>\n",
       "      <th>4</th>\n",
       "      <td>BUDAPEST</td>\n",
       "      <td>Budapest V.ker.</td>\n",
       "      <td>6</td>\n",
       "      <td>Kerék-Bárczy Szabolcs</td>\n",
       "      <td>MSZP-EGYÜTT-DK-PM-MLP</td>\n",
       "      <td>15459</td>\n",
       "      <td>32.56</td>\n",
       "    </tr>\n",
       "  </tbody>\n",
       "</table>\n",
       "</div>"
      ],
      "text/plain": [
       "     region        subregion  subid                   name  \\\n",
       "0  BUDAPEST  Budapest V.ker.      2      Szöllősi Istvánné   \n",
       "1  BUDAPEST  Budapest V.ker.      3        Schiffer András   \n",
       "2  BUDAPEST  Budapest V.ker.      4            Rogán Antal   \n",
       "3  BUDAPEST  Budapest V.ker.      5  Hegedűs Lóránt Gézáné   \n",
       "4  BUDAPEST  Budapest V.ker.      6  Kerék-Bárczy Szabolcs   \n",
       "\n",
       "                   party  votes  votes %  \n",
       "0      SZOCIÁLDEMOKRATÁK    321     0.68  \n",
       "1                    LMP   6482    13.65  \n",
       "2            FIDESZ-KDNP  21503    45.29  \n",
       "3                 JOBBIK   3713     7.82  \n",
       "4  MSZP-EGYÜTT-DK-PM-MLP  15459    32.56  "
      ]
     },
     "execution_count": 11,
     "metadata": {},
     "output_type": "execute_result"
    }
   ],
   "source": [
    "data.head()"
   ]
  },
  {
   "cell_type": "code",
   "execution_count": 12,
   "metadata": {},
   "outputs": [
    {
     "data": {
      "text/html": [
       "<div>\n",
       "<style scoped>\n",
       "    .dataframe tbody tr th:only-of-type {\n",
       "        vertical-align: middle;\n",
       "    }\n",
       "\n",
       "    .dataframe tbody tr th {\n",
       "        vertical-align: top;\n",
       "    }\n",
       "\n",
       "    .dataframe thead th {\n",
       "        text-align: right;\n",
       "    }\n",
       "</style>\n",
       "<table border=\"1\" class=\"dataframe\">\n",
       "  <thead>\n",
       "    <tr style=\"text-align: right;\">\n",
       "      <th></th>\n",
       "      <th>region</th>\n",
       "      <th>subregion</th>\n",
       "      <th>name</th>\n",
       "      <th>party</th>\n",
       "      <th>votes</th>\n",
       "      <th>votes %</th>\n",
       "    </tr>\n",
       "  </thead>\n",
       "  <tbody>\n",
       "    <tr>\n",
       "      <th>0</th>\n",
       "      <td>BUDAPEST</td>\n",
       "      <td>Budapest V.ker.</td>\n",
       "      <td>Szöllősi Istvánné</td>\n",
       "      <td>SZOCIÁLDEMOKRATÁK</td>\n",
       "      <td>321</td>\n",
       "      <td>0.68</td>\n",
       "    </tr>\n",
       "    <tr>\n",
       "      <th>1</th>\n",
       "      <td>BUDAPEST</td>\n",
       "      <td>Budapest V.ker.</td>\n",
       "      <td>Schiffer András</td>\n",
       "      <td>LMP</td>\n",
       "      <td>6482</td>\n",
       "      <td>13.65</td>\n",
       "    </tr>\n",
       "    <tr>\n",
       "      <th>2</th>\n",
       "      <td>BUDAPEST</td>\n",
       "      <td>Budapest V.ker.</td>\n",
       "      <td>Rogán Antal</td>\n",
       "      <td>FIDESZ-KDNP</td>\n",
       "      <td>21503</td>\n",
       "      <td>45.29</td>\n",
       "    </tr>\n",
       "    <tr>\n",
       "      <th>3</th>\n",
       "      <td>BUDAPEST</td>\n",
       "      <td>Budapest V.ker.</td>\n",
       "      <td>Hegedűs Lóránt Gézáné</td>\n",
       "      <td>JOBBIK</td>\n",
       "      <td>3713</td>\n",
       "      <td>7.82</td>\n",
       "    </tr>\n",
       "    <tr>\n",
       "      <th>4</th>\n",
       "      <td>BUDAPEST</td>\n",
       "      <td>Budapest V.ker.</td>\n",
       "      <td>Kerék-Bárczy Szabolcs</td>\n",
       "      <td>MSZP-EGYÜTT-DK-PM-MLP</td>\n",
       "      <td>15459</td>\n",
       "      <td>32.56</td>\n",
       "    </tr>\n",
       "  </tbody>\n",
       "</table>\n",
       "</div>"
      ],
      "text/plain": [
       "     region        subregion                   name                  party  \\\n",
       "0  BUDAPEST  Budapest V.ker.      Szöllősi Istvánné      SZOCIÁLDEMOKRATÁK   \n",
       "1  BUDAPEST  Budapest V.ker.        Schiffer András                    LMP   \n",
       "2  BUDAPEST  Budapest V.ker.            Rogán Antal            FIDESZ-KDNP   \n",
       "3  BUDAPEST  Budapest V.ker.  Hegedűs Lóránt Gézáné                 JOBBIK   \n",
       "4  BUDAPEST  Budapest V.ker.  Kerék-Bárczy Szabolcs  MSZP-EGYÜTT-DK-PM-MLP   \n",
       "\n",
       "   votes  votes %  \n",
       "0    321     0.68  \n",
       "1   6482    13.65  \n",
       "2  21503    45.29  \n",
       "3   3713     7.82  \n",
       "4  15459    32.56  "
      ]
     },
     "execution_count": 12,
     "metadata": {},
     "output_type": "execute_result"
    }
   ],
   "source": [
    "data = data[cols_i_want]\n",
    "data.head()"
   ]
  },
  {
   "cell_type": "markdown",
   "metadata": {},
   "source": [
    "- use aggregation functions  \n",
    "_How many people voted?_"
   ]
  },
  {
   "cell_type": "code",
   "execution_count": 13,
   "metadata": {},
   "outputs": [
    {
     "data": {
      "text/plain": [
       "4908608"
      ]
     },
     "execution_count": 13,
     "metadata": {},
     "output_type": "execute_result"
    }
   ],
   "source": [
    "data['votes'].sum()"
   ]
  },
  {
   "cell_type": "markdown",
   "metadata": {},
   "source": [
    "- group values to get more insight  \n",
    "_Let's get the sum of the votes for each party!_"
   ]
  },
  {
   "cell_type": "code",
   "execution_count": 14,
   "metadata": {},
   "outputs": [
    {
     "data": {
      "text/html": [
       "<div>\n",
       "<style scoped>\n",
       "    .dataframe tbody tr th:only-of-type {\n",
       "        vertical-align: middle;\n",
       "    }\n",
       "\n",
       "    .dataframe tbody tr th {\n",
       "        vertical-align: top;\n",
       "    }\n",
       "\n",
       "    .dataframe thead th {\n",
       "        text-align: right;\n",
       "    }\n",
       "</style>\n",
       "<table border=\"1\" class=\"dataframe\">\n",
       "  <thead>\n",
       "    <tr style=\"text-align: right;\">\n",
       "      <th></th>\n",
       "      <th>votes</th>\n",
       "    </tr>\n",
       "    <tr>\n",
       "      <th>party</th>\n",
       "      <th></th>\n",
       "    </tr>\n",
       "  </thead>\n",
       "  <tbody>\n",
       "    <tr>\n",
       "      <th>4K!</th>\n",
       "      <td>1897</td>\n",
       "    </tr>\n",
       "    <tr>\n",
       "      <th>A HAZA NEM ELADÓ</th>\n",
       "      <td>23037</td>\n",
       "    </tr>\n",
       "    <tr>\n",
       "      <th>A VÁLASZ</th>\n",
       "      <td>239</td>\n",
       "    </tr>\n",
       "    <tr>\n",
       "      <th>AQP</th>\n",
       "      <td>363</td>\n",
       "    </tr>\n",
       "    <tr>\n",
       "      <th>EGYIKSEM</th>\n",
       "      <td>71</td>\n",
       "    </tr>\n",
       "    <tr>\n",
       "      <th>EGYÜTT 2014</th>\n",
       "      <td>6361</td>\n",
       "    </tr>\n",
       "    <tr>\n",
       "      <th>EP</th>\n",
       "      <td>1362</td>\n",
       "    </tr>\n",
       "    <tr>\n",
       "      <th>EU. ROM</th>\n",
       "      <td>637</td>\n",
       "    </tr>\n",
       "    <tr>\n",
       "      <th>EURÓPAI BALOLDAL</th>\n",
       "      <td>390</td>\n",
       "    </tr>\n",
       "    <tr>\n",
       "      <th>FIDESZ-KDNP</th>\n",
       "      <td>2165342</td>\n",
       "    </tr>\n",
       "  </tbody>\n",
       "</table>\n",
       "</div>"
      ],
      "text/plain": [
       "                    votes\n",
       "party                    \n",
       "4K!                  1897\n",
       "A HAZA NEM ELADÓ    23037\n",
       "A VÁLASZ              239\n",
       "AQP                   363\n",
       "EGYIKSEM               71\n",
       "EGYÜTT 2014          6361\n",
       "EP                   1362\n",
       "EU. ROM               637\n",
       "EURÓPAI BALOLDAL      390\n",
       "FIDESZ-KDNP       2165342"
      ]
     },
     "execution_count": 14,
     "metadata": {},
     "output_type": "execute_result"
    }
   ],
   "source": [
    "data[['party', 'votes']].groupby('party').sum().head(10)"
   ]
  },
  {
   "cell_type": "markdown",
   "metadata": {},
   "source": [
    "- ordering dataframes  \n",
    "_Order results by the number of votes!_"
   ]
  },
  {
   "cell_type": "code",
   "execution_count": 15,
   "metadata": {},
   "outputs": [
    {
     "data": {
      "text/html": [
       "<div>\n",
       "<style scoped>\n",
       "    .dataframe tbody tr th:only-of-type {\n",
       "        vertical-align: middle;\n",
       "    }\n",
       "\n",
       "    .dataframe tbody tr th {\n",
       "        vertical-align: top;\n",
       "    }\n",
       "\n",
       "    .dataframe thead th {\n",
       "        text-align: right;\n",
       "    }\n",
       "</style>\n",
       "<table border=\"1\" class=\"dataframe\">\n",
       "  <thead>\n",
       "    <tr style=\"text-align: right;\">\n",
       "      <th></th>\n",
       "      <th>votes</th>\n",
       "    </tr>\n",
       "    <tr>\n",
       "      <th>party</th>\n",
       "      <th></th>\n",
       "    </tr>\n",
       "  </thead>\n",
       "  <tbody>\n",
       "    <tr>\n",
       "      <th>FIDESZ-KDNP</th>\n",
       "      <td>2165342</td>\n",
       "    </tr>\n",
       "    <tr>\n",
       "      <th>MSZP-EGYÜTT-DK-PM-MLP</th>\n",
       "      <td>1317879</td>\n",
       "    </tr>\n",
       "    <tr>\n",
       "      <th>JOBBIK</th>\n",
       "      <td>1000637</td>\n",
       "    </tr>\n",
       "    <tr>\n",
       "      <th>LMP</th>\n",
       "      <td>244191</td>\n",
       "    </tr>\n",
       "    <tr>\n",
       "      <th>A HAZA NEM ELADÓ</th>\n",
       "      <td>23037</td>\n",
       "    </tr>\n",
       "  </tbody>\n",
       "</table>\n",
       "</div>"
      ],
      "text/plain": [
       "                         votes\n",
       "party                         \n",
       "FIDESZ-KDNP            2165342\n",
       "MSZP-EGYÜTT-DK-PM-MLP  1317879\n",
       "JOBBIK                 1000637\n",
       "LMP                     244191\n",
       "A HAZA NEM ELADÓ         23037"
      ]
     },
     "execution_count": 15,
     "metadata": {},
     "output_type": "execute_result"
    }
   ],
   "source": [
    "party_votes = (\n",
    "    data\n",
    "    [['party', 'votes']]\n",
    "    .groupby('party')\n",
    "    .sum()\n",
    "    .sort_values('votes', ascending=False)\n",
    ")\n",
    "party_votes.head()"
   ]
  },
  {
   "cell_type": "code",
   "execution_count": 16,
   "metadata": {},
   "outputs": [
    {
     "data": {
      "text/plain": [
       "54"
      ]
     },
     "execution_count": 16,
     "metadata": {},
     "output_type": "execute_result"
    }
   ],
   "source": [
    "len(data['party'].unique())"
   ]
  },
  {
   "cell_type": "markdown",
   "metadata": {},
   "source": [
    "#### Part II. Plotting results\n",
    "\n",
    "Use a jupyter \"magic\" function to draw the plots into the notebook.  \n",
    "Also load plotting libraries `matplotlib` and `seaborn`."
   ]
  },
  {
   "cell_type": "code",
   "execution_count": 17,
   "metadata": {},
   "outputs": [],
   "source": [
    "%matplotlib inline\n",
    "import matplotlib.pyplot as plt\n",
    "try:\n",
    "    import seaborn as sns\n",
    "except:\n",
    "    try:\n",
    "        !conda install seaborn\n",
    "    except:\n",
    "        print('Shit happens...')"
   ]
  },
  {
   "cell_type": "markdown",
   "metadata": {},
   "source": [
    "- simple barplot"
   ]
  },
  {
   "cell_type": "code",
   "execution_count": 19,
   "metadata": {},
   "outputs": [
    {
     "data": {
      "image/png": "[encoded data removed]",
      "text/plain": [
       "<matplotlib.figure.Figure at 0x119ed2f28>"
      ]
     },
     "metadata": {},
     "output_type": "display_data"
    }
   ],
   "source": [
    "party_votes.plot(kind='bar');"
   ]
  },
  {
   "cell_type": "markdown",
   "metadata": {},
   "source": [
    "- filtering and plotting  \n",
    "_Only plot parties with at least 10000 votes!_\n",
    "\n",
    "We can filter dataframes with the `dataframe[condition]` statement where condition is a logical expression on one (or more) column(s)."
   ]
  },
  {
   "cell_type": "code",
   "execution_count": 20,
   "metadata": {},
   "outputs": [
    {
     "data": {
      "text/plain": [
       "party\n",
       "FIDESZ-KDNP               True\n",
       "MSZP-EGYÜTT-DK-PM-MLP     True\n",
       "JOBBIK                    True\n",
       "LMP                       True\n",
       "A HAZA NEM ELADÓ          True\n",
       "SMS                       True\n",
       "JESZ                      True\n",
       "Független                 True\n",
       "MUNKÁSPÁRT                True\n",
       "SZOCIÁLDEMOKRATÁK         True\n",
       "SEM                       True\n",
       "KTI                       True\n",
       "ZÖLDEK                   False\n",
       "MCP                      False\n",
       "FKGP                     False\n",
       "Name: votes, dtype: bool"
      ]
     },
     "execution_count": 20,
     "metadata": {},
     "output_type": "execute_result"
    }
   ],
   "source": [
    "condition = party_votes['votes'] > 10000\n",
    "condition.head(15)"
   ]
  },
  {
   "cell_type": "code",
   "execution_count": 22,
   "metadata": {},
   "outputs": [
    {
     "data": {
      "image/png": "[encoded data removed]",
      "text/plain": [
       "<matplotlib.figure.Figure at 0x11a16e0b8>"
      ]
     },
     "metadata": {},
     "output_type": "display_data"
    }
   ],
   "source": [
    "vote10k = party_votes.loc[condition]\n",
    "vote10k.plot(kind='bar');"
   ]
  },
  {
   "cell_type": "markdown",
   "metadata": {},
   "source": [
    "_Plot the top 6 party!_"
   ]
  },
  {
   "cell_type": "code",
   "execution_count": 23,
   "metadata": {},
   "outputs": [
    {
     "data": {
      "image/png": "[encoded data removed]",
      "text/plain": [
       "<matplotlib.figure.Figure at 0x11a2eaa20>"
      ]
     },
     "metadata": {},
     "output_type": "display_data"
    }
   ],
   "source": [
    "top6 = party_votes.head(6)\n",
    "top6.plot(kind='bar');"
   ]
  },
  {
   "cell_type": "markdown",
   "metadata": {},
   "source": [
    "---\n",
    "### Act III: The devil lies in the details!\n",
    "\n",
    "<img src=\"pics/evil-panda.png\" width=300 height=300 align=\"left\">\n",
    "<br style=\"clear:left;\"/>\n",
    "\n",
    "- Nested grouping operations  \n",
    "_Consider the regional data too._"
   ]
  },
  {
   "cell_type": "code",
   "execution_count": 24,
   "metadata": {},
   "outputs": [
    {
     "data": {
      "text/html": [
       "<div>\n",
       "<style scoped>\n",
       "    .dataframe tbody tr th:only-of-type {\n",
       "        vertical-align: middle;\n",
       "    }\n",
       "\n",
       "    .dataframe tbody tr th {\n",
       "        vertical-align: top;\n",
       "    }\n",
       "\n",
       "    .dataframe thead th {\n",
       "        text-align: right;\n",
       "    }\n",
       "</style>\n",
       "<table border=\"1\" class=\"dataframe\">\n",
       "  <thead>\n",
       "    <tr style=\"text-align: right;\">\n",
       "      <th></th>\n",
       "      <th></th>\n",
       "      <th>votes</th>\n",
       "    </tr>\n",
       "    <tr>\n",
       "      <th>region</th>\n",
       "      <th>party</th>\n",
       "      <th></th>\n",
       "    </tr>\n",
       "  </thead>\n",
       "  <tbody>\n",
       "    <tr>\n",
       "      <th rowspan=\"10\" valign=\"top\">BARANYA</th>\n",
       "      <th>A HAZA NEM ELADÓ</th>\n",
       "      <td>1691</td>\n",
       "    </tr>\n",
       "    <tr>\n",
       "      <th>EGYIKSEM</th>\n",
       "      <td>71</td>\n",
       "    </tr>\n",
       "    <tr>\n",
       "      <th>EU. ROM</th>\n",
       "      <td>69</td>\n",
       "    </tr>\n",
       "    <tr>\n",
       "      <th>EURÓPAI BALOLDAL</th>\n",
       "      <td>117</td>\n",
       "    </tr>\n",
       "    <tr>\n",
       "      <th>FIDESZ-KDNP</th>\n",
       "      <td>77456</td>\n",
       "    </tr>\n",
       "    <tr>\n",
       "      <th>FKGP</th>\n",
       "      <td>476</td>\n",
       "    </tr>\n",
       "    <tr>\n",
       "      <th>Független</th>\n",
       "      <td>865</td>\n",
       "    </tr>\n",
       "    <tr>\n",
       "      <th>HATMAP</th>\n",
       "      <td>51</td>\n",
       "    </tr>\n",
       "    <tr>\n",
       "      <th>JESZ</th>\n",
       "      <td>572</td>\n",
       "    </tr>\n",
       "    <tr>\n",
       "      <th>JOBBIK</th>\n",
       "      <td>35528</td>\n",
       "    </tr>\n",
       "  </tbody>\n",
       "</table>\n",
       "</div>"
      ],
      "text/plain": [
       "                          votes\n",
       "region  party                  \n",
       "BARANYA A HAZA NEM ELADÓ   1691\n",
       "        EGYIKSEM             71\n",
       "        EU. ROM              69\n",
       "        EURÓPAI BALOLDAL    117\n",
       "        FIDESZ-KDNP       77456\n",
       "        FKGP                476\n",
       "        Független           865\n",
       "        HATMAP               51\n",
       "        JESZ                572\n",
       "        JOBBIK            35528"
      ]
     },
     "execution_count": 24,
     "metadata": {},
     "output_type": "execute_result"
    }
   ],
   "source": [
    "regional = (\n",
    "    data\n",
    "    [['party', 'region', 'votes']]\n",
    "    .groupby(['region', 'party'])\n",
    "    .sum()\n",
    ")\n",
    "regional.head(10)"
   ]
  },
  {
   "cell_type": "markdown",
   "metadata": {},
   "source": [
    "_Let's only have the ones with more than 5000 votes!_"
   ]
  },
  {
   "cell_type": "code",
   "execution_count": 25,
   "metadata": {},
   "outputs": [
    {
     "data": {
      "text/html": [
       "<div>\n",
       "<style scoped>\n",
       "    .dataframe tbody tr th:only-of-type {\n",
       "        vertical-align: middle;\n",
       "    }\n",
       "\n",
       "    .dataframe tbody tr th {\n",
       "        vertical-align: top;\n",
       "    }\n",
       "\n",
       "    .dataframe thead th {\n",
       "        text-align: right;\n",
       "    }\n",
       "</style>\n",
       "<table border=\"1\" class=\"dataframe\">\n",
       "  <thead>\n",
       "    <tr style=\"text-align: right;\">\n",
       "      <th></th>\n",
       "      <th></th>\n",
       "      <th>votes</th>\n",
       "    </tr>\n",
       "    <tr>\n",
       "      <th>region</th>\n",
       "      <th>party</th>\n",
       "      <th></th>\n",
       "    </tr>\n",
       "  </thead>\n",
       "  <tbody>\n",
       "    <tr>\n",
       "      <th rowspan=\"4\" valign=\"top\">BARANYA</th>\n",
       "      <th>FIDESZ-KDNP</th>\n",
       "      <td>77456</td>\n",
       "    </tr>\n",
       "    <tr>\n",
       "      <th>JOBBIK</th>\n",
       "      <td>35528</td>\n",
       "    </tr>\n",
       "    <tr>\n",
       "      <th>LMP</th>\n",
       "      <td>11468</td>\n",
       "    </tr>\n",
       "    <tr>\n",
       "      <th>MSZP-EGYÜTT-DK-PM-MLP</th>\n",
       "      <td>53154</td>\n",
       "    </tr>\n",
       "    <tr>\n",
       "      <th rowspan=\"4\" valign=\"top\">BORSOD–ABAÚJ–ZEMPLÉN</th>\n",
       "      <th>FIDESZ-KDNP</th>\n",
       "      <td>124536</td>\n",
       "    </tr>\n",
       "    <tr>\n",
       "      <th>JOBBIK</th>\n",
       "      <td>92522</td>\n",
       "    </tr>\n",
       "    <tr>\n",
       "      <th>LMP</th>\n",
       "      <td>7823</td>\n",
       "    </tr>\n",
       "    <tr>\n",
       "      <th>MSZP-EGYÜTT-DK-PM-MLP</th>\n",
       "      <td>81172</td>\n",
       "    </tr>\n",
       "    <tr>\n",
       "      <th rowspan=\"2\" valign=\"top\">BUDAPEST</th>\n",
       "      <th>FIDESZ-KDNP</th>\n",
       "      <td>361888</td>\n",
       "    </tr>\n",
       "    <tr>\n",
       "      <th>JOBBIK</th>\n",
       "      <td>108436</td>\n",
       "    </tr>\n",
       "  </tbody>\n",
       "</table>\n",
       "</div>"
      ],
      "text/plain": [
       "                                             votes\n",
       "region               party                        \n",
       "BARANYA              FIDESZ-KDNP             77456\n",
       "                     JOBBIK                  35528\n",
       "                     LMP                     11468\n",
       "                     MSZP-EGYÜTT-DK-PM-MLP   53154\n",
       "BORSOD–ABAÚJ–ZEMPLÉN FIDESZ-KDNP            124536\n",
       "                     JOBBIK                  92522\n",
       "                     LMP                      7823\n",
       "                     MSZP-EGYÜTT-DK-PM-MLP   81172\n",
       "BUDAPEST             FIDESZ-KDNP            361888\n",
       "                     JOBBIK                 108436"
      ]
     },
     "execution_count": 25,
     "metadata": {},
     "output_type": "execute_result"
    }
   ],
   "source": [
    "regional5k = regional.loc[regional.votes > 5000]\n",
    "regional5k.head(10)"
   ]
  },
  {
   "cell_type": "markdown",
   "metadata": {},
   "source": [
    "- Pivot  \n",
    "To pivot this dataframe first we need to remove the nested index:"
   ]
  },
  {
   "cell_type": "code",
   "execution_count": 26,
   "metadata": {},
   "outputs": [
    {
     "data": {
      "text/html": [
       "<div>\n",
       "<style scoped>\n",
       "    .dataframe tbody tr th:only-of-type {\n",
       "        vertical-align: middle;\n",
       "    }\n",
       "\n",
       "    .dataframe tbody tr th {\n",
       "        vertical-align: top;\n",
       "    }\n",
       "\n",
       "    .dataframe thead th {\n",
       "        text-align: right;\n",
       "    }\n",
       "</style>\n",
       "<table border=\"1\" class=\"dataframe\">\n",
       "  <thead>\n",
       "    <tr style=\"text-align: right;\">\n",
       "      <th></th>\n",
       "      <th>region</th>\n",
       "      <th>party</th>\n",
       "      <th>votes</th>\n",
       "    </tr>\n",
       "  </thead>\n",
       "  <tbody>\n",
       "    <tr>\n",
       "      <th>0</th>\n",
       "      <td>BARANYA</td>\n",
       "      <td>FIDESZ-KDNP</td>\n",
       "      <td>77456</td>\n",
       "    </tr>\n",
       "    <tr>\n",
       "      <th>1</th>\n",
       "      <td>BARANYA</td>\n",
       "      <td>JOBBIK</td>\n",
       "      <td>35528</td>\n",
       "    </tr>\n",
       "    <tr>\n",
       "      <th>2</th>\n",
       "      <td>BARANYA</td>\n",
       "      <td>LMP</td>\n",
       "      <td>11468</td>\n",
       "    </tr>\n",
       "    <tr>\n",
       "      <th>3</th>\n",
       "      <td>BARANYA</td>\n",
       "      <td>MSZP-EGYÜTT-DK-PM-MLP</td>\n",
       "      <td>53154</td>\n",
       "    </tr>\n",
       "    <tr>\n",
       "      <th>4</th>\n",
       "      <td>BORSOD–ABAÚJ–ZEMPLÉN</td>\n",
       "      <td>FIDESZ-KDNP</td>\n",
       "      <td>124536</td>\n",
       "    </tr>\n",
       "  </tbody>\n",
       "</table>\n",
       "</div>"
      ],
      "text/plain": [
       "                 region                  party   votes\n",
       "0               BARANYA            FIDESZ-KDNP   77456\n",
       "1               BARANYA                 JOBBIK   35528\n",
       "2               BARANYA                    LMP   11468\n",
       "3               BARANYA  MSZP-EGYÜTT-DK-PM-MLP   53154\n",
       "4  BORSOD–ABAÚJ–ZEMPLÉN            FIDESZ-KDNP  124536"
      ]
     },
     "execution_count": 26,
     "metadata": {},
     "output_type": "execute_result"
    }
   ],
   "source": [
    "regional5k.reset_index().head()"
   ]
  },
  {
   "cell_type": "markdown",
   "metadata": {},
   "source": [
    "Now we can pivot this flattened dataframe:"
   ]
  },
  {
   "cell_type": "code",
   "execution_count": 27,
   "metadata": {},
   "outputs": [
    {
     "data": {
      "text/html": [
       "<div>\n",
       "<style scoped>\n",
       "    .dataframe tbody tr th:only-of-type {\n",
       "        vertical-align: middle;\n",
       "    }\n",
       "\n",
       "    .dataframe tbody tr th {\n",
       "        vertical-align: top;\n",
       "    }\n",
       "\n",
       "    .dataframe thead th {\n",
       "        text-align: right;\n",
       "    }\n",
       "</style>\n",
       "<table border=\"1\" class=\"dataframe\">\n",
       "  <thead>\n",
       "    <tr style=\"text-align: right;\">\n",
       "      <th>party</th>\n",
       "      <th>FIDESZ-KDNP</th>\n",
       "      <th>JOBBIK</th>\n",
       "      <th>LMP</th>\n",
       "      <th>MSZP-EGYÜTT-DK-PM-MLP</th>\n",
       "    </tr>\n",
       "    <tr>\n",
       "      <th>region</th>\n",
       "      <th></th>\n",
       "      <th></th>\n",
       "      <th></th>\n",
       "      <th></th>\n",
       "    </tr>\n",
       "  </thead>\n",
       "  <tbody>\n",
       "    <tr>\n",
       "      <th>BARANYA</th>\n",
       "      <td>77456.0</td>\n",
       "      <td>35528.0</td>\n",
       "      <td>11468.0</td>\n",
       "      <td>53154.0</td>\n",
       "    </tr>\n",
       "    <tr>\n",
       "      <th>BORSOD–ABAÚJ–ZEMPLÉN</th>\n",
       "      <td>124536.0</td>\n",
       "      <td>92522.0</td>\n",
       "      <td>7823.0</td>\n",
       "      <td>81172.0</td>\n",
       "    </tr>\n",
       "    <tr>\n",
       "      <th>BUDAPEST</th>\n",
       "      <td>361888.0</td>\n",
       "      <td>108436.0</td>\n",
       "      <td>73490.0</td>\n",
       "      <td>349890.0</td>\n",
       "    </tr>\n",
       "    <tr>\n",
       "      <th>BÁCS–KISKUN</th>\n",
       "      <td>124842.0</td>\n",
       "      <td>50266.0</td>\n",
       "      <td>10021.0</td>\n",
       "      <td>50369.0</td>\n",
       "    </tr>\n",
       "    <tr>\n",
       "      <th>BÉKÉS</th>\n",
       "      <td>78410.0</td>\n",
       "      <td>38213.0</td>\n",
       "      <td>6842.0</td>\n",
       "      <td>40202.0</td>\n",
       "    </tr>\n",
       "    <tr>\n",
       "      <th>CSONGRÁD</th>\n",
       "      <td>83220.0</td>\n",
       "      <td>39057.0</td>\n",
       "      <td>12537.0</td>\n",
       "      <td>56607.0</td>\n",
       "    </tr>\n",
       "    <tr>\n",
       "      <th>FEJÉR</th>\n",
       "      <td>96752.0</td>\n",
       "      <td>46487.0</td>\n",
       "      <td>10099.0</td>\n",
       "      <td>49265.0</td>\n",
       "    </tr>\n",
       "    <tr>\n",
       "      <th>GYŐR–MOSON–SOPRON</th>\n",
       "      <td>118018.0</td>\n",
       "      <td>39130.0</td>\n",
       "      <td>11099.0</td>\n",
       "      <td>50600.0</td>\n",
       "    </tr>\n",
       "    <tr>\n",
       "      <th>HAJDÚ–BIHAR</th>\n",
       "      <td>116917.0</td>\n",
       "      <td>60668.0</td>\n",
       "      <td>9371.0</td>\n",
       "      <td>51277.0</td>\n",
       "    </tr>\n",
       "    <tr>\n",
       "      <th>HEVES</th>\n",
       "      <td>61253.0</td>\n",
       "      <td>49837.0</td>\n",
       "      <td>5002.0</td>\n",
       "      <td>36452.0</td>\n",
       "    </tr>\n",
       "    <tr>\n",
       "      <th>JÁSZ–NAGYKUN–SZOLNOK</th>\n",
       "      <td>79071.0</td>\n",
       "      <td>50887.0</td>\n",
       "      <td>5406.0</td>\n",
       "      <td>40273.0</td>\n",
       "    </tr>\n",
       "    <tr>\n",
       "      <th>KOMÁROM–ESZTERGOM</th>\n",
       "      <td>68300.0</td>\n",
       "      <td>27918.0</td>\n",
       "      <td>6917.0</td>\n",
       "      <td>42280.0</td>\n",
       "    </tr>\n",
       "    <tr>\n",
       "      <th>NÓGRÁD</th>\n",
       "      <td>42974.0</td>\n",
       "      <td>22755.0</td>\n",
       "      <td>NaN</td>\n",
       "      <td>23498.0</td>\n",
       "    </tr>\n",
       "    <tr>\n",
       "      <th>PEST</th>\n",
       "      <td>273587.0</td>\n",
       "      <td>115821.0</td>\n",
       "      <td>34903.0</td>\n",
       "      <td>161475.0</td>\n",
       "    </tr>\n",
       "    <tr>\n",
       "      <th>SOMOGY</th>\n",
       "      <td>68638.0</td>\n",
       "      <td>33499.0</td>\n",
       "      <td>5572.0</td>\n",
       "      <td>37638.0</td>\n",
       "    </tr>\n",
       "    <tr>\n",
       "      <th>SZABOLCS–SZATMÁR–BEREG</th>\n",
       "      <td>122665.0</td>\n",
       "      <td>70169.0</td>\n",
       "      <td>5153.0</td>\n",
       "      <td>57000.0</td>\n",
       "    </tr>\n",
       "    <tr>\n",
       "      <th>TOLNA</th>\n",
       "      <td>51830.0</td>\n",
       "      <td>24426.0</td>\n",
       "      <td>6571.0</td>\n",
       "      <td>25751.0</td>\n",
       "    </tr>\n",
       "    <tr>\n",
       "      <th>VAS</th>\n",
       "      <td>67675.0</td>\n",
       "      <td>23860.0</td>\n",
       "      <td>5885.0</td>\n",
       "      <td>30937.0</td>\n",
       "    </tr>\n",
       "    <tr>\n",
       "      <th>VESZPRÉM</th>\n",
       "      <td>83864.0</td>\n",
       "      <td>36615.0</td>\n",
       "      <td>7700.0</td>\n",
       "      <td>46691.0</td>\n",
       "    </tr>\n",
       "    <tr>\n",
       "      <th>ZALA</th>\n",
       "      <td>63446.0</td>\n",
       "      <td>34543.0</td>\n",
       "      <td>5504.0</td>\n",
       "      <td>33348.0</td>\n",
       "    </tr>\n",
       "  </tbody>\n",
       "</table>\n",
       "</div>"
      ],
      "text/plain": [
       "party                   FIDESZ-KDNP    JOBBIK      LMP  MSZP-EGYÜTT-DK-PM-MLP\n",
       "region                                                                       \n",
       "BARANYA                     77456.0   35528.0  11468.0                53154.0\n",
       "BORSOD–ABAÚJ–ZEMPLÉN       124536.0   92522.0   7823.0                81172.0\n",
       "BUDAPEST                   361888.0  108436.0  73490.0               349890.0\n",
       "BÁCS–KISKUN                124842.0   50266.0  10021.0                50369.0\n",
       "BÉKÉS                       78410.0   38213.0   6842.0                40202.0\n",
       "CSONGRÁD                    83220.0   39057.0  12537.0                56607.0\n",
       "FEJÉR                       96752.0   46487.0  10099.0                49265.0\n",
       "GYŐR–MOSON–SOPRON          118018.0   39130.0  11099.0                50600.0\n",
       "HAJDÚ–BIHAR                116917.0   60668.0   9371.0                51277.0\n",
       "HEVES                       61253.0   49837.0   5002.0                36452.0\n",
       "JÁSZ–NAGYKUN–SZOLNOK        79071.0   50887.0   5406.0                40273.0\n",
       "KOMÁROM–ESZTERGOM           68300.0   27918.0   6917.0                42280.0\n",
       "NÓGRÁD                      42974.0   22755.0      NaN                23498.0\n",
       "PEST                       273587.0  115821.0  34903.0               161475.0\n",
       "SOMOGY                      68638.0   33499.0   5572.0                37638.0\n",
       "SZABOLCS–SZATMÁR–BEREG     122665.0   70169.0   5153.0                57000.0\n",
       "TOLNA                       51830.0   24426.0   6571.0                25751.0\n",
       "VAS                         67675.0   23860.0   5885.0                30937.0\n",
       "VESZPRÉM                    83864.0   36615.0   7700.0                46691.0\n",
       "ZALA                        63446.0   34543.0   5504.0                33348.0"
      ]
     },
     "execution_count": 27,
     "metadata": {},
     "output_type": "execute_result"
    }
   ],
   "source": [
    "(regional5k\n",
    " .reset_index()\n",
    " .pivot(index='region', columns='party', values='votes'))"
   ]
  },
  {
   "cell_type": "markdown",
   "metadata": {},
   "source": [
    "Set the resulting figure size:"
   ]
  },
  {
   "cell_type": "code",
   "execution_count": 28,
   "metadata": {},
   "outputs": [],
   "source": [
    "plt.rcParams['figure.figsize'] = 8, 6"
   ]
  },
  {
   "cell_type": "markdown",
   "metadata": {},
   "source": [
    "Plot the results:"
   ]
  },
  {
   "cell_type": "code",
   "execution_count": 29,
   "metadata": {},
   "outputs": [
    {
     "data": {
      "image/png": "[encoded data removed]",
      "text/plain": [
       "<matplotlib.figure.Figure at 0x11a43ec88>"
      ]
     },
     "metadata": {},
     "output_type": "display_data"
    }
   ],
   "source": [
    "(\n",
    "    regional5k\n",
    "    .reset_index()\n",
    "    .pivot(index='region', columns='party', values='votes')\n",
    "    .plot(kind='barh')\n",
    ");"
   ]
  },
  {
   "cell_type": "markdown",
   "metadata": {},
   "source": [
    "---\n",
    "\n",
    "## Let's do some...\n",
    "\n",
    "<img align=\"left\" width=150 src=\"http://www.reactiongifs.com/r/mgc.gif\">\n",
    "\n",
    "<br style=\"clear:left;\"/>\n",
    "\n",
    "### Act III: Cool library of the week: <a href=\"https://mzucker.github.io/2016/09/20/noteshrink.html\">noteshrink</a>\n",
    "#### Export your notes into readable pdfs!\n",
    "\n",
    "To install:\n",
    "- install pillow (in your shell execute: `conda install pillow`)\n",
    "- download and unzip the library (from <a href=\"https://github.com/mzucker/noteshrink/archive/master.zip\">here</a>)\n",
    "- change line #578 in noteshrink/noteshrink.py: comment out the line\n",
    "- optional: install with pip: `pip install -e noteshrink`\n",
    "Then use with:  \n",
    "`python filename(s) -b output_file_prefix`  \n",
    "example:"
   ]
  },
  {
   "cell_type": "code",
   "execution_count": null,
   "metadata": {},
   "outputs": [],
   "source": [
    "!python ./noteshrink/noteshrink.py noteshrink/examples/notesA1.jpg noteshrink/examples/notesA2.jpg -b example"
   ]
  },
  {
   "cell_type": "markdown",
   "metadata": {},
   "source": [
    "<img src=\"noteshrink/examples/notesA1.jpg\" width=\"300\" align=\"left\"><img src=\"example0000.png\" width=\"300\" align=\"left\">"
   ]
  },
  {
   "cell_type": "markdown",
   "metadata": {},
   "source": [
    "---\n",
    "## Final Act: The pandas is strong with this one!\n",
    "\n",
    "<img src=\"http://2.bp.blogspot.com/-pgK8KdMmSn8/TsFTOwrGk9I/AAAAAAAABAk/5ondVGyw6w8/s320/Darth+Panda.jpg\" align=\"left\">\n",
    "\n",
    "<br style=\"clear:left;\"/>\n",
    "\n",
    "## It's your turn - write the missing code snippets!\n",
    "\n",
    "#### 1.  Plot the number of voters in each region!"
   ]
  },
  {
   "cell_type": "code",
   "execution_count": null,
   "metadata": {
    "scrolled": false
   },
   "outputs": [],
   "source": []
  },
  {
   "cell_type": "markdown",
   "metadata": {},
   "source": [
    "#### 2. Who would win, if Fidesz doesn't participate in the election?\n",
    "\n",
    "Hint: You can create filters based on equality. (`~data['party'] == 'FIDESZ-KDNP'`)"
   ]
  },
  {
   "cell_type": "code",
   "execution_count": null,
   "metadata": {},
   "outputs": [],
   "source": []
  },
  {
   "cell_type": "markdown",
   "metadata": {},
   "source": [
    "#### 3. Who would win by regions, if Fidesz doesn't participate in the election?"
   ]
  },
  {
   "cell_type": "code",
   "execution_count": null,
   "metadata": {},
   "outputs": [],
   "source": []
  }
 ],
 "metadata": {
  "kernelspec": {
   "display_name": "Python 3",
   "language": "python",
   "name": "python3"
  },
  "language_info": {
   "codemirror_mode": {
    "name": "ipython",
    "version": 3
   },
   "file_extension": ".py",
   "mimetype": "text/x-python",
   "name": "python",
   "nbconvert_exporter": "python",
   "pygments_lexer": "ipython3",
   "version": "3.6.0"
  }
 },
 "nbformat": 4,
 "nbformat_minor": 1
}
