{
 "cells": [
  {
   "cell_type": "markdown",
   "metadata": {},
   "source": [
    "# Python 101\n",
    "\n",
    "## Hungarian Exercises\n",
    "\n",
    "Selected from [Tanuljunk meg programozni python nyelven](http://mek.oszk.hu/08400/08435/08435.pdf) from Gérard Swinnen.\n",
    "\n",
    "---"
   ]
  },
  {
   "cell_type": "markdown",
   "metadata": {},
   "source": [
    "### 1. Írjon egy programot, ami átszámolja a kiindulásként megadott egészszámú másodpercet évekké, hónapokká, napokká, percekké és másodpercekké.\n",
    "(Használja a modulo operátort : `%` )."
   ]
  },
  {
   "cell_type": "code",
   "execution_count": null,
   "metadata": {},
   "outputs": [],
   "source": []
  },
  {
   "cell_type": "markdown",
   "metadata": {},
   "source": [
    "### 2. Írjon egy programot, ami kiíratja a 7-es szorzótábla első 20 tagját, csillaggal jelölve azokat, amelyek 3-nak többszörösei.\n",
    "Példa: `7 14 21 * 28 35 42 * 49`"
   ]
  },
  {
   "cell_type": "code",
   "execution_count": null,
   "metadata": {},
   "outputs": [],
   "source": []
  },
  {
   "cell_type": "markdown",
   "metadata": {},
   "source": [
    "### 3. Írjon egy programot, ami kiszámolja 13-as szorzótábla első 50 tagját, de csak azokat írja ki, melyek 7-nek többszörösei."
   ]
  },
  {
   "cell_type": "code",
   "execution_count": null,
   "metadata": {},
   "outputs": [],
   "source": []
  },
  {
   "cell_type": "markdown",
   "metadata": {},
   "source": [
    "### 4. Írjon egy programot, ami a következő jelsorozatot írja ki :\n",
    "```\n",
    "*\n",
    "**\n",
    "***\n",
    "****\n",
    "*****\n",
    "******\n",
    "*******\n",
    "```"
   ]
  },
  {
   "cell_type": "code",
   "execution_count": null,
   "metadata": {},
   "outputs": [],
   "source": []
  },
  {
   "cell_type": "markdown",
   "metadata": {},
   "source": [
    "### 5. Írjon   egy   programot, ami meghatározza, hogy egy karakterlánc tartalmazza-e az `« e »` karaktert."
   ]
  },
  {
   "cell_type": "code",
   "execution_count": null,
   "metadata": {},
   "outputs": [],
   "source": []
  },
  {
   "cell_type": "markdown",
   "metadata": {},
   "source": [
    "### 6. Írjon egy programot, ami lecseréli egy karakterlánc `« e »` karaktereit `« ö »` karakterre."
   ]
  },
  {
   "cell_type": "code",
   "execution_count": null,
   "metadata": {},
   "outputs": [],
   "source": []
  },
  {
   "cell_type": "markdown",
   "metadata": {},
   "source": [
    "### 7. Írjon egy programot, ami megszámolja az `« e »` karakter előfordulásainak számát egy stringben."
   ]
  },
  {
   "cell_type": "code",
   "execution_count": null,
   "metadata": {},
   "outputs": [],
   "source": []
  },
  {
   "cell_type": "markdown",
   "metadata": {},
   "source": [
    "### 8. Írjon egy programot, ami egy új változóba másol át egy karakterláncot úgy, hogy csillagot szúr be a karakterek közé.\n",
    "Példa: `gaston` -> `g*a*s*t*o*n`"
   ]
  },
  {
   "cell_type": "code",
   "execution_count": null,
   "metadata": {},
   "outputs": [],
   "source": []
  },
  {
   "cell_type": "markdown",
   "metadata": {},
   "source": [
    "### 9. Írjon egy programot, ami egy új változóba fordított sorrendben másolja át egy karakterlánc karaktereit.\n",
    "Példa: `zorglub` -> `bulgroz`"
   ]
  },
  {
   "cell_type": "code",
   "execution_count": null,
   "metadata": {},
   "outputs": [],
   "source": []
  },
  {
   "cell_type": "markdown",
   "metadata": {},
   "source": [
    "### 10. Az előző gyakorlatból kiindulva írjon egy scriptet, ami meghatározza, hogy egy karakterlánc palindrom-e (vagyis ami mindkét irányból olvasva ugyan az).\n",
    "Példa: `radar`, `sós`"
   ]
  },
  {
   "cell_type": "code",
   "execution_count": null,
   "metadata": {},
   "outputs": [],
   "source": []
  },
  {
   "cell_type": "markdown",
   "metadata": {},
   "source": [
    "### 11. Legyenek adottak a következő listák:\n",
    "`t1 = [31, 28, 31, 30, 31, 30, 31, 31, 30, 31, 30, 31]`  \n",
    "`t2 = ['Január', 'Február', 'Március', 'Április', 'Május', 'Június',\n",
    "       'Július', 'Augusztus', 'Szeptember', 'Október', 'November', 'December']`\n",
    "       \n",
    "Írjon egy kis programot, ami egy új t3 listát hoz létre. Ennek felváltva kell tartalmazni a két lista minden elemét úgy, hogy minden hónap nevét követnie kell a megfelelő napok számának: `['Január',31,'Február',28,'Március',31, stb...].`"
   ]
  },
  {
   "cell_type": "code",
   "execution_count": null,
   "metadata": {},
   "outputs": [],
   "source": []
  },
  {
   "cell_type": "markdown",
   "metadata": {},
   "source": [
    "### 12. Írjon egy programot, ami megvizsgálja egy számlista minden elemét (például [32, 5, 12, 8, 3, 75, 2, 15]) azért, hogy két új listát hozzon létre.\n",
    "Az egyik csak az eredeti lista páros számait tartalmazza, a másik a páratlanokat. Például, ha a megadott listát használjuk, akkor a programnak egy páros listát kell létrehoznia, ami a `[32, 12, 8, 2]`-t tartalmazza és egy páratlan listát ami `[5, 3, 75, 15]`-t tartalmazza."
   ]
  },
  {
   "cell_type": "code",
   "execution_count": null,
   "metadata": {},
   "outputs": [],
   "source": []
  },
  {
   "cell_type": "markdown",
   "metadata": {},
   "source": [
    "### 13. Határozzuk meg, hogy egy év szökőév vagy sem.\n",
    "(Az A év szökőév ha A osztható 4-gyel. Viszont nem az, ha A többszöröse 100-nak, kivéve, ha A 400-nak többszöröse). "
   ]
  },
  {
   "cell_type": "code",
   "execution_count": null,
   "metadata": {},
   "outputs": [],
   "source": []
  },
  {
   "cell_type": "markdown",
   "metadata": {},
   "source": [
    "### 14. Definiáljon egy `generate(n, char)` függvényt, ami `n` darab `char` karakterből álló stringet ad vissza."
   ]
  },
  {
   "cell_type": "code",
   "execution_count": null,
   "metadata": {},
   "outputs": [],
   "source": []
  },
  {
   "cell_type": "markdown",
   "metadata": {},
   "source": [
    "### 15. Definiáljon egy `character_num(char, string)` függvényt, ami visszaadja a `string` stringben előforduló `char` karakterek számát.\n",
    "Példa: `print(character_num('e', 'Ez egy egyszerű eset'))` -> 6"
   ]
  },
  {
   "cell_type": "code",
   "execution_count": null,
   "metadata": {},
   "outputs": [],
   "source": []
  }
 ],
 "metadata": {
  "kernelspec": {
   "display_name": "Python 3",
   "language": "python",
   "name": "python3"
  },
  "language_info": {
   "codemirror_mode": {
    "name": "ipython",
    "version": 3
   },
   "file_extension": ".py",
   "mimetype": "text/x-python",
   "name": "python",
   "nbconvert_exporter": "python",
   "pygments_lexer": "ipython3",
   "version": "3.6.0"
  }
 },
 "nbformat": 4,
 "nbformat_minor": 2
}
