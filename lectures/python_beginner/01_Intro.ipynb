{
 "cells": [
  {
   "cell_type": "markdown",
   "metadata": {},
   "source": [
    "# Python 101\n",
    "## Intro\n",
    "\n",
    "---"
   ]
  },
  {
   "cell_type": "code",
   "execution_count": null,
   "metadata": {
    "slideshow": {
     "slide_type": "-"
    }
   },
   "outputs": [],
   "source": [
    "import random\n",
    "from helpers import *\n",
    "print(fix_graphviz_path())\n",
    "from lolviz import lolviz\n",
    "import webbrowser"
   ]
  },
  {
   "cell_type": "code",
   "execution_count": null,
   "metadata": {},
   "outputs": [],
   "source": [
    "BASE = './data/'"
   ]
  },
  {
   "cell_type": "markdown",
   "metadata": {},
   "source": [
    "<img width=\"640\" src=\"http://westmarch.sjsoft.com/wp-content/uploads/2012/11/zen-of-python-poster-a3.png\"/>\n",
    "\n",
    "----\n",
    "\n",
    "## Before we start\n",
    "\n",
    "### Who am I?\n",
    "\n",
    "* ex-PhD student (absolutorium achieved)\n",
    "* ex-teaching assistant @ Unideb\n",
    "* ex-python developer @ HigherClick\n",
    "* data scientist @ Lensa & Gitential\n",
    "* programmer (<a href=\"github.com/fulibacsi\">github</a>)\n",
    "* geek (<a href=\"twitter.com/fulibacsi\">twitter</a>)\n",
    "\n",
    "### What are we gonna do?\n",
    "\n",
    "1. Have fun!\n",
    "2. Learn something useful.\n",
    "3. Create something awesome.\n",
    "4. Conquer the world!\n",
    "\n",
    "---\n",
    "\n",
    "## Warming up - Computer Science in 5 min:\n",
    "\n",
    "To get everyone to the same pace.\n",
    "\n",
    "### Where it begins: NAND\n",
    "\n",
    "<img align=\"left\" height=\"200\" width=\"200\" src=\"pics/NAND.png\"/>\n",
    "<img align=\"right\" height=\"200\" width=\"300\" src=\"pics/Quad_2-input_NAND_Gates.PNG\"/>\n",
    "<br style=\"clear:left;\"/>\n",
    "\n",
    "### How NAND gates have been produced?\n",
    "\n",
    "#### Relays\n",
    "\n",
    "<img align=\"left\" height=\"400\" width=\"400\" src=\"pics/Electronic_component_relays.jpg\"/>\n",
    "<br style=\"clear:left;\"/>\n",
    "\n",
    "#### Vacuum tubes\n",
    "\n",
    "<img align=\"left\" height=\"300\" width=\"600\" src=\"pics/Elektronenroehren-auswahl.jpg\"/>\n",
    "<br style=\"clear:left;\"/>\n",
    "\n",
    "#### Transistors\n",
    "\n",
    "<img align=\"left\" height=\"200\" width=\"200\" src=\"pics/transistor.jpg\"\n",
    "     style=\"padding-right: 10px; padding-top: 16px\"/>\n",
    "<img align=\"left\" src=\"pics/proc.jpg\"/>\n",
    "<br style=\"clear:left;\"/>\n",
    "\n",
    "### From human readable to \"machine readable\"\n",
    "\n",
    "#### Low level languages\n",
    "\n",
    "<img align=\"left\" src=\"pics/lowlevel.png\"/>\n",
    "<br style=\"clear:left;\"/>\n",
    "\n",
    "#### Compiled languages\n",
    "\n",
    "<img align=\"left\" src=\"pics/compiled.png\"/>\n",
    "<br style=\"clear:left;\"/>\n",
    "\n",
    "* BASIC\n",
    "* C, C++\n",
    "* Pascal\n",
    "\n",
    "#### Interpreted languages\n",
    "\n",
    "<img align=\"left\" src=\"pics/interpreted.png\"/>\n",
    "<br style=\"clear:left;\"/>\n",
    "\n",
    "* Javascript\n",
    "* PHP\n",
    "\n",
    "#### Python\n",
    "\n",
    "Something from both worlds:\n",
    "\n",
    "<img align=\"left\" src=\"pics/precompiled.png\"/>\n",
    "<br style=\"clear:left;\"/>\n",
    "\n",
    "### Meet the designer: Guido van Rossum\n",
    "\n",
    "<img align=\"left\" height=\"600\" width=\"300\" src=\"pics/Guido_van_Rossum_OSCON_2006.jpg\"/>\n",
    "<br style=\"clear:left;\"/>\n",
    "\n",
    "### Origin of the name:\n",
    "\n",
    "<img align=\"left\" width=\"600\" height=\"400\" src=\"pics/HolyGrail034.jpg\"/>\n",
    "<br style=\"clear:left;\"/>\n",
    "\n",
    "---\n",
    "\n",
    "## Everyone's first lines\n",
    "\n",
    "I don't want to ruin the moment and do it for you, so follow the instructions below:\n",
    "\n",
    "- Hit [Enter] on the following cell\n",
    "- Position your cursor to the first empty line\n",
    "- Type the `print` word following with parenthesis (`()`) and type \"Hello World\" in quotation inside of the parenthesis.\n",
    "- Hit [Ctrl] + [Enter] to run your code"
   ]
  },
  {
   "cell_type": "code",
   "execution_count": null,
   "metadata": {},
   "outputs": [],
   "source": [
    "# Before we start: \n",
    "# This line is a comment. It is useful for others to understand your code,\n",
    "# so use it often. Every text after the # character is comment.\n"
   ]
  },
  {
   "cell_type": "markdown",
   "metadata": {},
   "source": [
    "__Let's do some math too!__\n",
    "\n",
    "Try out the following operators:\n",
    "- `+, -, *, /`\n",
    "- `%, **`"
   ]
  },
  {
   "cell_type": "code",
   "execution_count": null,
   "metadata": {},
   "outputs": [],
   "source": [
    "1 + 1"
   ]
  },
  {
   "cell_type": "markdown",
   "metadata": {},
   "source": [
    "Try out the followings logical operators:\n",
    "- `==, >, >=, <=, <`\n",
    "- `not, and, or`  \n",
    "\n",
    "and logical values:\n",
    "- `True, False`"
   ]
  },
  {
   "cell_type": "code",
   "execution_count": null,
   "metadata": {},
   "outputs": [],
   "source": [
    "True or False"
   ]
  }
 ],
 "metadata": {
  "anaconda-cloud": {},
  "kernelspec": {
   "display_name": "Python 3",
   "language": "python",
   "name": "python3"
  },
  "language_info": {
   "codemirror_mode": {
    "name": "ipython",
    "version": 3
   },
   "file_extension": ".py",
   "mimetype": "text/x-python",
   "name": "python",
   "nbconvert_exporter": "python",
   "pygments_lexer": "ipython3",
   "version": "3.6.0"
  }
 },
 "nbformat": 4,
 "nbformat_minor": 1
}
