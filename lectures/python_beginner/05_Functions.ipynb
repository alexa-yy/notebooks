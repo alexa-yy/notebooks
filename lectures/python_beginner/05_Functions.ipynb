{
 "cells": [
  {
   "cell_type": "markdown",
   "metadata": {},
   "source": [
    "# Python 101\n",
    "## Functions\n",
    "\n",
    "---"
   ]
  },
  {
   "cell_type": "code",
   "execution_count": null,
   "metadata": {
    "slideshow": {
     "slide_type": "-"
    }
   },
   "outputs": [],
   "source": [
    "import random\n",
    "from helpers import *\n",
    "import webbrowser"
   ]
  },
  {
   "cell_type": "code",
   "execution_count": null,
   "metadata": {},
   "outputs": [],
   "source": [
    "BASE = './data/'"
   ]
  },
  {
   "cell_type": "markdown",
   "metadata": {},
   "source": [
    "---\n",
    "\n",
    "## Functions\n",
    "\n",
    "** How to define a function? **"
   ]
  },
  {
   "cell_type": "code",
   "execution_count": null,
   "metadata": {},
   "outputs": [],
   "source": [
    "def my_function(): # function header\n",
    "    print('Hello World!') # function body"
   ]
  },
  {
   "cell_type": "markdown",
   "metadata": {},
   "source": [
    "** How to \"call\" a function? ** "
   ]
  },
  {
   "cell_type": "code",
   "execution_count": null,
   "metadata": {},
   "outputs": [],
   "source": [
    "my_function()"
   ]
  },
  {
   "cell_type": "markdown",
   "metadata": {},
   "source": [
    "**Function arguments**\n",
    "\n",
    "The variables in the brackets are called arguments. You can use them as variables inside the function but you have to provide them when you call the function."
   ]
  },
  {
   "cell_type": "code",
   "execution_count": null,
   "metadata": {},
   "outputs": [],
   "source": [
    "def my_updated_function(name): \n",
    "    print('Hello', name, '!')"
   ]
  },
  {
   "cell_type": "code",
   "execution_count": null,
   "metadata": {},
   "outputs": [],
   "source": [
    "# ---------------------------------------------------------------------------- \n",
    "name = ''                                      # enter your name\n",
    "# ----------------------------------------------------------------------------\n",
    "my_updated_function(name)"
   ]
  },
  {
   "cell_type": "markdown",
   "metadata": {},
   "source": [
    "**Docstrings and return values**\n",
    "\n",
    "- Docstrings are used to document the function's behaviour\n",
    "- Return values are the values that are returned to the caller - you can use the returned value(s) where you called the function"
   ]
  },
  {
   "cell_type": "code",
   "execution_count": null,
   "metadata": {},
   "outputs": [],
   "source": [
    "def my_updated_updated_function(greeting, name):\n",
    "    \"\"\"This is my super descriptive docstring \n",
    "    for my super advanced function.\n",
    "    Arguments:\n",
    "        greeting: the greeting word.\n",
    "        name: the name of the greeted one.\"\"\"\n",
    "    return f'{greeting} {name}!'"
   ]
  },
  {
   "cell_type": "code",
   "execution_count": null,
   "metadata": {},
   "outputs": [],
   "source": [
    "greeting = 'Aye-aye'\n",
    "my_greeting = my_updated_updated_function(greeting, name)\n",
    "print(my_greeting)"
   ]
  },
  {
   "cell_type": "markdown",
   "metadata": {},
   "source": [
    "**Getting some help** == getting the docstring of a function\n",
    "- Using the built-in `help()` function\n",
    "- In Jupyter Notebook pressing [shift]-[tab] twice inside a functions' brackets"
   ]
  },
  {
   "cell_type": "code",
   "execution_count": null,
   "metadata": {},
   "outputs": [],
   "source": [
    "help(my_updated_updated_function)"
   ]
  },
  {
   "cell_type": "code",
   "execution_count": null,
   "metadata": {},
   "outputs": [],
   "source": [
    "print('My docstring:')\n",
    "print(my_updated_updated_function.__doc__)"
   ]
  },
  {
   "cell_type": "markdown",
   "metadata": {},
   "source": [
    "---\n",
    "\n",
    "## Exercises\n",
    "\n",
    "Before we jump into action:\n",
    "\n",
    "---\n",
    "\n",
    "** DISCLAIMER **\n",
    "There are several functions defined in the `helpers.py` file. We loaded every function from it in the very first (ok, technically the second) cell so we can use those functions in the notebook. If in the following excersises you get a `hint` to use a function, it is usually defined there, and includes docstrings - don't forget to read what a function does before using it!\n",
    "** END OF DISCLAIMER **\n",
    "\n",
    "---\n",
    "\n",
    "#### 1. Now that we have everything we need, let's use it for a real life example: \n",
    "\n",
    "A `.csv` file called **`bookmark.csv`** contains links in two categories: \n",
    "\n",
    "- learn\n",
    "- fun\n",
    "\n",
    "Open every link from one of the categories in your browser by reading the file contents, iterating over the rows, and examining if the type of link matches with the selected category. Open the link using the `webbrowser.open_new_tab(url)` function.\n",
    "\n",
    "##### a) Import data from the `bookmark.csv` into `url_data` variable!\n",
    "**Hints:**\n",
    "- use the `import_from_csv` function\n",
    "- addition works with strings (make use of the `base` variable)"
   ]
  },
  {
   "cell_type": "code",
   "execution_count": null,
   "metadata": {},
   "outputs": [],
   "source": [
    "base = './data/'\n",
    "# ----------------------------------------------------------------------------\n",
    "url_data =                                      # write a function call here\n",
    "# ----------------------------------------------------------------------------\n",
    "print(url_data)"
   ]
  },
  {
   "cell_type": "code",
   "execution_count": null,
   "metadata": {},
   "outputs": [],
   "source": [
    "reason = random.choice(['learn', 'fun'])"
   ]
  },
  {
   "cell_type": "markdown",
   "metadata": {},
   "source": [
    "##### b) Write a function which will open every link of the given type (learn/fun)!\n",
    "\n",
    "*Name*: opentabs  \n",
    "*Arguments*: reason, url_data  \n",
    "\n",
    "**Hints:**\n",
    "- you can use the `webbrowser.open_new_tab()` function\n",
    "- basic steps:\n",
    "    - define\n",
    "    - iterate\n",
    "    - check type\n",
    "    - open link"
   ]
  },
  {
   "cell_type": "code",
   "execution_count": null,
   "metadata": {},
   "outputs": [],
   "source": [
    "def opentabs(reason, url_data):\n",
    "    # write your code here"
   ]
  },
  {
   "cell_type": "code",
   "execution_count": null,
   "metadata": {},
   "outputs": [],
   "source": [
    "opentabs(reason, url_data)"
   ]
  },
  {
   "cell_type": "markdown",
   "metadata": {},
   "source": [
    "#### 2. We want to know if a file is in the current directory. Write a function which will tell you so.\n",
    "**Hint:** use the `list_files()` function to get the files from the working directory."
   ]
  },
  {
   "cell_type": "code",
   "execution_count": null,
   "metadata": {},
   "outputs": [],
   "source": [
    "def isin(filename):\n",
    "    # --------------------------------------------------------------\n",
    "                                        # return the boolean result\n",
    "    # --------------------------------------------------------------"
   ]
  },
  {
   "cell_type": "code",
   "execution_count": null,
   "metadata": {},
   "outputs": [],
   "source": [
    "print(isin('helpers.py'))\n",
    "print(isin('awesome.txt'))"
   ]
  },
  {
   "cell_type": "markdown",
   "metadata": {},
   "source": [
    "#### 3. Our friend recommends us a new series.  \n",
    "We downloaded the full series (7 seasons) and we believe that we downloaded all of the subtitles as well - although we're not that sure. Check if we miss some!\n",
    "\n",
    "##### a) \"Download\" the series with the function called `download`.  \n",
    "**Hint:** use the `help` function!"
   ]
  },
  {
   "cell_type": "code",
   "execution_count": null,
   "metadata": {},
   "outputs": [],
   "source": [
    "# --------------------------------------------------------------\n",
    "                            # download function call goes here!\n",
    "# --------------------------------------------------------------"
   ]
  },
  {
   "cell_type": "markdown",
   "metadata": {},
   "source": [
    "##### b) Write a function which outputs those video filenames which are missing subtitles.  \n",
    "The video file's extension is `.avi`, the subtitle file's extension is `.srt`.   \n",
    "We only accept a subtitle if it's name is perfectly matches the video's name.  \n",
    "\n",
    "- Create a list of avis and a list of srts. \n",
    "- Iterate over the avis list\n",
    "- In the loop, check if the actual item is in the srts list"
   ]
  },
  {
   "cell_type": "code",
   "execution_count": null,
   "metadata": {},
   "outputs": [],
   "source": [
    "def missing_subtitle(directory):\n",
    "    # --------------------------------------------------------------\n",
    "                                      # list, iterate, check, print\n",
    "    # --------------------------------------------------------------"
   ]
  },
  {
   "cell_type": "code",
   "execution_count": null,
   "metadata": {},
   "outputs": [],
   "source": [
    "missing_subtitle('super_series')"
   ]
  },
  {
   "cell_type": "markdown",
   "metadata": {},
   "source": [
    "#### 5. Display every image from the current directory (use the `list_files()` function)!  \n",
    "Valid image file extensions are `.png`, `.jpg`, `.jpeg`."
   ]
  },
  {
   "cell_type": "code",
   "execution_count": null,
   "metadata": {},
   "outputs": [],
   "source": [
    "def images():\n",
    "    # --------------------------------------------------------------\n",
    "                                      # list, iterate, check, print\n",
    "    # --------------------------------------------------------------    "
   ]
  },
  {
   "cell_type": "code",
   "execution_count": null,
   "metadata": {},
   "outputs": [],
   "source": [
    "images()"
   ]
  },
  {
   "cell_type": "markdown",
   "metadata": {},
   "source": [
    "#### 6. Create a csv file with picture urls. Display every picture from the CSV.\n",
    "\n",
    "- Iterate over the image_links\n",
    "- Use the `print_image` function with _type='net' parameter"
   ]
  },
  {
   "cell_type": "code",
   "execution_count": null,
   "metadata": {},
   "outputs": [],
   "source": [
    "image_links = import_from_csv(base + 'pictures.csv')"
   ]
  },
  {
   "cell_type": "code",
   "execution_count": null,
   "metadata": {},
   "outputs": [],
   "source": [
    "# --------------------------------------------------------------\n",
    "                                        # iterate, check, print\n",
    "# --------------------------------------------------------------"
   ]
  },
  {
   "cell_type": "markdown",
   "metadata": {},
   "source": [
    "#### 7. Create a csv file with cursewords. Write a function which substitutes these words in an input text.\n",
    "\n",
    "- Split the text into words\n",
    "- Iterate over the words\n",
    "- Check if the current word is a curseword\n",
    "- Change the word to the `substitution` parameter\n",
    "\n",
    "**Hints:**\n",
    " - `string.split(splitchar)` splits the string\n",
    " - `string.lower()` will lower every char in the string\n",
    " - `string.strip(char_to_strip)`\n",
    " - `string.join(iterable)` will join the iterable elements together, the string will be the separator \n",
    " - commas will be part of the words"
   ]
  },
  {
   "cell_type": "code",
   "execution_count": null,
   "metadata": {},
   "outputs": [],
   "source": [
    "def clean(text, substitution='*#%=!'):\n",
    "    # --------------------------------------------------------------\n",
    "                                # split, iterate, check, substitute\n",
    "    # --------------------------------------------------------------"
   ]
  },
  {
   "cell_type": "code",
   "execution_count": null,
   "metadata": {},
   "outputs": [],
   "source": [
    "print(clean('A monkey and a donkey went to visit Boby .'))"
   ]
  },
  {
   "cell_type": "markdown",
   "metadata": {},
   "source": [
    "#### 8. Statistics!\n",
    "\n",
    "Let's say you flip a coin 50 times and it was heads 37 times. Would you say that it is a fair coin with 95% certainty?  \n",
    "At a regular statistics course you'd perform a t-test. But there is an easier way with python!  \n",
    "Simulate the 50 coin flipping 10000 times and see how many times were there 37 or more heads in the 50 flips."
   ]
  },
  {
   "cell_type": "code",
   "execution_count": null,
   "metadata": {},
   "outputs": [],
   "source": [
    "# write your code here"
   ]
  }
 ],
 "metadata": {
  "anaconda-cloud": {},
  "kernelspec": {
   "display_name": "Python 3",
   "language": "python",
   "name": "python3"
  },
  "language_info": {
   "codemirror_mode": {
    "name": "ipython",
    "version": 3
   },
   "file_extension": ".py",
   "mimetype": "text/x-python",
   "name": "python",
   "nbconvert_exporter": "python",
   "pygments_lexer": "ipython3",
   "version": "3.6.0"
  }
 },
 "nbformat": 4,
 "nbformat_minor": 1
}
