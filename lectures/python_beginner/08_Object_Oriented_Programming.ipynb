{
 "cells": [
  {
   "cell_type": "markdown",
   "metadata": {},
   "source": [
    "# Python 101\n",
    "## VIII. Object Oriented Programming\n",
    "\n",
    "---\n",
    "\n",
    "\n",
    "## Classes\n",
    "\n",
    "### Basics\n",
    "\n",
    "In Python, everything is an __`\"object\"`__. So when you create a variable, you actually created an object. The object you create is used to _store values_ (called __attribute__s) and _have special functions_ (called __method__s) which interacts with the object's values.\n",
    "You can even create your own objects, by defining a __`\"class\"`__.\n",
    "\n",
    "A class describes the object you will create and will determine what it can do. You manipulate the objects by calling their methods and setting their attributes to achieve the desired outcome.\n",
    "\n",
    "The process described above is a programming style - a programming paradigm, called __Object Oriented Programming__ (OO). It is one of the main paradigms. Our previous codes were created using the __Imperative__ paradigm. \n",
    "\n",
    "#### Basic OO workflow:\n",
    "\n",
    "- Define a class"
   ]
  },
  {
   "cell_type": "code",
   "execution_count": null,
   "metadata": {},
   "outputs": [],
   "source": [
    "class MyClass:\n",
    "    foo = 1\n",
    "    def bar(self):\n",
    "        print('Hello World!')"
   ]
  },
  {
   "cell_type": "markdown",
   "metadata": {},
   "source": [
    "- Initialize an object"
   ]
  },
  {
   "cell_type": "code",
   "execution_count": null,
   "metadata": {},
   "outputs": [],
   "source": [
    "myobject = MyClass()"
   ]
  },
  {
   "cell_type": "markdown",
   "metadata": {},
   "source": [
    "- Access the values you set in the class definition by using the `object_name.attribute_name` statement:"
   ]
  },
  {
   "cell_type": "code",
   "execution_count": null,
   "metadata": {},
   "outputs": [],
   "source": [
    "print(myobject.foo)"
   ]
  },
  {
   "cell_type": "markdown",
   "metadata": {},
   "source": [
    "- Execute the functions from your class definition in the same way:"
   ]
  },
  {
   "cell_type": "code",
   "execution_count": null,
   "metadata": {},
   "outputs": [],
   "source": [
    "myobject.bar()"
   ]
  },
  {
   "cell_type": "markdown",
   "metadata": {},
   "source": [
    "_Basically, the __class is the blueprint__ and the __object is the product__._\n",
    "\n",
    "---\n",
    "\n",
    "OO believers sais that the universe was created by calling its constructor, so let's create our solar system as an example:"
   ]
  },
  {
   "cell_type": "code",
   "execution_count": null,
   "metadata": {},
   "outputs": [],
   "source": [
    "# Universe class\n",
    "# Use the class keyword to create a class\n",
    "# The naming convention is to start the class' name with capital letter\n",
    "class Universe:\n",
    "    \"\"\"\n",
    "    This is a docstring for the Universe class.\n",
    "    If the user needs help, he/she can read this string.\n",
    "    \"\"\"\n",
    "    \n",
    "    # a class can have attributes and methods\n",
    "    # this is the 'creator' attribute\n",
    "    # the class attributes will be the same in every instance\n",
    "    creator = 'God'\n",
    "    \n",
    "    # this is the constructor method.\n",
    "    # the first argument is always the 'self', as a reference to the created object\n",
    "    def __init__(self, planets):\n",
    "        \"\"\"\n",
    "        Constructor function. When an object created, \n",
    "        this function will be executed.\n",
    "        \"\"\"\n",
    "        # object attribute. it's value will be set during init,\n",
    "        # so it can be different in every instance\n",
    "        self.planets = planets\n",
    "    \n",
    "    def print_planets(self):\n",
    "        \"\"\"\n",
    "        Print the planet's name from the universe.\n",
    "        \"\"\"\n",
    "        # you can access the object's attributes/methods inside the class\n",
    "        # by using the 'self' keyword\n",
    "        for planet in self.planets:\n",
    "            print(planet)\n",
    "            \n",
    "    def add_planet(self, planetname):\n",
    "        \"\"\"\n",
    "        Add a planet to the universe.\n",
    "        \"\"\"\n",
    "        self.planets.append(planetname)\n",
    "        \n",
    "    def remove_planet(self, planetname):\n",
    "        \"\"\"\n",
    "        Remove a planet from the universe.\n",
    "        \"\"\"\n",
    "        if planetname in self.planets:\n",
    "            self.planets.remove(planetname)"
   ]
  },
  {
   "cell_type": "markdown",
   "metadata": {},
   "source": [
    "Our blueprint is ready, let's create our mini Universe:"
   ]
  },
  {
   "cell_type": "code",
   "execution_count": null,
   "metadata": {},
   "outputs": [],
   "source": [
    "# list of planet names in the solar system\n",
    "planets_in_solar_system = [\n",
    "    'Sun', \n",
    "    'Mercury', \n",
    "    'Venus', \n",
    "    'Earth', \n",
    "    'Mars', \n",
    "    'Jupiter', \n",
    "    'Saturn', \n",
    "    'Uranus', \n",
    "    'Neptune', \n",
    "    'Pluto'\n",
    "]            "
   ]
  },
  {
   "cell_type": "markdown",
   "metadata": {},
   "source": [
    "- Create a Universe type object"
   ]
  },
  {
   "cell_type": "code",
   "execution_count": null,
   "metadata": {},
   "outputs": [],
   "source": [
    "solar_system = Universe(planets_in_solar_system)"
   ]
  },
  {
   "cell_type": "markdown",
   "metadata": {},
   "source": [
    "- Call the created object's methods to manipulate it"
   ]
  },
  {
   "cell_type": "code",
   "execution_count": null,
   "metadata": {},
   "outputs": [],
   "source": [
    "solar_system.print_planets()"
   ]
  },
  {
   "cell_type": "code",
   "execution_count": null,
   "metadata": {},
   "outputs": [],
   "source": [
    "solar_system.remove_planet('Pluto')\n",
    "solar_system.print_planets()"
   ]
  },
  {
   "cell_type": "code",
   "execution_count": null,
   "metadata": {},
   "outputs": [],
   "source": [
    "solar_system.add_planet('Pluto')\n",
    "solar_system.print_planets()"
   ]
  },
  {
   "cell_type": "markdown",
   "metadata": {},
   "source": [
    "- Access the class' attribute"
   ]
  },
  {
   "cell_type": "code",
   "execution_count": null,
   "metadata": {},
   "outputs": [],
   "source": [
    "print(solar_system.creator)"
   ]
  },
  {
   "cell_type": "markdown",
   "metadata": {},
   "source": [
    "### Now it's your turn! \n",
    "\n",
    "Create an object to handle 2d mathematical points.\n",
    "\n",
    "- Use the class keyword to define the 'Point' class, and don't forget to add a docstring!\n",
    "- Define the constructor, with two arguments: x, y\n",
    "- Define a method (distance) which tells the distance between the point and an another point (given as an argument).\n",
    "\n",
    "\n"
   ]
  },
  {
   "cell_type": "code",
   "execution_count": null,
   "metadata": {},
   "outputs": [],
   "source": []
  },
  {
   "cell_type": "markdown",
   "metadata": {},
   "source": [
    "### Inheritence\n",
    "\n",
    "Often two class have a lot in common: same attributes, same methods. In this case we can inherit one class from the other. \n",
    "\n",
    "Let's demonstrate it by creating a creature class!"
   ]
  },
  {
   "cell_type": "code",
   "execution_count": null,
   "metadata": {},
   "outputs": [],
   "source": [
    "class Creature(object):\n",
    "    \"\"\"\n",
    "    Defines creatures.\n",
    "    \"\"\"\n",
    "    def __init__(self, name, age):\n",
    "        self.name = name\n",
    "        self.age = age\n",
    "        \n",
    "    def define(self):\n",
    "        print('It is a {} year old {}.'.format(self.age, self.name))"
   ]
  },
  {
   "cell_type": "markdown",
   "metadata": {},
   "source": [
    "Let's say that we also want to create a human class.  \n",
    "Humans are also creatures, so they naturally has some common attributes with the creatures.\n",
    "\n",
    "Let's inherit the human class from the creature class!"
   ]
  },
  {
   "cell_type": "code",
   "execution_count": null,
   "metadata": {},
   "outputs": [],
   "source": [
    "class Human(Creature):\n",
    "    \"\"\"\n",
    "    Defines a human.\n",
    "    \"\"\"\n",
    "    def __init__(self, name, age, forename):\n",
    "        Creature.__init__(self, name, age)\n",
    "        self.forename = forename\n",
    "        \n",
    "    def define2(self):\n",
    "        self.define()\n",
    "        print('His/Her name is {}'.format(self.forename))"
   ]
  },
  {
   "cell_type": "code",
   "execution_count": null,
   "metadata": {},
   "outputs": [],
   "source": [
    "# creature\n",
    "dog = Creature('dog', 7)\n",
    "dog.define()"
   ]
  },
  {
   "cell_type": "code",
   "execution_count": null,
   "metadata": {},
   "outputs": [],
   "source": [
    "# human\n",
    "szilvi = Human('human', 25, 'Szilvi')\n",
    "szilvi.define()\n",
    "szilvi.define2()"
   ]
  },
  {
   "cell_type": "markdown",
   "metadata": {},
   "source": [
    "### Your turn! \n",
    "\n",
    "Create a 3d point class which is inherited from the 2d point class!\n",
    "\n",
    "- Inherit the new class from the Point class! Let's call it 'Point3d'!\n",
    "- In the `__init__` function we'll now have a third attribute called `'z'` as well!\n",
    "- Don't forget to call the 2d point's constructor method!\n",
    "- Define a new distance function (distance3d) to compute 3d distance\n"
   ]
  },
  {
   "cell_type": "code",
   "execution_count": null,
   "metadata": {},
   "outputs": [],
   "source": []
  },
  {
   "cell_type": "markdown",
   "metadata": {},
   "source": [
    "From now on, every top level class should inherit from the `object` class. It is the \"new type\" object introduced in Python 2.3, and now it is the standard. It is recommended to inherit your classes from `object` for compatibility reasons. If you don't it's up to you. _You've been warned!_\n",
    "\n",
    "---\n",
    "\n",
    "## Let's do some...\n",
    "\n",
    "<img align=\"left\" width=150 src=\"pics/magic.gif\">\n",
    "<br style=\"clear:left;\"/>\n",
    "\n",
    "### Cool library: NLTK\n",
    "#### Analyze texts in a few lines\n",
    "\n",
    "- download required assets"
   ]
  },
  {
   "cell_type": "code",
   "execution_count": null,
   "metadata": {},
   "outputs": [],
   "source": [
    "import nltk\n",
    "nltk.download(['punkt', 'stopwords'])"
   ]
  },
  {
   "cell_type": "markdown",
   "metadata": {},
   "source": [
    "- download and extract the first LOTR book"
   ]
  },
  {
   "cell_type": "code",
   "execution_count": null,
   "metadata": {},
   "outputs": [],
   "source": [
    "import requests\n",
    "from bs4 import BeautifulSoup\n",
    "url ='http://ae-lib.org.ua/texts-c/tolkien__the_lord_of_the_rings_{book}__en.htm'\n",
    "LOTR = requests.get(url.format(book=1)).content\n",
    "LOTR = BeautifulSoup(LOTR, \"html.parser\").getText()"
   ]
  },
  {
   "cell_type": "markdown",
   "metadata": {},
   "source": [
    "- write a stopword and punctuation filter"
   ]
  },
  {
   "cell_type": "code",
   "execution_count": null,
   "metadata": {},
   "outputs": [],
   "source": [
    "def needed(token):\n",
    "    stopword = token not in nltk.corpus.stopwords.words('english')\n",
    "    number = not token.isnumeric()\n",
    "    length = len(token) > 1 # can be 2 as well\n",
    "    return stopword and number and length\n",
    "\n",
    "list(filter(needed, u'I am the number 1 Elephant in the world'.split()))"
   ]
  },
  {
   "cell_type": "markdown",
   "metadata": {},
   "source": [
    "- tokenize words\n",
    "- filter out stopwords and punctuations"
   ]
  },
  {
   "cell_type": "code",
   "execution_count": null,
   "metadata": {},
   "outputs": [],
   "source": [
    "tokens = nltk.word_tokenize(LOTR.lower())\n",
    "tokens = filter(needed, tokens)"
   ]
  },
  {
   "cell_type": "markdown",
   "metadata": {},
   "source": [
    "- compute word frequencies\n",
    "- show the top 25 words"
   ]
  },
  {
   "cell_type": "code",
   "execution_count": null,
   "metadata": {},
   "outputs": [],
   "source": [
    "wordcount = nltk.FreqDist(tokens)\n",
    "wordcount.most_common(25)"
   ]
  },
  {
   "cell_type": "markdown",
   "metadata": {},
   "source": [
    "#### Let's play a little!  \n",
    "Check how did the top25 words change through the trilogy!"
   ]
  },
  {
   "cell_type": "code",
   "execution_count": null,
   "metadata": {},
   "outputs": [],
   "source": [
    "wordcounts = []\n",
    "for book in range(1,4):\n",
    "    print('Processing book {}'.format(book), end='')\n",
    "    LOTR = requests.get(url.format(book=book)).content\n",
    "    print('.', end='')\n",
    "    LOTR = BeautifulSoup(LOTR, \"html.parser\").getText() \n",
    "    print('.', end='')\n",
    "    tokens = filter(needed, nltk.word_tokenize(LOTR.lower()))\n",
    "    print('.', end=' ')\n",
    "    wordcounts.append(nltk.FreqDist(tokens).most_common(25))\n",
    "    print('Done.')"
   ]
  },
  {
   "cell_type": "code",
   "execution_count": null,
   "metadata": {},
   "outputs": [],
   "source": [
    "wordcounts[0]"
   ]
  },
  {
   "cell_type": "code",
   "execution_count": null,
   "metadata": {},
   "outputs": [],
   "source": [
    "wordcounts[1]"
   ]
  },
  {
   "cell_type": "code",
   "execution_count": null,
   "metadata": {},
   "outputs": [],
   "source": [
    "wordcounts[2]"
   ]
  },
  {
   "cell_type": "markdown",
   "metadata": {},
   "source": [
    "## Challenge time! a.k.a\n",
    "## It's your turn - write the missing code snippets!\n",
    "\n",
    "#### 1. Create the RPS game as a class!\n",
    "\n",
    "- The object should have a class attribute: a list of possible moves\n",
    "- The constructor shouldn't have any arguments => you don't have to define it at all\n",
    "- There should be a move method which should randomly return a move\n",
    "- Finally, there should be a play method, which should play the game:\n",
    "    - ask for a move\n",
    "    - generate a move\n",
    "    - decide who won"
   ]
  },
  {
   "cell_type": "code",
   "execution_count": null,
   "metadata": {},
   "outputs": [],
   "source": [
    "import random\n"
   ]
  },
  {
   "cell_type": "markdown",
   "metadata": {},
   "source": [
    "#### 2. Create a cheater RPS:\n",
    "\n",
    "- It should have a history object attribute which stores the user previous moves, so an `__init__` method is a must\n",
    "- The move method should use the history to randomly pick the AI's move (hint: use `random.choice` function)\n",
    "- The play method should be the same as the regular RPS class' play method but also should store the player's decisions into the history attribute"
   ]
  },
  {
   "cell_type": "code",
   "execution_count": null,
   "metadata": {},
   "outputs": [],
   "source": []
  },
  {
   "cell_type": "markdown",
   "metadata": {},
   "source": [
    "#### 3. Write a stock system!\n",
    "\n",
    "- Write a product class.\n",
    "    - It should have a name and a price. \n",
    "- Write a store class! \n",
    "    - It should have a stock of products. \n",
    "    - It should be able to restock, and sell.\n",
    "    - The restock method should have 2 arguments: product and amount\n",
    "    - The sell method should have 1 argument: the list of products.\n",
    "    - The sell method shoud print what was sold, and if it is out of stock."
   ]
  },
  {
   "cell_type": "code",
   "execution_count": null,
   "metadata": {},
   "outputs": [],
   "source": []
  },
  {
   "cell_type": "markdown",
   "metadata": {},
   "source": [
    "#### 4. More geometry\n",
    "Write a 2d point class. Using the point class, create a rectangle class which will store the 4 cornerpoints. Make it able to compute it's area!  \n",
    "Inherit a square class from the rectangle class!\n",
    "\n",
    "What classes should you write?\n",
    "\n",
    "- Point class\n",
    "- Rectangle class\n",
    "- Square class"
   ]
  },
  {
   "cell_type": "code",
   "execution_count": null,
   "metadata": {},
   "outputs": [],
   "source": []
  },
  {
   "cell_type": "markdown",
   "metadata": {},
   "source": [
    "#### 5. Create the one ring\n",
    "Define the one ring. It should have:\n",
    "- a class attribute, it's real owner\n",
    "- an object attribute, it's current owner/bearer\n",
    "- an object attribute, it's description\n",
    "- an object attribute, if it is weared currently, or not\n",
    "- a wear method, which set the previous attribute to true, and prints a message: _\"Hi [real owner's name]! I'm [current owner's name], and I'm here, wearing your ring!\"_\n",
    "- any special power method which can do whatever you want - use your imagination!"
   ]
  },
  {
   "cell_type": "code",
   "execution_count": null,
   "metadata": {},
   "outputs": [],
   "source": []
  },
  {
   "cell_type": "markdown",
   "metadata": {},
   "source": [
    "#### 6. CHALLANGE TIME: The bouncy ball\n",
    "\n",
    "Create a `Ball` class inherited from the `Point2d` class. A bouncy ball has:\n",
    "- a position: `x` and `y`\n",
    "- a velocity in both axis: `vx` and `vy`\n",
    "- a border in both axis: `max_x` and `max_y`\n",
    "\n",
    "The user should be able to specify these values *during the **init**ialization*. \n",
    "\n",
    "The bouncy ball will move with its current velocity until it collides with either the maximum border (`max_x` or `max_y`) or the minimum border (`0`). Once collided, their respected velocity will change its direction to its opposite (if the ball hits the `maxx` border, its `vx` changes to `-vx`).\n",
    "\n",
    "The movement is simulated step by step (in a method called `step`). In each step the ball should advance based on its velocities, and the collision is checked and the velocities are updated accordingly.\n",
    "\n",
    "**Complete the empty skeleton in the next cell!** To check your results, change the ball object from `DemoBall` to your `Ball` class and start a simulation."
   ]
  },
  {
   "cell_type": "code",
   "execution_count": null,
   "metadata": {},
   "outputs": [],
   "source": [
    "class Ball(object):\n",
    "    \n",
    "    def __init__(self):\n",
    "        pass\n",
    "    \n",
    "    def step(self):\n",
    "        pass"
   ]
  },
  {
   "cell_type": "code",
   "execution_count": null,
   "metadata": {},
   "outputs": [],
   "source": [
    "from helpers import BouncyBallSimulator, DemoBall"
   ]
  },
  {
   "cell_type": "code",
   "execution_count": null,
   "metadata": {},
   "outputs": [],
   "source": [
    "ball = DemoBall(x=0, y=0, vx=1, vy=1, max_x=5, max_y=40)"
   ]
  },
  {
   "cell_type": "code",
   "execution_count": null,
   "metadata": {},
   "outputs": [],
   "source": [
    "BouncyBallSimulator(ball).show()"
   ]
  },
  {
   "cell_type": "markdown",
   "metadata": {},
   "source": [
    "---\n",
    "\n",
    "## Exceptions\n",
    "\n",
    "### Errors\n",
    "\n",
    "If the code is syntactically incorrect the interpreter won't be able to execute it. -> You'll get a syntax error."
   ]
  },
  {
   "cell_type": "code",
   "execution_count": null,
   "metadata": {},
   "outputs": [],
   "source": [
    "while True print('Hello world')"
   ]
  },
  {
   "cell_type": "markdown",
   "metadata": {},
   "source": [
    "### Exceptions\n",
    "\n",
    "If the code is syntactically correct unexpected events can still happen during execution, and the program will terminate like this:"
   ]
  },
  {
   "cell_type": "code",
   "execution_count": null,
   "metadata": {},
   "outputs": [],
   "source": [
    "class Divider:\n",
    "    # the call method is called, if we call the object itself\n",
    "    def __call__(self, num1, num2):\n",
    "        return num1/num2\n",
    "    \n",
    "divide = Divider()\n",
    "print(divide(2, 1))\n",
    "print(divide(1, 0))\n",
    "print(divide(3, 2))"
   ]
  },
  {
   "cell_type": "markdown",
   "metadata": {},
   "source": [
    "As we can see, dividing by zero is not possible, so a ZeroDivisionError emerged and our program stopped. Our program shouldn't stop running, so we have to handle these cases! -> Let's use Exceptions!"
   ]
  },
  {
   "cell_type": "code",
   "execution_count": null,
   "metadata": {},
   "outputs": [],
   "source": [
    "class Divider:\n",
    "    def __call__(self, num1, num2):\n",
    "        # in order to catch the errors, we need to use the try except structure:\n",
    "        try:\n",
    "            # we try to do something\n",
    "            return num1/num2\n",
    "        # in case an exception happened, handle it!\n",
    "        except ZeroDivisionError:\n",
    "            print('Dividing by zero is not possible!')\n",
    "            return 0\n",
    "            \n",
    "divide = Divider()\n",
    "print(divide(2, 1))\n",
    "print(divide(1, 0))\n",
    "print(divide(3, 2))"
   ]
  },
  {
   "cell_type": "markdown",
   "metadata": {},
   "source": [
    "ZeroDivisionError is a subclass of the Exception class. There are many different type of Exceptions."
   ]
  },
  {
   "cell_type": "code",
   "execution_count": null,
   "metadata": {},
   "outputs": [],
   "source": [
    "class Divider:\n",
    "    def __call__(self, num1, num2):\n",
    "        try:\n",
    "            return num1/num2\n",
    "        except ZeroDivisionError:\n",
    "            print('Dividing by zero is not possible!')\n",
    "            return 0\n",
    "            \n",
    "divide = Divider()\n",
    "print(divide(1, 0))\n",
    "# for example this will cause a different type of exception:\n",
    "print(divide(3, '2'))"
   ]
  },
  {
   "cell_type": "markdown",
   "metadata": {},
   "source": [
    "Like the TypeError. We cannot divide a number with a string. Let's fix it!"
   ]
  },
  {
   "cell_type": "code",
   "execution_count": null,
   "metadata": {},
   "outputs": [],
   "source": [
    "class Divider:\n",
    "    def __call__(self, num1, num2):\n",
    "        try:\n",
    "            return num1/num2\n",
    "        except ZeroDivisionError:\n",
    "            print('Dividing by zero is not possible!')\n",
    "            return 0\n",
    "        # we can have as many except branch as many we want!\n",
    "        except TypeError:\n",
    "            print('Numbers can only be divided by numbers!')\n",
    "            return 0\n",
    "            \n",
    "divide = Divider()\n",
    "print(divide(1, 0))\n",
    "print(divide(3, '2'))"
   ]
  },
  {
   "cell_type": "markdown",
   "metadata": {},
   "source": [
    "We can also merge multiple exceptions into one:"
   ]
  },
  {
   "cell_type": "code",
   "execution_count": null,
   "metadata": {},
   "outputs": [],
   "source": [
    "class Divider:\n",
    "    def __call__(self, num1, num2):\n",
    "        try:\n",
    "            return num1/num2\n",
    "        except (ZeroDivisionError, TypeError):\n",
    "            print('ERROR!')\n",
    "            return 0\n",
    "            \n",
    "divide = Divider()\n",
    "print(divide(1, 0))\n",
    "print(divide(3, '2'))"
   ]
  },
  {
   "cell_type": "markdown",
   "metadata": {},
   "source": [
    "Other exception types:\n",
    "\n",
    "- ValueError"
   ]
  },
  {
   "cell_type": "code",
   "execution_count": null,
   "metadata": {},
   "outputs": [],
   "source": [
    "try:\n",
    "    print(int('string'))\n",
    "except ValueError:\n",
    "    print('This string is not a number!')"
   ]
  },
  {
   "cell_type": "markdown",
   "metadata": {},
   "source": [
    "- NameError    "
   ]
  },
  {
   "cell_type": "code",
   "execution_count": null,
   "metadata": {},
   "outputs": [],
   "source": [
    "try:\n",
    "    print(spam)\n",
    "except NameError:\n",
    "    print('There is no such thing as \\'spam\\'!')"
   ]
  },
  {
   "cell_type": "markdown",
   "metadata": {},
   "source": [
    "- IndexError"
   ]
  },
  {
   "cell_type": "code",
   "execution_count": null,
   "metadata": {},
   "outputs": [],
   "source": [
    "try:\n",
    "    mylist = [1, 2, 3]\n",
    "    print(mylist[len(mylist)])\n",
    "except IndexError:\n",
    "    print('Index is larger then the length of the list!')"
   ]
  },
  {
   "cell_type": "markdown",
   "metadata": {},
   "source": [
    "- KeyError"
   ]
  },
  {
   "cell_type": "code",
   "execution_count": null,
   "metadata": {},
   "outputs": [],
   "source": [
    "try:\n",
    "    mydict = {'a': 1, 'b': 2}\n",
    "    print(mydict['c'])\n",
    "except KeyError:\n",
    "    print('Key not exists!')"
   ]
  },
  {
   "cell_type": "markdown",
   "metadata": {},
   "source": [
    "- IOError"
   ]
  },
  {
   "cell_type": "code",
   "execution_count": null,
   "metadata": {},
   "outputs": [],
   "source": [
    "try:\n",
    "    not_existing_filename = 'a_file_that_is_not_exists.txt'\n",
    "    myfile = open(not_existing_filename, 'r')\n",
    "    myfile.readlines()\n",
    "except IOError:\n",
    "    print('The specified file does not exist!')"
   ]
  },
  {
   "cell_type": "markdown",
   "metadata": {},
   "source": [
    "__BAD PRACTICE__: \n",
    "\n",
    "we can catch every exception, if we're not specifically tell the program which one we want to handle:"
   ]
  },
  {
   "cell_type": "code",
   "execution_count": null,
   "metadata": {},
   "outputs": [],
   "source": [
    "class Divider:\n",
    "    def __call__(self, num1, num2):\n",
    "        try:\n",
    "            return num1/num2\n",
    "        except:\n",
    "            print('ERROR!')\n",
    "            return 0\n",
    "            \n",
    "divide = Divider()\n",
    "print(divide(1, 0))\n",
    "print(divide(3, '2'))"
   ]
  },
  {
   "cell_type": "markdown",
   "metadata": {},
   "source": [
    "It's really bad, because we don't know what caused the problem. But at least we can get the details:"
   ]
  },
  {
   "cell_type": "code",
   "execution_count": null,
   "metadata": {},
   "outputs": [],
   "source": [
    "class Divider:\n",
    "    def __call__(self, num1, num2):\n",
    "        try:\n",
    "            return num1/num2\n",
    "        except Exception as e:\n",
    "            print('ERROR!', type(e))\n",
    "            return 0\n",
    "            \n",
    "divide = Divider()\n",
    "print(divide(1, 0))\n",
    "print(divide(3, '2'))"
   ]
  },
  {
   "cell_type": "markdown",
   "metadata": {},
   "source": [
    "We can even invoke Exceptions:"
   ]
  },
  {
   "cell_type": "code",
   "execution_count": null,
   "metadata": {},
   "outputs": [],
   "source": [
    "class MyClass:\n",
    "    def awesome_method(self):\n",
    "        # you can invoke an Exception with the raise keyword\n",
    "        # use this Exception if you havent implemented a function/method yet\n",
    "        raise NotImplementedError(\"You've got to wait buddy!\")\n",
    "    \n",
    "    def method(self, number):\n",
    "        if number != 2:\n",
    "            # general exception\n",
    "            raise Exception('This number is not 2!')\n",
    "            \n",
    "        \n",
    "myobj = MyClass()\n",
    "try:\n",
    "    myobj.awesome_method()\n",
    "except NotImplementedError:\n",
    "    print('This method is not yet implemented!')\n",
    "    \n",
    "try:\n",
    "    myobj.method(3)\n",
    "except Exception as e:\n",
    "    # print the \n",
    "    # - type of the Exception\n",
    "    print(type(e))\n",
    "    # - arguments of the Exception\n",
    "    print(e.args)\n",
    "    # - arguments of the Exception as string\n",
    "    print(e)\n",
    "    arg = e.args\n",
    "    # - arguments of the Exception saved in a variable\n",
    "    print(arg)"
   ]
  },
  {
   "cell_type": "markdown",
   "metadata": {},
   "source": [
    "If we want to execute something only if no Exceptions were raised, we can use the else statement."
   ]
  },
  {
   "cell_type": "code",
   "execution_count": null,
   "metadata": {},
   "outputs": [],
   "source": [
    "class Divider:\n",
    "    def __call__(self, num1, num2):\n",
    "        try:\n",
    "            result = num1 / num2\n",
    "        except ZeroDivisionError:\n",
    "            print('Cannot divide by Zero!')\n",
    "        else:\n",
    "            print(num1, '/', num2, '=' , result)\n",
    "            \n",
    "divide = Divider()\n",
    "divide(2, 0)\n",
    "divide(2, 1)"
   ]
  },
  {
   "cell_type": "markdown",
   "metadata": {},
   "source": [
    "We can also add a cleanup method as well:"
   ]
  },
  {
   "cell_type": "code",
   "execution_count": null,
   "metadata": {},
   "outputs": [],
   "source": [
    "class Divider:\n",
    "    def __call__(self, num1, num2):\n",
    "        try:\n",
    "            result = num1 / num2\n",
    "        except ZeroDivisionError:\n",
    "            print('Cannot divide by Zero!')\n",
    "        else:\n",
    "            print(num1, '/', num2, '=' , result)\n",
    "        finally:\n",
    "            print('finished running')\n",
    "            \n",
    "divide = Divider()\n",
    "divide(2, 0)\n",
    "divide(2, 1)"
   ]
  },
  {
   "cell_type": "markdown",
   "metadata": {},
   "source": [
    "We can define our own Exceptions!"
   ]
  },
  {
   "cell_type": "code",
   "execution_count": null,
   "metadata": {},
   "outputs": [],
   "source": [
    "class MyError(Exception):\n",
    "    def __init__(self, value):\n",
    "        self.value = value\n",
    "    \n",
    "    def __str__(self):\n",
    "        # repr returns the string representation of the object.\n",
    "        return repr(self.value)\n",
    "\n",
    "try:\n",
    "    raise MyError(2*2)\n",
    "except MyError as e:\n",
    "    print('My exception occurred, value:', e.value)"
   ]
  },
  {
   "cell_type": "markdown",
   "metadata": {},
   "source": [
    "In the previous example, the Exception class' default `__init__()` method has been overridden. Instead of `*args`, this new Exception has a `value` attribute.   \n",
    "When creating a module that can raise several distinct errors, a common practice is to create a base class for exceptions defined by that module and subclass it to create specific exception classes for different error conditions."
   ]
  },
  {
   "cell_type": "code",
   "execution_count": null,
   "metadata": {},
   "outputs": [],
   "source": [
    "class FuliError(Exception):\n",
    "    \"\"\"Base class for our exceptions.\"\"\"\n",
    "    pass\n",
    "\n",
    "\n",
    "class NumberError(FuliError):\n",
    "    \"\"\"Exception raised when a not wanted number entered.\"\"\"\n",
    "\n",
    "    def __init__(self, number, explanation):\n",
    "        self.number = number\n",
    "        self.exp = explanation\n",
    "\n",
    "        \n",
    "class CharacterError(FuliError):\n",
    "    \"\"\"Exception raised when a not wanted character entered.\"\"\"\n",
    "\n",
    "    def __init__(self, character):\n",
    "        self.character = character\n",
    "        self.exp = \"You messed with the wrong character, buddy!\""
   ]
  },
  {
   "cell_type": "markdown",
   "metadata": {},
   "source": [
    "## It's your turn - write the missing code snippets!\n",
    "\n",
    "#### 1. Write a \"Guess the number\" game class which handle erroneous inputs"
   ]
  },
  {
   "cell_type": "code",
   "execution_count": null,
   "metadata": {},
   "outputs": [],
   "source": [
    "# import random module\n",
    "import random\n",
    "\n",
    "# create a class\n",
    "class GuessANumber(object):\n",
    "\n",
    "    # init with a random number\n",
    "    def __init__(self, limit=10):\n",
    "        pass  # write your code here\n",
    "        \n",
    "    # write a respond method, which returns 'Win', 'Lower', 'Higher' words as response to it's argument.\n",
    "    # in case of errors, inform the user.\n",
    "    def guess(self, guess):\n",
    "        pass  # write your code here\n",
    "            "
   ]
  },
  {
   "cell_type": "code",
   "execution_count": null,
   "metadata": {},
   "outputs": [],
   "source": [
    "inputs = ['valami', 0.3, 5, 'a']\n",
    "for inp in inputs:\n",
    "    print('game init...', end='')\n",
    "    game = GuessANumber(inp)\n",
    "    print('done. Target:', game.number)\n",
    "    for guess in inputs:\n",
    "        print('- guess:', guess)\n",
    "        game.guess(guess)\n",
    "    print '-'*30"
   ]
  },
  {
   "cell_type": "markdown",
   "metadata": {},
   "source": [
    "#### 2. RPS class with error handling"
   ]
  },
  {
   "cell_type": "code",
   "execution_count": null,
   "metadata": {},
   "outputs": [],
   "source": []
  },
  {
   "cell_type": "code",
   "execution_count": null,
   "metadata": {},
   "outputs": [],
   "source": [
    "inputs = ['valami', 0.3, 5, 'r']\n",
    "rps = RPS()\n",
    "for inp in inputs:\n",
    "    rps.play(inp)"
   ]
  },
  {
   "cell_type": "markdown",
   "metadata": {},
   "source": [
    "#### 3. Count the files in a given directory.\n",
    "- Count them by extensions. (eg: {\"ipynb\": 6, \"py': 1})\n",
    "- hint(s):\n",
    "    - use `os.listdir` to list everything in a directory\n",
    "    - use `os.path.isfile` to determine if the item in the given path is a file\n",
    "    - use `os.path.join` to join the directory and the filename together\n",
    "    - there is a `Counter` class in the `collections` standard library - you can use it in this case"
   ]
  },
  {
   "cell_type": "code",
   "execution_count": null,
   "metadata": {},
   "outputs": [],
   "source": [
    "import os"
   ]
  },
  {
   "cell_type": "code",
   "execution_count": null,
   "metadata": {},
   "outputs": [],
   "source": []
  },
  {
   "cell_type": "markdown",
   "metadata": {},
   "source": [
    "#### 4. Write a basic calculator\n",
    "With the following features:\n",
    "- only two numbers and an operation allowed\n",
    "- operation can be: __`+`__, __`-`__, __`*`__, __`/`__, __`^`__, __`&`__ (and), __`|`__ (or), __`=`__ (equality check), __`~`__ (negation, the second number is ignored)\n",
    "- be careful to handle exceptions!"
   ]
  },
  {
   "cell_type": "raw",
   "metadata": {},
   "source": []
  },
  {
   "cell_type": "markdown",
   "metadata": {},
   "source": [
    "#### 5. Save/load your work!\n",
    "Create a loader/saver class, which can save variables to files and then load from them.\n",
    "- saving should have two parameters: target filename, and `**kwargs`\n",
    "- `kwargs` will now contains every given variables in a **dictionary** in the following format: `{variable_name: value, ...}`\n",
    "- saving is pretty easy: use the `dump()` function from the `json` library to create a string representation of the variables and write it to the target file\n",
    "- saving shouldn't overwrite previous saves!\n",
    "- loading should have one parameter: source file name\n",
    "- to load the data, you should use the `json` library `load()` function on the lines readed from the save file\n",
    "- loading should return the result(s) of the `json.load()` function call\n",
    "- loading should load all of the save data, and remove the save file\n",
    "\n",
    "Do not forget about error handling!"
   ]
  },
  {
   "cell_type": "code",
   "execution_count": null,
   "metadata": {},
   "outputs": [],
   "source": [
    "import json"
   ]
  },
  {
   "cell_type": "code",
   "execution_count": null,
   "metadata": {},
   "outputs": [],
   "source": [
    "class SaveLoader(object):\n",
    "    pass  # your code goes here"
   ]
  },
  {
   "cell_type": "code",
   "execution_count": null,
   "metadata": {},
   "outputs": [],
   "source": [
    "sl = SaveLoader()\n",
    "sl.save('mylittlesave.sav', a=7, b=8, c={'a': 7, 'b': 8}, d=[])\n",
    "a = 7\n",
    "b = 8\n",
    "c = {'a': a, 'b': b}\n",
    "d = [a, b, c]\n",
    "sl.save('mylittlesave.sav', d=d)"
   ]
  },
  {
   "cell_type": "code",
   "execution_count": null,
   "metadata": {},
   "outputs": [],
   "source": [
    "sl.load('mylittlenonexistingsave.sav')"
   ]
  },
  {
   "cell_type": "code",
   "execution_count": null,
   "metadata": {},
   "outputs": [],
   "source": [
    "print(sl.load('mylittlesave.sav'))"
   ]
  },
  {
   "cell_type": "markdown",
   "metadata": {},
   "source": [
    "The result should be:\n",
    "\n",
    "`[{'a': 7, 'b': 8, 'c': {'a': 7, 'b': 8}, 'd': []}, \n",
    " {'d': [7, 8, {'a': 7, 'b': 8}]}]`"
   ]
  }
 ],
 "metadata": {
  "kernelspec": {
   "display_name": "Python 3",
   "language": "python",
   "name": "python3"
  },
  "language_info": {
   "codemirror_mode": {
    "name": "ipython",
    "version": 3
   },
   "file_extension": ".py",
   "mimetype": "text/x-python",
   "name": "python",
   "nbconvert_exporter": "python",
   "pygments_lexer": "ipython3",
   "version": "3.6.0"
  }
 },
 "nbformat": 4,
 "nbformat_minor": 1
}
