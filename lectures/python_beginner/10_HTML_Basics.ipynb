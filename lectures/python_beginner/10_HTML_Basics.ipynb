{
 "cells": [
  {
   "cell_type": "markdown",
   "metadata": {},
   "source": [
    "# Python 101\n",
    "## X. HTML Basics\n",
    "\n",
    "---\n",
    "\n",
    "\n",
    "__HTML__ is a markup language, its basic build blocks are the `<tag>`s.<br>\n",
    "(Almost) every `<tag>` has two parts:\n",
    "\n",
    "- Opening `<tag>` \n",
    "- Closing `</tag>` \n",
    "\n",
    "Important html `<tag>`s:\n",
    "\n",
    "- `<html></html>`\n",
    "- `<head></head>`\n",
    "- `<body></body>`\n",
    "- `<div></div>`\n",
    "- `<p></p>`\n",
    "- `<span></span>`\n",
    "- `<section></section>`\n",
    "- `<a href=\"\"></a>`\n",
    "- `<img src=\"\">`\n",
    "- `<br>`\n",
    "- ```\n",
    "<table>\n",
    "    <thead>\n",
    "        <tr>\n",
    "            <th></th>\n",
    "        </tr>\n",
    "    </thead>\n",
    "    <tbody>\n",
    "        <tr>\n",
    "            <td></td>\n",
    "            ...\n",
    "        </tr>\n",
    "    </tbody>\n",
    "</table>\n",
    " ```\n",
    "- `<ul></ul>` / `<ol></ol>` + `<li></li>`\n",
    "    \n",
    "Tags can have different attributes:\n",
    "- `<a>`: href\n",
    "- `<img>`: src\n",
    "- id\n",
    "- class\n",
    "- anything that is not a html keyword\n",
    "\n",
    "---\n",
    "\n",
    "Open the `data/test.html` file in your browser, and inspect the source of the page!"
   ]
  }
 ],
 "metadata": {
  "kernelspec": {
   "display_name": "Python 3",
   "language": "python",
   "name": "python3"
  },
  "language_info": {
   "codemirror_mode": {
    "name": "ipython",
    "version": 3
   },
   "file_extension": ".py",
   "mimetype": "text/x-python",
   "name": "python",
   "nbconvert_exporter": "python",
   "pygments_lexer": "ipython3",
   "version": "3.6.4"
  }
 },
 "nbformat": 4,
 "nbformat_minor": 1
}
