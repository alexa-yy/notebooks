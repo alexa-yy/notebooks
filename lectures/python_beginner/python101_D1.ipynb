{
 "cells": [
  {
   "cell_type": "markdown",
   "metadata": {},
   "source": [
    "# Python 101\n",
    "## Day I.\n",
    "\n",
    "---"
   ]
  },
  {
   "cell_type": "code",
   "execution_count": null,
   "metadata": {
    "slideshow": {
     "slide_type": "-"
    }
   },
   "outputs": [],
   "source": [
    "import random\n",
    "from helpers import *\n",
    "print(fix_graphviz_path())\n",
    "from lolviz import lolviz\n",
    "import webbrowser"
   ]
  },
  {
   "cell_type": "code",
   "execution_count": null,
   "metadata": {},
   "outputs": [],
   "source": [
    "BASE = './data/'"
   ]
  },
  {
   "cell_type": "markdown",
   "metadata": {},
   "source": [
    "<img width=\"640\" src=\"http://westmarch.sjsoft.com/wp-content/uploads/2012/11/zen-of-python-poster-a3.png\"/>\n",
    "\n",
    "----\n",
    "\n",
    "## Before we start\n",
    "\n",
    "### Who am I?\n",
    "\n",
    "* ex-PhD student (absolutorium achieved)\n",
    "* ex-teaching assistant @ Unideb\n",
    "* ex-python developer @ HigherClick\n",
    "* data scientist @ Lensa & Gitential\n",
    "* programmer (<a href=\"github.com/fulibacsi\">github</a>)\n",
    "* geek (<a href=\"twitter.com/fulibacsi\">twitter</a>)\n",
    "\n",
    "### What are we gonna do?\n",
    "\n",
    "1. Have fun!\n",
    "2. Learn something useful.\n",
    "3. Create something awesome.\n",
    "4. Conquer the world!\n",
    "\n",
    "---\n",
    "\n",
    "## Warming up - Computer Science in 5 min:\n",
    "\n",
    "To get everyone to the same pace.\n",
    "\n",
    "### Where it begins: NAND\n",
    "\n",
    "<img align=\"left\" height=\"200\" width=\"200\" src=\"pics/NAND.png\"/>\n",
    "<img align=\"right\" height=\"200\" width=\"300\" src=\"pics/Quad_2-input_NAND_Gates.PNG\"/>\n",
    "<br style=\"clear:left;\"/>\n",
    "\n",
    "### How NAND gates have been produced?\n",
    "\n",
    "#### Relays\n",
    "\n",
    "<img align=\"left\" height=\"400\" width=\"400\" src=\"pics/Electronic_component_relays.jpg\"/>\n",
    "<br style=\"clear:left;\"/>\n",
    "\n",
    "#### Vacuum tubes\n",
    "\n",
    "<img align=\"left\" height=\"300\" width=\"600\" src=\"pics/Elektronenroehren-auswahl.jpg\"/>\n",
    "<br style=\"clear:left;\"/>\n",
    "\n",
    "#### Transistors\n",
    "\n",
    "<img align=\"left\" height=\"200\" width=\"200\" src=\"pics/transistor.jpg\"\n",
    "     style=\"padding-right: 10px; padding-top: 16px\"/>\n",
    "<img align=\"left\" src=\"pics/proc.jpg\"/>\n",
    "<br style=\"clear:left;\"/>\n",
    "\n",
    "### From human readable to \"machine readable\"\n",
    "\n",
    "#### Low level languages\n",
    "\n",
    "<img align=\"left\" src=\"pics/lowlevel.png\"/>\n",
    "<br style=\"clear:left;\"/>\n",
    "\n",
    "#### Compiled languages\n",
    "\n",
    "<img align=\"left\" src=\"pics/compiled.png\"/>\n",
    "<br style=\"clear:left;\"/>\n",
    "\n",
    "* BASIC\n",
    "* C, C++\n",
    "* Pascal\n",
    "\n",
    "#### Interpreted languages\n",
    "\n",
    "<img align=\"left\" src=\"pics/interpreted.png\"/>\n",
    "<br style=\"clear:left;\"/>\n",
    "\n",
    "* Javascript\n",
    "* PHP\n",
    "\n",
    "#### Python\n",
    "\n",
    "Something from both worlds:\n",
    "\n",
    "<img align=\"left\" src=\"pics/precompiled.png\"/>\n",
    "<br style=\"clear:left;\"/>\n",
    "\n",
    "### Meet the designer: Guido van Rossum\n",
    "\n",
    "<img align=\"left\" height=\"600\" width=\"300\" src=\"pics/Guido_van_Rossum_OSCON_2006.jpg\"/>\n",
    "<br style=\"clear:left;\"/>\n",
    "\n",
    "### Origin of the name:\n",
    "\n",
    "<img align=\"left\" width=\"600\" height=\"400\" src=\"pics/HolyGrail034.jpg\"/>\n",
    "<br style=\"clear:left;\"/>\n",
    "\n",
    "---\n",
    "\n",
    "## Everyone's first lines\n",
    "\n",
    "I don't want to ruin the moment and do it for you, so follow the instructions below:\n",
    "\n",
    "- Hit [Enter] on the following cell\n",
    "- Position your cursor to the first empty line\n",
    "- Type the `print` word following with parenthesis (`()`) and type \"Hello World\" in quotation inside of the parenthesis.\n",
    "- Hit [Ctrl] + [Enter] to run your code"
   ]
  },
  {
   "cell_type": "code",
   "execution_count": null,
   "metadata": {},
   "outputs": [],
   "source": [
    "# Before we start: \n",
    "# This line is a comment. It is useful for others to understand your code,\n",
    "# so use it often. Every text after the # character is comment.\n"
   ]
  },
  {
   "cell_type": "markdown",
   "metadata": {},
   "source": [
    "__Let's do some math too!__\n",
    "\n",
    "Try out the following operators:\n",
    "- `+, -, *, /`\n",
    "- `%, **`"
   ]
  },
  {
   "cell_type": "code",
   "execution_count": null,
   "metadata": {},
   "outputs": [],
   "source": [
    "1 + 1"
   ]
  },
  {
   "cell_type": "markdown",
   "metadata": {},
   "source": [
    "Try out the followings logical operators:\n",
    "- `==, >, >=, <=, <`\n",
    "- `not, and, or`  \n",
    "\n",
    "and logical values:\n",
    "- `True, False`"
   ]
  },
  {
   "cell_type": "code",
   "execution_count": null,
   "metadata": {},
   "outputs": [],
   "source": [
    "True or False"
   ]
  },
  {
   "cell_type": "markdown",
   "metadata": {},
   "source": [
    "## Variables\n",
    "\n",
    "What if we want to store some values? We use the assignment (`=`) operator!\n",
    "\n",
    "- __`a`__ is a number"
   ]
  },
  {
   "cell_type": "code",
   "execution_count": null,
   "metadata": {},
   "outputs": [],
   "source": [
    "a = 3\n",
    "print(a)\n",
    "print(type(a))"
   ]
  },
  {
   "cell_type": "markdown",
   "metadata": {},
   "source": [
    "- __`a`__ is a floating point number"
   ]
  },
  {
   "cell_type": "code",
   "execution_count": null,
   "metadata": {},
   "outputs": [],
   "source": [
    "a = 3.14\n",
    "print(a)\n",
    "print(type(a))"
   ]
  },
  {
   "cell_type": "markdown",
   "metadata": {},
   "source": [
    "- __`a`__ is a boolean value"
   ]
  },
  {
   "cell_type": "code",
   "execution_count": null,
   "metadata": {},
   "outputs": [],
   "source": [
    "a = True # False\n",
    "print(a)\n",
    "print(type(a))"
   ]
  },
  {
   "cell_type": "markdown",
   "metadata": {},
   "source": [
    "- __`a`__ is a character"
   ]
  },
  {
   "cell_type": "code",
   "execution_count": null,
   "metadata": {},
   "outputs": [],
   "source": [
    "a = 'a'\n",
    "print(a)\n",
    "print(type(a))"
   ]
  },
  {
   "cell_type": "markdown",
   "metadata": {},
   "source": [
    "- __`a`__ is a string"
   ]
  },
  {
   "cell_type": "code",
   "execution_count": null,
   "metadata": {},
   "outputs": [],
   "source": [
    "a = 'spam'\n",
    "print(a)\n",
    "# or\n",
    "a = \"spam and eggs\"\n",
    "print(a)\n",
    "# or\n",
    "a = '''spam'\n",
    "spam\n",
    "sausage'''\n",
    "print(a)\n",
    "# or\n",
    "a = \"\"\"spam\n",
    "spam\n",
    "eggs\n",
    "and spam\"\"\"\n",
    "print(a)\n",
    "print(type(a))"
   ]
  },
  {
   "cell_type": "markdown",
   "metadata": {},
   "source": [
    "__According to strings:__  \n",
    "There are some so called __`escape character`__s. They always starts with a __\\\\__ following by an another character, like:\n",
    "- `\\n`\n",
    "- `\\t`\n",
    "- `\\r`\n",
    "- `\\'`\n",
    "- `\\\"`\n",
    "\n",
    "Try them out!"
   ]
  },
  {
   "cell_type": "code",
   "execution_count": null,
   "metadata": {},
   "outputs": [],
   "source": [
    "a = 'sp\\nam'\n",
    "print(a)"
   ]
  },
  {
   "cell_type": "markdown",
   "metadata": {},
   "source": [
    "#### Naming conventions"
   ]
  },
  {
   "cell_type": "markdown",
   "metadata": {},
   "source": [
    "* starts with a letter\n",
    "* available characters:\n",
    "    * a-z\n",
    "    * A-Z\n",
    "    * 0-9\n",
    "    * _"
   ]
  },
  {
   "cell_type": "code",
   "execution_count": null,
   "metadata": {},
   "outputs": [],
   "source": [
    "spam_is_a_valid_variable_name = True"
   ]
  },
  {
   "cell_type": "code",
   "execution_count": null,
   "metadata": {},
   "outputs": [],
   "source": [
    "9spam_is_not = True"
   ]
  },
  {
   "cell_type": "markdown",
   "metadata": {},
   "source": [
    "## Let's try it out...\n",
    "\n",
    "...and make something (almost) useful!"
   ]
  },
  {
   "cell_type": "code",
   "execution_count": null,
   "metadata": {},
   "outputs": [],
   "source": [
    "your_name = ''                                # please specify your name\n",
    "print('Hello', your_name, '!')\n",
    "\n",
    "year_of_birth = XXXX                          # please specify your year of birth\n",
    "print('You are', 2017 - year_of_birth, 'years old.')"
   ]
  },
  {
   "cell_type": "markdown",
   "metadata": {},
   "source": [
    "## Let's do some...\n",
    "\n",
    "<img align=\"left\" width=150 src=\"pics/magic.gif\">\n",
    "<br style=\"clear:left;\"/>\n",
    "\n",
    "### Cool library: qrcode\n",
    "* Generate a QR code in two lines!"
   ]
  },
  {
   "cell_type": "code",
   "execution_count": null,
   "metadata": {},
   "outputs": [],
   "source": [
    "import qrcode\n",
    "qrcode.make('fulibacsi.github.io/notebooks')"
   ]
  },
  {
   "cell_type": "markdown",
   "metadata": {},
   "source": [
    "## Now it's your turn! Write the missing code snippets!\n",
    "\n",
    "**1. Print the \"your_name\" variable \"repeat\" times!**"
   ]
  },
  {
   "cell_type": "code",
   "execution_count": null,
   "metadata": {},
   "outputs": [],
   "source": [
    "your_name = ''\n",
    "repeat = random.randint(1, 5) # believe in this magic for now\n",
    "# hint: you can multiply strings too.\n",
    "\n",
    "# ---------------------------------------------------------------------\n",
    "print()                                                      # solution\n",
    "# ---------------------------------------------------------------------"
   ]
  },
  {
   "cell_type": "markdown",
   "metadata": {},
   "source": [
    "**2. Calculate the selling price to achieve the desired profit after tax!**"
   ]
  },
  {
   "cell_type": "code",
   "execution_count": null,
   "metadata": {},
   "outputs": [],
   "source": [
    "cost = random.randint(1000, 2000) # currency\n",
    "tax = random.randint(20, 50) / 100.0 # percent\n",
    "profit = random.randint(0, 100) / 100.0 # percent\n",
    "\n",
    "# ---------------------------------------------------------------------\n",
    "price =                                                     # solution\n",
    "# ---------------------------------------------------------------------\n",
    "\n",
    "print('If I bought the product for', cost,\n",
    "      'and I would like to achieve', profit * 100,\n",
    "      'percent profit and the tax I have to pay after my income is', tax * 100,\n",
    "      'percent, then I have to set the price to:', price, '.' "
   ]
  },
  {
   "cell_type": "markdown",
   "metadata": {},
   "source": [
    "**3. Now let the geek side of the force shine!**  \n",
    "\n",
    "<img align=\"left\" width=\"150\" src=\"pics/ww.png\" style=\"padding-right: 10px\"/>\n",
    "\n",
    "A warrior fights against an evil wizard lizard. He has a magical sword and a magical axe.   \n",
    "The evil wizard lizard cast a protective spell on himself, so he is resistant to one of the  \n",
    "damage types. The warrior has two weapons to choose from. Help him defeat the evil wizard lizard  \n",
    "by calculating the damage values of his weapons!"
   ]
  },
  {
   "cell_type": "markdown",
   "metadata": {},
   "source": [
    "He has:\n",
    "- a sword"
   ]
  },
  {
   "cell_type": "code",
   "execution_count": null,
   "metadata": {},
   "outputs": [],
   "source": [
    "sword_damage = random.randint(5, 10)\n",
    "sword_damage_type = random.choice(['fire', 'ice', 'lightning', \n",
    "                                   'arcane', 'poison'])\n",
    "print('This sword will inflict', \n",
    "      sword_damage, \n",
    "      sword_damage_type, \n",
    "      'type damage.')"
   ]
  },
  {
   "cell_type": "markdown",
   "metadata": {},
   "source": [
    "- an axe"
   ]
  },
  {
   "cell_type": "code",
   "execution_count": null,
   "metadata": {},
   "outputs": [],
   "source": [
    "axe_damage = random.randint(5, 10)\n",
    "axe_damage_type = random.choice(['fire', 'ice', 'lightning',\n",
    "                                 'arcane', 'poison'])\n",
    "print('This axe will inflict', \n",
    "      sword_damage, \n",
    "      sword_damage_type, \n",
    "      'type damage.')"
   ]
  },
  {
   "cell_type": "markdown",
   "metadata": {},
   "source": [
    "The evil wizard lizard is resistant to one element:"
   ]
  },
  {
   "cell_type": "code",
   "execution_count": null,
   "metadata": {},
   "outputs": [],
   "source": [
    "evil_wizard_lizard_resist_type = random.choice(['fire', 'ice', 'lightning', \n",
    "                                                'arcane', 'poison'])\n",
    "evil_wizard_lizard_damage_reduction = random.randint(0, 75) / 100.0\n",
    "print('The evil lizard will receive', \n",
    "      evil_wizard_lizard_damage_reduction * 100,\n",
    "      '% less damage if hit with a',\n",
    "      evil_wizard_lizard_resist_type, 'type weapon.')"
   ]
  },
  {
   "cell_type": "markdown",
   "metadata": {},
   "source": [
    "Which weapon should the warrior choose?"
   ]
  },
  {
   "cell_type": "code",
   "execution_count": null,
   "metadata": {},
   "outputs": [],
   "source": [
    "# ---------------------------------------------------------------------\n",
    "sword_actual_damage =                   # compute sword and axe damage  \n",
    "axe_actual_damage =                     # hint: True is 1, False is 0\n",
    "# should the warrior choose the sword?\n",
    "answer =                                # solution should be boolean\n",
    "# ---------------------------------------------------------------------\n",
    "\n",
    "print('The warrior should use the sword!'\n",
    "      answer,\n",
    "      'because sword does', sword_actual_damage,\n",
    "      'damage and axe does', axe_actual_damage,\n",
    "      'damage to the evil wizard lizard.')"
   ]
  },
  {
   "cell_type": "markdown",
   "metadata": {},
   "source": [
    "**4. Aaaaare we there yet?**  \n",
    "Ever wonder how much time do you need to get home?  \n",
    "Let's calculate the trip time! It is possible to hit a traffic jam, so add that to the trip time too."
   ]
  },
  {
   "cell_type": "code",
   "execution_count": null,
   "metadata": {},
   "outputs": [],
   "source": [
    "distance = random.randint(30, 230) * 1.0\n",
    "average_speed = random.randint(30, 90)\n",
    "# if I hit the traffic jam, my trip takes `traffic_jam_penalty`\n",
    "# minutes more then without it.\n",
    "traffic_jam = random.randint(0, 1)\n",
    "traffic_jam_penalty = random.randint(30, 60)\n",
    "\n",
    "# ---------------------------------------------------------------------\n",
    "trip_time =      # compute in mins\n",
    "hours =          # hint: use the int(value) function to get an integer number\n",
    "minutes = \n",
    "seconds = \n",
    "# ---------------------------------------------------------------------\n",
    "\n",
    "print('I need', trip_time, 'minutes',\n",
    "      'or', hours, 'hours,', \n",
    "      minutes, 'minutes,',\n",
    "      seconds, 'seconds to get home',\n",
    "      'if I live', distance, 'kms away',\n",
    "      'and I usually drive at', average_speed, 'km/hs.'\n",
    "      'I have to wait', traffic_jam_penalty * traffic_jam,\n",
    "      'minutes because of a traffic jam.'), "
   ]
  },
  {
   "cell_type": "markdown",
   "metadata": {},
   "source": [
    "**Variant from real life:**  \n",
    "An average hungarian coach travels at 60 km/h on average. (Self collected empiric data.)  \n",
    "Calculate the travel time!"
   ]
  },
  {
   "cell_type": "code",
   "execution_count": null,
   "metadata": {},
   "outputs": [],
   "source": [
    "hungarian_coach_average_speed = 60\n",
    "distance_till_home = random.randint(30, 300)\n",
    "\n",
    "# ---------------------------------------------------------------------\n",
    "minutes_left =\n",
    "# ---------------------------------------------------------------------\n",
    "\n",
    "print('I only have to survive', \n",
    "      minutes_left, 'minutes, and I\\'m home!')"
   ]
  },
  {
   "cell_type": "markdown",
   "metadata": {},
   "source": [
    "**5. Rock-paper-scissors.**  \n",
    "Generate a logical expression which generates the game's outcome."
   ]
  },
  {
   "cell_type": "code",
   "execution_count": null,
   "metadata": {},
   "outputs": [],
   "source": [
    "your_choice = 'r' # 'r', 'p' or 's'\n",
    "comp_choice = random.choice('rps')\n",
    "\n",
    "# ---------------------------------------------------------------------\n",
    "winner =                                 # compute if player's winning\n",
    "# ---------------------------------------------------------------------\n",
    "\n",
    "print('Are you a winner?', winner)"
   ]
  },
  {
   "cell_type": "markdown",
   "metadata": {},
   "source": [
    "**6. Calculate the good-old (and boring) quadratic equation!**  \n",
    "For those who forgot:  \n",
    "$$x_{1,2}=\\dfrac{-b \\pm \\sqrt{b^2 - 4ac}}{2a}$$"
   ]
  },
  {
   "cell_type": "code",
   "execution_count": null,
   "metadata": {},
   "outputs": [],
   "source": [
    "a = random.randint(1, 10)\n",
    "b = random.randint(1, 10)\n",
    "c = random.randint(1, 10)\n",
    "\n",
    "# ---------------------------------------------------------------------\n",
    "x_1 = \n",
    "x_2 = \n",
    "# ---------------------------------------------------------------------\n",
    "\n",
    "print('The solutions to the', \n",
    "      str(a) + 'x^2 + ' + str(b) + 'x + ' + str(c) + ' = 0',\n",
    "      'is:', x_1, 'and', x_2)"
   ]
  },
  {
   "cell_type": "markdown",
   "metadata": {},
   "source": [
    "---\n",
    "\n",
    "## I/O\n",
    "\n",
    "Let's have some user input:"
   ]
  },
  {
   "cell_type": "code",
   "execution_count": null,
   "metadata": {},
   "outputs": [],
   "source": [
    "prompt = 'What is your name? '\n",
    "answer = input(prompt)\n",
    "print('Your name is', answer,'.')"
   ]
  },
  {
   "cell_type": "code",
   "execution_count": null,
   "metadata": {},
   "outputs": [],
   "source": [
    "prompt = 'What is the air-speed velocity of an unladen swallow? '\n",
    "answer = input(prompt)\n",
    "print(answer, type(answer))"
   ]
  },
  {
   "cell_type": "code",
   "execution_count": null,
   "metadata": {},
   "outputs": [],
   "source": [
    "print(int(answer), type(int(answer)))"
   ]
  },
  {
   "cell_type": "code",
   "execution_count": null,
   "metadata": {},
   "outputs": [],
   "source": [
    "print(float(answer), type(float(answer)))"
   ]
  },
  {
   "cell_type": "code",
   "execution_count": null,
   "metadata": {},
   "outputs": [],
   "source": [
    "print(bool(answer), type(bool(answer)))"
   ]
  },
  {
   "cell_type": "markdown",
   "metadata": {},
   "source": [
    "---\n",
    "\n",
    "### About strings"
   ]
  },
  {
   "cell_type": "code",
   "execution_count": null,
   "metadata": {},
   "outputs": [],
   "source": [
    "# String formatting:\n",
    "first_meal = 'orangutans'\n",
    "second_meal = 'breakfast cereals'\n",
    "third_meal = 'fruit bats'\n",
    "\n",
    "print('And Saint Atila raised the hand grenade up on high, saying,\\n'\n",
    "      + '\\'Oh, Lord, bless this thy hand '\n",
    "      + 'grenade that with it thou mayest blow')\n",
    "    \n",
    "print('thy enemies to tiny bits, in thy mercy.\\' '\n",
    "      'And the Lord did grin, and\\n'\n",
    "      'people did feast upon the lambs, '\n",
    "      'and sloths, and carp, and anchovies,\\n'\n",
    "      'and {0}, and {1}, and {2}, and large --').format(first_meal, second_meal, third_meal)"
   ]
  },
  {
   "cell_type": "markdown",
   "metadata": {},
   "source": [
    "### Slicing"
   ]
  },
  {
   "cell_type": "code",
   "execution_count": null,
   "metadata": {},
   "outputs": [],
   "source": [
    "example_string = 'Monty Python'\n",
    "lolviz(example_string)"
   ]
  },
  {
   "cell_type": "code",
   "execution_count": null,
   "metadata": {},
   "outputs": [],
   "source": [
    "print(example_string[0])"
   ]
  },
  {
   "cell_type": "code",
   "execution_count": null,
   "metadata": {},
   "outputs": [],
   "source": [
    "print(example_string[-1])"
   ]
  },
  {
   "cell_type": "code",
   "execution_count": null,
   "metadata": {},
   "outputs": [],
   "source": [
    "print(example_string[6:10])\n",
    "lolviz(example_string[6:10])"
   ]
  },
  {
   "cell_type": "code",
   "execution_count": null,
   "metadata": {},
   "outputs": [],
   "source": [
    "print(example_string[-12:-7])\n",
    "lolviz(example_string[-12:-7])"
   ]
  },
  {
   "cell_type": "code",
   "execution_count": null,
   "metadata": {},
   "outputs": [],
   "source": [
    "print(example_string[-7:-12:-1])\n",
    "lolviz(example_string[-7:-12:-1])"
   ]
  },
  {
   "cell_type": "code",
   "execution_count": null,
   "metadata": {},
   "outputs": [],
   "source": [
    "print(example_string[::-1])\n",
    "lolviz(example_string[::-1])"
   ]
  },
  {
   "cell_type": "code",
   "execution_count": null,
   "metadata": {},
   "outputs": [],
   "source": [
    "start = 1\n",
    "end = 2\n",
    "step = 1\n",
    "print(example_string[start:end:step])\n",
    "lolviz(example_string[start:end:step])"
   ]
  },
  {
   "cell_type": "code",
   "execution_count": null,
   "metadata": {},
   "outputs": [],
   "source": [
    "lolviz(range(10,-1,-1)[8:3:-1])"
   ]
  },
  {
   "cell_type": "code",
   "execution_count": null,
   "metadata": {},
   "outputs": [],
   "source": [
    "print(len(example_string))"
   ]
  },
  {
   "cell_type": "code",
   "execution_count": null,
   "metadata": {},
   "outputs": [],
   "source": [
    "print('y' in example_string)"
   ]
  },
  {
   "cell_type": "markdown",
   "metadata": {},
   "source": [
    "### Excercise: Decrypt the encrypted text\n",
    "\n",
    "An encryption is applied to a text. Find out a way to decrypt it using only the slicing method."
   ]
  },
  {
   "cell_type": "code",
   "execution_count": null,
   "metadata": {},
   "outputs": [],
   "source": [
    "text = 'titkositott szoveg'\n",
    "encrypted = encrypt(text, strength=4, level=1)\n",
    "print(encrypted)"
   ]
  },
  {
   "cell_type": "code",
   "execution_count": null,
   "metadata": {},
   "outputs": [],
   "source": [
    "print(encrypted) # use a slicing method here"
   ]
  },
  {
   "cell_type": "markdown",
   "metadata": {},
   "source": [
    "---\n",
    "\n",
    "## Conditional operators"
   ]
  },
  {
   "cell_type": "code",
   "execution_count": null,
   "metadata": {},
   "outputs": [],
   "source": [
    "expression_1 = True\n",
    "expression_2 = False\n",
    "operator = OR # try to change it to AND\n",
    "\n",
    "# expression = expression_1 [operator] [expression_2]\n",
    "expression = operator(expression_1, expression_2)\n",
    "\n",
    "condition_1 = expression\n",
    "condition_2 = not expression\n",
    "\n",
    "statement = 'Statement {0}'\n",
    "\n",
    "if condition_1:\n",
    "    print(statement.format('1'))\n",
    "elif condition_2:\n",
    "    print(statement.format('2'))\n",
    "else:\n",
    "    print(statement.format('impossible'))"
   ]
  },
  {
   "cell_type": "markdown",
   "metadata": {},
   "source": [
    "### Exercise: Would you like to continue?\n",
    "\n",
    "Ask the user if he/she would like to continue. If the user types `'yes'`, `'YES'`, `'y'` or `'Y'` print `continue`,  \n",
    "else set the `go` variable to `False` and and print `bye`."
   ]
  },
  {
   "cell_type": "code",
   "execution_count": null,
   "metadata": {},
   "outputs": [],
   "source": [
    "go = True\n",
    "while go:\n",
    "    user_input = raw_input()\n",
    "    # insert the described if structure here\n",
    "    \n",
    "    \n",
    "    \n",
    "    "
   ]
  },
  {
   "cell_type": "markdown",
   "metadata": {},
   "source": [
    "---\n",
    "\n",
    "## Complex data structures\n",
    "\n",
    "### List\n",
    "\n",
    "Lists are what you think: they store multiple kinds of data.  \n",
    "Typically lists are used to store multiple things of the same type, e.g. a list of applicants, a list of recipes, etc."
   ]
  },
  {
   "cell_type": "code",
   "execution_count": null,
   "metadata": {
    "scrolled": false
   },
   "outputs": [],
   "source": [
    "pi = 3.14\n",
    "my_list = [1, 2, 'spam', ['eggs', 'ham'], 'spam', pi]\n",
    "# lists are ordered, and you can access an item using []\n",
    "my_list[1] = 4\n",
    "print(my_list)\n",
    "lolviz(my_list)"
   ]
  },
  {
   "cell_type": "markdown",
   "metadata": {},
   "source": [
    "You can add or remove elements from a list too with `append` and `remove`."
   ]
  },
  {
   "cell_type": "code",
   "execution_count": null,
   "metadata": {},
   "outputs": [],
   "source": [
    "my_list.append('new item')\n",
    "print(my_list)\n",
    "my_list.remove('spam')\n",
    "lolviz(my_list)"
   ]
  },
  {
   "cell_type": "markdown",
   "metadata": {},
   "source": [
    "#### Exercise: access the 'ham' element!"
   ]
  },
  {
   "cell_type": "code",
   "execution_count": null,
   "metadata": {},
   "outputs": [],
   "source": []
  },
  {
   "cell_type": "markdown",
   "metadata": {},
   "source": [
    "#### Exercise: add `['python', '101']` to the end of `my_list`!"
   ]
  },
  {
   "cell_type": "code",
   "execution_count": null,
   "metadata": {},
   "outputs": [],
   "source": []
  },
  {
   "cell_type": "markdown",
   "metadata": {},
   "source": [
    "### Tuple\n",
    "Tuples are similar to lists but their contents are fixed.  \n",
    "Typically tuples are used to store different kind of data, like (page, line) locations in a document."
   ]
  },
  {
   "cell_type": "code",
   "execution_count": null,
   "metadata": {},
   "outputs": [],
   "source": [
    "my_tuple = ('spam', 'eggs', 'bacon')\n",
    "print(my_tuple)\n",
    "lolviz(my_tuple)"
   ]
  },
  {
   "cell_type": "code",
   "execution_count": null,
   "metadata": {},
   "outputs": [],
   "source": [
    "my_tuple[1] = 4"
   ]
  },
  {
   "cell_type": "markdown",
   "metadata": {},
   "source": [
    "### Set\n",
    "Sets work similarly to mathematical sets. Their elements are unordered and unique."
   ]
  },
  {
   "cell_type": "code",
   "execution_count": null,
   "metadata": {},
   "outputs": [],
   "source": [
    "set('arthurarthur')"
   ]
  },
  {
   "cell_type": "code",
   "execution_count": null,
   "metadata": {},
   "outputs": [],
   "source": [
    "A = set(['a', 'b', 'c'])\n",
    "B = set(['c', 'c', 'd', 'e'])\n",
    "print(A)\n",
    "print(B)"
   ]
  },
  {
   "cell_type": "code",
   "execution_count": null,
   "metadata": {},
   "outputs": [],
   "source": [
    "B[2]"
   ]
  },
  {
   "cell_type": "markdown",
   "metadata": {},
   "source": [
    "#### Exercise: explore the mathematical set operations!"
   ]
  },
  {
   "cell_type": "code",
   "execution_count": null,
   "metadata": {},
   "outputs": [],
   "source": []
  },
  {
   "cell_type": "markdown",
   "metadata": {},
   "source": [
    "### Dictionary\n",
    "Dictionaries are - as their name suggests - key-value pairs.  \n",
    "Typical use of dictionaries is storing information of people in an organization."
   ]
  },
  {
   "cell_type": "code",
   "execution_count": null,
   "metadata": {},
   "outputs": [],
   "source": [
    "my_dict = {'key1': 'spam', 2: 2, 'key3': ['s', 'p', 'a', 'm', 3]}\n",
    "print(my_dict)\n",
    "lolviz(my_dict)"
   ]
  },
  {
   "cell_type": "markdown",
   "metadata": {},
   "source": [
    "Keys must be unmutable or string."
   ]
  },
  {
   "cell_type": "code",
   "execution_count": null,
   "metadata": {},
   "outputs": [],
   "source": [
    "my_dict2 = {[1, 2, 3]: 'a list'}"
   ]
  },
  {
   "cell_type": "code",
   "execution_count": null,
   "metadata": {},
   "outputs": [],
   "source": [
    "person1 = {'name': 'Andras Fulop'}\n",
    "person2 = {'name': 'Daniel Zrinyi'}\n",
    "# so you can access information in a neat way:\n",
    "print(person1['name'])\n",
    "# we can add new key-value pairs like this:\n",
    "person1['role'] = 'teacher'"
   ]
  },
  {
   "cell_type": "markdown",
   "metadata": {},
   "source": [
    "#### Exercise: add the role 'director' to person2!"
   ]
  },
  {
   "cell_type": "code",
   "execution_count": null,
   "metadata": {},
   "outputs": [],
   "source": []
  },
  {
   "cell_type": "markdown",
   "metadata": {},
   "source": [
    "#### Exercise: add the list of active years to each person!\n",
    "(hint: Fuli is our teacher since 2013, and ZD is our director since 2016)"
   ]
  },
  {
   "cell_type": "code",
   "execution_count": null,
   "metadata": {},
   "outputs": [],
   "source": []
  },
  {
   "cell_type": "markdown",
   "metadata": {},
   "source": [
    "You can check what keys or values does a dict have"
   ]
  },
  {
   "cell_type": "code",
   "execution_count": null,
   "metadata": {},
   "outputs": [],
   "source": [
    "print('keys:', person1.keys())\n",
    "print('values:', person2.values())"
   ]
  },
  {
   "cell_type": "markdown",
   "metadata": {},
   "source": [
    "#### Exercise: what do you think will happen and why?"
   ]
  },
  {
   "cell_type": "code",
   "execution_count": null,
   "metadata": {},
   "outputs": [],
   "source": [
    "a = 2\n",
    "dict1 = {a: 6}\n",
    "a = 6\n",
    "print(dict1[a])"
   ]
  },
  {
   "cell_type": "markdown",
   "metadata": {},
   "source": [
    "---\n",
    "\n",
    "## Let's do some...\n",
    "\n",
    "<img align=\"left\" width=150 src=\"pics/magic.gif\">\n",
    "<br style=\"clear:left;\"/>\n",
    "\n",
    "### Cool library: youtube_dl\n",
    "* Download a youtube video in four lines!"
   ]
  },
  {
   "cell_type": "code",
   "execution_count": null,
   "metadata": {},
   "outputs": [],
   "source": [
    "import youtube_dl\n",
    "\n",
    "with youtube_dl.YoutubeDL({}) as ydl:\n",
    "    ydl.download([u'https://www.youtube.com/watch?v=dQw4w9WgXcQ'])"
   ]
  },
  {
   "cell_type": "markdown",
   "metadata": {},
   "source": [
    "## Now it's your turn! Write the missing code snippets!\n",
    "\n",
    "__1. Write a grocery list with at least 5 items!__"
   ]
  },
  {
   "cell_type": "code",
   "execution_count": null,
   "metadata": {},
   "outputs": [],
   "source": [
    "# --------------------------------------------\n",
    "grocery_list = \n",
    "# --------------------------------------------\n",
    "lolviz(grocery_list)"
   ]
  },
  {
   "cell_type": "markdown",
   "metadata": {},
   "source": [
    "**2. Update the grocery list with quantities!**  \n",
    "So you will know that you need to buy three dozen eggs instead of three pieces."
   ]
  },
  {
   "cell_type": "code",
   "execution_count": null,
   "metadata": {},
   "outputs": [],
   "source": [
    "# --------------------------------------------\n",
    "updated_grocery_list = \n",
    "# --------------------------------------------\n",
    "lolviz(updated_grocery_list)"
   ]
  },
  {
   "cell_type": "markdown",
   "metadata": {
    "collapsed": true
   },
   "source": [
    "**3. Create a unique list from a not unique list!**"
   ]
  },
  {
   "cell_type": "code",
   "execution_count": null,
   "metadata": {},
   "outputs": [],
   "source": [
    "# --------------------------------------------\n",
    "not_unique_list = [chr(random.randint(65, 90)) for _ in range(26)]\n",
    "# --------------------------------------------\n",
    "unique_list = []"
   ]
  },
  {
   "cell_type": "markdown",
   "metadata": {},
   "source": [
    "** 4. Write a condition to check if a number is positive, negative or zero.**"
   ]
  },
  {
   "cell_type": "code",
   "execution_count": null,
   "metadata": {},
   "outputs": [],
   "source": [
    "number = random.randint(-1, 1)\n",
    "# --------------------------------------------\n",
    "\n",
    "# --------------------------------------------"
   ]
  },
  {
   "cell_type": "markdown",
   "metadata": {},
   "source": [
    "**6. Write a condition to check if a number is:**\n",
    "\n",
    "- positive and if it is:\n",
    "    - odd\n",
    "    - even\n",
    "- negative and if it is:\n",
    "    - divisible with 3\n",
    "    - divisible with 2\n",
    "    - divisible with 6\n",
    "- zero"
   ]
  },
  {
   "cell_type": "code",
   "execution_count": null,
   "metadata": {},
   "outputs": [],
   "source": [
    "number = random.randint(-1, 1) * random.randint(1, 100)\n",
    "# --------------------------------------------\n",
    "\n",
    "# --------------------------------------------"
   ]
  },
  {
   "cell_type": "markdown",
   "metadata": {},
   "source": [
    "**7. Kinga's problem:**  \n",
    "Kinga has good recipes, but she hates making shopping lists. Help her!\n",
    "\n",
    "- Create the cookbook with receipt name and ingredients\n",
    "- Ohh, you forgot amounts and measurents?! Add them!\n",
    "- Now ask Kinga, to write her weekly dinner plan! (I/O)\n",
    "- Create a weekly shopping list to Kinga (pro version: with amounts)\n",
    "- Kinga has a starting lactose intolerance. Warn her, if there is milk in her shopping list!"
   ]
  },
  {
   "cell_type": "code",
   "execution_count": null,
   "metadata": {},
   "outputs": [],
   "source": [
    "# --------------------------------------------\n",
    "cookbook =\n",
    "# --------------------------------------------"
   ]
  },
  {
   "cell_type": "markdown",
   "metadata": {},
   "source": [
    "---\n",
    "\n",
    "## Control structures\n",
    "\n",
    "### For loop\n",
    "\n",
    "- iterate on numbers"
   ]
  },
  {
   "cell_type": "code",
   "execution_count": null,
   "metadata": {},
   "outputs": [],
   "source": [
    "start = 1\n",
    "end = 11\n",
    "step = 1\n",
    "for number in range(start, end, step):\n",
    "    print(number)"
   ]
  },
  {
   "cell_type": "markdown",
   "metadata": {},
   "source": [
    "- iterate on values"
   ]
  },
  {
   "cell_type": "code",
   "execution_count": null,
   "metadata": {},
   "outputs": [],
   "source": [
    "my_list_of_things = ['a', 'b', 'c', 'd', \n",
    "                     1, 2, 3, 4, \n",
    "                     'foo', 'bar', 'baz', 'qux']\n",
    "for item in my_list_of_things:\n",
    "    print(item)"
   ]
  },
  {
   "cell_type": "code",
   "execution_count": null,
   "metadata": {},
   "outputs": [],
   "source": [
    "for char in 'the holy grail':\n",
    "    if char == ' ':\n",
    "        print('space', end='')\n",
    "    else:\n",
    "        print(char, end='')"
   ]
  },
  {
   "cell_type": "markdown",
   "metadata": {},
   "source": [
    "### While loop"
   ]
  },
  {
   "cell_type": "code",
   "execution_count": null,
   "metadata": {},
   "outputs": [],
   "source": [
    "condition = True\n",
    "counter = 1\n",
    "while(condition):\n",
    "    print(counter)\n",
    "    counter += 1\n",
    "    if counter > 10:\n",
    "        condition = False"
   ]
  },
  {
   "cell_type": "code",
   "execution_count": null,
   "metadata": {},
   "outputs": [],
   "source": [
    "i = 0\n",
    "string = 'the holy grail'\n",
    "while not string[i] == ' ':\n",
    "    print(string[i]),\n",
    "    i += 1"
   ]
  },
  {
   "cell_type": "markdown",
   "metadata": {},
   "source": [
    "### Excersise: Prisoner's dilemma\n",
    "\n",
    "Two members of a criminal-gang are arrested and imprisoned. Each prisoner is in solitary confinement with no means of communicating with the other. The prosecutors lack sufficient evidence to convinct the pair on the principal charge. They hope to get both sentenced to a year in prison on a lesser charge. Simultaneously, the prosecutors offer each prisoner a bargain. Each prisoner is given the oppurtunity either to: betray the other by testifying that the other committed the crime, or to cooperate with the other by remaining silent. The offer is:  \n",
    "\n",
    "- If A and B each betray the other, each of them serves 6 years in prison\n",
    "- If A betrays B but B remains silent, A will be set free and B will serve 10 years in prison (and vice versa)\n",
    "- If A and B both remain silent, both of them will only serve 6 months in prison (on the lesser charge)\n",
    "\n",
    "We describe the problem as a list of dictionaries containing the different decisions and thir outcomes. The `user_choice` variable represents the A prisoner's decision, the `AI_choice` is the B's. Print the correct outcome by iterating over the `decisions` list, and examining the decision. If the decision matches with the user and AI choices, print the outcome."
   ]
  },
  {
   "cell_type": "code",
   "execution_count": null,
   "metadata": {},
   "outputs": [],
   "source": [
    "decisions = [{'player1': False, 'player2': False, 'p1score': -0.5, 'p2score': -0.5},\n",
    "             {'player1': True, 'player2': False, 'p1score': 0, 'p2score': -10},\n",
    "             {'player1': False, 'player2': True, 'p1score': -10, 'p2score': 0},\n",
    "             {'player1': True, 'player2': True, 'p1score': -6, 'p2score': -6}]\n",
    "# ----------------------------------------------------------------------------\n",
    "user_choice = ??? # set either True or False \n",
    "# ----------------------------------------------------------------------------\n",
    "\n",
    "AI_choice = random.choice([True, False])"
   ]
  },
  {
   "cell_type": "markdown",
   "metadata": {},
   "source": [
    "**Iterate over the decision list and print the outcome in the matching case!**"
   ]
  },
  {
   "cell_type": "code",
   "execution_count": null,
   "metadata": {},
   "outputs": [],
   "source": [
    "# ----------------------------------------------------------------------------\n",
    "\n",
    "# ----------------------------------------------------------------------------"
   ]
  },
  {
   "cell_type": "markdown",
   "metadata": {},
   "source": [
    "---\n",
    "\n",
    "## List comprehension"
   ]
  },
  {
   "cell_type": "code",
   "execution_count": null,
   "metadata": {},
   "outputs": [],
   "source": [
    "sequence = [1, 2, 3, 4]\n",
    "print([item for item in sequence])\n",
    "print([item * 2 for item in sequence])"
   ]
  },
  {
   "cell_type": "code",
   "execution_count": null,
   "metadata": {},
   "outputs": [],
   "source": [
    "sequence = ['a', 'b', 'c']\n",
    "separator = ''\n",
    "print(separator.join([item for item in sequence]))\n",
    "separator = ', '\n",
    "print(separator.join([item for item in sequence]))"
   ]
  },
  {
   "cell_type": "markdown",
   "metadata": {},
   "source": [
    "---\n",
    "\n",
    "## Functions\n",
    "\n",
    "** How to define a function? **"
   ]
  },
  {
   "cell_type": "code",
   "execution_count": null,
   "metadata": {},
   "outputs": [],
   "source": [
    "def my_function(): # function header\n",
    "    print('Hello World!') # function body"
   ]
  },
  {
   "cell_type": "markdown",
   "metadata": {},
   "source": [
    "** How to \"call\" a function? ** "
   ]
  },
  {
   "cell_type": "code",
   "execution_count": null,
   "metadata": {},
   "outputs": [],
   "source": [
    "my_function()"
   ]
  },
  {
   "cell_type": "markdown",
   "metadata": {},
   "source": [
    "**Function arguments**\n",
    "\n",
    "The variables in the brackets are called arguments. You can use them as variables inside the function but you have to provide them when you call the function."
   ]
  },
  {
   "cell_type": "code",
   "execution_count": null,
   "metadata": {},
   "outputs": [],
   "source": [
    "def my_updated_function(name): \n",
    "    print('Hello', name, '!')"
   ]
  },
  {
   "cell_type": "code",
   "execution_count": null,
   "metadata": {},
   "outputs": [],
   "source": [
    "# ---------------------------------------------------------------------------- \n",
    "name = ''                                      # enter your name\n",
    "# ----------------------------------------------------------------------------\n",
    "my_updated_function(name)"
   ]
  },
  {
   "cell_type": "markdown",
   "metadata": {},
   "source": [
    "**Docstrings and return values**\n",
    "\n",
    "- Docstrings are used to document the function's behaviour\n",
    "- Return values are the values that are returned to the caller - you can use the returned value(s) where you called the function"
   ]
  },
  {
   "cell_type": "code",
   "execution_count": null,
   "metadata": {},
   "outputs": [],
   "source": [
    "def my_updated_updated_function(greeting, name):\n",
    "    \"\"\"This is my super descriptive docstring \n",
    "    for my super advanced function.\n",
    "    Arguments:\n",
    "        greeting: the greeting word.\n",
    "        name: the name of the greeted one.\"\"\"\n",
    "    return greeting + ' ' + name + '!'"
   ]
  },
  {
   "cell_type": "code",
   "execution_count": null,
   "metadata": {},
   "outputs": [],
   "source": [
    "greeting = 'Aye-aye'\n",
    "my_greeting = my_updated_updated_function(greeting, name)\n",
    "print(my_greeting)"
   ]
  },
  {
   "cell_type": "markdown",
   "metadata": {},
   "source": [
    "**Getting some help** == getting the docstring of a function\n",
    "- Using the built-in `help()` function\n",
    "- In Jupyter Notebook pressing [shift]-[tab] twice inside a functions' brackets"
   ]
  },
  {
   "cell_type": "code",
   "execution_count": null,
   "metadata": {},
   "outputs": [],
   "source": [
    "help(my_updated_updated_function)"
   ]
  },
  {
   "cell_type": "code",
   "execution_count": null,
   "metadata": {},
   "outputs": [],
   "source": [
    "print('My docstring:')\n",
    "print(my_updated_updated_function.__doc__)"
   ]
  },
  {
   "cell_type": "markdown",
   "metadata": {},
   "source": [
    "---\n",
    "\n",
    "## Let's do some...\n",
    "\n",
    "<img align=\"left\" width=150 src=\"pics/magic.gif\">\n",
    "<br style=\"clear:left;\"/>\n",
    "\n",
    "### Cool library: moviepy\n",
    "- Edit videos in a few lines\n",
    "\n",
    "Real life example:\n",
    "- Our friend recorded a video with his/her cell in portrait mode. Awful! Let's rotate that video!"
   ]
  },
  {
   "cell_type": "code",
   "execution_count": null,
   "metadata": {},
   "outputs": [],
   "source": [
    "from moviepy.editor import *\n",
    "\n",
    "clip = VideoFileClip('./Rick Astley - Never Gonna Give You Up-dQw4w9WgXcQ.mp4')\n",
    "clip = clip.fx(vfx.rotate, 90)\n",
    "ipython_display(clip, maxduration=clip.duration+1)"
   ]
  },
  {
   "cell_type": "markdown",
   "metadata": {},
   "source": [
    "---\n",
    "\n",
    "## Let's have some fun! a.k.a  \n",
    "## It's your turn - write the missing code snippets!\n",
    "\n",
    "Before we jump into action:\n",
    "\n",
    "---\n",
    "\n",
    "** DISCLAIMER **\n",
    "There are several functions defined in the `helpers.py` file. We loaded every function from it in the very first (ok, technically the second) cell so we can use those functions in the notebook. If in the following excersises you get a `hint` to use a function, it is usually defined there, and includes docstrings - don't forget to read what a function does before using it!\n",
    "** END OF DISCLAIMER **\n",
    "\n",
    "---\n",
    "\n",
    "#### 1. Now that we have everything we need, let's use it for a real life example: \n",
    "\n",
    "A `.csv` file called **`bookmark.csv`** contains links in two categories: \n",
    "\n",
    "- learn\n",
    "- fun\n",
    "\n",
    "Open every link from one of the categories in your browser by reading the file contents, iterating over the rows, and examining if the type of link matches with the selected category. Open the link using the `webbrowser.open_new_tab(url)` function.\n",
    "\n",
    "##### a) Import data from the `bookmark.csv` into `url_data` variable!\n",
    "**Hints:**\n",
    "- use the `import_from_csv` function\n",
    "- addition works with strings (make use of the `base` variable)"
   ]
  },
  {
   "cell_type": "code",
   "execution_count": null,
   "metadata": {},
   "outputs": [],
   "source": [
    "base = './data/'\n",
    "# ----------------------------------------------------------------------------\n",
    "url_data =                                      # write a function call here\n",
    "# ----------------------------------------------------------------------------\n",
    "print(url_data)"
   ]
  },
  {
   "cell_type": "code",
   "execution_count": null,
   "metadata": {},
   "outputs": [],
   "source": [
    "reason = random.choice(['learn', 'fun'])"
   ]
  },
  {
   "cell_type": "markdown",
   "metadata": {},
   "source": [
    "##### b) Write a function which will open every link of the given type (learn/fun)!\n",
    "\n",
    "*Name*: opentabs  \n",
    "*Arguments*: reason, url_data  \n",
    "\n",
    "**Hints:**\n",
    "- you can use the `webbrowser.open_new_tab()` function\n",
    "- basic steps:\n",
    "    - define\n",
    "    - iterate\n",
    "    - check type\n",
    "    - open link"
   ]
  },
  {
   "cell_type": "code",
   "execution_count": null,
   "metadata": {},
   "outputs": [],
   "source": [
    "def opentabs(reason, url_data):\n",
    "    # write your code here"
   ]
  },
  {
   "cell_type": "code",
   "execution_count": null,
   "metadata": {},
   "outputs": [],
   "source": [
    "opentabs(reason, url_data)"
   ]
  },
  {
   "cell_type": "markdown",
   "metadata": {},
   "source": [
    "#### 2. We want to know if a file is in the current directory. Write a function which will tell you so.\n",
    "**Hint:** use the `list_files()` function to get the files from the working directory."
   ]
  },
  {
   "cell_type": "code",
   "execution_count": null,
   "metadata": {},
   "outputs": [],
   "source": [
    "def isin(filename):\n",
    "    # --------------------------------------------------------------\n",
    "                                        # return the boolean result\n",
    "    # --------------------------------------------------------------"
   ]
  },
  {
   "cell_type": "code",
   "execution_count": null,
   "metadata": {},
   "outputs": [],
   "source": [
    "print(isin('helpers.py'))\n",
    "print(isin('awesome.txt'))"
   ]
  },
  {
   "cell_type": "markdown",
   "metadata": {},
   "source": [
    "#### 3. Our friend recommends us a new series.  \n",
    "We downloaded the full series (7 seasons) and we believe that we downloaded all of the subtitles as well - although we're not that sure. Check if we miss some!\n",
    "\n",
    "##### a) \"Download\" the series with the function called `download`.  \n",
    "**Hint:** use the `help` function!"
   ]
  },
  {
   "cell_type": "code",
   "execution_count": null,
   "metadata": {},
   "outputs": [],
   "source": [
    "# --------------------------------------------------------------\n",
    "                            # download function call goes here!\n",
    "# --------------------------------------------------------------"
   ]
  },
  {
   "cell_type": "markdown",
   "metadata": {},
   "source": [
    "##### b) Write a function which outputs those video filenames which are missing subtitles.  \n",
    "The video file's extension is `.avi`, the subtitle file's extension is `.srt`.   \n",
    "We only accept a subtitle if it's name is perfectly matches the video's name.  \n",
    "\n",
    "- Create a list of avis and a list of srts. \n",
    "- Iterate over the avis list\n",
    "- In the loop, check if the actual item is in the srts list"
   ]
  },
  {
   "cell_type": "code",
   "execution_count": null,
   "metadata": {},
   "outputs": [],
   "source": [
    "def missing_subtitle(directory):\n",
    "    # --------------------------------------------------------------\n",
    "                                      # list, iterate, check, print\n",
    "    # --------------------------------------------------------------"
   ]
  },
  {
   "cell_type": "code",
   "execution_count": null,
   "metadata": {},
   "outputs": [],
   "source": [
    "missing_subtitle('super_series')"
   ]
  },
  {
   "cell_type": "markdown",
   "metadata": {},
   "source": [
    "#### 5. Display every image from the current directory (use the `list_files()` function)!  \n",
    "Valid image file extensions are `.png`, `.jpg`, `.jpeg`."
   ]
  },
  {
   "cell_type": "code",
   "execution_count": null,
   "metadata": {},
   "outputs": [],
   "source": [
    "def images():\n",
    "    # --------------------------------------------------------------\n",
    "                                      # list, iterate, check, print\n",
    "    # --------------------------------------------------------------    "
   ]
  },
  {
   "cell_type": "code",
   "execution_count": null,
   "metadata": {},
   "outputs": [],
   "source": [
    "images()"
   ]
  },
  {
   "cell_type": "markdown",
   "metadata": {},
   "source": [
    "#### 6. Create a csv file with picture urls. Display every picture from the CSV.\n",
    "\n",
    "- Iterate over the image_links\n",
    "- Use the `print_image` function with _type='net' parameter"
   ]
  },
  {
   "cell_type": "code",
   "execution_count": null,
   "metadata": {},
   "outputs": [],
   "source": [
    "image_links = import_from_csv(base + 'pictures.csv')"
   ]
  },
  {
   "cell_type": "code",
   "execution_count": null,
   "metadata": {},
   "outputs": [],
   "source": [
    "# --------------------------------------------------------------\n",
    "                                        # iterate, check, print\n",
    "# --------------------------------------------------------------"
   ]
  },
  {
   "cell_type": "markdown",
   "metadata": {},
   "source": [
    "#### 7. Create a csv file with cursewords. Write a function which substitutes these words in an input text.\n",
    "\n",
    "- Split the text into words\n",
    "- Iterate over the words\n",
    "- Check if the current word is a curseword\n",
    "- Change the word to the `substitution` parameter\n",
    "\n",
    "**Hints:**\n",
    " - `string.split(splitchar)` splits the string\n",
    " - `string.lower()` will lower every char in the string\n",
    " - `string.strip(char_to_strip)`\n",
    " - `string.join(iterable)` will join the iterable elements together, the string will be the separator \n",
    " - commas will be part of the words"
   ]
  },
  {
   "cell_type": "code",
   "execution_count": null,
   "metadata": {},
   "outputs": [],
   "source": [
    "def clean(text, substitution='*#%=!'):\n",
    "    # --------------------------------------------------------------\n",
    "                                # split, iterate, check, substitute\n",
    "    # --------------------------------------------------------------"
   ]
  },
  {
   "cell_type": "code",
   "execution_count": null,
   "metadata": {},
   "outputs": [],
   "source": [
    "print(clean('A monkey and a donkey went to visit Boby .'))"
   ]
  },
  {
   "cell_type": "markdown",
   "metadata": {},
   "source": [
    "#### 8. Statistics!\n",
    "\n",
    "Let's say you flip a coin 50 times and it was heads 37 times. Would you say that it is a fair coin with 95% certainty?  \n",
    "At a regular statistics course you'd perform a t-test. But there is an easier way with python!  \n",
    "Simulate the 50 coin flipping 10000 times and see how many times were there 37 or more heads in the 50 flips."
   ]
  },
  {
   "cell_type": "code",
   "execution_count": null,
   "metadata": {},
   "outputs": [],
   "source": [
    "# write your code here"
   ]
  },
  {
   "cell_type": "code",
   "execution_count": null,
   "metadata": {},
   "outputs": [],
   "source": [
    "import random\n",
    "from helpers import *\n",
    "BASE = './data/'"
   ]
  },
  {
   "cell_type": "markdown",
   "metadata": {},
   "source": [
    "---\n",
    "\n",
    "## Exercises\n",
    "\n",
    "### 1. Basic stats\n",
    "\n",
    "Create a function which computes the mean, the minimum, and the maximum value for a list of numbers!"
   ]
  },
  {
   "cell_type": "code",
   "execution_count": null,
   "metadata": {},
   "outputs": [],
   "source": [
    "lon = [random.random() for _ in range(30)]\n",
    "# ---------------------------------------------\n",
    "\n",
    "# ---------------------------------------------\n",
    "\n",
    "stat(lon)"
   ]
  },
  {
   "cell_type": "markdown",
   "metadata": {
    "collapsed": true
   },
   "source": [
    "### 2. Running mean\n",
    "\n",
    "Write a function which computes the running mean (window size: 3) for a list of numbers!"
   ]
  },
  {
   "cell_type": "code",
   "execution_count": null,
   "metadata": {},
   "outputs": [],
   "source": [
    "# ---------------------------------------------\n",
    "\n",
    "# ---------------------------------------------\n",
    "\n",
    "running_mean(lon)"
   ]
  },
  {
   "cell_type": "markdown",
   "metadata": {},
   "source": [
    "### 3. Mismatching filenames\n",
    "\n",
    "You've downloaded a series complete with subtitles but the video and  \n",
    "subtitle filenames don't match! Write a function which renames the  \n",
    "mismatching subtitles!\n",
    "\n",
    "hint(s) - useful functions:\n",
    "\n",
    "- `download(_name, _season, _episodes, _mismatch)`\n",
    "- `string.lower()` (built-in)\n",
    "- `find_episode_number(filename)`\n",
    "- `rename_subtitle(original, new, target_dir)`"
   ]
  },
  {
   "cell_type": "code",
   "execution_count": null,
   "metadata": {},
   "outputs": [],
   "source": [
    "# ---------------------------------------------\n",
    "\n",
    "# ---------------------------------------------"
   ]
  },
  {
   "cell_type": "markdown",
   "metadata": {},
   "source": [
    "---\n",
    "\n",
    "## File I/O\n",
    "\n",
    "### Reading from a file...\n",
    "...is actually really easy:\n",
    "\n",
    "- we need a filename"
   ]
  },
  {
   "cell_type": "code",
   "execution_count": null,
   "metadata": {},
   "outputs": [],
   "source": [
    "filename = BASE + 'text.txt'"
   ]
  },
  {
   "cell_type": "markdown",
   "metadata": {},
   "source": [
    "- and a mode"
   ]
  },
  {
   "cell_type": "code",
   "execution_count": null,
   "metadata": {},
   "outputs": [],
   "source": [
    "mode = 'r' # r stands for reading"
   ]
  },
  {
   "cell_type": "markdown",
   "metadata": {},
   "source": [
    "- and we have to open the file for reading"
   ]
  },
  {
   "cell_type": "code",
   "execution_count": null,
   "metadata": {},
   "outputs": [],
   "source": [
    "my_file = open(filename, mode)"
   ]
  },
  {
   "cell_type": "markdown",
   "metadata": {},
   "source": [
    "A) We can iterate over on an opened file's lines directly:"
   ]
  },
  {
   "cell_type": "code",
   "execution_count": null,
   "metadata": {},
   "outputs": [],
   "source": [
    "for line in my_file:\n",
    "    print(line)"
   ]
  },
  {
   "cell_type": "markdown",
   "metadata": {},
   "source": [
    "Python reads files like we read: start from the beginning - from the first line till the last one. Once he read all the lines, that's it. No more lines are left to read. To read a line from the same file, it has to __`seek`__ that position in the file before it can read it."
   ]
  },
  {
   "cell_type": "code",
   "execution_count": null,
   "metadata": {},
   "outputs": [],
   "source": [
    "my_file.seek(0, 0) # help(file.seek)"
   ]
  },
  {
   "cell_type": "markdown",
   "metadata": {},
   "source": [
    "B) Or we can read every line into a list"
   ]
  },
  {
   "cell_type": "code",
   "execution_count": null,
   "metadata": {},
   "outputs": [],
   "source": [
    "lines_as_list = my_file.readlines()\n",
    "print(lines_as_list)"
   ]
  },
  {
   "cell_type": "markdown",
   "metadata": {},
   "source": [
    "C) Or read the whole file as string:"
   ]
  },
  {
   "cell_type": "code",
   "execution_count": null,
   "metadata": {},
   "outputs": [],
   "source": [
    "my_file.seek(0, 0)\n",
    "lines_as_string = my_file.read()\n",
    "print(lines_as_string)"
   ]
  },
  {
   "cell_type": "markdown",
   "metadata": {},
   "source": [
    "We can do it either way... BUT!  \n",
    "__DO NOT FORGET TO CLOSE IT__ once you finished working with it!"
   ]
  },
  {
   "cell_type": "code",
   "execution_count": null,
   "metadata": {},
   "outputs": [],
   "source": [
    "my_file.close()"
   ]
  },
  {
   "cell_type": "markdown",
   "metadata": {},
   "source": [
    "Pretty easy, huh? What about..\n",
    "### Writing into a file?\n",
    "\n",
    "We need a filename, and a mode."
   ]
  },
  {
   "cell_type": "code",
   "execution_count": null,
   "metadata": {},
   "outputs": [],
   "source": [
    "mode = 'w' # as you can guess, w stands for writing ;)\n",
    "my_file = open(filename, mode) "
   ]
  },
  {
   "cell_type": "markdown",
   "metadata": {},
   "source": [
    "Then we can write into the file directly:"
   ]
  },
  {
   "cell_type": "code",
   "execution_count": null,
   "metadata": {},
   "outputs": [],
   "source": [
    "my_file.write('You take the red pill, you stay in Wonderland, '\n",
    "              'and I show you how deep the rabbit hole goes...')\n",
    "my_file.close() # again, don't forget to close the file"
   ]
  },
  {
   "cell_type": "markdown",
   "metadata": {},
   "source": [
    "There is more! Do you feel cumbersome to open and close the file?  \n",
    "__Good news:__ You do not have to worry about at all!  "
   ]
  },
  {
   "cell_type": "code",
   "execution_count": null,
   "metadata": {},
   "outputs": [],
   "source": [
    "mode = 'r' \n",
    "with open(filename, mode) as my_file: \n",
    "    for line in my_file.readlines(): \n",
    "        print(line)\n",
    "# aaaaand it's closed ;)"
   ]
  },
  {
   "cell_type": "markdown",
   "metadata": {},
   "source": [
    "Can we add content to existing files?"
   ]
  },
  {
   "cell_type": "code",
   "execution_count": null,
   "metadata": {},
   "outputs": [],
   "source": [
    "# Yes, we can!\n",
    "mode = 'a' # a stands for append\n",
    "with open(filename, mode) as my_file:\n",
    "    my_file.write('Remember, all I\\'m offering is the truth, nothing more...')"
   ]
  },
  {
   "cell_type": "markdown",
   "metadata": {},
   "source": [
    "---\n",
    "\n",
    "## CSV files\n",
    "\n",
    "But... We want to read in some CSV files. Do we really need to do all  \n",
    "the hassle with the commas, quotations and all that bs?\n",
    "\n",
    "Of course not! Someone already wrote that for us!"
   ]
  },
  {
   "cell_type": "code",
   "execution_count": null,
   "metadata": {},
   "outputs": [],
   "source": [
    "import csv\n",
    "filename = BASE + 'text.csv'"
   ]
  },
  {
   "cell_type": "markdown",
   "metadata": {},
   "source": [
    "Read it!"
   ]
  },
  {
   "cell_type": "code",
   "execution_count": null,
   "metadata": {},
   "outputs": [],
   "source": [
    "mode = 'r'\n",
    "with open(filename, mode) as my_file:\n",
    "    # we have to create a csv reader in order to read\n",
    "    # and we have to specify the delimeter, and the quotecharacter\n",
    "    # or the dialect.\n",
    "    my_csv = csv.reader(my_file, delimiter=';', quotechar='\"')\n",
    "    # we can read out the rows easily from the file\n",
    "    for row in my_csv:\n",
    "        # you get each row as a list\n",
    "        print row"
   ]
  },
  {
   "cell_type": "markdown",
   "metadata": {},
   "source": [
    "Write it!"
   ]
  },
  {
   "cell_type": "code",
   "execution_count": null,
   "metadata": {},
   "outputs": [],
   "source": [
    "mode = 'w'\n",
    "with open(filename, mode) as my_file:\n",
    "    # we'll need a writer\n",
    "    # the arguments are the same as before\n",
    "    my_csv = csv.writer(my_file, delimiter=';', quotechar='\"')\n",
    "    # we need some data to save:\n",
    "    data = [['Smith', 'Smith', 'Smith', 'Smith'],\n",
    "            ['Smith', 'Smith', 'Smith', 'Smith']]\n",
    "    # then write each row into the file,\n",
    "    # one-by-one\n",
    "    for row in data:\n",
    "        my_csv.writerow(row)"
   ]
  },
  {
   "cell_type": "markdown",
   "metadata": {},
   "source": [
    "---\n",
    "\n",
    "## Let's do some...\n",
    "\n",
    "<img align=\"left\" width=150 src=\"pics/magic.gif\">\n",
    "<br style=\"clear:left;\"/>\n",
    "\n",
    "### Cool library: moviepy - part II.\n",
    "- Create gifs from videos in a few lines"
   ]
  },
  {
   "cell_type": "code",
   "execution_count": null,
   "metadata": {},
   "outputs": [],
   "source": [
    "import youtube_dl\n",
    "from moviepy.editor import VideoFileClip"
   ]
  },
  {
   "cell_type": "code",
   "execution_count": null,
   "metadata": {},
   "outputs": [],
   "source": [
    "options = {'format': 'worstvideo', \n",
    "           'outtmpl': '%(id)s.%(ext)s'}\n",
    "with youtube_dl.YoutubeDL(options) as ydl:\n",
    "    ydl.download([\"https://www.youtube.com/watch?v=RP8uhXuS2n8\"])"
   ]
  },
  {
   "cell_type": "code",
   "execution_count": null,
   "metadata": {},
   "outputs": [],
   "source": [
    "(VideoFileClip(\"RP8uhXuS2n8.webm\")\n",
    " .subclip((2.3),(3.7))\n",
    " .write_gif(\"whoa.gif\"))"
   ]
  },
  {
   "cell_type": "raw",
   "metadata": {},
   "source": [
    "<img src=\"whoa.gif\"/>"
   ]
  },
  {
   "cell_type": "markdown",
   "metadata": {},
   "source": [
    "You can read more about gif creation <a href=\"http://zulko.github.io/blog/2014/01/23/making-animated-gifs-from-video-files-with-python/\">here</a>, and about youtube download options <a href=\"https://github.com/rg3/youtube-dl/blob/master/README.md#options\">here</a>.\n",
    "\n",
    "---\n",
    "\n",
    "## Let's see how how deep the rabbit hole goes! a.k.a   \n",
    "## It's your turn - write the missing code snippets!\n",
    "\n",
    "#### 1. Write our fake \"download\" function\n",
    "With similar functionality as the one we used previously."
   ]
  },
  {
   "cell_type": "code",
   "execution_count": null,
   "metadata": {},
   "outputs": [],
   "source": []
  },
  {
   "cell_type": "markdown",
   "metadata": {},
   "source": [
    "#### 2. Merge the matching rows.\n",
    "\n",
    "You have several entries from the same entities. Merge the corresponding field by adding the values from the separate rows together. Save the merged data to `\"merged.csv\"`\n",
    "\n",
    "- Read the data from the `\"matching.csv\"`\n",
    "- Add the numerical values together in the rows with matching ID values\n",
    "- Concatenate the string values and separate them with  `' & '`\n",
    "\n",
    "For eg. After merging, the first row should look like this:  \n",
    "`1;Neo & Trinity;15;76`"
   ]
  },
  {
   "cell_type": "code",
   "execution_count": null,
   "metadata": {},
   "outputs": [],
   "source": []
  },
  {
   "cell_type": "markdown",
   "metadata": {},
   "source": [
    "#### 3. Write a word counting function...\n",
    "...which reads a textfile and counts every word. return the top n words with their counts.  \n",
    "Parameters: filename, n\n",
    "\n",
    "Hint(s):\n",
    "- use the `\"string\".split()` function  \n",
    "    eg: `print(\"a b c\".split())` results `['a', 'b', 'c']`\n",
    "- punctuation does not matter\n",
    "- see `help(sorted)`"
   ]
  },
  {
   "cell_type": "code",
   "execution_count": null,
   "metadata": {},
   "outputs": [],
   "source": []
  },
  {
   "cell_type": "markdown",
   "metadata": {},
   "source": [
    "#### 4. Write a file encryptor function\n",
    "Which uses the `encrypt` function from the helpers.py to encrypt a file. Save the encrypted file (with the `originalfilename_encrypted.extension` name).  \n",
    "Parameters: filename, strength (use this value in the encrypt function)"
   ]
  },
  {
   "cell_type": "code",
   "execution_count": null,
   "metadata": {},
   "outputs": [],
   "source": []
  },
  {
   "cell_type": "markdown",
   "metadata": {},
   "source": [
    "#### 5. Write a decryptor function\n",
    "To decrypt the previously encrypted file, and save it decrypted (with the `originalfilename_decrypted.extension` name).  \n",
    "Parameters: filename, strength"
   ]
  },
  {
   "cell_type": "code",
   "execution_count": null,
   "metadata": {},
   "outputs": [],
   "source": []
  },
  {
   "cell_type": "markdown",
   "metadata": {},
   "source": [
    "---\n",
    "## Further exercises"
   ]
  },
  {
   "cell_type": "code",
   "execution_count": null,
   "metadata": {},
   "outputs": [],
   "source": [
    "numbers = [random.random() for _ in range(30)]\n",
    "sorted_numbers = sorted(numbers) # sorts a list"
   ]
  },
  {
   "cell_type": "markdown",
   "metadata": {},
   "source": [
    "#### 1. Compute the median\n",
    "\n",
    "Compute the median of the `sorted_numbers` sorted list of numbers."
   ]
  },
  {
   "cell_type": "code",
   "execution_count": null,
   "metadata": {},
   "outputs": [],
   "source": []
  },
  {
   "cell_type": "markdown",
   "metadata": {},
   "source": [
    "#### 2. Compute the median\n",
    "\n",
    "**Create a function** which computes the median of a sorted list of numbers."
   ]
  },
  {
   "cell_type": "code",
   "execution_count": null,
   "metadata": {},
   "outputs": [],
   "source": []
  },
  {
   "cell_type": "code",
   "execution_count": null,
   "metadata": {},
   "outputs": [],
   "source": [
    "print(median(sorted_numbers))"
   ]
  },
  {
   "cell_type": "markdown",
   "metadata": {},
   "source": [
    "#### 3. Compute the median\n",
    "\n",
    "**Create a function** which computes the median of an **unsorted** list of numbers."
   ]
  },
  {
   "cell_type": "code",
   "execution_count": null,
   "metadata": {},
   "outputs": [],
   "source": []
  },
  {
   "cell_type": "code",
   "execution_count": null,
   "metadata": {},
   "outputs": [],
   "source": [
    "print(median(numbers))"
   ]
  },
  {
   "cell_type": "markdown",
   "metadata": {},
   "source": [
    "#### 4. Compute the moving median\n",
    "\n",
    "**Create a function** which computes the **moving median** of a list of numbers."
   ]
  },
  {
   "cell_type": "code",
   "execution_count": null,
   "metadata": {},
   "outputs": [],
   "source": []
  },
  {
   "cell_type": "code",
   "execution_count": null,
   "metadata": {},
   "outputs": [],
   "source": [
    "print(median(numbers))"
   ]
  },
  {
   "cell_type": "markdown",
   "metadata": {},
   "source": [
    "#### 5. Compute the mode\n",
    "\n",
    "**Create a function** which computes the **[mode](https://en.wikipedia.org/wiki/Mode_(statistics&#41;)** of a list of numbers."
   ]
  },
  {
   "cell_type": "code",
   "execution_count": null,
   "metadata": {},
   "outputs": [],
   "source": []
  },
  {
   "cell_type": "code",
   "execution_count": null,
   "metadata": {},
   "outputs": [],
   "source": [
    "print(mode(numbers))"
   ]
  },
  {
   "cell_type": "markdown",
   "metadata": {},
   "source": [
    "## Bonus: Sort a list\n",
    "\n",
    "**Create a function** which sorts an unsorted list of numbers.  \n",
    "The pseudo code for the **bubble-sort** can be find [here](https://en.wikipedia.org/wiki/Bubble_sort#Pseudocode_implementation).\n",
    "\n",
    "Bubble sort is a sorting algorithm that continuously steps through a list and swaps items next to each other until they appear in the correct order.\n",
    "\n",
    "<p><a href=\"https://commons.wikimedia.org/wiki/File:Bubble-sort-example-300px.gif#/media/File:Bubble-sort-example-300px.gif\"><img src=\"https://upload.wikimedia.org/wikipedia/commons/c/c8/Bubble-sort-example-300px.gif\" alt=\"Bubble-sort-example-300px.gif\"></a><br>By <a href=\"//commons.wikimedia.org/w/index.php?title=User:Swfung8&amp;action=edit&amp;redlink=1\" class=\"new\" title=\"User:Swfung8 (page does not exist)\">Swfung8</a> @ Wikipedia</p>"
   ]
  },
  {
   "cell_type": "code",
   "execution_count": null,
   "metadata": {},
   "outputs": [],
   "source": [
    "def bubble_sort(numbers):\n",
    "    \n",
    "    return numbers"
   ]
  },
  {
   "cell_type": "code",
   "execution_count": null,
   "metadata": {},
   "outputs": [],
   "source": [
    "Check if your implementation is correct:\n",
    "\n",
    "assert sorted(numbers) == bubble_sort(numbers), 'Error, sorting mismatch!'"
   ]
  }
 ],
 "metadata": {
  "anaconda-cloud": {},
  "kernelspec": {
   "display_name": "Python 3",
   "language": "python",
   "name": "python3"
  },
  "language_info": {
   "codemirror_mode": {
    "name": "ipython",
    "version": 3
   },
   "file_extension": ".py",
   "mimetype": "text/x-python",
   "name": "python",
   "nbconvert_exporter": "python",
   "pygments_lexer": "ipython3",
   "version": "3.6.0"
  }
 },
 "nbformat": 4,
 "nbformat_minor": 1
}
