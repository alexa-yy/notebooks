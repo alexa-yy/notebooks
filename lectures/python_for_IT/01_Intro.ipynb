{
 "cells": [
  {
   "cell_type": "markdown",
   "metadata": {},
   "source": [
    "# Python 101\n",
    "## I. Intro\n",
    "\n",
    "---\n",
    "\n",
    "<img width=\"640\" src=\"https://pbs.twimg.com/media/CMK0V9_WwAEYlPa.png\" source=\"\"/>\n",
    "\n",
    "----\n",
    "\n",
    "## Before we start\n",
    "\n",
    "### Who am I?\n",
    "\n",
    "* ex-PhD student (absolutorium achieved)\n",
    "* ex-teaching assistant @ Unideb\n",
    "* ex-python developer @ HigherClick\n",
    "* ex-data scientist @ Lensa & Gitential\n",
    "* solutions architect @ Datapao\n",
    "* programmer (<a href=\"github.com/fulibacsi\">github</a>)\n",
    "* geek (<a href=\"twitter.com/fulibacsi\">twitter</a>)\n",
    "\n",
    "### Outline\n",
    "\n",
    "1. Intro\n",
    "    1. Installation\n",
    "    2. About Python\n",
    "    3. REPL and Notebook basics\n",
    "2. Programming basics\n",
    "    1. Basic operators\n",
    "    2. Variables and types\n",
    "    3. Advanced data types\n",
    "    4. Control structures\n",
    "    5. Functions\n",
    "    6. IO\n",
    "    7. Creating standalone scripts\n",
    "3. Object-oriented programming\n",
    "    1. OO basics\n",
    "    2. Exceptions\n",
    "3. Area specific modules\n",
    "    1. OS related tasks with `os` and `sys`\n",
    "    2. Regular expressions with `re`\n",
    "    3. Command line interfaces with `argparse` and `click`\n",
    "    4. File content parsing with `json`, `lxml`, `bs4`\n",
    "    5. Database connections with `sqlite` and `sqlalchemy`\n",
    "    6. Web queries with `requests`\n",
    "    7. Simple web APIs with `Flask`\n",
    "\n",
    "---\n",
    "\n",
    "## About Python\n",
    "\n",
    "\n",
    "### Python is:\n",
    "- High level\n",
    "- Precompiled\n",
    "- Has a dynamic type system\n",
    "- Supports multiple paradigms:\n",
    "    - imperative\n",
    "    - funtional\n",
    "    - object-oriented\n",
    "- Open sourced\n",
    "- Easy to read and learn\n",
    "- Batteries included\n",
    "- OS independent\n",
    "\n",
    "### Meet the designer: Guido van Rossum\n",
    "\n",
    "<img align=\"left\" height=\"600\" width=\"300\" src=\"pics/Guido_van_Rossum_OSCON_2006.jpg\"/>\n",
    "<br style=\"clear:left;\"/>\n",
    "\n",
    "### Origin of the name:\n",
    "\n",
    "<img align=\"left\" width=\"600\" height=\"400\" src=\"pics/HolyGrail034.jpg\"/>\n",
    "<br style=\"clear:left;\"/>\n",
    "\n",
    "---\n",
    "\n",
    "## Notebook basics\n",
    "\n",
    "- The basic building blocks are called `cell`s\n",
    "- `cell` has different types:\n",
    "    - code cells\n",
    "    - markdown cells\n",
    "    - raw cells\n",
    "- Two modes: \n",
    "    - `command`: cell operations and execution, hit [Esc] to enter command mode\n",
    "    - `edit`: writing code, press [Enter] to switch to edit mode\n",
    "- For key shortcuts, press [h]\n",
    "- Useful shortcuts (command mode):\n",
    "    - [Ctrl] + [Enter]: execute selected cell\n",
    "    - [Shift] + [Enter]: execute selected cell and select next cell\n",
    "    - [y]: set selected cell type to `code cell`\n",
    "    - [m]: set selected cell type to `markdown cell`\n",
    "    - [Shift] + [up] | [down]: select multiple cells\n",
    "    - [a]: insert cell above\n",
    "    - [b]: insert cell below\n",
    "    - [d], [d]: delete cell\n",
    "    - [x]: cut cell\n",
    "    - [v]: paste cell\n",
    "    - [Shift] + [m]: merge selected cells or merge selected with the cell below\n",
    "- Useful shortcuts (edit mode):\n",
    "    - [Tab]: indent select lines\n",
    "    - [Shift] + [Tab]: dedent selected lines\n",
    "    - [Ctrl] + [Shift] + [-]: split cell at the current cursor\n",
    "- Commands preceded by `!` character will be executed in the shell (eg: `!dir` or `!ls` lists the content of the working directory)   \n",
    " \n",
    "\n",
    "---\n",
    "\n",
    "## Everyone's first Python lines\n",
    "\n",
    "- Hit [Enter] on the following cell\n",
    "- Position your cursor to the first empty line\n",
    "- Type the `print` word following with parenthesis (`()`) and type \"Hello World\" in quotation inside of the parenthesis.\n",
    "- Hit [Ctrl] + [Enter] to run your code"
   ]
  },
  {
   "cell_type": "code",
   "execution_count": null,
   "metadata": {},
   "outputs": [],
   "source": [
    "# This line is a comment. Every text after the # character is comment.\n"
   ]
  },
  {
   "cell_type": "markdown",
   "metadata": {},
   "source": [
    "# Basic operators\n",
    "\n",
    "Available mathematical operators:\n",
    "- `+, -, *, /`\n",
    "- `%, **`"
   ]
  },
  {
   "cell_type": "code",
   "execution_count": null,
   "metadata": {},
   "outputs": [],
   "source": [
    "1 + 1"
   ]
  },
  {
   "cell_type": "markdown",
   "metadata": {},
   "source": [
    "Logical operators:\n",
    "- `==, >, >=, <=, <`\n",
    "- `not, and, or`  \n",
    "\n",
    "and logical values:\n",
    "- `True, False`"
   ]
  },
  {
   "cell_type": "code",
   "execution_count": null,
   "metadata": {},
   "outputs": [],
   "source": [
    "True or False"
   ]
  },
  {
   "cell_type": "markdown",
   "metadata": {},
   "source": [
    "## Exercise 1: Create a logical expression which evaluates to True"
   ]
  },
  {
   "cell_type": "code",
   "execution_count": null,
   "metadata": {},
   "outputs": [],
   "source": []
  }
 ],
 "metadata": {
  "anaconda-cloud": {},
  "kernelspec": {
   "display_name": "Python 3",
   "language": "python",
   "name": "python3"
  },
  "language_info": {
   "codemirror_mode": {
    "name": "ipython",
    "version": 3
   },
   "file_extension": ".py",
   "mimetype": "text/x-python",
   "name": "python",
   "nbconvert_exporter": "python",
   "pygments_lexer": "ipython3",
   "version": "3.7.3"
  }
 },
 "nbformat": 4,
 "nbformat_minor": 1
}
