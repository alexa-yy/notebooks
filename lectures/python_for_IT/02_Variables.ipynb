{
 "cells": [
  {
   "cell_type": "markdown",
   "metadata": {},
   "source": [
    "# Python 101\n",
    "## II. Variables\n",
    "\n",
    "---"
   ]
  },
  {
   "cell_type": "code",
   "execution_count": null,
   "metadata": {
    "slideshow": {
     "slide_type": "-"
    }
   },
   "outputs": [],
   "source": [
    "import random"
   ]
  },
  {
   "cell_type": "markdown",
   "metadata": {},
   "source": [
    "## Variables\n",
    "\n",
    "What if we want to store some values? We use the assignment (`=`) operator!\n",
    "\n",
    "- __`a`__ is a number"
   ]
  },
  {
   "cell_type": "code",
   "execution_count": null,
   "metadata": {},
   "outputs": [],
   "source": [
    "a = 3\n",
    "print(a)\n",
    "print(type(a))"
   ]
  },
  {
   "cell_type": "markdown",
   "metadata": {},
   "source": [
    "- __`a`__ is a floating point number"
   ]
  },
  {
   "cell_type": "code",
   "execution_count": null,
   "metadata": {},
   "outputs": [],
   "source": [
    "a = 3.14\n",
    "print(a)\n",
    "print(type(a))"
   ]
  },
  {
   "cell_type": "markdown",
   "metadata": {},
   "source": [
    "- __`a`__ is a boolean value"
   ]
  },
  {
   "cell_type": "code",
   "execution_count": null,
   "metadata": {},
   "outputs": [],
   "source": [
    "a = True # False\n",
    "print(a)\n",
    "print(type(a))"
   ]
  },
  {
   "cell_type": "markdown",
   "metadata": {},
   "source": [
    "- __`a`__ is a character"
   ]
  },
  {
   "cell_type": "code",
   "execution_count": null,
   "metadata": {},
   "outputs": [],
   "source": [
    "a = 'a'\n",
    "print(a)\n",
    "print(type(a))"
   ]
  },
  {
   "cell_type": "markdown",
   "metadata": {},
   "source": [
    "- __`a`__ is a string"
   ]
  },
  {
   "cell_type": "code",
   "execution_count": null,
   "metadata": {},
   "outputs": [],
   "source": [
    "a = 'spam'\n",
    "print(a)\n",
    "# or\n",
    "a = \"spam and eggs\"\n",
    "print(a)\n",
    "# or\n",
    "a = '''spam'\n",
    "spam\n",
    "sausage'''\n",
    "print(a)\n",
    "# or\n",
    "a = \"\"\"spam\n",
    "spam\n",
    "eggs\n",
    "and spam\"\"\"\n",
    "print(a)\n",
    "print(type(a))"
   ]
  },
  {
   "cell_type": "markdown",
   "metadata": {},
   "source": [
    "__According to strings:__  \n",
    "There are some so called __`escape character`__s. They always starts with a __\\\\__ following by an another character, like:\n",
    "- `\\n`\n",
    "- `\\t`\n",
    "- `\\r`\n",
    "- `\\'`\n",
    "- `\\\"`\n",
    "\n",
    "Try them out!"
   ]
  },
  {
   "cell_type": "code",
   "execution_count": null,
   "metadata": {},
   "outputs": [],
   "source": [
    "a = 'sp\\nam'\n",
    "print(a)"
   ]
  },
  {
   "cell_type": "markdown",
   "metadata": {},
   "source": [
    "#### Naming conventions\n",
    "\n",
    "* starts with a letter\n",
    "* available characters:\n",
    "    * a-z\n",
    "    * A-Z\n",
    "    * 0-9\n",
    "    * _"
   ]
  },
  {
   "cell_type": "code",
   "execution_count": null,
   "metadata": {},
   "outputs": [],
   "source": [
    "spam_is_a_valid_variable_name = True"
   ]
  },
  {
   "cell_type": "code",
   "execution_count": null,
   "metadata": {},
   "outputs": [],
   "source": [
    "9spam_is_not = True"
   ]
  },
  {
   "cell_type": "markdown",
   "metadata": {},
   "source": [
    "## Exercises\n",
    "\n",
    "**1. Print the \"your_name\" variable \"repeat\" times!**"
   ]
  },
  {
   "cell_type": "code",
   "execution_count": null,
   "metadata": {},
   "outputs": [],
   "source": [
    "your_name = ''\n",
    "repeat = random.randint(1, 5) # random integer in range [1, 5], including both end points\n",
    "print() # hint: you can multiply strings"
   ]
  },
  {
   "cell_type": "markdown",
   "metadata": {},
   "source": [
    "**2. Calculate the selling price to achieve the desired profit after tax!**\n",
    "\n",
    "$$ \\text{price} = \\frac{1 + \\text{profit}}{1 + \\text{tax}} * \\text{cost} $$"
   ]
  },
  {
   "cell_type": "code",
   "execution_count": null,
   "metadata": {},
   "outputs": [],
   "source": [
    "cost = random.randint(1000, 2000) # currency\n",
    "tax = random.randint(20, 50) / 100.0 # percent\n",
    "profit = random.randint(0, 100) / 100.0 # percent\n",
    "\n",
    "price = # FILL IN\n",
    "\n",
    "print(f'If I bought the product for {cost} '\n",
    "      f'and I would like to achieve {profit * 100}% '\n",
    "      f'profit and the tax I have to pay after my income is '\n",
    "      f'{tax * 100}%, then I have to set the price to: {price}.')"
   ]
  },
  {
   "cell_type": "markdown",
   "metadata": {},
   "source": [
    "**3. Implement tabletop game battle system**  \n",
    "\n",
    "<img align=\"left\" width=\"150\" src=\"pics/ww.png\" style=\"padding-right: 10px\"/>\n",
    "\n",
    "A warrior fights against an evil wizard lizard. He has a magical sword and a magical axe.   \n",
    "The evil wizard lizard cast a protective spell on himself, so he is resistant to one of the  \n",
    "damage types. The warrior has two weapons to choose from. Help him defeat the evil wizard lizard  \n",
    "by calculating the damage values of his weapons!"
   ]
  },
  {
   "cell_type": "markdown",
   "metadata": {},
   "source": [
    "He has:\n",
    "- a sword"
   ]
  },
  {
   "cell_type": "code",
   "execution_count": null,
   "metadata": {},
   "outputs": [],
   "source": [
    "sword_damage = random.randint(5, 10)\n",
    "sword_damage_type = random.choice(['fire', 'ice', 'lightning',  # select one randomly\n",
    "                                   'arcane', 'poison']) \n",
    "print(f'This sword will inflict {sword_damage} {sword_damage_type} type damage')"
   ]
  },
  {
   "cell_type": "markdown",
   "metadata": {},
   "source": [
    "- an axe"
   ]
  },
  {
   "cell_type": "code",
   "execution_count": null,
   "metadata": {},
   "outputs": [],
   "source": [
    "axe_damage = random.randint(5, 10)\n",
    "axe_damage_type = random.choice(['fire', 'ice', 'lightning',\n",
    "                                 'arcane', 'poison'])\n",
    "print(f'This sword will inflict {axe_damage} {axe_damage_type} type damage')"
   ]
  },
  {
   "cell_type": "markdown",
   "metadata": {},
   "source": [
    "The evil wizard lizard is resistant to one element:"
   ]
  },
  {
   "cell_type": "code",
   "execution_count": null,
   "metadata": {},
   "outputs": [],
   "source": [
    "evil_wizard_lizard_resist_type = random.choice(['fire', 'ice', 'lightning', \n",
    "                                                'arcane', 'poison'])\n",
    "evil_wizard_lizard_damage_reduction = random.randint(0, 75) / 100.0\n",
    "print('The evil lizard will receive {}% less damage if hit with a {} type weapon.'\n",
    "      .format(evil_wizard_lizard_damage_reduction * 100, evil_wizard_lizard_resist_type))"
   ]
  },
  {
   "cell_type": "markdown",
   "metadata": {},
   "source": [
    "Which weapon should the warrior choose?"
   ]
  },
  {
   "cell_type": "code",
   "execution_count": null,
   "metadata": {},
   "outputs": [],
   "source": [
    "# ---------------------------------------------------------------------\n",
    "sword_actual_damage = # compute sword and axe damage  \n",
    "axe_actual_damage = # hint: True is 1, False is 0\n",
    "# should the warrior choose the sword?\n",
    "answer = # solution should be boolean\n",
    "# ---------------------------------------------------------------------\n",
    "\n",
    "print('The warrior should use the sword!\\n'\n",
    "      'yes,' if answer else 'no,',\n",
    "      'because sword does', sword_actual_damage,\n",
    "      'damage and axe does', axe_actual_damage,\n",
    "      'damage to the evil wizard lizard.')"
   ]
  },
  {
   "cell_type": "markdown",
   "metadata": {},
   "source": [
    "**4. Aaaaare we there yet?**  \n",
    "Ever wonder how much time do you need to get home?  \n",
    "Let's calculate the trip time! If there is a traffic jam include it to the trip time."
   ]
  },
  {
   "cell_type": "code",
   "execution_count": null,
   "metadata": {},
   "outputs": [],
   "source": [
    "distance = random.randint(30, 230) * 1.0\n",
    "average_speed = random.randint(30, 90)\n",
    "# if I hit the traffic jam, my trip takes `traffic_jam_penalty` minutes more then without one.\n",
    "traffic_jam = random.randint(0, 1)\n",
    "traffic_jam_penalty = random.randint(30, 60)\n",
    "\n",
    "trip_time = # compute in minutes\n",
    "hours = # hint: use the int(value) function to get an integer number\n",
    "minutes = \n",
    "seconds = \n",
    "\n",
    "print(f'I need {trip_time} minutes '\n",
    "      f'or {hours} hours, ' \n",
    "      f'{minutes} minutes, '\n",
    "      f'{seconds} seconds to get home '\n",
    "      f'if I live {distance} kms away '\n",
    "      f'and I usually drive at {average_speed} km/hs. '\n",
    "      f'I have to wait {traffic_jam_penalty * traffic_jam} '\n",
    "      f'minutes because of a traffic jam.')"
   ]
  },
  {
   "cell_type": "markdown",
   "metadata": {},
   "source": [
    "**4. Rock-paper-scissors.**  \n",
    "Generate a logical expression which generates the game's outcome."
   ]
  },
  {
   "cell_type": "code",
   "execution_count": null,
   "metadata": {},
   "outputs": [],
   "source": [
    "your_choice = 'r' # 'r', 'p' or 's'\n",
    "comp_choice = random.choice('rps')\n",
    "\n",
    "winner = # compute if player's winning\n",
    "\n",
    "print('Are you a winner?', 'yes' if winner else 'no')"
   ]
  },
  {
   "cell_type": "markdown",
   "metadata": {},
   "source": [
    "**5. Calculate the good-old (and boring) quadratic equation!**    \n",
    "$$x_{1,2}=\\dfrac{-b \\pm \\sqrt{b^2 - 4ac}}{2a}$$"
   ]
  },
  {
   "cell_type": "code",
   "execution_count": null,
   "metadata": {},
   "outputs": [],
   "source": [
    "a = random.randint(1, 10)\n",
    "b = random.randint(1, 10)\n",
    "c = random.randint(1, 10)\n",
    "\n",
    "x_1 = # FILL IN\n",
    "x_2 = # FILL IN\n",
    "\n",
    "print(f'The solutions to the {a}x^2 + {b}x + {c} = 0 '\n",
    "      f'is: {x_1} and {x_2}')"
   ]
  }
 ],
 "metadata": {
  "anaconda-cloud": {},
  "kernelspec": {
   "display_name": "Python 3",
   "language": "python",
   "name": "python3"
  },
  "language_info": {
   "codemirror_mode": {
    "name": "ipython",
    "version": 3
   },
   "file_extension": ".py",
   "mimetype": "text/x-python",
   "name": "python",
   "nbconvert_exporter": "python",
   "pygments_lexer": "ipython3",
   "version": "3.7.3"
  }
 },
 "nbformat": 4,
 "nbformat_minor": 1
}
