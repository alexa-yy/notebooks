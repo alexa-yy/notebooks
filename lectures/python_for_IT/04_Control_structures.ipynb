{
 "cells": [
  {
   "cell_type": "markdown",
   "metadata": {},
   "source": [
    "# Python 101\n",
    "## IV. Control structures\n",
    "\n",
    "---"
   ]
  },
  {
   "cell_type": "code",
   "execution_count": null,
   "metadata": {
    "slideshow": {
     "slide_type": "-"
    }
   },
   "outputs": [],
   "source": [
    "import random\n",
    "from operator import or_ as OR\n",
    "from operator import and_ as AND"
   ]
  },
  {
   "cell_type": "markdown",
   "metadata": {},
   "source": [
    "---\n",
    "\n",
    "## Conditional operators\n",
    "\n",
    "Conditional operators are used to branch the code. It consists of a condition (boolean expression) which can be evaluated as *True* or *False* Depending on the value different parts of the code will be executed.\n",
    "Python's conditional operator is called *if-elif-else* construct. The basic structure looks like this:\n",
    "```\n",
    "if condition_1:\n",
    "    statement_1\n",
    "elif condition_2:\n",
    "    statement_2\n",
    "else:\n",
    "    statement_3\n",
    "```\n",
    "The construct must contain an *if* branch, arbitrary number of *elif* branches and optionally an *else* branch. If every other branches are evaluated to False, the else branch will be executed (if present)."
   ]
  },
  {
   "cell_type": "code",
   "execution_count": null,
   "metadata": {},
   "outputs": [],
   "source": [
    "number = 15\n",
    "conclusion = ''\n",
    "\n",
    "if number < 0:\n",
    "    conclusion = f'{number} is less than zero'\n",
    "elif number == 0:\n",
    "    conclusion = f'{number} equals to zero'\n",
    "elif number < 1:\n",
    "    conclusion = f'{number} is greater than zero but less than one'\n",
    "else:\n",
    "    conclusion = f'{number} bigger than or equal to one'\n",
    "\n",
    "print(conclusion)"
   ]
  },
  {
   "cell_type": "markdown",
   "metadata": {},
   "source": [
    "### Exercise: Would you like to continue?\n",
    "\n",
    "Ask the user if he/she would like to continue. If the user types `'yes'`, `'YES'`, `'y'` or `'Y'` print `continue`,  \n",
    "else set the `go` variable to `False` and and print `bye`."
   ]
  },
  {
   "cell_type": "code",
   "execution_count": null,
   "metadata": {},
   "outputs": [],
   "source": [
    "go = True\n",
    "while go:\n",
    "    user_input = input('Would you like to continue?')  # this command waits for user input\n",
    "    # insert the described if structure here\n",
    "    \n",
    "    \n",
    "    \n",
    "    # comment out the next line after implementing your solution\n",
    "    break  # exits from the loop"
   ]
  },
  {
   "cell_type": "markdown",
   "metadata": {},
   "source": [
    "#### Ternary operators (conditional expressions)"
   ]
  },
  {
   "cell_type": "code",
   "execution_count": null,
   "metadata": {},
   "outputs": [],
   "source": [
    "a = 5\n",
    "'smaller' if a < 5 else 'larger'"
   ]
  },
  {
   "cell_type": "markdown",
   "metadata": {},
   "source": [
    "---\n",
    "\n",
    "## Loops\n",
    "\n",
    "Loops are useful when one would like to execute the same operation on multiple times, or with multiple values.\n",
    "There are two types of loops available in Python:\n",
    "- `for`: a foreach type loop which executes code on each element of an iterable\n",
    "- `while`: a conditional loop which executes code until a certain condition is evaluated to true\n",
    "\n",
    "#### Intermission: the `range` function"
   ]
  },
  {
   "cell_type": "code",
   "execution_count": null,
   "metadata": {},
   "outputs": [],
   "source": [
    "start = 1\n",
    "stop = 11\n",
    "step = 1\n",
    "\n",
    "number_generator = range(start, stop, step)\n",
    "print(number_generator)\n",
    "print(list(number_generator))"
   ]
  },
  {
   "cell_type": "markdown",
   "metadata": {},
   "source": [
    "### For loop\n",
    "\n",
    "- iterate on numbers"
   ]
  },
  {
   "cell_type": "code",
   "execution_count": null,
   "metadata": {},
   "outputs": [],
   "source": [
    "for number in number_generator:\n",
    "    print(number)"
   ]
  },
  {
   "cell_type": "markdown",
   "metadata": {},
   "source": [
    "- iterate on values"
   ]
  },
  {
   "cell_type": "code",
   "execution_count": null,
   "metadata": {},
   "outputs": [],
   "source": [
    "my_list_of_things = ['a', 'b', 'c', 'd', \n",
    "                     1, 2, 3, 4, \n",
    "                     'foo', 'bar', 'baz', 'qux']\n",
    "for item in my_list_of_things:\n",
    "    print(item)"
   ]
  },
  {
   "cell_type": "code",
   "execution_count": null,
   "metadata": {},
   "outputs": [],
   "source": [
    "for char in 'the holy grail':\n",
    "    if char == ' ':\n",
    "        print('space', end='')\n",
    "    else:\n",
    "        print(char, end='')"
   ]
  },
  {
   "cell_type": "markdown",
   "metadata": {},
   "source": [
    "#### Intermission: the `enumerate` function"
   ]
  },
  {
   "cell_type": "code",
   "execution_count": null,
   "metadata": {},
   "outputs": [],
   "source": [
    "enumerated = enumerate(my_list_of_things)\n",
    "\n",
    "print(enumerated)\n",
    "print(list(enumerated))"
   ]
  },
  {
   "cell_type": "code",
   "execution_count": null,
   "metadata": {},
   "outputs": [],
   "source": [
    "for i, item in enumerate(my_list_of_things):\n",
    "    print(f'{i + 1}th item is {item}.')"
   ]
  },
  {
   "cell_type": "markdown",
   "metadata": {},
   "source": [
    "### While loop"
   ]
  },
  {
   "cell_type": "code",
   "execution_count": null,
   "metadata": {},
   "outputs": [],
   "source": [
    "condition = True\n",
    "counter = 1\n",
    "while(condition):\n",
    "    print(counter)\n",
    "    counter += 1\n",
    "    if counter > 10:\n",
    "        condition = False"
   ]
  },
  {
   "cell_type": "code",
   "execution_count": null,
   "metadata": {},
   "outputs": [],
   "source": [
    "i = 0\n",
    "string = 'the holy grail'\n",
    "while not string[i] == ' ':\n",
    "    print(string[i]),\n",
    "    i += 1"
   ]
  },
  {
   "cell_type": "markdown",
   "metadata": {},
   "source": [
    "### Exercise: Prisoner's dilemma\n",
    "\n",
    "Two members of a criminal-gang are arrested and imprisoned. Each prisoner is in solitary confinement with no means of communicating with the other. The prosecutors lack sufficient evidence to convinct the pair on the principal charge. They hope to get both sentenced to a year in prison on a lesser charge. Simultaneously, the prosecutors offer each prisoner a bargain. Each prisoner is given the oppurtunity either to: betray the other by testifying that the other committed the crime, or to cooperate with the other by remaining silent. The offer is:  \n",
    "\n",
    "- If A and B each betray the other, each of them serves 6 years in prison\n",
    "- If A betrays B but B remains silent, A will be set free and B will serve 10 years in prison (and vice versa)\n",
    "- If A and B both remain silent, both of them will only serve 6 months in prison (on the lesser charge)\n",
    "\n",
    "We describe the problem as a list of dictionaries containing the different decisions and thir outcomes. The `user_choice` variable represents the A prisoner's decision, the `AI_choice` is the B's. Print the correct outcome by iterating over the `decisions` list, and examining the decision. If the decision matches with the user and AI choices, print the outcome."
   ]
  },
  {
   "cell_type": "code",
   "execution_count": null,
   "metadata": {},
   "outputs": [],
   "source": [
    "decisions = [{'player1': False, 'player2': False, 'p1score': -0.5, 'p2score': -0.5},\n",
    "             {'player1': True, 'player2': False, 'p1score': 0, 'p2score': -10},\n",
    "             {'player1': False, 'player2': True, 'p1score': -10, 'p2score': 0},\n",
    "             {'player1': True, 'player2': True, 'p1score': -6, 'p2score': -6}]\n",
    "\n",
    "user_choice = True # set either True or False \n",
    "\n",
    "AI_choice = random.choice([True, False])"
   ]
  },
  {
   "cell_type": "markdown",
   "metadata": {},
   "source": [
    "**Iterate over the decision list and print the outcome in the matching case!**"
   ]
  },
  {
   "cell_type": "code",
   "execution_count": null,
   "metadata": {},
   "outputs": [],
   "source": []
  },
  {
   "cell_type": "markdown",
   "metadata": {},
   "source": [
    "---\n",
    "\n",
    "## List comprehension\n",
    "\n",
    "Generate a new iterable from an existing one."
   ]
  },
  {
   "cell_type": "code",
   "execution_count": null,
   "metadata": {},
   "outputs": [],
   "source": [
    "sequence = [1, 2, 3, 4]\n",
    "print([item for item in sequence])\n",
    "print([item * 2 for item in sequence])"
   ]
  },
  {
   "cell_type": "markdown",
   "metadata": {},
   "source": [
    "- comprehensions could be filtered"
   ]
  },
  {
   "cell_type": "code",
   "execution_count": null,
   "metadata": {},
   "outputs": [],
   "source": [
    "[item for item in sequence if item % 2]"
   ]
  },
  {
   "cell_type": "markdown",
   "metadata": {},
   "source": [
    "- comprehensions can be nested"
   ]
  },
  {
   "cell_type": "code",
   "execution_count": null,
   "metadata": {},
   "outputs": [],
   "source": [
    "sequence2 = [[val * base for val in sequence] for base in sequence]\n",
    "sequence2"
   ]
  },
  {
   "cell_type": "code",
   "execution_count": null,
   "metadata": {},
   "outputs": [],
   "source": [
    "[item for subseq in sequence2 for item in subseq]"
   ]
  },
  {
   "cell_type": "markdown",
   "metadata": {},
   "source": [
    "Other sequences can be created with comprehensions:\n",
    "- sets"
   ]
  },
  {
   "cell_type": "code",
   "execution_count": null,
   "metadata": {},
   "outputs": [],
   "source": [
    "{i for i in sequence}"
   ]
  },
  {
   "cell_type": "markdown",
   "metadata": {},
   "source": [
    "- dicts"
   ]
  },
  {
   "cell_type": "code",
   "execution_count": null,
   "metadata": {},
   "outputs": [],
   "source": [
    "{item: item * 2 for item in sequence}"
   ]
  },
  {
   "cell_type": "markdown",
   "metadata": {},
   "source": [
    "---\n",
    "\n",
    "## Exercises\n",
    "\n",
    "__1. Given a list of urls, print the hungarian sites!__"
   ]
  },
  {
   "cell_type": "code",
   "execution_count": null,
   "metadata": {},
   "outputs": [],
   "source": [
    "urls = ['bbc.com', '444.hu', 'nbc.com', 'newyorktimes.com', 'origo.hu', 'index.hu']\n"
   ]
  },
  {
   "cell_type": "markdown",
   "metadata": {},
   "source": [
    "__2. The Seven Bridges of Königsberg is a well known graph theory problem. Given the length of every bridge compute the length of the shortes route.__\n",
    "\n",
    "<img src=\"https://upload.wikimedia.org/wikipedia/commons/5/5d/Konigsberg_bridges.png\" align=\"left\" width=\"200\">\n",
    "<img src=\"https://upload.wikimedia.org/wikipedia/commons/thumb/9/91/7_bridges.svg/358px-7_bridges.svg.png\" align=\"left\" width=\"200\">\n",
    "<img src=\"https://upload.wikimedia.org/wikipedia/commons/thumb/9/96/K%C3%B6nigsberg_graph.svg/360px-K%C3%B6nigsberg_graph.svg.png\" align=\"left\" width=\"200\">\n",
    "\n",
    "<br clear=\"left\"/>\n",
    "\n",
    "source: [Wikipedia](https://en.wikipedia.org/wiki/Seven_Bridges_of_K%C3%B6nigsberg)\n",
    "\n",
    "<br clear=\"left\"/>\n",
    "\n",
    "<p>The name of the bridges are the following:</p>\n",
    "    \n",
    "<img src=\"pics/koningsberg.png\" width=\"300\" align=\"left\">"
   ]
  },
  {
   "cell_type": "code",
   "execution_count": null,
   "metadata": {},
   "outputs": [],
   "source": [
    "distances = {\n",
    "    'ABup': 3,\n",
    "    'ABdown': 4,\n",
    "    'ADup': 3,\n",
    "    'ADdown': 2,\n",
    "    'AC': 10,\n",
    "    'BC': 7,\n",
    "    'CD': 6,\n",
    "}\n",
    "routes = [\n",
    "    ['BC', 'ABdown', 'AC', 'CD', 'ADup', 'ADdown', 'ADdown', 'ABup'],\n",
    "    ['ABup', 'ABdown', 'ADdown', 'ADup', 'AC', 'CD', 'ADup', 'ABup', 'BC'],\n",
    "    ['ADdown', 'CD', 'BC', 'ABup', 'ABdown', 'BC', 'AC', 'ADup'],\n",
    "]"
   ]
  },
  {
   "cell_type": "markdown",
   "metadata": {},
   "source": [
    "**3. Write a condition to check if a number is positive, negative or zero.**"
   ]
  },
  {
   "cell_type": "code",
   "execution_count": null,
   "metadata": {},
   "outputs": [],
   "source": [
    "number = random.randint(-1, 1)\n"
   ]
  },
  {
   "cell_type": "markdown",
   "metadata": {},
   "source": [
    "**4. Write a condition to check if a number is:**\n",
    "\n",
    "- positive and if it is:\n",
    "    - odd\n",
    "    - even\n",
    "- negative and if it is:\n",
    "    - divisible with 3\n",
    "    - divisible with 2\n",
    "    - divisible with 6\n",
    "- zero"
   ]
  },
  {
   "cell_type": "code",
   "execution_count": null,
   "metadata": {},
   "outputs": [],
   "source": [
    "number = random.randint(-1, 1) * random.randint(1, 100)\n"
   ]
  }
 ],
 "metadata": {
  "anaconda-cloud": {},
  "kernelspec": {
   "display_name": "Python 3",
   "language": "python",
   "name": "python3"
  },
  "language_info": {
   "codemirror_mode": {
    "name": "ipython",
    "version": 3
   },
   "file_extension": ".py",
   "mimetype": "text/x-python",
   "name": "python",
   "nbconvert_exporter": "python",
   "pygments_lexer": "ipython3",
   "version": "3.7.3"
  }
 },
 "nbformat": 4,
 "nbformat_minor": 1
}
