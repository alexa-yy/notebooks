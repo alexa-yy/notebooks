{
 "cells": [
  {
   "cell_type": "markdown",
   "metadata": {},
   "source": [
    "# Python 101\n",
    "## VII. Exercises\n",
    "\n",
    "---"
   ]
  },
  {
   "cell_type": "code",
   "execution_count": null,
   "metadata": {
    "slideshow": {
     "slide_type": "-"
    }
   },
   "outputs": [],
   "source": [
    "import random\n",
    "from helpers import *"
   ]
  },
  {
   "cell_type": "code",
   "execution_count": null,
   "metadata": {},
   "outputs": [],
   "source": [
    "BASE = './data/'"
   ]
  },
  {
   "cell_type": "markdown",
   "metadata": {},
   "source": [
    "---\n",
    "\n",
    "## Part I.\n",
    "\n",
    "### 1. Basic stats\n",
    "\n",
    "Create a function which computes the mean, the minimum, and the maximum value for a list of numbers!"
   ]
  },
  {
   "cell_type": "code",
   "execution_count": null,
   "metadata": {},
   "outputs": [],
   "source": [
    "lon = [random.random() for _ in range(30)]  # lon = list of numbers"
   ]
  },
  {
   "cell_type": "code",
   "execution_count": null,
   "metadata": {},
   "outputs": [],
   "source": []
  },
  {
   "cell_type": "code",
   "execution_count": null,
   "metadata": {},
   "outputs": [],
   "source": [
    "stat(lon)"
   ]
  },
  {
   "cell_type": "markdown",
   "metadata": {
    "collapsed": true
   },
   "source": [
    "### 2. Running mean\n",
    "\n",
    "Write a function which computes the running mean (window size: 3) for a list of numbers!"
   ]
  },
  {
   "cell_type": "code",
   "execution_count": null,
   "metadata": {},
   "outputs": [],
   "source": []
  },
  {
   "cell_type": "code",
   "execution_count": null,
   "metadata": {},
   "outputs": [],
   "source": [
    "running_mean(lon)"
   ]
  },
  {
   "cell_type": "markdown",
   "metadata": {},
   "source": [
    "### 3. Mismatching filenames\n",
    "\n",
    "You've downloaded a series complete with subtitles but the video and  \n",
    "subtitle filenames don't match! Write a function which renames the  \n",
    "mismatching subtitles!\n",
    "\n",
    "hint(s) - useful functions:\n",
    "\n",
    "- `download_series(_name, _season, _episodes, _mismatch)`\n",
    "- `\"string\".lower()` (built-in)\n",
    "- `find_episode_number(filename)`\n",
    "- `rename_subtitle(original, new, target_dir)`"
   ]
  },
  {
   "cell_type": "code",
   "execution_count": null,
   "metadata": {},
   "outputs": [],
   "source": []
  },
  {
   "cell_type": "markdown",
   "metadata": {},
   "source": [
    "### 4. Computing basic stats"
   ]
  },
  {
   "cell_type": "code",
   "execution_count": null,
   "metadata": {},
   "outputs": [],
   "source": [
    "numbers = [random.random() for _ in range(30)]\n",
    "sorted_numbers = sorted(numbers) # sorts a list"
   ]
  },
  {
   "cell_type": "markdown",
   "metadata": {},
   "source": [
    "#### 4.1. Compute the median\n",
    "\n",
    "Compute the median of the `sorted_numbers` sorted list of numbers."
   ]
  },
  {
   "cell_type": "code",
   "execution_count": null,
   "metadata": {},
   "outputs": [],
   "source": []
  },
  {
   "cell_type": "markdown",
   "metadata": {},
   "source": [
    "#### 4.2. Compute the median\n",
    "\n",
    "**Create a function** which computes the median of a sorted list of numbers."
   ]
  },
  {
   "cell_type": "code",
   "execution_count": null,
   "metadata": {},
   "outputs": [],
   "source": []
  },
  {
   "cell_type": "code",
   "execution_count": null,
   "metadata": {},
   "outputs": [],
   "source": [
    "print(median(sorted_numbers))"
   ]
  },
  {
   "cell_type": "markdown",
   "metadata": {},
   "source": [
    "#### 4.3. Compute the median\n",
    "\n",
    "**Create a function** which computes the median of an **unsorted** list of numbers."
   ]
  },
  {
   "cell_type": "code",
   "execution_count": null,
   "metadata": {},
   "outputs": [],
   "source": []
  },
  {
   "cell_type": "code",
   "execution_count": null,
   "metadata": {},
   "outputs": [],
   "source": [
    "print(median(numbers))"
   ]
  },
  {
   "cell_type": "markdown",
   "metadata": {},
   "source": [
    "#### 4.4. Compute the moving median\n",
    "\n",
    "**Create a function** which computes the **moving median** of a list of numbers."
   ]
  },
  {
   "cell_type": "code",
   "execution_count": null,
   "metadata": {},
   "outputs": [],
   "source": []
  },
  {
   "cell_type": "code",
   "execution_count": null,
   "metadata": {},
   "outputs": [],
   "source": [
    "print(median(numbers))"
   ]
  },
  {
   "cell_type": "markdown",
   "metadata": {},
   "source": [
    "#### 4.5. Compute the mode\n",
    "\n",
    "**Create a function** which computes the **<a href=\"https://en.wikipedia.org/wiki/Mode_(statistics)\">mode</a>** of a list of numbers."
   ]
  },
  {
   "cell_type": "code",
   "execution_count": null,
   "metadata": {},
   "outputs": [],
   "source": []
  },
  {
   "cell_type": "code",
   "execution_count": null,
   "metadata": {},
   "outputs": [],
   "source": [
    "print(mode(numbers))"
   ]
  },
  {
   "cell_type": "markdown",
   "metadata": {},
   "source": [
    "### 5. Sort a list \\[Optional\\]\n",
    "\n",
    "**Create a function** which sorts an unsorted list of numbers.  \n",
    "The pseudo code for the **bubble-sort** can be find [here](https://en.wikipedia.org/wiki/Bubble_sort#Pseudocode_implementation).\n",
    "\n",
    "Bubble sort is a sorting algorithm that continuously steps through a list and swaps items next to each other until they appear in the correct order.\n",
    "\n",
    "<p><a href=\"https://commons.wikimedia.org/wiki/File:Bubble-sort-example-300px.gif#/media/File:Bubble-sort-example-300px.gif\"><img src=\"https://upload.wikimedia.org/wikipedia/commons/c/c8/Bubble-sort-example-300px.gif\" alt=\"Bubble-sort-example-300px.gif\"></a><br>By <a href=\"//commons.wikimedia.org/w/index.php?title=User:Swfung8&amp;action=edit&amp;redlink=1\" class=\"new\" title=\"User:Swfung8 (page does not exist)\">Swfung8</a> @ Wikipedia</p>"
   ]
  },
  {
   "cell_type": "code",
   "execution_count": null,
   "metadata": {},
   "outputs": [],
   "source": [
    "def bubble_sort(numbers):\n",
    "    \n",
    "    return numbers"
   ]
  },
  {
   "cell_type": "markdown",
   "metadata": {},
   "source": [
    "Check if your implementation is correct:"
   ]
  },
  {
   "cell_type": "code",
   "execution_count": null,
   "metadata": {},
   "outputs": [],
   "source": [
    "assert sorted(numbers) == bubble_sort(numbers), 'Error, sorting mismatch!'"
   ]
  },
  {
   "cell_type": "markdown",
   "metadata": {},
   "source": [
    "---\n",
    "\n",
    "## Part II.\n",
    "\n",
    "Selected from [Apprendre à programmer avec Python](http://users.polytech.unice.fr/~helen/pythonCIP1/apprendre_python3Swinnen.pdf) (Hungarian version: [Tanuljunk meg programozni python nyelven](http://mek.oszk.hu/08400/08435/08435.pdf)) by Gérard Swinnen.\n",
    "\n",
    "### 1. Write a function that transforms a given amount of seconds into years, months, hours, minutes and seconds.\n",
    "\n",
    "Example: input: 311 --> output: 0 years, 0 months, 0 days, 0 hours, 5 minutes, 11 seconds\n",
    "\n",
    "Hint: `%`"
   ]
  },
  {
   "cell_type": "code",
   "execution_count": null,
   "metadata": {},
   "outputs": [],
   "source": []
  },
  {
   "cell_type": "markdown",
   "metadata": {},
   "source": [
    "### 2. Write a function that prints the multiplication table of number 7 (first 20 elements are enough, but we dare you to test the limitations of your computer). Elements that are also divisible by 3 should get a * label.\n",
    "Example: `7 14 21 * 28 35 42 * 49 ...`"
   ]
  },
  {
   "cell_type": "code",
   "execution_count": null,
   "metadata": {},
   "outputs": [],
   "source": []
  },
  {
   "cell_type": "markdown",
   "metadata": {},
   "source": [
    "### 3. Write a function that calculates the first 50 elements of the multiplication table of number 13 and prints the ones that are divisible by 7."
   ]
  },
  {
   "cell_type": "code",
   "execution_count": null,
   "metadata": {},
   "outputs": [],
   "source": []
  },
  {
   "cell_type": "markdown",
   "metadata": {},
   "source": [
    "### 4. Write a function which prints \"the half of a christmas tree\" with your code:\n",
    "```\n",
    "*\n",
    "**\n",
    "***\n",
    "****\n",
    "*****\n",
    "******\n",
    "*******\n",
    "```"
   ]
  },
  {
   "cell_type": "code",
   "execution_count": null,
   "metadata": {},
   "outputs": [],
   "source": []
  },
  {
   "cell_type": "markdown",
   "metadata": {},
   "source": [
    "### 4.a Extend the previous function with the height parameter with which the number of rows can be set."
   ]
  },
  {
   "cell_type": "code",
   "execution_count": null,
   "metadata": {},
   "outputs": [],
   "source": []
  },
  {
   "cell_type": "markdown",
   "metadata": {},
   "source": [
    "### 4.b Instead of half tree, display an arbitrary sized full tree\n",
    "\n",
    "Hint: \n",
    "```python\n",
    "'*'.center(width=3)\n",
    ">\" * \"\n",
    "```"
   ]
  },
  {
   "cell_type": "code",
   "execution_count": null,
   "metadata": {},
   "outputs": [],
   "source": []
  },
  {
   "cell_type": "markdown",
   "metadata": {},
   "source": [
    "### 4.c Instead of a tree, create an arbitrarily sized (only odd numbers are accepted) diamond shape.\n",
    "\n",
    "Example: \n",
    "- `size=3` should display: \n",
    "\n",
    "```\n",
    " * \n",
    "***\n",
    " * \n",
    "```\n",
    "\n",
    "- `size=5` should display: \n",
    "\n",
    "```\n",
    "  * \n",
    " ***\n",
    "*****\n",
    " ***\n",
    "  *\n",
    "```"
   ]
  },
  {
   "cell_type": "code",
   "execution_count": null,
   "metadata": {},
   "outputs": [],
   "source": []
  },
  {
   "cell_type": "markdown",
   "metadata": {},
   "source": [
    "### 5. Write a function that decides whether a string contains the character `« e »` or not."
   ]
  },
  {
   "cell_type": "code",
   "execution_count": null,
   "metadata": {},
   "outputs": [],
   "source": []
  },
  {
   "cell_type": "markdown",
   "metadata": {},
   "source": [
    "### 6. Write a function that transforms text into \"esperente\" dialect. It should replace all the vowels in a string with `« e »`."
   ]
  },
  {
   "cell_type": "code",
   "execution_count": null,
   "metadata": {},
   "outputs": [],
   "source": []
  },
  {
   "cell_type": "markdown",
   "metadata": {},
   "source": [
    "### 7. Getting tired of `« e »` characters? Naah, one more: write a function that counts the number of `« e »` characters in a string."
   ]
  },
  {
   "cell_type": "code",
   "execution_count": null,
   "metadata": {},
   "outputs": [],
   "source": []
  },
  {
   "cell_type": "markdown",
   "metadata": {},
   "source": [
    "### 8. Write a function that inserts a * between every two characters in a string.\n",
    "\n",
    "Example: `gaston` > `g*a*s*t*o*n`"
   ]
  },
  {
   "cell_type": "code",
   "execution_count": null,
   "metadata": {},
   "outputs": [],
   "source": []
  },
  {
   "cell_type": "markdown",
   "metadata": {},
   "source": [
    "### 9. Write a function that prints a string in reverse order.\n",
    "Example: `live` > `evil`"
   ]
  },
  {
   "cell_type": "code",
   "execution_count": null,
   "metadata": {},
   "outputs": [],
   "source": []
  },
  {
   "cell_type": "markdown",
   "metadata": {},
   "source": [
    "### 10. Write a function that decides whether a string is  [palindrome](https://en.wikipedia.org/wiki/Palindrome) or not.\n",
    "Example: `python` > False, `mom` > True"
   ]
  },
  {
   "cell_type": "code",
   "execution_count": null,
   "metadata": {},
   "outputs": [],
   "source": []
  },
  {
   "cell_type": "markdown",
   "metadata": {},
   "source": [
    "### 10.a Extend the previous function to work with sentences as well (ignore casing, whitespace or symbols).\n",
    "\n",
    "Examples:\n",
    "- `Was it a car or a cat I saw?` > True\n",
    "- `Are we not pure? “No, sir!” Panama’s moody Noriega brags. “It is garbage!” Irony dooms a man—a prisoner up to new era.` > True\n",
    "- `Random not palindrome sentence` > False"
   ]
  },
  {
   "cell_type": "code",
   "execution_count": null,
   "metadata": {},
   "outputs": [],
   "source": []
  },
  {
   "cell_type": "markdown",
   "metadata": {},
   "source": [
    "### 11. Combine two lists into a third one like in the following example:\n",
    "`t1 = [31, 28, 31, 30, 31, 30, 31, 31, 30, 31, 30, 31]`  \n",
    "`t2 = ['January', 'February', 'March', 'April', 'May', 'June',\n",
    "       'July', 'August', 'September', 'Okteber', 'November', 'December']`\n",
    "       \n",
    "t3 should look like: `['January',31,'February',28,'March',31, ...].`"
   ]
  },
  {
   "cell_type": "code",
   "execution_count": null,
   "metadata": {},
   "outputs": [],
   "source": []
  },
  {
   "cell_type": "markdown",
   "metadata": {},
   "source": [
    "### 12. Given a list of numbers, create two separate list; one containing the even numbers, the other the odd numbers.\n",
    "\n",
    "Example:\n",
    "From `[32, 5, 12, 8, 3, 75, 2, 15]` the program should create `[32, 12, 8, 2]` and `[5, 3, 75, 15]`."
   ]
  },
  {
   "cell_type": "code",
   "execution_count": null,
   "metadata": {},
   "outputs": [],
   "source": []
  },
  {
   "cell_type": "markdown",
   "metadata": {},
   "source": [
    "### 13. Write a function that decides whether a given year is leap year or not.\n",
    "\n",
    "From [wiki](https://en.wikipedia.org/wiki/Leap_year#Gregorian_calendar):\n",
    "> Every year that is exactly divisible by four is a leap year, except for years that are exactly divisible by 100, but these centurial years are leap years if they are exactly divisible by 400. For example, the years 1700, 1800, and 1900 were not leap years, but the years 1600 and 2000 were."
   ]
  },
  {
   "cell_type": "code",
   "execution_count": null,
   "metadata": {},
   "outputs": [],
   "source": []
  },
  {
   "cell_type": "markdown",
   "metadata": {},
   "source": [
    "### 14. Write a `generate(n, char)` function that has two inputs: `n` and `char`. The output should be a string which contains `char` ,`n` times."
   ]
  },
  {
   "cell_type": "code",
   "execution_count": null,
   "metadata": {},
   "outputs": [],
   "source": []
  },
  {
   "cell_type": "markdown",
   "metadata": {},
   "source": [
    "### 15. Write a function called `count_char` that has two inputs :`char`, `string`. The output should be the number of appearances of `char` in `string`.\n",
    "\n",
    "Example: \n",
    "```python\n",
    "print(count_char('e', 'easy peasy'))\n",
    "> 2\n",
    "```"
   ]
  },
  {
   "cell_type": "code",
   "execution_count": null,
   "metadata": {},
   "outputs": [],
   "source": []
  }
 ],
 "metadata": {
  "anaconda-cloud": {},
  "kernelspec": {
   "display_name": "Python 3",
   "language": "python",
   "name": "python3"
  },
  "language_info": {
   "codemirror_mode": {
    "name": "ipython",
    "version": 3
   },
   "file_extension": ".py",
   "mimetype": "text/x-python",
   "name": "python",
   "nbconvert_exporter": "python",
   "pygments_lexer": "ipython3",
   "version": "3.7.3"
  }
 },
 "nbformat": 4,
 "nbformat_minor": 1
}
