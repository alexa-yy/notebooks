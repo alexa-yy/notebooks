{
 "cells": [
  {
   "cell_type": "markdown",
   "metadata": {},
   "source": [
    "# Python 101\n",
    "## Outro\n",
    "\n",
    "---\n",
    "\n",
    "## 1. Feedback\n",
    "Please fill in the feedback form at https://eval.component.hu/!\n",
    "\n",
    "## 2. Further reading\n",
    "\n",
    "- Python docs: https://docs.python.org/3/\n",
    "- os docs: https://docs.python.org/3/library/os.html\n",
    "- sys docs: https://docs.python.org/3/library/sys.html \n",
    "- Regex tutorial: https://docs.python.org/3/library/re.html\n",
    "- Python standard library docs: https://docs.python.org/3/library/index.html\n",
    "- lxml tutorial: https://lxml.de/tutorial.html\n",
    "- requests tutorial: http://docs.python-requests.org/en/master/ \n",
    "- Flask tutorial: http://flask.pocoo.org/docs/1.0/tutorial/\n",
    "- Anaconda distribution: http://anaconda.com\n",
    "- Anaconda extra package host: https://conda-forge.org\n",
    "- Google Colab: https://colab.research.google.com \n",
    "\n",
    "## Thank you for your attention and work!"
   ]
  },
  {
   "cell_type": "markdown",
   "metadata": {},
   "source": [
    "---\n",
    "\n",
    "## Package management\n",
    "\n",
    "### PIP\n",
    "- PyPI central package index\n",
    "- search python package: `pip search packagename`\n",
    "- install python package:\n",
    "    - latest: `pip install packagename`\n",
    "    - specific version: `pip install packagename==version`\n",
    "    - minimum required version: `pip install packagename>=version`\n",
    "- install local package: `pip install -e .`\n",
    "- usually requirements.txt contains required packages\n",
    "\n",
    "### conda\n",
    "- Anaconda maintained package index\n",
    "- conda-forge: community managed package index\n",
    "- search: `conda search package`\n",
    "- install python package:\n",
    "    - latest: `conda install package`\n",
    "    - from conda-forge: `conda install -c conda-forge package`\n"
   ]
  }
 ],
 "metadata": {
  "kernelspec": {
   "display_name": "Python 3",
   "language": "python",
   "name": "python3"
  },
  "language_info": {
   "codemirror_mode": {
    "name": "ipython",
    "version": 3
   },
   "file_extension": ".py",
   "mimetype": "text/x-python",
   "name": "python",
   "nbconvert_exporter": "python",
   "pygments_lexer": "ipython3",
   "version": "3.7.3"
  }
 },
 "nbformat": 4,
 "nbformat_minor": 2
}
