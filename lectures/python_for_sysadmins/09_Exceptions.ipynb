{
 "cells": [
  {
   "cell_type": "markdown",
   "metadata": {},
   "source": [
    "# Python 101\n",
    "## IX. Exceptions\n",
    "\n",
    "---\n",
    "\n",
    "### Errors\n",
    "\n",
    "If the code is syntactically incorrect the interpreter won't be able to execute it. -> You'll get a syntax error."
   ]
  },
  {
   "cell_type": "code",
   "execution_count": null,
   "metadata": {},
   "outputs": [],
   "source": [
    "while True print('Hello world')"
   ]
  },
  {
   "cell_type": "markdown",
   "metadata": {},
   "source": [
    "### Exceptions\n",
    "\n",
    "If the code is syntactically correct unexpected events can still happen during execution, and the program will terminate like this:"
   ]
  },
  {
   "cell_type": "code",
   "execution_count": null,
   "metadata": {},
   "outputs": [],
   "source": [
    "class Divider:\n",
    "    # the call method is called, if we call the object itself\n",
    "    def __call__(self, num1, num2):\n",
    "        return num1 / num2\n",
    "    \n",
    "divide = Divider()\n",
    "print(divide(2, 1))\n",
    "print(divide(1, 0))\n",
    "print(divide(3, 2))"
   ]
  },
  {
   "cell_type": "markdown",
   "metadata": {},
   "source": [
    "As we can see, dividing by zero is not possible, so a ZeroDivisionError emerged and our program stopped. Our program shouldn't stop running, so we have to handle these cases! -> Let's use Exceptions!"
   ]
  },
  {
   "cell_type": "code",
   "execution_count": null,
   "metadata": {},
   "outputs": [],
   "source": [
    "class Divider:\n",
    "    def __call__(self, num1, num2):\n",
    "        # in order to catch the errors, we need to use the try except structure:\n",
    "        try:\n",
    "            # we try to do something\n",
    "            return num1 / num2\n",
    "        # in case an exception happened, handle it!\n",
    "        except ZeroDivisionError:\n",
    "            print('Dividing by zero is not possible!')\n",
    "            return 0\n",
    "            \n",
    "divide = Divider()\n",
    "print(divide(2, 1))\n",
    "print(divide(1, 0))\n",
    "print(divide(3, 2))"
   ]
  },
  {
   "cell_type": "markdown",
   "metadata": {},
   "source": [
    "ZeroDivisionError is a subclass of the Exception class. There are many different type of Exceptions."
   ]
  },
  {
   "cell_type": "code",
   "execution_count": null,
   "metadata": {},
   "outputs": [],
   "source": [
    "class Divider:\n",
    "    def __call__(self, num1, num2):\n",
    "        try:\n",
    "            return num1 / num2\n",
    "        except ZeroDivisionError:\n",
    "            print('Dividing by zero is not possible!')\n",
    "            return 0\n",
    "            \n",
    "divide = Divider()\n",
    "print(divide(1, 0))\n",
    "# for example this will cause a different type of exception:\n",
    "print(divide(3, '2'))"
   ]
  },
  {
   "cell_type": "markdown",
   "metadata": {},
   "source": [
    "Like the TypeError. We cannot divide a number with a string. Let's fix it!"
   ]
  },
  {
   "cell_type": "code",
   "execution_count": null,
   "metadata": {},
   "outputs": [],
   "source": [
    "class Divider:\n",
    "    def __call__(self, num1, num2):\n",
    "        try:\n",
    "            return num1 / num2\n",
    "        except ZeroDivisionError:\n",
    "            print('Dividing by zero is not possible!')\n",
    "            return 0\n",
    "        # we can have as many except branch as many we want!\n",
    "        except TypeError:\n",
    "            print('Numbers can only be divided by numbers!')\n",
    "            return 0\n",
    "            \n",
    "divide = Divider()\n",
    "print(divide(1, 0))\n",
    "print(divide(3, '2'))"
   ]
  },
  {
   "cell_type": "markdown",
   "metadata": {},
   "source": [
    "We can also merge multiple exceptions into one:"
   ]
  },
  {
   "cell_type": "code",
   "execution_count": null,
   "metadata": {},
   "outputs": [],
   "source": [
    "class Divider:\n",
    "    def __call__(self, num1, num2):\n",
    "        try:\n",
    "            return num1 / num2\n",
    "        except (ZeroDivisionError, TypeError):\n",
    "            print('ERROR!')\n",
    "            return 0\n",
    "            \n",
    "divide = Divider()\n",
    "print(divide(1, 0))\n",
    "print(divide(3, '2'))"
   ]
  },
  {
   "cell_type": "markdown",
   "metadata": {},
   "source": [
    "Other exception types:\n",
    "\n",
    "- ValueError"
   ]
  },
  {
   "cell_type": "code",
   "execution_count": null,
   "metadata": {},
   "outputs": [],
   "source": [
    "try:\n",
    "    print(int('string'))\n",
    "except ValueError:\n",
    "    print('This string is not a number!')"
   ]
  },
  {
   "cell_type": "markdown",
   "metadata": {},
   "source": [
    "- NameError    "
   ]
  },
  {
   "cell_type": "code",
   "execution_count": null,
   "metadata": {},
   "outputs": [],
   "source": [
    "try:\n",
    "    print(spam)\n",
    "except NameError:\n",
    "    print('There is no such thing as \\'spam\\'!')"
   ]
  },
  {
   "cell_type": "markdown",
   "metadata": {},
   "source": [
    "- IndexError"
   ]
  },
  {
   "cell_type": "code",
   "execution_count": null,
   "metadata": {},
   "outputs": [],
   "source": [
    "try:\n",
    "    mylist = [1, 2, 3]\n",
    "    print(mylist[len(mylist)])\n",
    "except IndexError:\n",
    "    print('Index is larger then the length of the list!')"
   ]
  },
  {
   "cell_type": "markdown",
   "metadata": {},
   "source": [
    "- KeyError"
   ]
  },
  {
   "cell_type": "code",
   "execution_count": null,
   "metadata": {},
   "outputs": [],
   "source": [
    "try:\n",
    "    mydict = {'a': 1, 'b': 2}\n",
    "    print(mydict['c'])\n",
    "except KeyError:\n",
    "    print('Key not exists!')"
   ]
  },
  {
   "cell_type": "markdown",
   "metadata": {},
   "source": [
    "- IOError"
   ]
  },
  {
   "cell_type": "code",
   "execution_count": null,
   "metadata": {},
   "outputs": [],
   "source": [
    "try:\n",
    "    not_existing_filename = 'a_file_that_is_not_exists.txt'\n",
    "    myfile = open(not_existing_filename, 'r')\n",
    "    myfile.readlines()\n",
    "except IOError:\n",
    "    print('The specified file does not exist!')"
   ]
  },
  {
   "cell_type": "markdown",
   "metadata": {},
   "source": [
    "__BAD PRACTICE__: \n",
    "\n",
    "we can catch every exception, if we're not specifically tell the program which one we want to handle:"
   ]
  },
  {
   "cell_type": "code",
   "execution_count": null,
   "metadata": {},
   "outputs": [],
   "source": [
    "class Divider:\n",
    "    def __call__(self, num1, num2):\n",
    "        try:\n",
    "            return num1 / num2\n",
    "        except:\n",
    "            print('ERROR!')\n",
    "            return 0\n",
    "            \n",
    "divide = Divider()\n",
    "print(divide(1, 0))\n",
    "print(divide(3, '2'))"
   ]
  },
  {
   "cell_type": "markdown",
   "metadata": {},
   "source": [
    "It's really bad, because we don't know what caused the problem. But at least we can get the details:"
   ]
  },
  {
   "cell_type": "code",
   "execution_count": null,
   "metadata": {},
   "outputs": [],
   "source": [
    "class Divider:\n",
    "    def __call__(self, num1, num2):\n",
    "        try:\n",
    "            return num1 / num2\n",
    "        except Exception as e:\n",
    "            print('ERROR!', type(e))\n",
    "            return 0\n",
    "            \n",
    "divide = Divider()\n",
    "print(divide(1, 0))\n",
    "print(divide(3, '2'))"
   ]
  },
  {
   "cell_type": "markdown",
   "metadata": {},
   "source": [
    "We can even invoke Exceptions:"
   ]
  },
  {
   "cell_type": "code",
   "execution_count": null,
   "metadata": {},
   "outputs": [],
   "source": [
    "class MyClass:\n",
    "    def awesome_method(self):\n",
    "        # you can invoke an Exception with the raise keyword\n",
    "        # use this Exception if you havent implemented a function/method yet\n",
    "        raise NotImplementedError(\"You've got to wait buddy!\")\n",
    "    \n",
    "    def method(self, number):\n",
    "        if number != 2:\n",
    "            # general exception\n",
    "            raise Exception('This number is not 2!')\n",
    "            \n",
    "        \n",
    "myobj = MyClass()\n",
    "try:\n",
    "    myobj.awesome_method()\n",
    "except NotImplementedError:\n",
    "    print('This method is not yet implemented!')\n",
    "    \n",
    "try:\n",
    "    myobj.method(3)\n",
    "except Exception as e:\n",
    "    # print the \n",
    "    # - type of the Exception\n",
    "    print(type(e))\n",
    "    # - arguments of the Exception\n",
    "    print(e.args)\n",
    "    # - arguments of the Exception as string\n",
    "    print(e)\n",
    "    arg = e.args\n",
    "    # - arguments of the Exception saved in a variable\n",
    "    print(arg)"
   ]
  },
  {
   "cell_type": "markdown",
   "metadata": {},
   "source": [
    "If we want to execute something only if no Exceptions were raised, we can use the else statement."
   ]
  },
  {
   "cell_type": "code",
   "execution_count": null,
   "metadata": {},
   "outputs": [],
   "source": [
    "class Divider:\n",
    "    def __call__(self, num1, num2):\n",
    "        try:\n",
    "            result = num1 / num2\n",
    "        except ZeroDivisionError:\n",
    "            print('Cannot divide by Zero!')\n",
    "        else:\n",
    "            print(num1, '/', num2, '=' , result)\n",
    "            \n",
    "divide = Divider()\n",
    "divide(2, 0)\n",
    "divide(2, 1)"
   ]
  },
  {
   "cell_type": "markdown",
   "metadata": {},
   "source": [
    "We can also add a cleanup method as well:"
   ]
  },
  {
   "cell_type": "code",
   "execution_count": null,
   "metadata": {},
   "outputs": [],
   "source": [
    "class Divider:\n",
    "    def __call__(self, num1, num2):\n",
    "        try:\n",
    "            result = num1 / num2\n",
    "        except ZeroDivisionError:\n",
    "            print('Cannot divide by Zero!')\n",
    "        else:\n",
    "            print(num1, '/', num2, '=' , result)\n",
    "        finally:\n",
    "            print('finished running')\n",
    "            \n",
    "divide = Divider()\n",
    "divide(2, 0)\n",
    "divide(2, 1)"
   ]
  },
  {
   "cell_type": "markdown",
   "metadata": {},
   "source": [
    "We can define our own Exceptions!"
   ]
  },
  {
   "cell_type": "code",
   "execution_count": null,
   "metadata": {},
   "outputs": [],
   "source": [
    "class MyError(Exception):\n",
    "    def __init__(self, value):\n",
    "        self.value = value\n",
    "    \n",
    "    def __str__(self):\n",
    "        # repr returns the string representation of the object.\n",
    "        return repr(self.value)\n",
    "\n",
    "try:\n",
    "    raise MyError(2*2)\n",
    "except MyError as e:\n",
    "    print('My exception occurred, value:', e.value)"
   ]
  },
  {
   "cell_type": "markdown",
   "metadata": {},
   "source": [
    "In the previous example, the Exception class' default `__init__()` method has been overridden. Instead of `*args`, this new Exception has a `value` attribute.   \n",
    "When creating a module that can raise several distinct errors, a common practice is to create a base class for exceptions defined by that module and subclass it to create specific exception classes for different error conditions."
   ]
  },
  {
   "cell_type": "code",
   "execution_count": null,
   "metadata": {},
   "outputs": [],
   "source": [
    "class BaseError(Exception):\n",
    "    \"\"\"Base class for our exceptions.\"\"\"\n",
    "    pass\n",
    "\n",
    "\n",
    "class NumberError(BaseError):\n",
    "    \"\"\"Exception raised when a not wanted number entered.\"\"\"\n",
    "\n",
    "    def __init__(self, number, explanation):\n",
    "        self.number = number\n",
    "        self.exp = explanation\n",
    "\n",
    "        \n",
    "class CharacterError(BaseError):\n",
    "    \"\"\"Exception raised when a not wanted character entered.\"\"\"\n",
    "\n",
    "    def __init__(self, character):\n",
    "        self.character = character\n",
    "        self.exp = \"You messed with the wrong character, buddy!\""
   ]
  },
  {
   "cell_type": "markdown",
   "metadata": {},
   "source": [
    "## Exercise\n",
    "\n",
    "#### 1. Write a \"Guess the number\" game class which handle erroneous inputs"
   ]
  },
  {
   "cell_type": "code",
   "execution_count": null,
   "metadata": {},
   "outputs": [],
   "source": [
    "# import random module\n",
    "import random\n",
    "\n",
    "# create a class\n",
    "class GuessANumber(object):\n",
    "\n",
    "    # init with a random number\n",
    "    def __init__(self, limit=10):\n",
    "        pass  # write your code here\n",
    "        \n",
    "    # write a respond method, which returns 'Win', 'Lower', 'Higher' words as response to it's argument.\n",
    "    # in case of errors, inform the user.\n",
    "    def guess(self, guess):\n",
    "        pass  # write your code here\n",
    "            "
   ]
  },
  {
   "cell_type": "code",
   "execution_count": null,
   "metadata": {},
   "outputs": [],
   "source": [
    "inputs = ['valami', 0.3, 5, 'a']\n",
    "for inp in inputs:\n",
    "    print('game init...', end='')\n",
    "    game = GuessANumber(inp)\n",
    "    print('done. Target:', game.number)\n",
    "    for guess in inputs:\n",
    "        print('- guess:', guess)\n",
    "        game.guess(guess)\n",
    "    print '-'*30"
   ]
  },
  {
   "cell_type": "markdown",
   "metadata": {},
   "source": [
    "#### 2. RPS class with error handling"
   ]
  },
  {
   "cell_type": "code",
   "execution_count": null,
   "metadata": {},
   "outputs": [],
   "source": []
  },
  {
   "cell_type": "code",
   "execution_count": null,
   "metadata": {},
   "outputs": [],
   "source": [
    "inputs = ['valami', 0.3, 5, 'r']\n",
    "rps = RPS()\n",
    "for inp in inputs:\n",
    "    rps.play(inp)"
   ]
  },
  {
   "cell_type": "markdown",
   "metadata": {},
   "source": [
    "#### 3. Count the files in a given directory.\n",
    "- Count them by extensions. (eg: {\"ipynb\": 6, \"py': 1})\n",
    "- hint(s):\n",
    "    - use `os.listdir` to list everything in a directory\n",
    "    - use `os.path.isfile` to determine if the item in the given path is a file\n",
    "    - use `os.path.join` to join the directory and the filename together\n",
    "    - there is a `Counter` class in the `collections` standard library - you can use it in this case"
   ]
  },
  {
   "cell_type": "code",
   "execution_count": null,
   "metadata": {},
   "outputs": [],
   "source": [
    "import os\n",
    "from collections import Counter"
   ]
  },
  {
   "cell_type": "code",
   "execution_count": null,
   "metadata": {},
   "outputs": [],
   "source": []
  },
  {
   "cell_type": "markdown",
   "metadata": {},
   "source": [
    "#### 4. Write a basic calculator\n",
    "With the following features:\n",
    "- only two numbers and an operation allowed\n",
    "- operation can be: __`+`__, __`-`__, __`*`__, __`/`__, __`^`__, __`&`__ (and), __`|`__ (or), __`=`__ (equality check), __`~`__ (negation, the second number is ignored)\n",
    "- be careful to handle exceptions!"
   ]
  },
  {
   "cell_type": "raw",
   "metadata": {},
   "source": []
  },
  {
   "cell_type": "markdown",
   "metadata": {},
   "source": [
    "#### 5. Save/load your work!\n",
    "Create a loader/saver class, which can save variables to files and then load from them.\n",
    "- saving should have two parameters: target filename, and `**kwargs`\n",
    "- `kwargs` will now contains every given variables in a **dictionary** in the following format: `{variable_name: value, ...}`\n",
    "- saving is pretty easy: use the `dump()` function from the `json` library to create a string representation of the variables and write it to the target file\n",
    "- saving shouldn't overwrite previous saves!\n",
    "- loading should have one parameter: source file name\n",
    "- to load the data, you should use the `json` library `load()` function on the lines readed from the save file\n",
    "- loading should return the result(s) of the `json.load()` function call\n",
    "- loading should load all of the save data, and remove the save file\n",
    "\n",
    "Do not forget about error handling!"
   ]
  },
  {
   "cell_type": "code",
   "execution_count": null,
   "metadata": {},
   "outputs": [],
   "source": [
    "import json"
   ]
  },
  {
   "cell_type": "code",
   "execution_count": null,
   "metadata": {},
   "outputs": [],
   "source": [
    "class SaveLoader(object):\n",
    "    pass  # your code goes here"
   ]
  },
  {
   "cell_type": "code",
   "execution_count": null,
   "metadata": {},
   "outputs": [],
   "source": [
    "sl = SaveLoader()\n",
    "sl.save('mylittlesave.sav', a=7, b=8, c={'a': 7, 'b': 8}, d=[])\n",
    "a = 7\n",
    "b = 8\n",
    "c = {'a': a, 'b': b}\n",
    "d = [a, b, c]\n",
    "sl.save('mylittlesave.sav', d=d)"
   ]
  },
  {
   "cell_type": "code",
   "execution_count": null,
   "metadata": {},
   "outputs": [],
   "source": [
    "sl.load('mylittlenonexistingsave.sav')"
   ]
  },
  {
   "cell_type": "code",
   "execution_count": null,
   "metadata": {},
   "outputs": [],
   "source": [
    "print(sl.load('mylittlesave.sav'))"
   ]
  },
  {
   "cell_type": "markdown",
   "metadata": {},
   "source": [
    "The result should be:\n",
    "\n",
    "`[{'a': 7, 'b': 8, 'c': {'a': 7, 'b': 8}, 'd': []}, \n",
    " {'d': [7, 8, {'a': 7, 'b': 8}]}]`"
   ]
  }
 ],
 "metadata": {
  "kernelspec": {
   "display_name": "Python 3",
   "language": "python",
   "name": "python3"
  },
  "language_info": {
   "codemirror_mode": {
    "name": "ipython",
    "version": 3
   },
   "file_extension": ".py",
   "mimetype": "text/x-python",
   "name": "python",
   "nbconvert_exporter": "python",
   "pygments_lexer": "ipython3",
   "version": "3.7.0"
  }
 },
 "nbformat": 4,
 "nbformat_minor": 1
}
