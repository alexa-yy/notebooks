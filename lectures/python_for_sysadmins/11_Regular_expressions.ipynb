{
 "cells": [
  {
   "cell_type": "markdown",
   "metadata": {},
   "source": [
    "# Python 101\n",
    "## XI. Regular expressions\n",
    "\n",
    "---\n",
    "\n",
    "## The `re` module\n",
    "\n",
    "Python implements regex search with the `re` module."
   ]
  },
  {
   "cell_type": "code",
   "execution_count": null,
   "metadata": {},
   "outputs": [],
   "source": [
    "import re"
   ]
  },
  {
   "cell_type": "markdown",
   "metadata": {},
   "source": [
    "### Regular expressions\n",
    "\n",
    "Regular expression syntax can be found <a href=\"https://docs.python.org/3/library/re.html\">here</a>. Generated expressions can be tested with online tools, like <a href=\"https://regex101.com/\">regex101</a> or <a href=\"https://pythex.org/\">pythex</a>.\n",
    "\n",
    "### Finding matches\n",
    "\n",
    "- Raw strings vs regular strings"
   ]
  },
  {
   "cell_type": "code",
   "execution_count": null,
   "metadata": {},
   "outputs": [],
   "source": [
    "print('te\\nst')"
   ]
  },
  {
   "cell_type": "code",
   "execution_count": null,
   "metadata": {},
   "outputs": [],
   "source": [
    "print(r'te\\nst')"
   ]
  },
  {
   "cell_type": "markdown",
   "metadata": {},
   "source": [
    "- Matching pattern in the beginning of the text with `re.match`"
   ]
  },
  {
   "cell_type": "code",
   "execution_count": null,
   "metadata": {},
   "outputs": [],
   "source": [
    "re.match(r't\\S', 'test string')"
   ]
  },
  {
   "cell_type": "markdown",
   "metadata": {},
   "source": [
    "- Matching pattern anywhere with `re.search`"
   ]
  },
  {
   "cell_type": "code",
   "execution_count": null,
   "metadata": {},
   "outputs": [],
   "source": [
    "re.search(r't\\S', 'test string')"
   ]
  },
  {
   "cell_type": "markdown",
   "metadata": {},
   "source": [
    "- Finding every occurence of a pattern with `re.findall`"
   ]
  },
  {
   "cell_type": "code",
   "execution_count": null,
   "metadata": {},
   "outputs": [],
   "source": [
    "re.findall(r't\\S', 'test string')"
   ]
  },
  {
   "cell_type": "markdown",
   "metadata": {},
   "source": [
    "- Splitting text with `re.split`"
   ]
  },
  {
   "cell_type": "code",
   "execution_count": null,
   "metadata": {},
   "outputs": [],
   "source": [
    "re.split(r't\\S', 'test string')"
   ]
  },
  {
   "cell_type": "markdown",
   "metadata": {},
   "source": [
    "- Substituting matches with `re.sub`"
   ]
  },
  {
   "cell_type": "code",
   "execution_count": null,
   "metadata": {},
   "outputs": [],
   "source": [
    "re.sub(r't\\S', 'XX', 'test string')"
   ]
  },
  {
   "cell_type": "markdown",
   "metadata": {},
   "source": [
    "- Speed up matches by compiling regular expressions with `re.compile`"
   ]
  },
  {
   "cell_type": "code",
   "execution_count": null,
   "metadata": {},
   "outputs": [],
   "source": [
    "pattern = re.compile(r't\\S')\n",
    "pattern.findall('test string')"
   ]
  },
  {
   "cell_type": "markdown",
   "metadata": {},
   "source": [
    "### Exercises\n",
    "\n",
    "#### 1. Find every email address from an example log file (data/test.log)"
   ]
  },
  {
   "cell_type": "code",
   "execution_count": null,
   "metadata": {},
   "outputs": [],
   "source": [
    "import random\n",
    "\n",
    "prefixes = ['ERROR', 'WARNING'] + ['DEBUG'] * 5 + ['INFO'] * 3\n",
    "users = [''.join([chr(random.randint(97, 122)) \n",
    "                  for char in range(random.randint(5, 15))])]\n",
    "providers = ['gmail.com', 'yahoo.com', 'hotmail.com']\n",
    "\n",
    "with open('data/test.log', 'w') as f:\n",
    "    for _ in range(100):\n",
    "        prefix = random.choice(prefixes, )\n",
    "        user = random.choice(users)\n",
    "        provider = random.choice(providers)\n",
    "        premsg = ' '.join([''.join([chr(random.randint(97, 122)) \n",
    "                                    for char in range(random.randint(5, 15))]) \n",
    "                           for word in range(random.randint(3, 7))])\n",
    "        postmsg = ' '.join([''.join([chr(random.randint(97, 122)) \n",
    "                                     for char in range(random.randint(5, 15))]) \n",
    "                            for word in range(random.randint(3, 7))])\n",
    "        f.write(f'[{prefix}] {premsg} - {user}@{provider} - {postmsg}\\n')"
   ]
  },
  {
   "cell_type": "code",
   "execution_count": null,
   "metadata": {},
   "outputs": [],
   "source": []
  },
  {
   "cell_type": "markdown",
   "metadata": {},
   "source": [
    "#### 2. Parse a csv file (data/text.csv)"
   ]
  },
  {
   "cell_type": "code",
   "execution_count": null,
   "metadata": {},
   "outputs": [],
   "source": []
  }
 ],
 "metadata": {
  "kernelspec": {
   "display_name": "Python 3",
   "language": "python",
   "name": "python3"
  },
  "language_info": {
   "codemirror_mode": {
    "name": "ipython",
    "version": 3
   },
   "file_extension": ".py",
   "mimetype": "text/x-python",
   "name": "python",
   "nbconvert_exporter": "python",
   "pygments_lexer": "ipython3",
   "version": "3.7.0"
  }
 },
 "nbformat": 4,
 "nbformat_minor": 2
}
