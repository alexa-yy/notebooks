{
 "cells": [
  {
   "cell_type": "markdown",
   "metadata": {},
   "source": [
    "# Python 101\n",
    "## XII. Command line interfaces\n",
    "\n",
    "---\n",
    "\n",
    "## I. `sys.argv` \n",
    "\n",
    "Python's built in solution it gives full control over the arguments but creating a sophisticated CLI requires lot's of work."
   ]
  },
  {
   "cell_type": "code",
   "execution_count": null,
   "metadata": {},
   "outputs": [],
   "source": [
    "import os\n",
    "import sys"
   ]
  },
  {
   "cell_type": "markdown",
   "metadata": {},
   "source": [
    "- works nicely for simple tasks"
   ]
  },
  {
   "cell_type": "code",
   "execution_count": null,
   "metadata": {},
   "outputs": [],
   "source": [
    "content = \"\"\"\n",
    "import sys\n",
    "\n",
    "if __name__ == '__main__':\n",
    "    fn, *args = sys.argv\n",
    "    print(f'Script {fn} called with {len(args)} arguments.')\n",
    "\"\"\"\n",
    "\n",
    "with open(\"test.py\", 'w') as f:\n",
    "    f.write(content)\n",
    "\n",
    "print(os.system('python test.py arg1 arg2 arg3'))\n",
    "\n",
    "os.remove('test.py')"
   ]
  },
  {
   "cell_type": "markdown",
   "metadata": {},
   "source": [
    "- but quickly becomes a chore "
   ]
  },
  {
   "cell_type": "code",
   "execution_count": null,
   "metadata": {},
   "outputs": [],
   "source": [
    "content = \"\"\"\n",
    "import sys\n",
    "\n",
    "if __name__ == '__main__':\n",
    "    counting, listing, isin, nonkwargs = False, False, None, []\n",
    "    fn, *args = sys.argv\n",
    "    for i, arg in enumerate(args):\n",
    "        if arg in ('-h', '--help'):\n",
    "            print(\"test.py's help function. Available arguments:\")\n",
    "            print(\"usage: test.py [-h] [-c|--count] [-l|--list] [-i|--isin VAL] ARG [ARG ...]\")\n",
    "            print(\"-h, --help: prints this message\")\n",
    "            print(\"-c, --count: counts non-keyword arguments\")\n",
    "            print(\"-l, --list: list non-keyword arguments\")\n",
    "            print(\"-i, --isin VAL: checks whether VAL is included in the argument list\")\n",
    "            sys.exit(0)\n",
    "        elif arg in ('-c', '--count'):\n",
    "            counting = True\n",
    "        elif arg in ('-l', '--list'):\n",
    "            listing = True\n",
    "        elif arg in ('-i', '--isin'):\n",
    "            if len(args) > i + 1:\n",
    "                isin = i + 1\n",
    "            else:\n",
    "                print('Error, missing argument!')\n",
    "                sys.exit(1)\n",
    "        else:\n",
    "            if i != isin:\n",
    "                nonkwargs.append(arg)\n",
    "    if counting:\n",
    "        print(f'Number of arguments: {len(nonkwargs)}')\n",
    "    if listing:\n",
    "        print(f'Arguments: {nonkwargs}')\n",
    "    if isin:\n",
    "        if args[isin] in nonkwargs:\n",
    "            print(f'\"{args[isin]}\" found in argument list.')\n",
    "        else:\n",
    "            print(f'Could not find \"{args[isin]}\" in argument list.')\n",
    "\"\"\"\n",
    "\n",
    "with open(\"test.py\", 'w') as f:\n",
    "    f.write(content)\n",
    "\n",
    "print(os.system('python test.py arg1 arg2 arg3'))\n",
    "print(os.system('python test.py --help'))\n",
    "print(os.system('python test.py -c -l -i test arg1 arg2 test'))\n",
    "print(os.system('python test.py -i'))\n",
    "\n",
    "os.remove('test.py')"
   ]
  },
  {
   "cell_type": "markdown",
   "metadata": {},
   "source": [
    "---\n",
    "\n",
    "## II. `argparse`\n",
    "\n",
    "Python built-in argument parser library which streamlines the creation of command line interfaces. It has a lot of QOL functions to create different types of input parameters."
   ]
  },
  {
   "cell_type": "code",
   "execution_count": null,
   "metadata": {},
   "outputs": [],
   "source": [
    "import argparse"
   ]
  },
  {
   "cell_type": "markdown",
   "metadata": {},
   "source": [
    "#### 1. Basic workflow:\n",
    "    \n",
    "1. Create a parser\n",
    "```python\n",
    "parser = argparse.ArgumentParser(description=\"test script for argument parsing\")\n",
    "```\n",
    "2. Add arguments\n",
    "```python\n",
    "parser.add_argument('-foo', help=\"foo help\")\n",
    "```\n",
    "3. Parsing the arguments\n",
    "```python\n",
    "args = parser.parse_args()\n",
    "```"
   ]
  },
  {
   "cell_type": "code",
   "execution_count": null,
   "metadata": {},
   "outputs": [],
   "source": [
    "content = \"\"\"\n",
    "import argparse\n",
    "\n",
    "if __name__ == '__main__':\n",
    "    parser = argparse.ArgumentParser(description=\"test script for argument parsing\")\n",
    "    parser.add_argument('--foo', help=\"foo help\")\n",
    "    args = parser.parse_args()\n",
    "    print(args.foo)\n",
    "\"\"\"\n",
    "\n",
    "with open(\"test.py\", 'w') as f:\n",
    "    f.write(content)\n",
    "\n",
    "print(os.system('python test.py --foo arg1'))\n",
    "\n",
    "os.remove('test.py')"
   ]
  },
  {
   "cell_type": "markdown",
   "metadata": {},
   "source": [
    "#### 2. Argument types\n",
    "\n",
    "- string type:\n",
    "```python\n",
    "parser.add_argument('--arg')\n",
    "```\n",
    "- ...\n",
    "```python\n",
    "parser.add_argument('--arg')\n",
    "```"
   ]
  },
  {
   "cell_type": "markdown",
   "metadata": {},
   "source": [
    "---\n",
    "\n",
    "## III. Exercises\n",
    "\n",
    "### 1."
   ]
  },
  {
   "cell_type": "code",
   "execution_count": null,
   "metadata": {},
   "outputs": [],
   "source": []
  },
  {
   "cell_type": "markdown",
   "metadata": {},
   "source": [
    "### 2."
   ]
  },
  {
   "cell_type": "code",
   "execution_count": null,
   "metadata": {},
   "outputs": [],
   "source": []
  }
 ],
 "metadata": {
  "kernelspec": {
   "display_name": "Python 3",
   "language": "python",
   "name": "python3"
  },
  "language_info": {
   "codemirror_mode": {
    "name": "ipython",
    "version": 3
   },
   "file_extension": ".py",
   "mimetype": "text/x-python",
   "name": "python",
   "nbconvert_exporter": "python",
   "pygments_lexer": "ipython3",
   "version": "3.6.6"
  }
 },
 "nbformat": 4,
 "nbformat_minor": 2
}
