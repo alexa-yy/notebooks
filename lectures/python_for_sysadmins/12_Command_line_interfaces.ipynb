{
 "cells": [
  {
   "cell_type": "markdown",
   "metadata": {},
   "source": [
    "# Python 101\n",
    "## XII. Command line interfaces\n",
    "\n",
    "---\n",
    "\n",
    "## I. `sys.argv`\n",
    "Python's built-in low level solution is `sys.argv`. It gives full control over the script arguments but building complex comand line interface is cumbersome."
   ]
  },
  {
   "cell_type": "code",
   "execution_count": 7,
   "metadata": {},
   "outputs": [],
   "source": [
    "import os\n",
    "import sys\n",
    "\n",
    "import subprocess"
   ]
  },
  {
   "cell_type": "code",
   "execution_count": 20,
   "metadata": {},
   "outputs": [],
   "source": [
    "def run(content, commands):\n",
    "    with open('test.py', 'w') as f:\n",
    "        f.write(content)\n",
    "\n",
    "    for command in commands:\n",
    "        print(f'Command {command} output:')\n",
    "        result = subprocess.run(command.split(), capture_output=True)\n",
    "        print(f\"STDOUT: {result.stdout.decode('latin1')}\\n\"\n",
    "              f\"STDERR: {result.stderr.decode('latin1')}\")\n",
    "        print('-' * 80)\n",
    "\n",
    "    os.remove('test.py')"
   ]
  },
  {
   "cell_type": "code",
   "execution_count": 9,
   "metadata": {},
   "outputs": [
    {
     "name": "stdout",
     "output_type": "stream",
     "text": [
      "Script test.py has the following arguments:\r\n",
      "- arg1\r\n",
      "- arg2\r\n",
      "- arg3\r\n",
      "\n"
     ]
    }
   ],
   "source": [
    "content = \"\"\"\n",
    "import sys\n",
    "\n",
    "if __name__ == '__main__':\n",
    "    fn, *args = sys.argv\n",
    "    print(f'Script {fn} has the following arguments:')\n",
    "    for arg in args:\n",
    "        print(f'- {arg}')\n",
    "\"\"\"\n",
    "\n",
    "run(content, ['python test.py arg1 arg2 arg3'])"
   ]
  },
  {
   "cell_type": "code",
   "execution_count": 12,
   "metadata": {
    "collapsed": true
   },
   "outputs": [
    {
     "name": "stdout",
     "output_type": "stream",
     "text": [
      "Command python test.py -h output:\n",
      "test.py script's help.\n",
      "usage: test.py [-h|--help] [-c|--count] [-l|--list] [-i|--isin VAL] ARG [ARG ...]\n",
      "\n",
      "Command python test.py -c -l -i txt arg1 arg2 txt output:\n",
      "Number of arguments: 3\n",
      "Arguments: ['-c', '-l', '-i', 'txt', 'arg1', 'arg2', 'txt']\n",
      "txt found in argument list.\n",
      "\n",
      "Command python test.py -c -l -i txt arg1 arg2 output:\n",
      "Number of arguments: 2\n",
      "Arguments: ['-c', '-l', '-i', 'txt', 'arg1', 'arg2']\n",
      "Could not find txt.\n",
      "\n",
      "Command python test.py -i output:\n",
      "Missing keyword argument!\n",
      "\n"
     ]
    }
   ],
   "source": [
    "content = \"\"\"\n",
    "import sys\n",
    "\n",
    "if __name__ == '__main__':\n",
    "    fn, *args = sys.argv\n",
    "    counting, listing, isin, nonkw = False, False, None, []\n",
    "    for i, arg in enumerate(args):\n",
    "        if arg in ('-h', '--help'):\n",
    "            print(f'{fn} script\\\\'s help.')\n",
    "            print(f'usage: test.py [-h|--help] [-c|--count] [-l|--list] [-i|--isin VAL] ARG [ARG ...]')\n",
    "        elif arg in ('-c', '--count'):\n",
    "            counting = True\n",
    "        elif arg in ('-l', '--list'):\n",
    "            listing = True\n",
    "        elif arg in ('-i', '--isin'):\n",
    "            if len(args) > i + 1:\n",
    "                isin = i + 1\n",
    "            else:\n",
    "                print('Missing keyword argument!')\n",
    "                sys.exit(1)\n",
    "        elif i != isin:\n",
    "            nonkw.append(arg)\n",
    "    if counting:\n",
    "        print(f'Number of arguments: {len(nonkw)}')\n",
    "    if listing:\n",
    "        print(f'Arguments: {args}')\n",
    "    if isin is not None:\n",
    "        if args[isin] in nonkw:\n",
    "            print(f'{args[isin]} found in argument list.')\n",
    "        else:\n",
    "            print(f'Could not find {args[isin]}.')\n",
    "\"\"\"\n",
    "\n",
    "run(content, ['python test.py -h', 'python test.py -c -l -i txt arg1 arg2 txt',\n",
    "              'python test.py -c -l -i txt arg1 arg2', 'python test.py -i'])"
   ]
  },
  {
   "cell_type": "markdown",
   "metadata": {},
   "source": [
    "---\n",
    "\n",
    "## II. `argparse`\n",
    "\n",
    "Python argument parser library enables to create complex command line interfaces.\n",
    "### 1. Basic workflow\n",
    "- Initialize an argument parser\n",
    "```python\n",
    "parser = argparse.ArgumentParser()\n",
    "```\n",
    "- Add arguments\n",
    "```python\n",
    "parser.add_argument('--foo', help='foo help')\n",
    "```\n",
    "- Parse the values\n",
    "```python\n",
    "args = parser.parse_args()\n",
    "```\n",
    "- Use values\n",
    "```python\n",
    "print(args.foo)\n",
    "```"
   ]
  },
  {
   "cell_type": "code",
   "execution_count": 15,
   "metadata": {},
   "outputs": [
    {
     "name": "stdout",
     "output_type": "stream",
     "text": [
      "Command python test.py -h output:\n",
      "usage: test.py [-h] [--foo FOO]\n",
      "\n",
      "optional arguments:\n",
      "  -h, --help  show this help message and exit\n",
      "  --foo FOO   foo help\n",
      "\n",
      "Command python test.py --foo arg1 output:\n",
      "arg1\n",
      "\n",
      "Command python test.py arg1 output:\n",
      "\n",
      "Command python test.py --bar output:\n",
      "\n"
     ]
    }
   ],
   "source": [
    "content = \"\"\"\n",
    "import argparse\n",
    "parser = argparse.ArgumentParser()\n",
    "parser.add_argument('--foo', help='foo help')\n",
    "args = parser.parse_args()\n",
    "print(args.foo)\n",
    "\"\"\"\n",
    "    \n",
    "commands = ['python test.py -h', 'python test.py --foo arg1',\n",
    "            'python test.py arg1', 'python test.py --bar']\n",
    "run(content, commands)"
   ]
  },
  {
   "cell_type": "markdown",
   "metadata": {},
   "source": [
    "### 2. Argument parameters\n",
    "\n",
    "- positional | optional\n",
    "    - positional\n",
    "    ```python\n",
    "    parser.add_argument('bar')\n",
    "    ```\n",
    "    - optional\n",
    "    ```python\n",
    "    parser.add_argument('--foo')\n",
    "    ```\n",
    "- argument data type\n",
    "    - int, float, string\n",
    "    ```python\n",
    "    parser.add_argument('--foo', type='int')\n",
    "    ```\n",
    "    - boolean\n",
    "    ```python\n",
    "    parser.add_argument('--foo', action='store_true')\n",
    "    ```\n",
    "- requirement\n",
    "    ```python\n",
    "    parser.add_argument('--foo', required=True)\n",
    "    ```\n",
    "- default value\n",
    "    ```python\n",
    "    parser.add_argument('--foo', default='foo')\n",
    "    ```\n",
    "- argument cardinality\n",
    "    - zero or one\n",
    "    ```python\n",
    "    parser.add_argument('--foo', nargs='?')\n",
    "    ```\n",
    "    - zero or more\n",
    "    ```python\n",
    "    parser.add_argument('--foo', nargs='*')\n",
    "    ```\n",
    "    - one or more\n",
    "    ```python\n",
    "    parser.add_argument('--foo', nargs='+')\n",
    "    ```\n",
    "- fixed set of values \n",
    "```python\n",
    "parser.add_argument('--foo', choices=['foo', 'bar', 'baz'])\n",
    "```\n",
    "- specified variable name\n",
    "```python\n",
    "parser.add_argument('--foo', dest='bar')\n",
    "```\n"
   ]
  },
  {
   "cell_type": "code",
   "execution_count": 19,
   "metadata": {},
   "outputs": [
    {
     "name": "stdout",
     "output_type": "stream",
     "text": [
      "Command python test.py -h output:\n",
      "STDOUT: usage: test.py [-h] [--foo FOO]\n",
      "\n",
      "optional arguments:\n",
      "  -h, --help  show this help message and exit\n",
      "  --foo FOO   foo help\n",
      "\n",
      "STDERR: \n",
      "--------------------------------------------------------------------------------\n",
      "Command python test.py --foo arg1 output:\n",
      "STDOUT: \n",
      "STDERR: usage: test.py [-h] [--foo FOO]\n",
      "test.py: error: argument --foo: invalid float value: 'arg1'\n",
      "\n",
      "--------------------------------------------------------------------------------\n",
      "Command python test.py --foo 1.2 output:\n",
      "STDOUT: 1.2\n",
      "\n",
      "STDERR: \n",
      "--------------------------------------------------------------------------------\n",
      "Command python test.py --bar output:\n",
      "STDOUT: \n",
      "STDERR: usage: test.py [-h] [--foo FOO]\n",
      "test.py: error: unrecognized arguments: --bar\n",
      "\n",
      "--------------------------------------------------------------------------------\n"
     ]
    }
   ],
   "source": [
    "content = \"\"\"\n",
    "import argparse\n",
    "parser = argparse.ArgumentParser()\n",
    "parser.add_argument('--foo', type=float, help='foo help')\n",
    "args = parser.parse_args()\n",
    "print(args.foo)\n",
    "\"\"\"\n",
    "\n",
    "with open('test.py', 'w') as f:\n",
    "    f.write(content)\n",
    "    \n",
    "commands = ['python test.py -h', 'python test.py --foo arg1',\n",
    "            'python test.py --foo 1.2', 'python test.py --bar']\n",
    "run(content, commands)"
   ]
  },
  {
   "cell_type": "markdown",
   "metadata": {},
   "source": [
    "---\n",
    "\n",
    "## III. Exercises\n",
    "\n",
    "### 1. Write a python calculator which gets the parameters through its CLI. For example:\n",
    "```bash\n",
    "python calc.py + 4 5\n",
    ">>> 9\n",
    "python calc.py - 4 5 3\n",
    ">>> -4\n",
    "python calc.py * 4 5 2 7\n",
    ">>> 280\n",
    "python calc.py / 4 2\n",
    ">>> 2\n",
    "```"
   ]
  },
  {
   "cell_type": "code",
   "execution_count": null,
   "metadata": {},
   "outputs": [],
   "source": []
  },
  {
   "cell_type": "markdown",
   "metadata": {},
   "source": [
    "### 2. Write a python script for file name generation:\n",
    "- optional log level with fixed choices\n",
    "- required date\n",
    "- optional name with default 'user' value\n",
    "- lowercase flag\n",
    "- separator character (default: '_')\n",
    "- possible extension\n",
    "- any extra argument to append to filename\n",
    "\n",
    "Example outputs:\n",
    "```bash\n",
    "python generate.py --log-level DEBUG --date 2018-11-08 --user admin --lowercase --separator - --extension log test\n",
    ">>> debug-2018-11-08-admin-test.log \n",
    "python generate.py --date 2018-11-08\n",
    ">>> 2018-11-08_user \n",
    "```"
   ]
  },
  {
   "cell_type": "code",
   "execution_count": null,
   "metadata": {},
   "outputs": [],
   "source": []
  }
 ],
 "metadata": {
  "kernelspec": {
   "display_name": "Python 3",
   "language": "python",
   "name": "python3"
  },
  "language_info": {
   "codemirror_mode": {
    "name": "ipython",
    "version": 3
   },
   "file_extension": ".py",
   "mimetype": "text/x-python",
   "name": "python",
   "nbconvert_exporter": "python",
   "pygments_lexer": "ipython3",
   "version": "3.7.0"
  }
 },
 "nbformat": 4,
 "nbformat_minor": 2
}
