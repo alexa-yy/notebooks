{
 "cells": [
  {
   "cell_type": "markdown",
   "metadata": {},
   "source": [
    "# Python 101\n",
    "## XIV. File content parsing\n",
    "\n",
    "---\n",
    "\n",
    "## I. `json` file parsing\n",
    "\n",
    "Python's standard library has a solution for json file parsing."
   ]
  },
  {
   "cell_type": "code",
   "execution_count": 1,
   "metadata": {},
   "outputs": [],
   "source": [
    "import os\n",
    "import json"
   ]
  },
  {
   "cell_type": "markdown",
   "metadata": {},
   "source": [
    "### 1. Basic workflow\n",
    "\n",
    "- transforming python objects to json string"
   ]
  },
  {
   "cell_type": "code",
   "execution_count": 2,
   "metadata": {},
   "outputs": [
    {
     "data": {
      "text/plain": [
       "'{\"key0\": [\"val00\", \"val01\", \"val02\", \"val03\", \"val04\", \"val05\", \"val06\", \"val07\", \"val08\", \"val09\"], \"key1\": [\"val10\", \"val11\", \"val12\", \"val13\", \"val14\", \"val15\", \"val16\", \"val17\", \"val18\", \"val19\"], \"key2\": [\"val20\", \"val21\", \"val22\", \"val23\", \"val24\", \"val25\", \"val26\", \"val27\", \"val28\", \"val29\"], \"key3\": [\"val30\", \"val31\", \"val32\", \"val33\", \"val34\", \"val35\", \"val36\", \"val37\", \"val38\", \"val39\"], \"key4\": [\"val40\", \"val41\", \"val42\", \"val43\", \"val44\", \"val45\", \"val46\", \"val47\", \"val48\", \"val49\"], \"key5\": [\"val50\", \"val51\", \"val52\", \"val53\", \"val54\", \"val55\", \"val56\", \"val57\", \"val58\", \"val59\"], \"key6\": [\"val60\", \"val61\", \"val62\", \"val63\", \"val64\", \"val65\", \"val66\", \"val67\", \"val68\", \"val69\"], \"key7\": [\"val70\", \"val71\", \"val72\", \"val73\", \"val74\", \"val75\", \"val76\", \"val77\", \"val78\", \"val79\"], \"key8\": [\"val80\", \"val81\", \"val82\", \"val83\", \"val84\", \"val85\", \"val86\", \"val87\", \"val88\", \"val89\"], \"key9\": [\"val90\", \"val91\", \"val92\", \"val93\", \"val94\", \"val95\", \"val96\", \"val97\", \"val98\", \"val99\"]}'"
      ]
     },
     "execution_count": 2,
     "metadata": {},
     "output_type": "execute_result"
    }
   ],
   "source": [
    "data = {f'key{i}': [f'val{i}{j}' for j in range(10)] for i in range(10)}\n",
    "json.dumps(data)"
   ]
  },
  {
   "cell_type": "markdown",
   "metadata": {},
   "source": [
    "- serializing python objects to json file"
   ]
  },
  {
   "cell_type": "code",
   "execution_count": 3,
   "metadata": {},
   "outputs": [],
   "source": [
    "with open('./data/test.json', 'w') as f:\n",
    "    json.dump(data, f)"
   ]
  },
  {
   "cell_type": "markdown",
   "metadata": {},
   "source": [
    "- loading from json string"
   ]
  },
  {
   "cell_type": "code",
   "execution_count": 4,
   "metadata": {},
   "outputs": [
    {
     "data": {
      "text/plain": [
       "{'users': [{'name': 'john', 'mail': 'john@doe.com'},\n",
       "  {'name': 'joe', 'mail': 'joe@doe.com'}],\n",
       " 'groups': [{'name': 'does', 'users': ['john', 'joe']}]}"
      ]
     },
     "execution_count": 4,
     "metadata": {},
     "output_type": "execute_result"
    }
   ],
   "source": [
    "data2 = json.loads('{\"users\": [{\"name\": \"john\", \"mail\": \"john@doe.com\"}, {\"name\": \"joe\", \"mail\": \"joe@doe.com\"}],'\n",
    "                   ' \"groups\": [{\"name\": \"does\", \"users\": [\"john\", \"joe\"]}]}')\n",
    "data2"
   ]
  },
  {
   "cell_type": "markdown",
   "metadata": {},
   "source": [
    "- load from file"
   ]
  },
  {
   "cell_type": "code",
   "execution_count": 5,
   "metadata": {
    "collapsed": true
   },
   "outputs": [
    {
     "data": {
      "text/plain": [
       "{'key0': ['val00',\n",
       "  'val01',\n",
       "  'val02',\n",
       "  'val03',\n",
       "  'val04',\n",
       "  'val05',\n",
       "  'val06',\n",
       "  'val07',\n",
       "  'val08',\n",
       "  'val09'],\n",
       " 'key1': ['val10',\n",
       "  'val11',\n",
       "  'val12',\n",
       "  'val13',\n",
       "  'val14',\n",
       "  'val15',\n",
       "  'val16',\n",
       "  'val17',\n",
       "  'val18',\n",
       "  'val19'],\n",
       " 'key2': ['val20',\n",
       "  'val21',\n",
       "  'val22',\n",
       "  'val23',\n",
       "  'val24',\n",
       "  'val25',\n",
       "  'val26',\n",
       "  'val27',\n",
       "  'val28',\n",
       "  'val29'],\n",
       " 'key3': ['val30',\n",
       "  'val31',\n",
       "  'val32',\n",
       "  'val33',\n",
       "  'val34',\n",
       "  'val35',\n",
       "  'val36',\n",
       "  'val37',\n",
       "  'val38',\n",
       "  'val39'],\n",
       " 'key4': ['val40',\n",
       "  'val41',\n",
       "  'val42',\n",
       "  'val43',\n",
       "  'val44',\n",
       "  'val45',\n",
       "  'val46',\n",
       "  'val47',\n",
       "  'val48',\n",
       "  'val49'],\n",
       " 'key5': ['val50',\n",
       "  'val51',\n",
       "  'val52',\n",
       "  'val53',\n",
       "  'val54',\n",
       "  'val55',\n",
       "  'val56',\n",
       "  'val57',\n",
       "  'val58',\n",
       "  'val59'],\n",
       " 'key6': ['val60',\n",
       "  'val61',\n",
       "  'val62',\n",
       "  'val63',\n",
       "  'val64',\n",
       "  'val65',\n",
       "  'val66',\n",
       "  'val67',\n",
       "  'val68',\n",
       "  'val69'],\n",
       " 'key7': ['val70',\n",
       "  'val71',\n",
       "  'val72',\n",
       "  'val73',\n",
       "  'val74',\n",
       "  'val75',\n",
       "  'val76',\n",
       "  'val77',\n",
       "  'val78',\n",
       "  'val79'],\n",
       " 'key8': ['val80',\n",
       "  'val81',\n",
       "  'val82',\n",
       "  'val83',\n",
       "  'val84',\n",
       "  'val85',\n",
       "  'val86',\n",
       "  'val87',\n",
       "  'val88',\n",
       "  'val89'],\n",
       " 'key9': ['val90',\n",
       "  'val91',\n",
       "  'val92',\n",
       "  'val93',\n",
       "  'val94',\n",
       "  'val95',\n",
       "  'val96',\n",
       "  'val97',\n",
       "  'val98',\n",
       "  'val99']}"
      ]
     },
     "execution_count": 5,
     "metadata": {},
     "output_type": "execute_result"
    }
   ],
   "source": [
    "with open('./data/test.json', 'r') as f:\n",
    "    data = json.load(f)\n",
    "data"
   ]
  },
  {
   "cell_type": "markdown",
   "metadata": {},
   "source": [
    "### Exercise: Export the `users` table from `data/example.db` to a json file (`data/users.json`)"
   ]
  },
  {
   "cell_type": "code",
   "execution_count": null,
   "metadata": {},
   "outputs": [],
   "source": []
  },
  {
   "cell_type": "markdown",
   "metadata": {},
   "source": [
    "---\n",
    "\n",
    "## II. Structured file parsing with `pandas`\n",
    "\n",
    "`pandas` (**pan**el **da**ta **s**tructure) is a third party library for structured data processing, transforming and exporting. "
   ]
  },
  {
   "cell_type": "code",
   "execution_count": 13,
   "metadata": {},
   "outputs": [],
   "source": [
    "import pandas as pd"
   ]
  },
  {
   "cell_type": "markdown",
   "metadata": {},
   "source": [
    "Reading from several file format is supported (details <a href=\"https://pandas.pydata.org/pandas-code/stable/io.htlm\">here</a>):\n",
    "- csv, tsv\n",
    "- json\n",
    "- sql\n",
    "- excel\n",
    "- pickle\n",
    "- html\n",
    "- parquet\n",
    "- hdf5\n",
    "- stata\n",
    "- sas\n",
    "- google big query\n",
    "    \n",
    "#### 1. Reading, writing CSV, TSV"
   ]
  },
  {
   "cell_type": "code",
   "execution_count": 14,
   "metadata": {},
   "outputs": [
    {
     "data": {
      "text/html": [
       "<div>\n",
       "<style scoped>\n",
       "    .dataframe tbody tr th:only-of-type {\n",
       "        vertical-align: middle;\n",
       "    }\n",
       "\n",
       "    .dataframe tbody tr th {\n",
       "        vertical-align: top;\n",
       "    }\n",
       "\n",
       "    .dataframe thead th {\n",
       "        text-align: right;\n",
       "    }\n",
       "</style>\n",
       "<table border=\"1\" class=\"dataframe\">\n",
       "  <thead>\n",
       "    <tr style=\"text-align: right;\">\n",
       "      <th></th>\n",
       "      <th>group</th>\n",
       "    </tr>\n",
       "    <tr>\n",
       "      <th>brand</th>\n",
       "      <th></th>\n",
       "    </tr>\n",
       "  </thead>\n",
       "  <tbody>\n",
       "    <tr>\n",
       "      <th>audi</th>\n",
       "      <td>vw</td>\n",
       "    </tr>\n",
       "    <tr>\n",
       "      <th>bugatti</th>\n",
       "      <td>vw</td>\n",
       "    </tr>\n",
       "    <tr>\n",
       "      <th>porsche</th>\n",
       "      <td>vw</td>\n",
       "    </tr>\n",
       "    <tr>\n",
       "      <th>seat</th>\n",
       "      <td>vw</td>\n",
       "    </tr>\n",
       "    <tr>\n",
       "      <th>skoda</th>\n",
       "      <td>vw</td>\n",
       "    </tr>\n",
       "  </tbody>\n",
       "</table>\n",
       "</div>"
      ],
      "text/plain": [
       "        group\n",
       "brand        \n",
       "audi       vw\n",
       "bugatti    vw\n",
       "porsche    vw\n",
       "seat       vw\n",
       "skoda      vw"
      ]
     },
     "execution_count": 14,
     "metadata": {},
     "output_type": "execute_result"
    }
   ],
   "source": [
    "cars = pd.read_csv('data/cars.csv', sep=',', index_col='brand')\n",
    "cars.head()"
   ]
  },
  {
   "cell_type": "code",
   "execution_count": 25,
   "metadata": {},
   "outputs": [
    {
     "data": {
      "text/plain": [
       "[['vw'], ['vw'], ['vw'], ['vw'], ['vw'], ['vw']]"
      ]
     },
     "execution_count": 25,
     "metadata": {},
     "output_type": "execute_result"
    }
   ],
   "source": [
    "cars.loc[cars.group == 'vw', ['group']].values.tolist()"
   ]
  },
  {
   "cell_type": "markdown",
   "metadata": {},
   "source": [
    "- showing first|last n lines"
   ]
  },
  {
   "cell_type": "code",
   "execution_count": 27,
   "metadata": {},
   "outputs": [
    {
     "data": {
      "text/html": [
       "<div>\n",
       "<style scoped>\n",
       "    .dataframe tbody tr th:only-of-type {\n",
       "        vertical-align: middle;\n",
       "    }\n",
       "\n",
       "    .dataframe tbody tr th {\n",
       "        vertical-align: top;\n",
       "    }\n",
       "\n",
       "    .dataframe thead th {\n",
       "        text-align: right;\n",
       "    }\n",
       "</style>\n",
       "<table border=\"1\" class=\"dataframe\">\n",
       "  <thead>\n",
       "    <tr style=\"text-align: right;\">\n",
       "      <th></th>\n",
       "      <th>group</th>\n",
       "    </tr>\n",
       "    <tr>\n",
       "      <th>brand</th>\n",
       "      <th></th>\n",
       "    </tr>\n",
       "  </thead>\n",
       "  <tbody>\n",
       "    <tr>\n",
       "      <th>audi</th>\n",
       "      <td>vw</td>\n",
       "    </tr>\n",
       "    <tr>\n",
       "      <th>bugatti</th>\n",
       "      <td>vw</td>\n",
       "    </tr>\n",
       "    <tr>\n",
       "      <th>porsche</th>\n",
       "      <td>vw</td>\n",
       "    </tr>\n",
       "  </tbody>\n",
       "</table>\n",
       "</div>"
      ],
      "text/plain": [
       "        group\n",
       "brand        \n",
       "audi       vw\n",
       "bugatti    vw\n",
       "porsche    vw"
      ]
     },
     "execution_count": 27,
     "metadata": {},
     "output_type": "execute_result"
    }
   ],
   "source": [
    "cars.head(3)"
   ]
  },
  {
   "cell_type": "code",
   "execution_count": null,
   "metadata": {},
   "outputs": [],
   "source": [
    "cars.tail()"
   ]
  },
  {
   "cell_type": "markdown",
   "metadata": {},
   "source": [
    "- column names, index name, data shape"
   ]
  },
  {
   "cell_type": "code",
   "execution_count": 28,
   "metadata": {},
   "outputs": [
    {
     "name": "stdout",
     "output_type": "stream",
     "text": [
      "Data shape: (36, 1) | Index: brand | Columns: Index(['group'], dtype='object') | Data types: group    object\n",
      "dtype: object\n"
     ]
    }
   ],
   "source": [
    "print('Data shape:', cars.shape, '| Index:', cars.index.name, \n",
    "      '| Columns:', cars.columns, '| Data types:', cars.dtypes)"
   ]
  },
  {
   "cell_type": "markdown",
   "metadata": {},
   "source": [
    "- exporting data to tsv"
   ]
  },
  {
   "cell_type": "code",
   "execution_count": 29,
   "metadata": {},
   "outputs": [],
   "source": [
    "cars.to_csv('data/cars.tsv', sep='\\t')"
   ]
  },
  {
   "cell_type": "markdown",
   "metadata": {},
   "source": [
    "#### 2. Reading/writing excels"
   ]
  },
  {
   "cell_type": "code",
   "execution_count": 30,
   "metadata": {},
   "outputs": [
    {
     "data": {
      "text/html": [
       "<div>\n",
       "<style scoped>\n",
       "    .dataframe tbody tr th:only-of-type {\n",
       "        vertical-align: middle;\n",
       "    }\n",
       "\n",
       "    .dataframe tbody tr th {\n",
       "        vertical-align: top;\n",
       "    }\n",
       "\n",
       "    .dataframe thead th {\n",
       "        text-align: right;\n",
       "    }\n",
       "</style>\n",
       "<table border=\"1\" class=\"dataframe\">\n",
       "  <thead>\n",
       "    <tr style=\"text-align: right;\">\n",
       "      <th></th>\n",
       "      <th>brand</th>\n",
       "      <th>group</th>\n",
       "    </tr>\n",
       "  </thead>\n",
       "  <tbody>\n",
       "    <tr>\n",
       "      <th>0</th>\n",
       "      <td>audi</td>\n",
       "      <td>vw</td>\n",
       "    </tr>\n",
       "    <tr>\n",
       "      <th>1</th>\n",
       "      <td>bugatti</td>\n",
       "      <td>vw</td>\n",
       "    </tr>\n",
       "    <tr>\n",
       "      <th>2</th>\n",
       "      <td>porsche</td>\n",
       "      <td>vw</td>\n",
       "    </tr>\n",
       "    <tr>\n",
       "      <th>3</th>\n",
       "      <td>seat</td>\n",
       "      <td>vw</td>\n",
       "    </tr>\n",
       "    <tr>\n",
       "      <th>4</th>\n",
       "      <td>skoda</td>\n",
       "      <td>vw</td>\n",
       "    </tr>\n",
       "  </tbody>\n",
       "</table>\n",
       "</div>"
      ],
      "text/plain": [
       "     brand group\n",
       "0     audi    vw\n",
       "1  bugatti    vw\n",
       "2  porsche    vw\n",
       "3     seat    vw\n",
       "4    skoda    vw"
      ]
     },
     "execution_count": 30,
     "metadata": {},
     "output_type": "execute_result"
    }
   ],
   "source": [
    "pd.read_excel('data/test.xlsx', sheet_name=0).head()"
   ]
  },
  {
   "cell_type": "code",
   "execution_count": null,
   "metadata": {},
   "outputs": [],
   "source": [
    "with pd.ExcelWriter('data/test.xlsx') as ew:\n",
    "    cars.to_excel(ew, sheet_name='cars')\n",
    "    data.to_excel(ew, sheet_name='test') # FIXME: data is dict here!!!"
   ]
  },
  {
   "cell_type": "markdown",
   "metadata": {},
   "source": [
    "#### 3. Reading/writing jsons"
   ]
  },
  {
   "cell_type": "code",
   "execution_count": 32,
   "metadata": {},
   "outputs": [
    {
     "data": {
      "text/html": [
       "<div>\n",
       "<style scoped>\n",
       "    .dataframe tbody tr th:only-of-type {\n",
       "        vertical-align: middle;\n",
       "    }\n",
       "\n",
       "    .dataframe tbody tr th {\n",
       "        vertical-align: top;\n",
       "    }\n",
       "\n",
       "    .dataframe thead th {\n",
       "        text-align: right;\n",
       "    }\n",
       "</style>\n",
       "<table border=\"1\" class=\"dataframe\">\n",
       "  <thead>\n",
       "    <tr style=\"text-align: right;\">\n",
       "      <th></th>\n",
       "      <th>key0</th>\n",
       "      <th>key1</th>\n",
       "      <th>key2</th>\n",
       "      <th>key3</th>\n",
       "      <th>key4</th>\n",
       "      <th>key5</th>\n",
       "      <th>key6</th>\n",
       "      <th>key7</th>\n",
       "      <th>key8</th>\n",
       "      <th>key9</th>\n",
       "    </tr>\n",
       "  </thead>\n",
       "  <tbody>\n",
       "    <tr>\n",
       "      <th>0</th>\n",
       "      <td>val00</td>\n",
       "      <td>val10</td>\n",
       "      <td>val20</td>\n",
       "      <td>val30</td>\n",
       "      <td>val40</td>\n",
       "      <td>val50</td>\n",
       "      <td>val60</td>\n",
       "      <td>val70</td>\n",
       "      <td>val80</td>\n",
       "      <td>val90</td>\n",
       "    </tr>\n",
       "    <tr>\n",
       "      <th>1</th>\n",
       "      <td>val01</td>\n",
       "      <td>val11</td>\n",
       "      <td>val21</td>\n",
       "      <td>val31</td>\n",
       "      <td>val41</td>\n",
       "      <td>val51</td>\n",
       "      <td>val61</td>\n",
       "      <td>val71</td>\n",
       "      <td>val81</td>\n",
       "      <td>val91</td>\n",
       "    </tr>\n",
       "    <tr>\n",
       "      <th>2</th>\n",
       "      <td>val02</td>\n",
       "      <td>val12</td>\n",
       "      <td>val22</td>\n",
       "      <td>val32</td>\n",
       "      <td>val42</td>\n",
       "      <td>val52</td>\n",
       "      <td>val62</td>\n",
       "      <td>val72</td>\n",
       "      <td>val82</td>\n",
       "      <td>val92</td>\n",
       "    </tr>\n",
       "    <tr>\n",
       "      <th>3</th>\n",
       "      <td>val03</td>\n",
       "      <td>val13</td>\n",
       "      <td>val23</td>\n",
       "      <td>val33</td>\n",
       "      <td>val43</td>\n",
       "      <td>val53</td>\n",
       "      <td>val63</td>\n",
       "      <td>val73</td>\n",
       "      <td>val83</td>\n",
       "      <td>val93</td>\n",
       "    </tr>\n",
       "    <tr>\n",
       "      <th>4</th>\n",
       "      <td>val04</td>\n",
       "      <td>val14</td>\n",
       "      <td>val24</td>\n",
       "      <td>val34</td>\n",
       "      <td>val44</td>\n",
       "      <td>val54</td>\n",
       "      <td>val64</td>\n",
       "      <td>val74</td>\n",
       "      <td>val84</td>\n",
       "      <td>val94</td>\n",
       "    </tr>\n",
       "    <tr>\n",
       "      <th>5</th>\n",
       "      <td>val05</td>\n",
       "      <td>val15</td>\n",
       "      <td>val25</td>\n",
       "      <td>val35</td>\n",
       "      <td>val45</td>\n",
       "      <td>val55</td>\n",
       "      <td>val65</td>\n",
       "      <td>val75</td>\n",
       "      <td>val85</td>\n",
       "      <td>val95</td>\n",
       "    </tr>\n",
       "    <tr>\n",
       "      <th>6</th>\n",
       "      <td>val06</td>\n",
       "      <td>val16</td>\n",
       "      <td>val26</td>\n",
       "      <td>val36</td>\n",
       "      <td>val46</td>\n",
       "      <td>val56</td>\n",
       "      <td>val66</td>\n",
       "      <td>val76</td>\n",
       "      <td>val86</td>\n",
       "      <td>val96</td>\n",
       "    </tr>\n",
       "    <tr>\n",
       "      <th>7</th>\n",
       "      <td>val07</td>\n",
       "      <td>val17</td>\n",
       "      <td>val27</td>\n",
       "      <td>val37</td>\n",
       "      <td>val47</td>\n",
       "      <td>val57</td>\n",
       "      <td>val67</td>\n",
       "      <td>val77</td>\n",
       "      <td>val87</td>\n",
       "      <td>val97</td>\n",
       "    </tr>\n",
       "    <tr>\n",
       "      <th>8</th>\n",
       "      <td>val08</td>\n",
       "      <td>val18</td>\n",
       "      <td>val28</td>\n",
       "      <td>val38</td>\n",
       "      <td>val48</td>\n",
       "      <td>val58</td>\n",
       "      <td>val68</td>\n",
       "      <td>val78</td>\n",
       "      <td>val88</td>\n",
       "      <td>val98</td>\n",
       "    </tr>\n",
       "    <tr>\n",
       "      <th>9</th>\n",
       "      <td>val09</td>\n",
       "      <td>val19</td>\n",
       "      <td>val29</td>\n",
       "      <td>val39</td>\n",
       "      <td>val49</td>\n",
       "      <td>val59</td>\n",
       "      <td>val69</td>\n",
       "      <td>val79</td>\n",
       "      <td>val89</td>\n",
       "      <td>val99</td>\n",
       "    </tr>\n",
       "  </tbody>\n",
       "</table>\n",
       "</div>"
      ],
      "text/plain": [
       "    key0   key1   key2   key3   key4   key5   key6   key7   key8   key9\n",
       "0  val00  val10  val20  val30  val40  val50  val60  val70  val80  val90\n",
       "1  val01  val11  val21  val31  val41  val51  val61  val71  val81  val91\n",
       "2  val02  val12  val22  val32  val42  val52  val62  val72  val82  val92\n",
       "3  val03  val13  val23  val33  val43  val53  val63  val73  val83  val93\n",
       "4  val04  val14  val24  val34  val44  val54  val64  val74  val84  val94\n",
       "5  val05  val15  val25  val35  val45  val55  val65  val75  val85  val95\n",
       "6  val06  val16  val26  val36  val46  val56  val66  val76  val86  val96\n",
       "7  val07  val17  val27  val37  val47  val57  val67  val77  val87  val97\n",
       "8  val08  val18  val28  val38  val48  val58  val68  val78  val88  val98\n",
       "9  val09  val19  val29  val39  val49  val59  val69  val79  val89  val99"
      ]
     },
     "execution_count": 32,
     "metadata": {},
     "output_type": "execute_result"
    }
   ],
   "source": [
    "data = pd.read_json('data/test.json')\n",
    "data"
   ]
  },
  {
   "cell_type": "code",
   "execution_count": 34,
   "metadata": {},
   "outputs": [],
   "source": [
    "data.to_json('tmp.json')\n",
    "os.remove('tmp.json')"
   ]
  },
  {
   "cell_type": "markdown",
   "metadata": {},
   "source": [
    "---\n",
    "\n",
    "## III. xml file parsing with `lxml.etree`\n",
    "\n",
    "Third party library lxml supports xml processing through it's etree submodule.\n",
    "\n"
   ]
  },
  {
   "cell_type": "code",
   "execution_count": 35,
   "metadata": {},
   "outputs": [],
   "source": [
    "from lxml import etree"
   ]
  },
  {
   "cell_type": "markdown",
   "metadata": {},
   "source": [
    "### 1. `Element` class\n",
    "- create node"
   ]
  },
  {
   "cell_type": "code",
   "execution_count": 36,
   "metadata": {},
   "outputs": [],
   "source": [
    "root = etree.Element('root')"
   ]
  },
  {
   "cell_type": "markdown",
   "metadata": {},
   "source": [
    "- adding elements"
   ]
  },
  {
   "cell_type": "code",
   "execution_count": 37,
   "metadata": {},
   "outputs": [],
   "source": [
    "root.append(etree.Element('child1'))"
   ]
  },
  {
   "cell_type": "code",
   "execution_count": 38,
   "metadata": {},
   "outputs": [],
   "source": [
    "child2 = etree.SubElement(root, \"child2\")\n",
    "child3 = etree.SubElement(root, \"child3\")"
   ]
  },
  {
   "cell_type": "markdown",
   "metadata": {},
   "source": [
    "- displaying document"
   ]
  },
  {
   "cell_type": "code",
   "execution_count": 39,
   "metadata": {},
   "outputs": [
    {
     "name": "stdout",
     "output_type": "stream",
     "text": [
      "<root>\n",
      "  <child1/>\n",
      "  <child2/>\n",
      "  <child3/>\n",
      "</root>\n",
      "\n"
     ]
    }
   ],
   "source": [
    "print(etree.tostring(root, pretty_print=True, encoding='unicode'))"
   ]
  },
  {
   "cell_type": "markdown",
   "metadata": {},
   "source": [
    "- elements works like lists"
   ]
  },
  {
   "cell_type": "code",
   "execution_count": 40,
   "metadata": {},
   "outputs": [
    {
     "name": "stdout",
     "output_type": "stream",
     "text": [
      "child1\n",
      "child2\n",
      "child3\n"
     ]
    }
   ],
   "source": [
    "for element in root:\n",
    "    print(element.tag)"
   ]
  },
  {
   "cell_type": "code",
   "execution_count": 41,
   "metadata": {},
   "outputs": [],
   "source": [
    "root.append(etree.Element('child4'))"
   ]
  },
  {
   "cell_type": "code",
   "execution_count": 42,
   "metadata": {},
   "outputs": [
    {
     "name": "stdout",
     "output_type": "stream",
     "text": [
      "child1\n",
      "child2\n",
      "child3\n",
      "child4\n"
     ]
    }
   ],
   "source": [
    "for element in root:\n",
    "    print(element.tag)"
   ]
  },
  {
   "cell_type": "markdown",
   "metadata": {},
   "source": [
    "- checking for childs"
   ]
  },
  {
   "cell_type": "code",
   "execution_count": 43,
   "metadata": {},
   "outputs": [
    {
     "name": "stdout",
     "output_type": "stream",
     "text": [
      "True\n",
      "root has 4 child, child2 has 0\n"
     ]
    }
   ],
   "source": [
    "print(etree.iselement(root))\n",
    "print(f'root has {len(root)} child, child2 has {len(child2)}')"
   ]
  },
  {
   "cell_type": "markdown",
   "metadata": {},
   "source": [
    "- attributes are stored with the elements"
   ]
  },
  {
   "cell_type": "code",
   "execution_count": 44,
   "metadata": {},
   "outputs": [],
   "source": [
    "child5 = etree.SubElement(root, 'child5', badass='very much')"
   ]
  },
  {
   "cell_type": "code",
   "execution_count": 45,
   "metadata": {},
   "outputs": [
    {
     "data": {
      "text/plain": [
       "b'<child5 badass=\"very much\"/>'"
      ]
     },
     "execution_count": 45,
     "metadata": {},
     "output_type": "execute_result"
    }
   ],
   "source": [
    "etree.tostring(child5)"
   ]
  },
  {
   "cell_type": "code",
   "execution_count": 46,
   "metadata": {},
   "outputs": [],
   "source": [
    "root.get('hello')"
   ]
  },
  {
   "cell_type": "code",
   "execution_count": 54,
   "metadata": {},
   "outputs": [
    {
     "name": "stdout",
     "output_type": "stream",
     "text": [
      "<root hello=\"aye\">\n",
      "  <child1/>\n",
      "  <child2/>\n",
      "  <child3/>\n",
      "  <child4/>\n",
      "  <child5 badass=\"very much\"/>\n",
      "</root>\n",
      "\n"
     ]
    }
   ],
   "source": [
    "root.set('hello', 'aye')\n",
    "print(etree.tostring(root, pretty_print=True, encoding='unicode'))"
   ]
  },
  {
   "cell_type": "code",
   "execution_count": 55,
   "metadata": {},
   "outputs": [],
   "source": [
    "child2.text = \"interesting text\""
   ]
  },
  {
   "cell_type": "code",
   "execution_count": 57,
   "metadata": {},
   "outputs": [
    {
     "name": "stdout",
     "output_type": "stream",
     "text": [
      "<root hello=\"aye\">\n",
      "  <child1/>\n",
      "  <child2>interesting text</child2>\n",
      "  <child3/>\n",
      "  <child4/>\n",
      "  <child5 badass=\"very much\"/>\n",
      "</root>\n",
      "\n"
     ]
    }
   ],
   "source": [
    "print(etree.tostring(root, pretty_print=True, encoding='unicode'))"
   ]
  },
  {
   "cell_type": "markdown",
   "metadata": {},
   "source": [
    "- tree iteration"
   ]
  },
  {
   "cell_type": "code",
   "execution_count": 60,
   "metadata": {},
   "outputs": [],
   "source": [
    "root = etree.Element(\"root\")\n",
    "etree.SubElement(root, \"child\").text = \"Child 1\"\n",
    "etree.SubElement(root, \"child\").text = \"Child 2\"\n",
    "etree.SubElement(root, \"another\").text = \"Child 3\"\n",
    "etree.SubElement(root, \"child\").text = \"Child 1\"\n",
    "etree.SubElement(root, \"child\").text = \"Child 2\""
   ]
  },
  {
   "cell_type": "code",
   "execution_count": 61,
   "metadata": {},
   "outputs": [
    {
     "name": "stdout",
     "output_type": "stream",
     "text": [
      "root, None\n",
      "child, Child 1\n",
      "child, Child 2\n",
      "another, Child 3\n",
      "child, Child 1\n",
      "child, Child 2\n"
     ]
    }
   ],
   "source": [
    "for element in root.iter():\n",
    "    print(f'{element.tag}, {element.text}')"
   ]
  },
  {
   "cell_type": "code",
   "execution_count": 62,
   "metadata": {},
   "outputs": [
    {
     "name": "stdout",
     "output_type": "stream",
     "text": [
      "child, Child 1\n",
      "child, Child 2\n",
      "child, Child 1\n",
      "child, Child 2\n"
     ]
    }
   ],
   "source": [
    "for element in root.iter(\"child\"):\n",
    "    print(f'{element.tag}, {element.text}')"
   ]
  },
  {
   "cell_type": "code",
   "execution_count": 63,
   "metadata": {},
   "outputs": [
    {
     "name": "stdout",
     "output_type": "stream",
     "text": [
      "child, Child 1\n",
      "child, Child 2\n",
      "another, Child 3\n",
      "child, Child 1\n",
      "child, Child 2\n"
     ]
    }
   ],
   "source": [
    "for element in root.iter(\"another\", \"child\"):\n",
    "    print(f'{element.tag}, {element.text}')"
   ]
  },
  {
   "cell_type": "markdown",
   "metadata": {},
   "source": [
    "- `ElementTree` class"
   ]
  },
  {
   "cell_type": "code",
   "execution_count": 64,
   "metadata": {},
   "outputs": [
    {
     "name": "stdout",
     "output_type": "stream",
     "text": [
      "<!DOCTYPE root SYSTEM \"test\" [\n",
      "<!ENTITY tasty \"parsnips\">\n",
      "]>\n",
      "<root>\n",
      "  <a>parsnips</a>\n",
      "</root>\n"
     ]
    }
   ],
   "source": [
    "root = etree.XML('''\\\n",
    "<?xml version=\"1.0\"?>\n",
    "<!DOCTYPE root SYSTEM \"test\" [ <!ENTITY tasty \"parsnips\"> ]>\n",
    "<root>\n",
    "  <a>&tasty;</a>\n",
    "</root>\n",
    "''')\n",
    "\n",
    "tree = etree.ElementTree(root)\n",
    "print(etree.tostring(tree, encoding='unicode'))"
   ]
  },
  {
   "cell_type": "markdown",
   "metadata": {},
   "source": [
    "- parsing xml string"
   ]
  },
  {
   "cell_type": "code",
   "execution_count": 65,
   "metadata": {},
   "outputs": [],
   "source": [
    "some_xml_data = (b'<root hello=\"aye\"><child1/><child2>interesting text</child2>'\n",
    "                 b'<child3/><child4/><child5 badass=\"very much\"/></root>')\n",
    "root = etree.fromstring(some_xml_data)"
   ]
  },
  {
   "cell_type": "code",
   "execution_count": 66,
   "metadata": {},
   "outputs": [
    {
     "name": "stdout",
     "output_type": "stream",
     "text": [
      "child1 None\n",
      "child2 interesting text\n",
      "child3 None\n",
      "child4 None\n",
      "child5 None\n"
     ]
    }
   ],
   "source": [
    "for elem in root:\n",
    "    print(elem.tag, elem.text)"
   ]
  },
  {
   "cell_type": "markdown",
   "metadata": {},
   "source": [
    "---\n",
    "\n",
    "## IV. Exercises\n",
    "\n",
    "### 1. Export from data/movies.xml into a json file"
   ]
  },
  {
   "cell_type": "code",
   "execution_count": null,
   "metadata": {},
   "outputs": [],
   "source": []
  }
 ],
 "metadata": {
  "kernelspec": {
   "display_name": "Python 3",
   "language": "python",
   "name": "python3"
  },
  "language_info": {
   "codemirror_mode": {
    "name": "ipython",
    "version": 3
   },
   "file_extension": ".py",
   "mimetype": "text/x-python",
   "name": "python",
   "nbconvert_exporter": "python",
   "pygments_lexer": "ipython3",
   "version": "3.7.1"
  }
 },
 "nbformat": 4,
 "nbformat_minor": 2
}
