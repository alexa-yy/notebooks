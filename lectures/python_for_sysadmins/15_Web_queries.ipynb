{
 "cells": [
  {
   "cell_type": "markdown",
   "metadata": {},
   "source": [
    "# Python 101\n",
    "## XV. Web queries\n",
    "\n",
    "---\n",
    "\n",
    "## I. Built-in solution: `urllib`"
   ]
  },
  {
   "cell_type": "code",
   "execution_count": 28,
   "metadata": {},
   "outputs": [],
   "source": [
    "import json\n",
    "import urllib"
   ]
  },
  {
   "cell_type": "markdown",
   "metadata": {},
   "source": [
    "- GET"
   ]
  },
  {
   "cell_type": "code",
   "execution_count": 22,
   "metadata": {},
   "outputs": [],
   "source": [
    "req = urllib.request.Request('http://localhost:5000/get')\n",
    "\n",
    "result = urllib.request.urlopen(req)\n",
    "result = result.read().decode('utf-8')\n",
    "\n",
    "print(result)"
   ]
  },
  {
   "cell_type": "markdown",
   "metadata": {},
   "source": [
    "- POST"
   ]
  },
  {
   "cell_type": "code",
   "execution_count": 62,
   "metadata": {},
   "outputs": [
    {
     "name": "stdout",
     "output_type": "stream",
     "text": [
      "headersparamsdatajson\n"
     ]
    }
   ],
   "source": [
    "req = urllib.request.Request('http://localhost:5000/post', method='post', \n",
    "                             data=json.dumps({'a': 'b'}).encode('utf-8'))\n",
    "\n",
    "result = urllib.request.urlopen(req)\n",
    "result = result.read().decode('utf-8')\n",
    "\n",
    "print(result)"
   ]
  },
  {
   "cell_type": "markdown",
   "metadata": {},
   "source": [
    "---\n",
    "\n",
    "## II. `requests` module"
   ]
  },
  {
   "cell_type": "code",
   "execution_count": 3,
   "metadata": {},
   "outputs": [],
   "source": [
    "import requests"
   ]
  },
  {
   "cell_type": "markdown",
   "metadata": {},
   "source": [
    "### 1. GET"
   ]
  },
  {
   "cell_type": "code",
   "execution_count": 84,
   "metadata": {},
   "outputs": [
    {
     "data": {
      "text/plain": [
       "{'headers': {'Host': 'localhost:5000',\n",
       "  'User-Agent': 'python-requests/2.19.1',\n",
       "  'Accept-Encoding': 'gzip, deflate',\n",
       "  'Accept': '*/*',\n",
       "  'Connection': 'keep-alive'},\n",
       " 'params': {'a': 'b'},\n",
       " 'data': '',\n",
       " 'json': None}"
      ]
     },
     "execution_count": 84,
     "metadata": {},
     "output_type": "execute_result"
    }
   ],
   "source": [
    "result = requests.get('http://localhost:5000/get', params={'a': 'b'})\n",
    "json.loads(result.content)"
   ]
  },
  {
   "cell_type": "markdown",
   "metadata": {},
   "source": [
    "### 2. POST"
   ]
  },
  {
   "cell_type": "code",
   "execution_count": 81,
   "metadata": {},
   "outputs": [
    {
     "data": {
      "text/plain": [
       "{'headers': {'Host': 'localhost:5000',\n",
       "  'User-Agent': 'python-requests/2.19.1',\n",
       "  'Accept-Encoding': 'gzip, deflate',\n",
       "  'Accept': '*/*',\n",
       "  'Connection': 'keep-alive',\n",
       "  'Content-Length': '3',\n",
       "  'Content-Type': 'application/x-www-form-urlencoded'},\n",
       " 'params': {'a': 'b', 'q': '7', 'c': 'd'},\n",
       " 'data': '',\n",
       " 'json': None}"
      ]
     },
     "execution_count": 81,
     "metadata": {},
     "output_type": "execute_result"
    }
   ],
   "source": [
    "result = requests.post('http://localhost:5000/post?q=7', data={'a': 'b'}, params={'c': 'd'})\n",
    "json.loads(result.content)"
   ]
  },
  {
   "cell_type": "code",
   "execution_count": 83,
   "metadata": {},
   "outputs": [
    {
     "data": {
      "text/plain": [
       "{'headers': {'Host': 'localhost:5000',\n",
       "  'User-Agent': 'python-requests/2.19.1',\n",
       "  'Accept-Encoding': 'gzip, deflate',\n",
       "  'Accept': '*/*',\n",
       "  'Connection': 'keep-alive',\n",
       "  'Content-Length': '10',\n",
       "  'Content-Type': 'application/json'},\n",
       " 'params': {},\n",
       " 'data': '{\"a\": \"b\"}',\n",
       " 'json': {'a': 'b'}}"
      ]
     },
     "execution_count": 83,
     "metadata": {},
     "output_type": "execute_result"
    }
   ],
   "source": [
    "result = requests.post('http://localhost:5000/post', json={'a': 'b'})\n",
    "json.loads(result.content)"
   ]
  }
 ],
 "metadata": {
  "kernelspec": {
   "display_name": "Python 3",
   "language": "python",
   "name": "python3"
  },
  "language_info": {
   "codemirror_mode": {
    "name": "ipython",
    "version": 3
   },
   "file_extension": ".py",
   "mimetype": "text/x-python",
   "name": "python",
   "nbconvert_exporter": "python",
   "pygments_lexer": "ipython3",
   "version": "3.7.0"
  }
 },
 "nbformat": 4,
 "nbformat_minor": 2
}
