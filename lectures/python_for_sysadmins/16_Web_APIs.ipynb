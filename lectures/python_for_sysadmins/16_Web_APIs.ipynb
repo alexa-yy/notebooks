{
 "cells": [
  {
   "cell_type": "markdown",
   "metadata": {},
   "source": [
    "# Python 101\n",
    "## XVI. Web API\n",
    "\n",
    "---\n",
    "\n",
    "## I. Creating simple `Flask` app\n",
    "\n",
    "```python\n",
    "from flask import Flask, request, Response\n",
    "\n",
    "# creating app\n",
    "app = Flask(__name__)\n",
    "\n",
    "# regustering endpoint\n",
    "@app.route('/')\n",
    "def hello():\n",
    "    return 'Hello, World!'\n",
    "\n",
    "\n",
    "# getting query parameters\n",
    "@app.route('/get')\n",
    "def get_endpoint():\n",
    "    resp = json.dumps({\n",
    "        'headers': dict(request.headers),\n",
    "        'params': request.values.to_dict(),\n",
    "        'data': request.data.decode('utf-8'),\n",
    "        'json': request.get_json()\n",
    "    })\n",
    "    return Response(resp)\n",
    "\n",
    "# post endpoint\n",
    "@app.route('/post', methods=['POST'])\n",
    "def post_endpoint():\n",
    "    resp = json.dumps({\n",
    "        'headers': dict(request.headers),\n",
    "        'params': request.values.to_dict(),\n",
    "        'data': request.data.decode('utf-8'),\n",
    "        'json': request.get_json()\n",
    "    })\n",
    "    return Response(resp)\n",
    "\n",
    "\n",
    "if __name__ == \"__main__\":\n",
    "    app.run(host=\"0.0.0.0\", debug=True)\n",
    "```"
   ]
  }
 ],
 "metadata": {
  "kernelspec": {
   "display_name": "Python 3",
   "language": "python",
   "name": "python3"
  },
  "language_info": {
   "codemirror_mode": {
    "name": "ipython",
    "version": 3
   },
   "file_extension": ".py",
   "mimetype": "text/x-python",
   "name": "python",
   "nbconvert_exporter": "python",
   "pygments_lexer": "ipython3",
   "version": "3.7.1"
  }
 },
 "nbformat": 4,
 "nbformat_minor": 2
}
