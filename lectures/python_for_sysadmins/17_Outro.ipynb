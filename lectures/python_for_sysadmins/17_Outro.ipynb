{
 "cells": [
  {
   "cell_type": "markdown",
   "metadata": {},
   "source": [
    "# Python 101\n",
    "## Outro\n",
    "\n",
    "---\n",
    "\n",
    "## 1. Feedback\n",
    "Please fill in the feedback form at https://eval.component.hu/! Training code: 693981\n",
    "\n",
    "## 2. Further reading\n",
    "\n",
    "- Python docs: https://docs.python.org/3/\n",
    "- os docs: https://docs.python.org/3/library/os.html\n",
    "- sys docs: https://docs.python.org/3/library/sys.html \n",
    "- Regex tutorial: https://docs.python.org/3/library/re.html\n",
    "- Python standard library docs: https://docs.python.org/3/library/index.html\n",
    "- lxml tutorial: https://lxml.de/tutorial.html\n",
    "- requests tutorial: http://docs.python-requests.org/en/master/ \n",
    "- Flask tutorial: http://flask.pocoo.org/docs/1.0/tutorial/\n",
    "\n",
    "## Thanks for your attention!"
   ]
  }
 ],
 "metadata": {
  "kernelspec": {
   "display_name": "Python 3",
   "language": "python",
   "name": "python3"
  },
  "language_info": {
   "codemirror_mode": {
    "name": "ipython",
    "version": 3
   },
   "file_extension": ".py",
   "mimetype": "text/x-python",
   "name": "python",
   "nbconvert_exporter": "python",
   "pygments_lexer": "ipython3",
   "version": "3.7.0"
  }
 },
 "nbformat": 4,
 "nbformat_minor": 2
}
