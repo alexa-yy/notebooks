{
 "cells": [
  {
   "cell_type": "code",
   "execution_count": null,
   "metadata": {
    "slideshow": {
     "slide_type": "skip"
    }
   },
   "outputs": [],
   "source": [
    "%load_ext autoreload\n",
    "%autoreload 2"
   ]
  },
  {
   "cell_type": "code",
   "execution_count": null,
   "metadata": {
    "slideshow": {
     "slide_type": "skip"
    }
   },
   "outputs": [],
   "source": [
    "import random\n",
    "from collections import Counter\n",
    "from IPython.display import display\n",
    "\n",
    "import ci"
   ]
  },
  {
   "cell_type": "markdown",
   "metadata": {
    "slideshow": {
     "slide_type": "slide"
    }
   },
   "source": [
    "# Kiszámítható egyéniségek\n",
    "<i>Fülöp András</i>\n",
    "\n",
    "<b>Eötvös-estek</b>, 2017 november 07."
   ]
  },
  {
   "cell_type": "markdown",
   "metadata": {
    "slideshow": {
     "slide_type": "slide"
    }
   },
   "source": [
    "# /whoami"
   ]
  },
  {
   "cell_type": "markdown",
   "metadata": {
    "slideshow": {
     "slide_type": "subslide"
    }
   },
   "source": [
    "<img src=\"pics/whatDEVdo.jpg\" align=\"middle\"/>"
   ]
  },
  {
   "cell_type": "markdown",
   "metadata": {
    "slideshow": {
     "slide_type": "subslide"
    }
   },
   "source": [
    "<img src=\"pics/whatDSdo.png\" align=\"middle\"/>"
   ]
  },
  {
   "cell_type": "markdown",
   "metadata": {
    "slideshow": {
     "slide_type": "subslide"
    }
   },
   "source": [
    "<img src=\"pics/everyIT.jpg\" source=\"explosm.net\">"
   ]
  },
  {
   "cell_type": "markdown",
   "metadata": {
    "slideshow": {
     "slide_type": "slide"
    }
   },
   "source": [
    "# Python\n",
    "\n",
    "> *A programozás a legközelebbi dolog a szupererőhöz.*  \n",
    "> Drew Houston (Dropbox)"
   ]
  },
  {
   "cell_type": "code",
   "execution_count": null,
   "metadata": {
    "slideshow": {
     "slide_type": "fragment"
    }
   },
   "outputs": [],
   "source": [
    "print \"Hello Eötvös!\""
   ]
  },
  {
   "cell_type": "markdown",
   "metadata": {
    "slideshow": {
     "slide_type": "slide"
    }
   },
   "source": [
    "# Kő-papír-olló\n",
    "<img src=\"pics/rock.gif\" align='left'/>\n",
    "<img src=\"pics/paper.gif\" align='left'/>\n",
    "<img src=\"pics/scissors.gif\" align='left'/>"
   ]
  },
  {
   "cell_type": "markdown",
   "metadata": {
    "slideshow": {
     "slide_type": "fragment"
    }
   },
   "source": [
    "<img src=\"pics/janken.gif\" />"
   ]
  },
  {
   "cell_type": "code",
   "execution_count": null,
   "metadata": {
    "slideshow": {
     "slide_type": "subslide"
    }
   },
   "outputs": [],
   "source": [
    "hands = ['ko', 'papir', 'ollo']\n",
    "random.choice(hands)"
   ]
  },
  {
   "cell_type": "code",
   "execution_count": null,
   "metadata": {
    "slideshow": {
     "slide_type": "subslide"
    }
   },
   "outputs": [],
   "source": [
    "games = []\n",
    "for _ in range(10000):\n",
    "    games.append(random.choice(hands))\n",
    "    \n",
    "ci.plot_freqs(Counter(games))"
   ]
  },
  {
   "cell_type": "markdown",
   "metadata": {
    "slideshow": {
     "slide_type": "slide"
    }
   },
   "source": [
    "# Jósolható a taktikánk?\n",
    "\n",
    "<img src=\"pics/rock.gif\" align='left'/>\n",
    "<img src=\"pics/paper.gif\" align='left'/>\n",
    "<img src=\"pics/paper.gif\" align='left'/>\n",
    "<img src=\"pics/scissors.gif\" align='left'/>\n",
    "<img src=\"pics/rock.gif\" align='left'/>\n",
    "<img src=\"pics/rock.gif\" align='left'/>\n",
    "<img src=\"pics/rock.gif\" align='left'/>\n",
    "<img src=\"pics/paper.gif\" align='left'/>\n",
    "<img src=\"pics/scissors.gif\" align='left'/>\n",
    "<img src=\"pics/rock.gif\" align='left'/>\n",
    "<img src=\"pics/paper.gif\" align='left'/>\n",
    "<img src=\"pics/scissors.gif\" align='left'/>\n",
    "<img src=\"pics/paper.gif\" align='left'/>\n",
    "<img src=\"pics/paper.gif\" align='left'/>\n",
    "<img src=\"pics/rock.gif\" align='left'/>\n",
    "<img src=\"pics/rock.gif\" align='left'/>\n",
    "<img src=\"pics/scissors.gif\" align='left'/>"
   ]
  },
  {
   "cell_type": "code",
   "execution_count": null,
   "metadata": {},
   "outputs": [],
   "source": [
    "my_play = 'kppokkkpokpoppkko'"
   ]
  },
  {
   "cell_type": "markdown",
   "metadata": {
    "slideshow": {
     "slide_type": "subslide"
    }
   },
   "source": [
    "# Véletlenszerű MI"
   ]
  },
  {
   "cell_type": "code",
   "execution_count": null,
   "metadata": {},
   "outputs": [],
   "source": [
    "rnd = ci.RPS('null', 42)\n",
    "rnd.play(my_play, plot=True)"
   ]
  },
  {
   "cell_type": "code",
   "execution_count": null,
   "metadata": {
    "slideshow": {
     "slide_type": "subslide"
    }
   },
   "outputs": [],
   "source": [
    "rnd.plot_probs()"
   ]
  },
  {
   "cell_type": "markdown",
   "metadata": {
    "slideshow": {
     "slide_type": "subslide"
    }
   },
   "source": [
    "# Naív MI\n",
    "\n",
    "A gyakrabban használt kezeket jegyezzük meg"
   ]
  },
  {
   "cell_type": "code",
   "execution_count": null,
   "metadata": {},
   "outputs": [],
   "source": [
    "naive = ci.RPS('naive', 42)\n",
    "naive.play(my_play, plot=True)"
   ]
  },
  {
   "cell_type": "code",
   "execution_count": null,
   "metadata": {
    "slideshow": {
     "slide_type": "subslide"
    }
   },
   "outputs": [],
   "source": [
    "naive.plot_probs()"
   ]
  },
  {
   "cell_type": "markdown",
   "metadata": {
    "slideshow": {
     "slide_type": "subslide"
    }
   },
   "source": [
    "# Emlékező MI\n",
    "\n",
    "Jegyezzük meg, hogy milyen kezek után mik következnek"
   ]
  },
  {
   "cell_type": "markdown",
   "metadata": {
    "slideshow": {
     "slide_type": "fragment"
    }
   },
   "source": [
    "<img src=\"pics/stateful.png\" width=400 align='left'/>"
   ]
  },
  {
   "cell_type": "code",
   "execution_count": null,
   "metadata": {},
   "outputs": [],
   "source": [
    "stateful = ci.RPS('stateful', 42)\n",
    "stateful2 = ci.RPS('stateful', 42, 2)\n",
    "stateful3 = ci.RPS('stateful', 42, 3)"
   ]
  },
  {
   "cell_type": "code",
   "execution_count": null,
   "metadata": {
    "slideshow": {
     "slide_type": "subslide"
    }
   },
   "outputs": [],
   "source": [
    "stateful2.play(my_play)\n",
    "stateful3.play(my_play)\n",
    "stateful.play(my_play, plot=True)"
   ]
  },
  {
   "cell_type": "code",
   "execution_count": null,
   "metadata": {
    "slideshow": {
     "slide_type": "subslide"
    }
   },
   "outputs": [],
   "source": [
    "stateful.plot_probs()"
   ]
  },
  {
   "cell_type": "markdown",
   "metadata": {
    "slideshow": {
     "slide_type": "slide"
    }
   },
   "source": [
    "# Gépek csatája"
   ]
  },
  {
   "cell_type": "code",
   "execution_count": null,
   "metadata": {
    "slideshow": {
     "slide_type": "-"
    }
   },
   "outputs": [],
   "source": [
    "ci.Simulate(stateful, stateful3, 50000, p1static=True, p2static=False).play(plot=True)"
   ]
  },
  {
   "cell_type": "markdown",
   "metadata": {
    "slideshow": {
     "slide_type": "slide"
    }
   },
   "source": [
    "# Neurális hálózatok\n",
    "\n",
    "## Perceptron model\n",
    "<img src=\"pics/neuron.png\" width=400 align=\"left\"/>"
   ]
  },
  {
   "cell_type": "markdown",
   "metadata": {
    "slideshow": {
     "slide_type": "subslide"
    }
   },
   "source": [
    "## Többrétegű hálózat\n",
    "<img src=\"pics/mlp.png\" width=400 align=\"left\" source=\"https://github.com/nikolaypavlov/MLPNeuralNet\">"
   ]
  },
  {
   "cell_type": "markdown",
   "metadata": {
    "slideshow": {
     "slide_type": "subslide"
    }
   },
   "source": [
    "# Mélytanulás"
   ]
  },
  {
   "cell_type": "markdown",
   "metadata": {
    "slideshow": {
     "slide_type": "fragment"
    }
   },
   "source": [
    "<img src=\"pics/mgc.gif\"/>"
   ]
  },
  {
   "cell_type": "markdown",
   "metadata": {
    "slideshow": {
     "slide_type": "subslide"
    }
   },
   "source": [
    "<img src=\"pics/deepdream.jpg\" source=\"https://artofericwayne.com/2015/07/08/google-deep-dream-getting-too-good/\"/>"
   ]
  },
  {
   "cell_type": "markdown",
   "metadata": {
    "slideshow": {
     "slide_type": "subslide"
    }
   },
   "source": [
    "<img src=\"pics/deeprebrandt.jpg\" source=\"http://www.wired.co.uk/article/new-rembrandt-painting-computer-3d-printed\"/>"
   ]
  },
  {
   "cell_type": "markdown",
   "metadata": {
    "slideshow": {
     "slide_type": "subslide"
    }
   },
   "source": [
    "<img src=\"pics/deeptransform.jpg\" source=\"https://deepart.io/\"/>"
   ]
  },
  {
   "cell_type": "markdown",
   "metadata": {
    "slideshow": {
     "slide_type": "subslide"
    }
   },
   "source": [
    "> *PANDARUS:*  \n",
    "> *Alas, I think he shall be come approached and the day*  \n",
    "> *When little srain would be attain'd into being never fed,*  \n",
    "> *And who is but a chain and subjects of his death,*  \n",
    "> *I should not sleep.*  \n",
    "> ...  \n",
    ">   \n",
    "> *Clown:*  \n",
    "> *Come, sir, I will make did behold your worship.*  \n",
    ">   \n",
    "> *VIOLA:*  \n",
    "> *I'll drink it.*  \n",
    "\n",
    "\\- William RNNspear"
   ]
  },
  {
   "cell_type": "markdown",
   "metadata": {
    "slideshow": {
     "slide_type": "subslide"
    }
   },
   "source": [
    "<img src=\"pics/deeppaper.jpg\" source=\"http://karpathy.github.io/2015/05/21/rnn-effectiveness/\">"
   ]
  },
  {
   "cell_type": "markdown",
   "metadata": {
    "slideshow": {
     "slide_type": "subslide"
    }
   },
   "source": [
    "<img src=\"pics/w2v-context-words.png\" source=\"https://blog.acolyer.org/2016/04/21/the-amazing-power-of-word-vectors/\">\n",
    "\n",
    "<img src=\"pics/w2v-king-queen-vectors.png\" source=\"https://blog.acolyer.org/2016/04/21/the-amazing-power-of-word-vectors/\" align=\"left\" width=\"400px\">\n",
    "\n",
    "<img src=\"pics/w2v-king-queen-composition.png\" source=\"https://blog.acolyer.org/2016/04/21/the-amazing-power-of-word-vectors/\" align=\"right\" width=\"400px\">"
   ]
  },
  {
   "cell_type": "markdown",
   "metadata": {
    "slideshow": {
     "slide_type": "subslide"
    }
   },
   "source": [
    "<img src=\"pics/gan_cats.gif\" source=\"https://github.com/AlexiaJM/Deep-learning-with-cats\">"
   ]
  },
  {
   "cell_type": "markdown",
   "metadata": {
    "slideshow": {
     "slide_type": "subslide"
    }
   },
   "source": [
    "<img src=\"pics/DLmario.gif\" paper=\"http://nn.cs.utexas.edu/downloads/papers/stanley.ec02.pdf\" source-code=\"https://pastebin.com/ZZmSNaHX\" source=\"https://www.youtube.com/watch?v=qv6UVOQ0F44\">"
   ]
  },
  {
   "cell_type": "markdown",
   "metadata": {
    "slideshow": {
     "slide_type": "subslide"
    }
   },
   "source": [
    "<img src=\"pics/alphagowins.jpg\" align=\"left\" source=\"https://gogameguru.com/lee-sedol-defeats-alphago-masterful-comeback-game-4/\">\n",
    "<img src=\"pics/DLagentloses.jpg\" align=\"right\" source=\"http://www.dailymail.co.uk/sciencetech/article-3978068/DeepMind-s-challenge-StarCraft-2-Google-s-secretive-AI-playing-game-develop-human-like-reasoning.html\" related-article=\"https://www.technologyreview.com/s/609242/humans-are-still-better-than-ai-at-starcraftfor-now/\">"
   ]
  },
  {
   "cell_type": "markdown",
   "metadata": {
    "slideshow": {
     "slide_type": "subslide"
    }
   },
   "source": [
    "<img src=\"pics/inspiroquotes.jpg\" source=\"http://inspirobot.me/\">"
   ]
  },
  {
   "cell_type": "markdown",
   "metadata": {
    "slideshow": {
     "slide_type": "slide"
    }
   },
   "source": [
    "# Neurális MI"
   ]
  },
  {
   "cell_type": "code",
   "execution_count": null,
   "metadata": {},
   "outputs": [],
   "source": [
    "nn = ci.RPS('neural', 42)"
   ]
  },
  {
   "cell_type": "code",
   "execution_count": null,
   "metadata": {
    "slideshow": {
     "slide_type": "subslide"
    }
   },
   "outputs": [],
   "source": [
    "nn.play(my_play, plot=True)"
   ]
  },
  {
   "cell_type": "markdown",
   "metadata": {
    "slideshow": {
     "slide_type": "slide"
    }
   },
   "source": [
    "# Demo"
   ]
  },
  {
   "cell_type": "code",
   "execution_count": null,
   "metadata": {
    "slideshow": {
     "slide_type": "subslide"
    }
   },
   "outputs": [],
   "source": [
    "display(ci.generate_interface(nn))"
   ]
  },
  {
   "cell_type": "code",
   "execution_count": null,
   "metadata": {
    "slideshow": {
     "slide_type": "subslide"
    }
   },
   "outputs": [],
   "source": [
    "nn.plot_win_ratio()"
   ]
  },
  {
   "cell_type": "markdown",
   "metadata": {
    "slideshow": {
     "slide_type": "slide"
    }
   },
   "source": [
    "# Ajánló rendszerek\n",
    "\n",
    "<img src=\"pics/logos.png\">"
   ]
  },
  {
   "cell_type": "markdown",
   "metadata": {
    "slideshow": {
     "slide_type": "subslide"
    }
   },
   "source": [
    "# Collaborative filtering\n",
    "\n",
    "<img src=\"pics/cfinteract.png\" />"
   ]
  },
  {
   "cell_type": "markdown",
   "metadata": {
    "slideshow": {
     "slide_type": "subslide"
    }
   },
   "source": [
    "<img src=\"pics/cfmatrix.png\" />"
   ]
  },
  {
   "cell_type": "markdown",
   "metadata": {
    "slideshow": {
     "slide_type": "subslide"
    }
   },
   "source": [
    "# Tartalom alapú módszerek \n",
    "\n",
    "<img src=\"pics/cbinteract.png\" />"
   ]
  },
  {
   "cell_type": "markdown",
   "metadata": {
    "slideshow": {
     "slide_type": "slide"
    }
   },
   "source": [
    "# A nagy testvér figyel?"
   ]
  },
  {
   "cell_type": "markdown",
   "metadata": {
    "slideshow": {
     "slide_type": "slide"
    }
   },
   "source": [
    "# Köszönöm megtisztelő figyelmüket!\n",
    "\n",
    "<img src=\"pics/twitter.png\" align='left' style='margin-right: 5px; margin-left: 15px' /><b>twitter.com/fulibacsi</b><br>\n",
    "\n",
    "<img src=\"pics/github.png\" align='left' style='margin-right: 5px; margin-left: 15px' /><b>github.com/fulibacsi</b>\n",
    "\n",
    "<img src=\"pics/qr.jpg\" align='right' width=\"200px\">"
   ]
  },
  {
   "cell_type": "markdown",
   "metadata": {
    "slideshow": {
     "slide_type": "notes"
    }
   },
   "source": [
    "**Források:**\n",
    "\n",
    "- Deep learning képek:\n",
    "    - deep dream: https://artofericwayne.com/2015/07/08/google-deep-dream-getting-too-good/\n",
    "    - Rembrandt 3d nyomtatás: http://www.wired.co.uk/article/new-rembrandt-painting-computer-3d-printed\n",
    "    - Képek átalakítása festői stílusokban: https://deepart.io/\n",
    "    - Generatív nyelvek: http://karpathy.github.io/2015/05/21/rnn-effectiveness/\n",
    "    - word2vec: https://blog.acolyer.org/2016/04/21/the-amazing-power-of-word-vectors/\n",
    "    - Deep Learning cats: https://github.com/AlexiaJM/Deep-learning-with-cats\n",
    "    - MarI/O: https://www.youtube.com/watch?v=qv6UVOQ0F44\n",
    "    - AlphaGo wins: https://gogameguru.com/lee-sedol-defeats-alphago-masterful-comeback-game-4/\n",
    "    - Deep Learning agents loses in StarCraft: https://www.technologyreview.com/s/609242/humans-are-still-better-than-ai-at-starcraftfor-now/\n",
    "    - Inspirobot: http://inspirobot.me/\n",
    "    \n",
    "- Neurális Kő-Papír-Olló ágensek:\n",
    "    - https://www.his.se/PageFiles/8158/Henrik_Engstrom.pdf\n",
    "    - http://act-r.psy.cmu.edu/wordpress/wp-content/uploads/2012/12/874paper203.pdf\n",
    "    \n",
    "- Hogyan nyerjünk emberi ellenfél ellen: http://blog.wolfram.com/2014/01/20/how-to-win-at-rock-paper-scissors/\n",
    "\n",
    "- RoChamBo - Kő-Papír-Olló MI bajnokság:\n",
    "    - https://github.com/NavjotMinhas/RockPaperScissors_AI\n",
    "    - https://www.reddit.com/r/gamedev/comments/doxb3/simple_ai_for_a_rockpaperscissors_game/\n",
    "    - http://webdocs.cs.ualberta.ca/~darse/rsbpc.html"
   ]
  },
  {
   "cell_type": "markdown",
   "metadata": {
    "slideshow": {
     "slide_type": "notes"
    }
   },
   "source": [
    "**Részletekről bővebben:**\n",
    "\n",
    "- Python nyelv kezdőknek: http://mek.oszk.hu/08400/08435/08435.pdf\n",
    "- Word2Vec kipróbálható online alkalmazással:  https://rare-technologies.com/word2vec-tutorial/\n",
    "- Word2Vec tutorial:  http://mccormickml.com/2016/04/19/word2vec-tutorial-the-skip-gram-model/"
   ]
  }
 ],
 "metadata": {
  "celltoolbar": "Slideshow",
  "kernelspec": {
   "display_name": "Python 3",
   "language": "python",
   "name": "python3"
  },
  "language_info": {
   "codemirror_mode": {
    "name": "ipython",
    "version": 3
   },
   "file_extension": ".py",
   "mimetype": "text/x-python",
   "name": "python",
   "nbconvert_exporter": "python",
   "pygments_lexer": "ipython3",
   "version": "3.6.0"
  }
 },
 "nbformat": 4,
 "nbformat_minor": 2
}
