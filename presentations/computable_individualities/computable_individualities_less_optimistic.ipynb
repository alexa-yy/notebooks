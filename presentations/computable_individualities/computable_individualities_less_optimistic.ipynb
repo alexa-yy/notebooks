{
 "cells": [
  {
   "cell_type": "code",
   "execution_count": null,
   "metadata": {
    "slideshow": {
     "slide_type": "skip"
    }
   },
   "outputs": [],
   "source": [
    "%load_ext autoreload\n",
    "%autoreload 2"
   ]
  },
  {
   "cell_type": "code",
   "execution_count": null,
   "metadata": {
    "slideshow": {
     "slide_type": "skip"
    }
   },
   "outputs": [],
   "source": [
    "import random\n",
    "from collections import Counter\n",
    "from IPython.display import display\n",
    "\n",
    "import qrcode\n",
    "\n",
    "import ci\n",
    "\n",
    "import warnings\n",
    "warnings.filterwarnings('ignore')"
   ]
  },
  {
   "cell_type": "markdown",
   "metadata": {
    "slideshow": {
     "slide_type": "slide"
    }
   },
   "source": [
    "# Kiszámítható egyéniségek\n",
    "<i>Fülöp András</i>\n",
    "\n",
    "<b>Pizza & Data</b>, 2019 november 07."
   ]
  },
  {
   "cell_type": "markdown",
   "metadata": {
    "slideshow": {
     "slide_type": "slide"
    }
   },
   "source": [
    "# /whoami"
   ]
  },
  {
   "cell_type": "markdown",
   "metadata": {
    "slideshow": {
     "slide_type": "subslide"
    }
   },
   "source": [
    "<img src=\"pics/whatDEVdo.jpg\" align=\"middle\" width=\"800px\">"
   ]
  },
  {
   "cell_type": "markdown",
   "metadata": {
    "slideshow": {
     "slide_type": "subslide"
    }
   },
   "source": [
    "<img src=\"pics/whatDSdo.png\" align=\"middle\" width=\"800px\">"
   ]
  },
  {
   "cell_type": "markdown",
   "metadata": {
    "slideshow": {
     "slide_type": "subslide"
    }
   },
   "source": [
    "<img src=\"pics/everyIT.jpg\" source=\"explosm.net\" align=\"middle\" width=\"1000px\">"
   ]
  },
  {
   "cell_type": "markdown",
   "metadata": {
    "slideshow": {
     "slide_type": "slide"
    }
   },
   "source": [
    "# Kő-papír-olló\n",
    "<img src=\"pics/rock.gif\" align='left'/>\n",
    "<img src=\"pics/paper.gif\" align='left'/>\n",
    "<img src=\"pics/scissors.gif\" align='left'/>"
   ]
  },
  {
   "cell_type": "markdown",
   "metadata": {
    "slideshow": {
     "slide_type": "fragment"
    }
   },
   "source": [
    "<img src=\"pics/janken.gif\" width=600/>"
   ]
  },
  {
   "cell_type": "code",
   "execution_count": null,
   "metadata": {
    "slideshow": {
     "slide_type": "subslide"
    }
   },
   "outputs": [],
   "source": [
    "hands = ['ko', 'papir', 'ollo']\n",
    "random.choice(hands)"
   ]
  },
  {
   "cell_type": "code",
   "execution_count": null,
   "metadata": {
    "slideshow": {
     "slide_type": "subslide"
    }
   },
   "outputs": [],
   "source": [
    "games = []\n",
    "for _ in range(10000):\n",
    "    games.append(random.choice(hands))\n",
    "    \n",
    "ci.plot_freqs(Counter(games));"
   ]
  },
  {
   "cell_type": "markdown",
   "metadata": {
    "slideshow": {
     "slide_type": "slide"
    }
   },
   "source": [
    "# Jósolható a taktikánk?\n",
    "\n",
    "<img src=\"pics/rock.gif\" align='left'/>\n",
    "<img src=\"pics/paper.gif\" align='left'/>\n",
    "<img src=\"pics/paper.gif\" align='left'/>\n",
    "<img src=\"pics/scissors.gif\" align='left'/>\n",
    "<img src=\"pics/rock.gif\" align='left'/>\n",
    "<img src=\"pics/rock.gif\" align='left'/>\n",
    "<img src=\"pics/rock.gif\" align='left'/>\n",
    "<img src=\"pics/paper.gif\" align='left'/>\n",
    "<img src=\"pics/scissors.gif\" align='left'/>\n",
    "<img src=\"pics/rock.gif\" align='left'/>\n",
    "<img src=\"pics/paper.gif\" align='left'/>\n",
    "<img src=\"pics/scissors.gif\" align='left'/>\n",
    "<img src=\"pics/paper.gif\" align='left'/>\n",
    "<img src=\"pics/paper.gif\" align='left'/>\n",
    "<img src=\"pics/rock.gif\" align='left'/>\n",
    "<img src=\"pics/rock.gif\" align='left'/>\n",
    "<img src=\"pics/scissors.gif\" align='left'/>"
   ]
  },
  {
   "cell_type": "code",
   "execution_count": null,
   "metadata": {},
   "outputs": [],
   "source": [
    "my_play = 'kppokkkpokpoppkko'"
   ]
  },
  {
   "cell_type": "markdown",
   "metadata": {
    "slideshow": {
     "slide_type": "subslide"
    }
   },
   "source": [
    "# Véletlenszerű MI"
   ]
  },
  {
   "cell_type": "code",
   "execution_count": null,
   "metadata": {},
   "outputs": [],
   "source": [
    "rnd = ci.RPS('null', 42)\n",
    "rnd.play(my_play, plot=True);"
   ]
  },
  {
   "cell_type": "code",
   "execution_count": null,
   "metadata": {
    "slideshow": {
     "slide_type": "subslide"
    }
   },
   "outputs": [],
   "source": [
    "rnd.plot_probs();"
   ]
  },
  {
   "cell_type": "markdown",
   "metadata": {
    "slideshow": {
     "slide_type": "subslide"
    }
   },
   "source": [
    "# Naív MI\n",
    "\n",
    "A gyakrabban használt kezeket jegyezzük meg"
   ]
  },
  {
   "cell_type": "code",
   "execution_count": null,
   "metadata": {},
   "outputs": [],
   "source": [
    "naive = ci.RPS('naive', 42)\n",
    "naive.play(my_play, plot=True);"
   ]
  },
  {
   "cell_type": "code",
   "execution_count": null,
   "metadata": {
    "slideshow": {
     "slide_type": "subslide"
    }
   },
   "outputs": [],
   "source": [
    "naive.plot_probs();"
   ]
  },
  {
   "cell_type": "markdown",
   "metadata": {
    "slideshow": {
     "slide_type": "subslide"
    }
   },
   "source": [
    "# Emlékező MI\n",
    "\n",
    "Jegyezzük meg, hogy milyen kezek után mik következnek"
   ]
  },
  {
   "cell_type": "markdown",
   "metadata": {
    "slideshow": {
     "slide_type": "fragment"
    }
   },
   "source": [
    "<img src=\"pics/stateful.png\" width=400 align='left'/>"
   ]
  },
  {
   "cell_type": "code",
   "execution_count": null,
   "metadata": {},
   "outputs": [],
   "source": [
    "stateful = ci.RPS('stateful', 42)\n",
    "stateful2 = ci.RPS('stateful', 42, 2)\n",
    "stateful3 = ci.RPS('stateful', 42, 3)"
   ]
  },
  {
   "cell_type": "code",
   "execution_count": null,
   "metadata": {
    "slideshow": {
     "slide_type": "subslide"
    }
   },
   "outputs": [],
   "source": [
    "stateful2.play(my_play)\n",
    "stateful3.play(my_play)\n",
    "stateful.play(my_play, plot=True);"
   ]
  },
  {
   "cell_type": "code",
   "execution_count": null,
   "metadata": {
    "slideshow": {
     "slide_type": "subslide"
    }
   },
   "outputs": [],
   "source": [
    "stateful.plot_probs();"
   ]
  },
  {
   "cell_type": "markdown",
   "metadata": {
    "slideshow": {
     "slide_type": "subslide"
    }
   },
   "source": [
    "# Intermission: Neurális hálózatok\n",
    "\n",
    "## Perceptron model\n",
    "<img src=\"pics/neuron.png\" width=400 align=\"left\"/>"
   ]
  },
  {
   "cell_type": "markdown",
   "metadata": {
    "slideshow": {
     "slide_type": "subslide"
    }
   },
   "source": [
    "## Többrétegű hálózat\n",
    "<img src=\"pics/mlp.png\" width=400 align=\"left\" source=\"https://github.com/nikolaypavlov/MLPNeuralNet\">"
   ]
  },
  {
   "cell_type": "markdown",
   "metadata": {
    "slideshow": {
     "slide_type": "subslide"
    }
   },
   "source": [
    "# Neurális MI"
   ]
  },
  {
   "cell_type": "code",
   "execution_count": null,
   "metadata": {},
   "outputs": [],
   "source": [
    "nn = ci.RPS('neural', 42)"
   ]
  },
  {
   "cell_type": "code",
   "execution_count": null,
   "metadata": {
    "slideshow": {
     "slide_type": "subslide"
    }
   },
   "outputs": [],
   "source": [
    "nn.play(my_play, plot=True);"
   ]
  },
  {
   "cell_type": "markdown",
   "metadata": {
    "slideshow": {
     "slide_type": "slide"
    }
   },
   "source": [
    "# Demo"
   ]
  },
  {
   "cell_type": "markdown",
   "metadata": {
    "slideshow": {
     "slide_type": "subslide"
    }
   },
   "source": [
    "# WIFI: OnePlusFuli\n",
    "# PWD: datapizza\n",
    "# Visit: 192.168.43.251:5000"
   ]
  },
  {
   "cell_type": "code",
   "execution_count": null,
   "metadata": {
    "slideshow": {
     "slide_type": "-"
    }
   },
   "outputs": [],
   "source": [
    "qrcode.make('192.168.43.251:5000')"
   ]
  },
  {
   "cell_type": "code",
   "execution_count": null,
   "metadata": {
    "slideshow": {
     "slide_type": "-"
    }
   },
   "outputs": [],
   "source": [
    "display(ci.generate_interface(nn))"
   ]
  },
  {
   "cell_type": "code",
   "execution_count": null,
   "metadata": {
    "slideshow": {
     "slide_type": "subslide"
    }
   },
   "outputs": [],
   "source": [
    "nn.plot_win_ratio();"
   ]
  },
  {
   "cell_type": "markdown",
   "metadata": {
    "slideshow": {
     "slide_type": "subslide"
    }
   },
   "source": [
    "# Közösségi statisztika"
   ]
  },
  {
   "cell_type": "code",
   "execution_count": null,
   "metadata": {
    "slideshow": {
     "slide_type": "-"
    }
   },
   "outputs": [],
   "source": [
    "community = ci.get_results()"
   ]
  },
  {
   "cell_type": "code",
   "execution_count": null,
   "metadata": {},
   "outputs": [],
   "source": [
    "ci.plot_wins(community);"
   ]
  },
  {
   "cell_type": "code",
   "execution_count": null,
   "metadata": {
    "slideshow": {
     "slide_type": "-"
    }
   },
   "outputs": [],
   "source": [
    "ci.plot_favourite_hand(community);"
   ]
  },
  {
   "cell_type": "code",
   "execution_count": null,
   "metadata": {
    "slideshow": {
     "slide_type": "subslide"
    }
   },
   "outputs": [],
   "source": [
    "ci.plot_area_by_turn(community, 'user');"
   ]
  },
  {
   "cell_type": "code",
   "execution_count": null,
   "metadata": {
    "slideshow": {
     "slide_type": "-"
    }
   },
   "outputs": [],
   "source": [
    "ci.plot_area_by_turn(community, 'result');"
   ]
  },
  {
   "cell_type": "markdown",
   "metadata": {
    "slideshow": {
     "slide_type": "slide"
    }
   },
   "source": [
    "# Kiszámíthatóak vagyunk?"
   ]
  },
  {
   "cell_type": "markdown",
   "metadata": {
    "slideshow": {
     "slide_type": "fragment"
    }
   },
   "source": [
    "> \"93%-os pontossággal meg lehet mondani, hogy hol lesz az illető holnap délután 3 órakor.\"\n",
    "\n",
    "\\- Barabási Albert-László @ [Mindentudás Egyeteme](https://www.youtube.com/watch?v=zCXaIbBWbWE)"
   ]
  },
  {
   "cell_type": "markdown",
   "metadata": {
    "slideshow": {
     "slide_type": "fragment"
    }
   },
   "source": [
    "# Kiszámíthatóak vagyunk."
   ]
  },
  {
   "cell_type": "markdown",
   "metadata": {
    "slideshow": {
     "slide_type": "subslide"
    }
   },
   "source": [
    "# Mélytanulás"
   ]
  },
  {
   "cell_type": "markdown",
   "metadata": {
    "slideshow": {
     "slide_type": "fragment"
    }
   },
   "source": [
    "<img src=\"pics/mgc.gif\" align=\"center\" width=\"400px\">"
   ]
  },
  {
   "cell_type": "markdown",
   "metadata": {
    "slideshow": {
     "slide_type": "slide"
    }
   },
   "source": [
    "# art"
   ]
  },
  {
   "cell_type": "markdown",
   "metadata": {
    "slideshow": {
     "slide_type": "subslide"
    }
   },
   "source": [
    "![deeprembrandt](pics/deeprembrandt.jpg)\n",
    "[via Wired](http://www.wired.co.uk/article/new-rembrandt-painting-computer-3d-printed)"
   ]
  },
  {
   "cell_type": "markdown",
   "metadata": {
    "slideshow": {
     "slide_type": "subslide"
    }
   },
   "source": [
    "![deeptransform](pics/deeptransform.jpg)\n",
    "[via deepart.io](https://deepart.io/)"
   ]
  },
  {
   "cell_type": "markdown",
   "metadata": {
    "slideshow": {
     "slide_type": "subslide"
    }
   },
   "source": [
    "# ... és mi mire keresünk?"
   ]
  },
  {
   "cell_type": "markdown",
   "metadata": {
    "slideshow": {
     "slide_type": "fragment"
    }
   },
   "source": [
    "![deep-learning-with-cats](pics/gan_cats.gif)\n",
    "[by Alexia Jolicoeur-Martineau](https://github.com/AlexiaJM/Deep-learning-with-cats)"
   ]
  },
  {
   "cell_type": "markdown",
   "metadata": {
    "slideshow": {
     "slide_type": "subslide"
    }
   },
   "source": [
    "![deepdream](pics/deepdream.jpg)\n",
    "[via Eric Wayne](https://artofericwayne.com/2015/07/08/google-deep-dream-getting-too-good/)"
   ]
  },
  {
   "cell_type": "markdown",
   "metadata": {
    "slideshow": {
     "slide_type": "slide"
    }
   },
   "source": [
    "# nlp"
   ]
  },
  {
   "cell_type": "markdown",
   "metadata": {
    "slideshow": {
     "slide_type": "subslide"
    }
   },
   "source": [
    "<img src=\"pics/w2v-context-words.png\" source=\"https://blog.acolyer.org/2016/04/21/the-amazing-power-of-word-vectors/\" align=\"middle\">\n",
    "\n",
    "<img src=\"pics/w2v-king-queen-vectors.png\" source=\"https://blog.acolyer.org/2016/04/21/the-amazing-power-of-word-vectors/\" align=\"left\" width=\"600px\">\n",
    "\n",
    "<img src=\"pics/w2v-king-queen-composition.png\" source=\"https://blog.acolyer.org/2016/04/21/the-amazing-power-of-word-vectors/\" align=\"right\" width=\"600px\">"
   ]
  },
  {
   "cell_type": "markdown",
   "metadata": {
    "slideshow": {
     "slide_type": "-"
    }
   },
   "source": [
    "<a href=\"https://blog.acolyer.org/2016/04/21/the-amazing-power-of-word-vectors/\">via Adrian Colyer</a>"
   ]
  },
  {
   "cell_type": "markdown",
   "metadata": {
    "slideshow": {
     "slide_type": "subslide"
    }
   },
   "source": [
    "> *PANDARUS:*  \n",
    "> *Alas, I think he shall be come approached and the day*  \n",
    "> *When little srain would be attain'd into being never fed,*  \n",
    "> *And who is but a chain and subjects of his death,*  \n",
    "> *I should not sleep.*  \n",
    "> ...  \n",
    ">   \n",
    "> *Clown:*  \n",
    "> *Come, sir, I will make did behold your worship.*  \n",
    ">   \n",
    "> *VIOLA:*  \n",
    "> *I'll drink it.*  \n",
    "\n",
    "\\- William RNNspear"
   ]
  },
  {
   "cell_type": "markdown",
   "metadata": {
    "slideshow": {
     "slide_type": "subslide"
    }
   },
   "source": [
    "<img src=\"pics/deeppaper.jpg\" source=\"http://karpathy.github.io/2015/05/21/rnn-effectiveness/\">"
   ]
  },
  {
   "cell_type": "markdown",
   "metadata": {
    "slideshow": {
     "slide_type": "subslide"
    }
   },
   "source": [
    "# ... és mi miről beszélünk?"
   ]
  },
  {
   "cell_type": "markdown",
   "metadata": {
    "slideshow": {
     "slide_type": "fragment"
    }
   },
   "source": [
    "![racist_twitterbot](./pics/racist_twitterbot.png)"
   ]
  },
  {
   "cell_type": "markdown",
   "metadata": {
    "slideshow": {
     "slide_type": "slide"
    }
   },
   "source": [
    "# image / voice recognition"
   ]
  },
  {
   "cell_type": "markdown",
   "metadata": {
    "slideshow": {
     "slide_type": "subslide"
    }
   },
   "source": [
    "![self-driving cars](./pics/self_driving_car_with_vision.gif)\n",
    "[via electrek](https://electrek.co/2017/03/13/tesla-vision-autopilot-chip-intel-mobileye/)"
   ]
  },
  {
   "cell_type": "markdown",
   "metadata": {
    "slideshow": {
     "slide_type": "subslide"
    }
   },
   "source": [
    "# ... és mi hogyan használjuk ki?"
   ]
  },
  {
   "cell_type": "markdown",
   "metadata": {
    "slideshow": {
     "slide_type": "fragment"
    }
   },
   "source": [
    "![adversarial_duck](./pics/adversarial_duck.png) \n",
    "[Gong et al.](https://www.researchgate.net/figure/An-illustration-of-machine-learning-adversarial-examples-Studies-have-shown-that-by_fig1_324055823)"
   ]
  },
  {
   "cell_type": "markdown",
   "metadata": {
    "slideshow": {
     "slide_type": "subslide"
    }
   },
   "source": [
    "![adversarial_stop_sign](./pics/adversarial_stop_sign.jpg)\n",
    "[Eykholt, Etimov et al.](https://arxiv.org/pdf/1707.08945.pdf)"
   ]
  },
  {
   "cell_type": "markdown",
   "metadata": {
    "slideshow": {
     "slide_type": "slide"
    }
   },
   "source": [
    "# video games"
   ]
  },
  {
   "cell_type": "markdown",
   "metadata": {
    "slideshow": {
     "slide_type": "subslide"
    }
   },
   "source": [
    "![MarI/O](pics/DLmario.gif)\n",
    "[via SethBling](https://www.youtube.com/watch?v=qv6UVOQ0F44)"
   ]
  },
  {
   "cell_type": "markdown",
   "metadata": {
    "slideshow": {
     "slide_type": "subslide"
    }
   },
   "source": [
    "<img src=\"pics/alphagowins.jpg\" align=\"left\" source=\"https://gogameguru.com/lee-sedol-defeats-alphago-masterful-comeback-game-4/\">\n",
    "<img src=\"pics/DLagentloses.jpg\" align=\"right\" source=\"http://www.dailymail.co.uk/sciencetech/article-3978068/DeepMind-s-challenge-StarCraft-2-Google-s-secretive-AI-playing-game-develop-human-like-reasoning.html\" related-article=\"https://www.technologyreview.com/s/609242/humans-are-still-better-than-ai-at-starcraftfor-now/\">"
   ]
  },
  {
   "cell_type": "markdown",
   "metadata": {
    "slideshow": {
     "slide_type": "subslide"
    }
   },
   "source": [
    "![sc2-agent](./pics/sc2_agent.gif)\n",
    "[deepmind](https://deepmind.com/blog/announcements/deepmind-and-blizzard-open-starcraft-ii-ai-research-environment)"
   ]
  },
  {
   "cell_type": "markdown",
   "metadata": {
    "slideshow": {
     "slide_type": "subslide"
    }
   },
   "source": [
    "# ... és mi mire használjuk?"
   ]
  },
  {
   "cell_type": "markdown",
   "metadata": {
    "slideshow": {
     "slide_type": "fragment"
    }
   },
   "source": [
    "<img src=\"pics/lingrush.gif\" width=600></img>"
   ]
  },
  {
   "cell_type": "markdown",
   "metadata": {
    "slideshow": {
     "slide_type": "slide"
    }
   },
   "source": [
    "# Recsystems"
   ]
  },
  {
   "cell_type": "markdown",
   "metadata": {
    "slideshow": {
     "slide_type": "fragment"
    }
   },
   "source": [
    "![logos](pics/logos.png)"
   ]
  },
  {
   "cell_type": "markdown",
   "metadata": {
    "slideshow": {
     "slide_type": "subslide"
    }
   },
   "source": [
    "# Tartalom alapú módszerek "
   ]
  },
  {
   "cell_type": "markdown",
   "metadata": {
    "slideshow": {
     "slide_type": "-"
    }
   },
   "source": [
    "<img src=\"pics/cbinteract.png\" />"
   ]
  },
  {
   "cell_type": "markdown",
   "metadata": {
    "slideshow": {
     "slide_type": "subslide"
    }
   },
   "source": [
    "# Collaborative filtering"
   ]
  },
  {
   "cell_type": "markdown",
   "metadata": {
    "slideshow": {
     "slide_type": "-"
    }
   },
   "source": [
    "<img src=\"pics/cfinteract.png\" align= \"left\"/> <img src=\"pics/cfmatrix.png\" align=\"left\"/>"
   ]
  },
  {
   "cell_type": "markdown",
   "metadata": {
    "slideshow": {
     "slide_type": "subslide"
    }
   },
   "source": [
    "# ... és mi mire vagyunk nyitottak?"
   ]
  },
  {
   "cell_type": "markdown",
   "metadata": {
    "slideshow": {
     "slide_type": "fragment"
    }
   },
   "source": [
    "<img src=\"pics/filter_bubble.jpg\" width=\"1200px\">\n",
    "<a href=\"https://www.sticky.digital/danger-of-living-in-a-filter-bubble/\">via sticky</a>"
   ]
  },
  {
   "cell_type": "markdown",
   "metadata": {
    "slideshow": {
     "slide_type": "slide"
    }
   },
   "source": [
    "# A nagy testvér figyel?"
   ]
  },
  {
   "cell_type": "markdown",
   "metadata": {
    "slideshow": {
     "slide_type": "subslide"
    }
   },
   "source": [
    "![inspiroquotes](pics/inspiroquotes.jpg)\n",
    "[by inspirobot](http://inspirobot.me/)"
   ]
  },
  {
   "cell_type": "markdown",
   "metadata": {
    "slideshow": {
     "slide_type": "slide"
    }
   },
   "source": [
    "# Köszönöm megtisztelő figyelmüket!\n",
    "\n",
    "<img src=\"pics/twitter.png\" align='left' style='margin-right: 5px; margin-left: 15px' /><b>twitter.com/fulibacsi</b><br>\n",
    "\n",
    "<img src=\"pics/github.png\" align='left' style='margin-right: 5px; margin-left: 15px' /><b>github.com/fulibacsi</b>\n",
    "\n",
    "<img src=\"pics/qr.jpg\" align='right' width=\"400px\">"
   ]
  },
  {
   "cell_type": "markdown",
   "metadata": {
    "slideshow": {
     "slide_type": "notes"
    }
   },
   "source": [
    "**Források:**\n",
    "\n",
    "- Python nyelv kezdőknek: http://mek.oszk.hu/08400/08435/08435.pdf\n",
    "- Deep learning:\n",
    "    - Deep Dream: https://artofericwayne.com/2015/07/08/google-deep-dream-getting-too-good/\n",
    "    - Rembrandt 3d nyomtatás: http://www.wired.co.uk/article/new-rembrandt-painting-computer-3d-printed\n",
    "    - Képek átalakítása festői stílusokban: https://deepart.io/\n",
    "    - Hogyan értik meg a neurális hálózatok a képeket: https://distill.pub/2017/feature-visualization/\n",
    "    - Generatív nyelvek: http://karpathy.github.io/2015/05/21/rnn-effectiveness/\n",
    "    - word2vec: \n",
    "        - általános leírás: https://blog.acolyer.org/2016/04/21/the-amazing-power-of-word-vectors/\n",
    "        - kipróbálható online alkalmazás:  https://rare-technologies.com/word2vec-tutorial/\n",
    "        - tutorial:  http://mccormickml.com/2016/04/19/word2vec-tutorial-the-skip-gram-model/\n",
    "    - Deep Learning cats: https://github.com/AlexiaJM/Deep-learning-with-cats\n",
    "    - MarI/O:\n",
    "        - paper: http://nn.cs.utexas.edu/downloads/papers/stanley.ec02.pdf\n",
    "        - source-code: https://pastebin.com/ZZmSNaHX\n",
    "        - video: https://www.youtube.com/watch?v=qv6UVOQ0F44\n",
    "    - Mario Kart neurális hálózat: https://www.youtube.com/watch?v=Ipi40cb_RsI\n",
    "    - AlphaGo wins: https://gogameguru.com/lee-sedol-defeats-alphago-masterful-comeback-game-4/\n",
    "    - Deep Learning agents loses in StarCraft: https://www.technologyreview.com/s/609242/humans-are-still-better-than-ai-at-starcraftfor-now/\n",
    "    - Inspirobot: http://inspirobot.me/\n",
    "    - adversarial attacks:\n",
    "        - duck: https://www.researchgate.net/figure/An-illustration-of-machine-learning-adversarial-examples-Studies-have-shown-that-by_fig1_324055823\n",
    "        - stop sign: https://arxiv.org/pdf/1707.08945.pdf\n",
    "- Neurális Kő-Papír-Olló ágensek:\n",
    "    - https://www.his.se/PageFiles/8158/Henrik_Engstrom.pdf\n",
    "    - http://act-r.psy.cmu.edu/wordpress/wp-content/uploads/2012/12/874paper203.pdf\n",
    "- Hogyan nyerjünk emberi ellenfél ellen: \n",
    "    - http://worldrps.com/how-to-beat-anyone-at-rock-paper-scissors/\n",
    "    - https://www.youtube.com/watch?v=rudzYPHuewc\n",
    "    - http://bit.ly/RPSpaper\n",
    "    - http://blog.wolfram.com/2014/01/20/how-to-win-at-rock-paper-scissors/\n",
    "- RoChamBo - Kő-Papír-Olló MI bajnokság:\n",
    "    - https://github.com/NavjotMinhas/RockPaperScissors_AI\n",
    "    - https://www.reddit.com/r/gamedev/comments/doxb3/simple_ai_for_a_rockpaperscissors_game/\n",
    "    - http://webdocs.cs.ualberta.ca/~darse/rsbpc.html"
   ]
  }
 ],
 "metadata": {
  "celltoolbar": "Slideshow",
  "kernelspec": {
   "display_name": "Python 3",
   "language": "python",
   "name": "python3"
  },
  "language_info": {
   "codemirror_mode": {
    "name": "ipython",
    "version": 3
   },
   "file_extension": ".py",
   "mimetype": "text/x-python",
   "name": "python",
   "nbconvert_exporter": "python",
   "pygments_lexer": "ipython3",
   "version": "3.7.0"
  }
 },
 "nbformat": 4,
 "nbformat_minor": 2
}
