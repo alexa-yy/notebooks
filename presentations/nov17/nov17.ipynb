{
 "cells": [
  {
   "cell_type": "code",
   "execution_count": null,
   "metadata": {
    "collapsed": true,
    "slideshow": {
     "slide_type": "skip"
    }
   },
   "outputs": [],
   "source": [
    "%load_ext autoreload\n",
    "%autoreload 2"
   ]
  },
  {
   "cell_type": "code",
   "execution_count": null,
   "metadata": {
    "collapsed": true,
    "slideshow": {
     "slide_type": "skip"
    }
   },
   "outputs": [],
   "source": [
    "%matplotlib inline\n",
    "import matplotlib.pyplot as plt\n",
    "import seaborn as sns\n",
    "\n",
    "import random\n",
    "from IPython.display import display\n",
    "from tqdm import tqdm as progressbar\n",
    "from collections import Counter, defaultdict\n",
    "\n",
    "from dask.distributed import Client\n",
    "from dask.distributed import progress\n",
    "client = Client()\n",
    "\n",
    "import kvanti\n",
    "\n",
    "BOOKPATH = '../nyata2017/docs/'"
   ]
  },
  {
   "cell_type": "markdown",
   "metadata": {
    "slideshow": {
     "slide_type": "slide"
    }
   },
   "source": [
    "# Big Data a színfalak mögött\n",
    "\n",
    "<b>Kvantitatív módszerek II. - VII. óra</b>, 2017 november 17."
   ]
  },
  {
   "cell_type": "markdown",
   "metadata": {
    "slideshow": {
     "slide_type": "slide"
    }
   },
   "source": [
    "# Python\n",
    "\n",
    "> *A programozás a legközelebbi dolog a szupererőhöz.*  \n",
    "> Drew Houston (Dropbox)"
   ]
  },
  {
   "cell_type": "code",
   "execution_count": null,
   "metadata": {
    "slideshow": {
     "slide_type": "fragment"
    }
   },
   "outputs": [],
   "source": [
    "print \"Hello Kvanti!\""
   ]
  },
  {
   "cell_type": "markdown",
   "metadata": {
    "slideshow": {
     "slide_type": "slide"
    }
   },
   "source": [
    "# I. Big Data?"
   ]
  },
  {
   "cell_type": "markdown",
   "metadata": {
    "slideshow": {
     "slide_type": "subslide"
    }
   },
   "source": [
    "<img src=\"pics/meklogo.gif\" source=\"http://mek.oszk.hu\" align='left'>\n",
    "## Big Data-e egy teljes könyvtár könyveinek elemzése?"
   ]
  },
  {
   "cell_type": "code",
   "execution_count": null,
   "metadata": {
    "slideshow": {
     "slide_type": "fragment"
    }
   },
   "outputs": [],
   "source": [
    "bookpaths = kvanti.list_books(BOOKPATH)\n",
    "len(bookpaths)"
   ]
  },
  {
   "cell_type": "code",
   "execution_count": null,
   "metadata": {
    "slideshow": {
     "slide_type": "fragment"
    }
   },
   "outputs": [],
   "source": [
    "with open(bookpaths[0]) as bookfile:\n",
    "    print bookfile.readline()[:140]"
   ]
  },
  {
   "cell_type": "code",
   "execution_count": null,
   "metadata": {
    "slideshow": {
     "slide_type": "subslide"
    }
   },
   "outputs": [],
   "source": [
    "books = []\n",
    "for bookpath in progressbar(bookpaths[:1000]):\n",
    "    with open(bookpath) as bookfile:\n",
    "        books.append(bookfile.readline())"
   ]
  },
  {
   "cell_type": "code",
   "execution_count": null,
   "metadata": {},
   "outputs": [],
   "source": [
    "kvanti.mean(books)"
   ]
  },
  {
   "cell_type": "code",
   "execution_count": null,
   "metadata": {},
   "outputs": [],
   "source": [
    "kvanti.plot_histogram(books)"
   ]
  },
  {
   "cell_type": "markdown",
   "metadata": {
    "slideshow": {
     "slide_type": "subslide"
    }
   },
   "source": [
    "### Gyorselemzés: Melyek a MEK leggyakoribb szavai?"
   ]
  },
  {
   "cell_type": "code",
   "execution_count": null,
   "metadata": {},
   "outputs": [],
   "source": [
    "wordcount = defaultdict(int)\n",
    "\n",
    "for book in progressbar(books):\n",
    "    for word in book.split():\n",
    "        wordcount[word.lower()] += 1\n",
    "\n",
    "kvanti.print_most_common(wordcount)"
   ]
  },
  {
   "cell_type": "markdown",
   "metadata": {
    "slideshow": {
     "slide_type": "subslide"
    }
   },
   "source": [
    "<img src=\"pics/census.jpg\" width=\"100\" source=\"http://www.budaorsiinfo.hu/wp-content/uploads/2011/09/Nepszamlalas2011_logo1.jpg\" align='left'>\n",
    "## Big Data-e a népszámlálás?"
   ]
  },
  {
   "cell_type": "markdown",
   "metadata": {},
   "source": [
    "Átlagszámítás egy `10.000.000 x 500` mátrixon (5 Milliárd adatpont ~4 GB adat)."
   ]
  },
  {
   "cell_type": "code",
   "execution_count": null,
   "metadata": {},
   "outputs": [],
   "source": [
    "%%time\n",
    "x = kvanti.generate_random_matrix(size=(1000000, 500))\n",
    "y = kvanti.mean(x)"
   ]
  },
  {
   "cell_type": "markdown",
   "metadata": {
    "slideshow": {
     "slide_type": "subslide"
    }
   },
   "source": [
    "### Párhuzamosítás"
   ]
  },
  {
   "cell_type": "markdown",
   "metadata": {},
   "source": [
    "<img src=\"pics/embarrassing.gif\" source=\"https://github.com/dask/dask-tutorial\" width=\"800px\"/>"
   ]
  },
  {
   "cell_type": "code",
   "execution_count": null,
   "metadata": {},
   "outputs": [],
   "source": [
    "%%time\n",
    "x = kvanti.generate_random_matrix(size=(1000000, 500), distribute=True)\n",
    "y = kvanti.mean(x)\n",
    "y.compute()"
   ]
  },
  {
   "cell_type": "markdown",
   "metadata": {
    "slideshow": {
     "slide_type": "subslide"
    }
   },
   "source": [
    "### Skálázás"
   ]
  },
  {
   "cell_type": "markdown",
   "metadata": {},
   "source": [
    "<img src=\"pics/verticalvshorizontal.png\" source=\"http://www.pc-freak.net/blog/vertical-horizontal-server-services-scaling-vertical-horizontal-hardware-scaling/\" />"
   ]
  },
  {
   "cell_type": "markdown",
   "metadata": {
    "slideshow": {
     "slide_type": "subslide"
    }
   },
   "source": [
    "<img src='pics/twitter-large.png' width=\"100\" align=\"left\">\n",
    "## Big Data-e egy percnyi twitter feed?"
   ]
  },
  {
   "cell_type": "markdown",
   "metadata": {
    "slideshow": {
     "slide_type": "subslide"
    }
   },
   "source": [
    "## Hogyan dolgozzuk fel? - A MapReduce paradigma"
   ]
  },
  {
   "cell_type": "markdown",
   "metadata": {},
   "source": [
    "<img src=\"pics/mapreduce.png\" source=\"https://wikis.nyu.edu/display/NYUHPC/Big+Data+Tutorial+1%3A+MapReduce\" width=\"750px\"/>"
   ]
  },
  {
   "cell_type": "code",
   "execution_count": null,
   "metadata": {
    "collapsed": true
   },
   "outputs": [],
   "source": [
    "books = kvanti.load_books(BOOKPATH + '00*.txt')\n",
    "splitted = (books.str.lower()\n",
    "                 .str.split()\n",
    "                 .flatten())\n",
    "mapped = splitted.frequencies()\n",
    "reduced = mapped.topk(10, lambda x: x[1])"
   ]
  },
  {
   "cell_type": "code",
   "execution_count": null,
   "metadata": {
    "slideshow": {
     "slide_type": "subslide"
    }
   },
   "outputs": [],
   "source": [
    "wordcount = client.compute(reduced)\n",
    "progress(wordcount)"
   ]
  },
  {
   "cell_type": "code",
   "execution_count": null,
   "metadata": {},
   "outputs": [],
   "source": [
    "results = client.gather(wordcount)\n",
    "kvanti.print_most_common(results)\n",
    "client.close()"
   ]
  },
  {
   "cell_type": "markdown",
   "metadata": {
    "slideshow": {
     "slide_type": "subslide"
    }
   },
   "source": [
    "## Miért jók a Big Data megoldások?"
   ]
  },
  {
   "cell_type": "markdown",
   "metadata": {},
   "source": [
    "- elosztott\n",
    "- dinamikusan skálázható\n",
    "- hibatűrő"
   ]
  },
  {
   "cell_type": "markdown",
   "metadata": {
    "slideshow": {
     "slide_type": "subslide"
    }
   },
   "source": [
    "## Alternatívák Big Data feldolgozására"
   ]
  },
  {
   "cell_type": "markdown",
   "metadata": {},
   "source": [
    "<img src=\"pics/solutions.jpg\" source1=\"http://www.tomsitpro.com/articles/mesos-mesosphere-data-center-open-source-apache,1-2001.html\" source2=\"https://www.slideshare.net/PowerPoint-Templates/computers-and-servers-powerpoint-presentation-slides-ppt-templates\" width=\"600\">\n"
   ]
  },
  {
   "cell_type": "markdown",
   "metadata": {
    "slideshow": {
     "slide_type": "slide"
    }
   },
   "source": [
    "# II. Kitérő"
   ]
  },
  {
   "cell_type": "markdown",
   "metadata": {
    "slideshow": {
     "slide_type": "subslide"
    }
   },
   "source": [
    "## Kő-papír-olló\n",
    "<img src=\"pics/rock.gif\" align='left'/>\n",
    "<img src=\"pics/paper.gif\" align='left'/>\n",
    "<img src=\"pics/scissors.gif\" align='left'/>"
   ]
  },
  {
   "cell_type": "markdown",
   "metadata": {
    "slideshow": {
     "slide_type": "fragment"
    }
   },
   "source": [
    "<img src=\"pics/janken.gif\" />"
   ]
  },
  {
   "cell_type": "code",
   "execution_count": null,
   "metadata": {
    "slideshow": {
     "slide_type": "subslide"
    }
   },
   "outputs": [],
   "source": [
    "hands = ['ko', 'papir', 'ollo']\n",
    "random.choice(hands)"
   ]
  },
  {
   "cell_type": "code",
   "execution_count": null,
   "metadata": {
    "slideshow": {
     "slide_type": "subslide"
    }
   },
   "outputs": [],
   "source": [
    "games = []\n",
    "for _ in range(10000):\n",
    "    games.append(random.choice(hands))\n",
    "    \n",
    "kvanti.plot_freqs(Counter(games));"
   ]
  },
  {
   "cell_type": "markdown",
   "metadata": {
    "slideshow": {
     "slide_type": "subslide"
    }
   },
   "source": [
    "## Jósolható a taktikánk?\n",
    "\n",
    "<img src=\"pics/rock.gif\" align='left'/>\n",
    "<img src=\"pics/paper.gif\" align='left'/>\n",
    "<img src=\"pics/paper.gif\" align='left'/>\n",
    "<img src=\"pics/scissors.gif\" align='left'/>\n",
    "<img src=\"pics/rock.gif\" align='left'/>\n",
    "<img src=\"pics/rock.gif\" align='left'/>\n",
    "<img src=\"pics/rock.gif\" align='left'/>\n",
    "<img src=\"pics/paper.gif\" align='left'/>\n",
    "<img src=\"pics/scissors.gif\" align='left'/>\n",
    "<img src=\"pics/rock.gif\" align='left'/>\n",
    "<img src=\"pics/paper.gif\" align='left'/>\n",
    "<img src=\"pics/scissors.gif\" align='left'/>\n",
    "<img src=\"pics/paper.gif\" align='left'/>\n",
    "<img src=\"pics/paper.gif\" align='left'/>\n",
    "<img src=\"pics/rock.gif\" align='left'/>\n",
    "<img src=\"pics/rock.gif\" align='left'/>\n",
    "<img src=\"pics/scissors.gif\" align='left'/>"
   ]
  },
  {
   "cell_type": "code",
   "execution_count": null,
   "metadata": {
    "collapsed": true
   },
   "outputs": [],
   "source": [
    "my_play = 'kppokkkpokpoppkko'"
   ]
  },
  {
   "cell_type": "markdown",
   "metadata": {
    "slideshow": {
     "slide_type": "subslide"
    }
   },
   "source": [
    "## Véletlenszerű MI"
   ]
  },
  {
   "cell_type": "code",
   "execution_count": null,
   "metadata": {},
   "outputs": [],
   "source": [
    "rnd = kvanti.RPS('null', 42)\n",
    "rnd.play(my_play, plot=True);"
   ]
  },
  {
   "cell_type": "code",
   "execution_count": null,
   "metadata": {
    "slideshow": {
     "slide_type": "subslide"
    }
   },
   "outputs": [],
   "source": [
    "rnd.plot_probs();"
   ]
  },
  {
   "cell_type": "markdown",
   "metadata": {
    "slideshow": {
     "slide_type": "subslide"
    }
   },
   "source": [
    "## Naív MI\n",
    "\n",
    "A gyakrabban használt kezeket jegyezzük meg"
   ]
  },
  {
   "cell_type": "code",
   "execution_count": null,
   "metadata": {},
   "outputs": [],
   "source": [
    "naive = kvanti.RPS('naive', 42)\n",
    "naive.play(my_play, plot=True);"
   ]
  },
  {
   "cell_type": "code",
   "execution_count": null,
   "metadata": {
    "slideshow": {
     "slide_type": "subslide"
    }
   },
   "outputs": [],
   "source": [
    "naive.plot_probs();"
   ]
  },
  {
   "cell_type": "markdown",
   "metadata": {
    "slideshow": {
     "slide_type": "subslide"
    }
   },
   "source": [
    "## Emlékező MI\n",
    "\n",
    "Jegyezzük meg, hogy milyen kezek után mik következnek"
   ]
  },
  {
   "cell_type": "markdown",
   "metadata": {
    "slideshow": {
     "slide_type": "fragment"
    }
   },
   "source": [
    "<img src=\"pics/stateful.png\" width=\"400\" align='left'>"
   ]
  },
  {
   "cell_type": "code",
   "execution_count": null,
   "metadata": {
    "collapsed": true
   },
   "outputs": [],
   "source": [
    "stateful = kvanti.RPS('stateful', 42)\n",
    "stateful3 = kvanti.RPS('stateful', 42, 3)"
   ]
  },
  {
   "cell_type": "code",
   "execution_count": null,
   "metadata": {
    "slideshow": {
     "slide_type": "subslide"
    }
   },
   "outputs": [],
   "source": [
    "stateful3.play(my_play)\n",
    "stateful.play(my_play, plot=True);"
   ]
  },
  {
   "cell_type": "code",
   "execution_count": null,
   "metadata": {
    "slideshow": {
     "slide_type": "subslide"
    }
   },
   "outputs": [],
   "source": [
    "stateful.plot_probs();"
   ]
  },
  {
   "cell_type": "markdown",
   "metadata": {
    "slideshow": {
     "slide_type": "subslide"
    }
   },
   "source": [
    "## Gépek csatája"
   ]
  },
  {
   "cell_type": "code",
   "execution_count": null,
   "metadata": {
    "slideshow": {
     "slide_type": "-"
    }
   },
   "outputs": [],
   "source": [
    "kvanti.Simulate(stateful, stateful3, 50000, p1static=True, p2static=False).play(plot=True);"
   ]
  },
  {
   "cell_type": "markdown",
   "metadata": {
    "slideshow": {
     "slide_type": "slide"
    }
   },
   "source": [
    "# III. Lehetőségek"
   ]
  },
  {
   "cell_type": "markdown",
   "metadata": {
    "slideshow": {
     "slide_type": "subslide"
    }
   },
   "source": [
    "## Neurális hálózatok\n",
    "\n",
    "### Perceptron model\n",
    "<img src=\"pics/neuron.png\" width=\"400\" align=\"left\">"
   ]
  },
  {
   "cell_type": "markdown",
   "metadata": {
    "slideshow": {
     "slide_type": "subslide"
    }
   },
   "source": [
    "## Többrétegű hálózat\n",
    "<img src=\"pics/mlp.png\" width=\"400\" align=\"left\" source=\"https://github.com/nikolaypavlov/MLPNeuralNet\">"
   ]
  },
  {
   "cell_type": "markdown",
   "metadata": {
    "slideshow": {
     "slide_type": "subslide"
    }
   },
   "source": [
    "## Mélytanulás"
   ]
  },
  {
   "cell_type": "markdown",
   "metadata": {
    "slideshow": {
     "slide_type": "fragment"
    }
   },
   "source": [
    "<img src=\"pics/mgc.gif\"/>"
   ]
  },
  {
   "cell_type": "markdown",
   "metadata": {
    "slideshow": {
     "slide_type": "subslide"
    }
   },
   "source": [
    "<img src=\"pics/deepdream.jpg\" source=\"https://artofericwayne.com/2015/07/08/google-deep-dream-getting-too-good/\"/>"
   ]
  },
  {
   "cell_type": "markdown",
   "metadata": {
    "slideshow": {
     "slide_type": "subslide"
    }
   },
   "source": [
    "<img src=\"pics/deeprebrandt.jpg\" source=\"http://www.wired.co.uk/article/new-rembrandt-painting-computer-3d-printed\"/>"
   ]
  },
  {
   "cell_type": "markdown",
   "metadata": {
    "slideshow": {
     "slide_type": "subslide"
    }
   },
   "source": [
    "<img src=\"pics/deeptransform.jpg\" source=\"https://deepart.io/\"/>"
   ]
  },
  {
   "cell_type": "markdown",
   "metadata": {
    "slideshow": {
     "slide_type": "subslide"
    }
   },
   "source": [
    "> *PANDARUS:*  \n",
    "> *Alas, I think he shall be come approached and the day*  \n",
    "> *When little srain would be attain'd into being never fed,*  \n",
    "> *And who is but a chain and subjects of his death,*  \n",
    "> *I should not sleep.*  \n",
    "> ...  \n",
    ">   \n",
    "> *Clown:*  \n",
    "> *Come, sir, I will make did behold your worship.*  \n",
    ">   \n",
    "> *VIOLA:*  \n",
    "> *I'll drink it.*  \n",
    "\n",
    "\\- William RNNspear"
   ]
  },
  {
   "cell_type": "markdown",
   "metadata": {
    "slideshow": {
     "slide_type": "subslide"
    }
   },
   "source": [
    "<img src=\"pics/deeppaper.jpg\" source=\"http://karpathy.github.io/2015/05/21/rnn-effectiveness/\">"
   ]
  },
  {
   "cell_type": "markdown",
   "metadata": {
    "slideshow": {
     "slide_type": "subslide"
    }
   },
   "source": [
    "<img src=\"pics/w2v-context-words.png\" source=\"https://blog.acolyer.org/2016/04/21/the-amazing-power-of-word-vectors/\">\n",
    "\n",
    "<img src=\"pics/w2v-king-queen-vectors.png\" source=\"https://blog.acolyer.org/2016/04/21/the-amazing-power-of-word-vectors/\" align=\"left\" width=\"400px\">\n",
    "\n",
    "<img src=\"pics/w2v-king-queen-composition.png\" source=\"https://blog.acolyer.org/2016/04/21/the-amazing-power-of-word-vectors/\" align=\"right\" width=\"400px\">"
   ]
  },
  {
   "cell_type": "markdown",
   "metadata": {
    "slideshow": {
     "slide_type": "subslide"
    }
   },
   "source": [
    "<img src=\"pics/gan_cats.gif\" source=\"https://github.com/AlexiaJM/Deep-learning-with-cats\">"
   ]
  },
  {
   "cell_type": "markdown",
   "metadata": {
    "slideshow": {
     "slide_type": "subslide"
    }
   },
   "source": [
    "<img src=\"pics/DLmario.gif\" paper=\"http://nn.cs.utexas.edu/downloads/papers/stanley.ec02.pdf\" source-code=\"https://pastebin.com/ZZmSNaHX\" source=\"https://www.youtube.com/watch?v=qv6UVOQ0F44\">"
   ]
  },
  {
   "cell_type": "markdown",
   "metadata": {
    "slideshow": {
     "slide_type": "subslide"
    }
   },
   "source": [
    "<img src=\"pics/alphagowins.jpg\" align=\"left\" source=\"https://gogameguru.com/lee-sedol-defeats-alphago-masterful-comeback-game-4/\">\n",
    "<img src=\"pics/DLagentloses.jpg\" align=\"right\" source=\"http://www.dailymail.co.uk/sciencetech/article-3978068/DeepMind-s-challenge-StarCraft-2-Google-s-secretive-AI-playing-game-develop-human-like-reasoning.html\" related-article=\"https://www.technologyreview.com/s/609242/humans-are-still-better-than-ai-at-starcraftfor-now/\">"
   ]
  },
  {
   "cell_type": "markdown",
   "metadata": {
    "slideshow": {
     "slide_type": "subslide"
    }
   },
   "source": [
    "<img src=\"pics/inspiroquotes.jpg\" source=\"http://inspirobot.me/\">"
   ]
  },
  {
   "cell_type": "markdown",
   "metadata": {
    "slideshow": {
     "slide_type": "subslide"
    }
   },
   "source": [
    "## Neurális MI"
   ]
  },
  {
   "cell_type": "code",
   "execution_count": null,
   "metadata": {},
   "outputs": [],
   "source": [
    "nn = kvanti.RPS('neural', 42)\n",
    "nn.play(my_play, plot=True);"
   ]
  },
  {
   "cell_type": "markdown",
   "metadata": {
    "slideshow": {
     "slide_type": "slide"
    }
   },
   "source": [
    "# IV. Demo"
   ]
  },
  {
   "cell_type": "code",
   "execution_count": null,
   "metadata": {
    "slideshow": {
     "slide_type": "subslide"
    }
   },
   "outputs": [],
   "source": [
    "display(kvanti.generate_interface(nn))"
   ]
  },
  {
   "cell_type": "code",
   "execution_count": null,
   "metadata": {
    "slideshow": {
     "slide_type": "subslide"
    }
   },
   "outputs": [],
   "source": [
    "nn.plot_win_ratio();"
   ]
  },
  {
   "cell_type": "markdown",
   "metadata": {
    "slideshow": {
     "slide_type": "slide"
    }
   },
   "source": [
    "# V. Ajánló rendszerek"
   ]
  },
  {
   "cell_type": "markdown",
   "metadata": {
    "slideshow": {
     "slide_type": "fragment"
    }
   },
   "source": [
    "<img src=\"pics/logos.png\">"
   ]
  },
  {
   "cell_type": "markdown",
   "metadata": {
    "slideshow": {
     "slide_type": "subslide"
    }
   },
   "source": [
    "## Collaborative filtering\n",
    "\n",
    "<img src=\"pics/cfinteract.png\" />"
   ]
  },
  {
   "cell_type": "markdown",
   "metadata": {
    "slideshow": {
     "slide_type": "subslide"
    }
   },
   "source": [
    "<img src=\"pics/cfmatrix.png\" />"
   ]
  },
  {
   "cell_type": "markdown",
   "metadata": {
    "slideshow": {
     "slide_type": "subslide"
    }
   },
   "source": [
    "## Tartalom alapú módszerek \n",
    "\n",
    "<img src=\"pics/cbinteract.png\" />"
   ]
  },
  {
   "cell_type": "markdown",
   "metadata": {
    "slideshow": {
     "slide_type": "slide"
    }
   },
   "source": [
    "# VI. Kérdések"
   ]
  },
  {
   "cell_type": "markdown",
   "metadata": {
    "slideshow": {
     "slide_type": "fragment"
    }
   },
   "source": [
    "- Hol lehet hasznos a Big Data a társadalomtudományokban?"
   ]
  },
  {
   "cell_type": "markdown",
   "metadata": {
    "slideshow": {
     "slide_type": "fragment"
    }
   },
   "source": [
    "- Soroljunk fel Big Data problémákat!"
   ]
  },
  {
   "cell_type": "markdown",
   "metadata": {
    "slideshow": {
     "slide_type": "fragment"
    }
   },
   "source": [
    "- Mire nem alkalmasak a Big Data módszerek?  "
   ]
  },
  {
   "cell_type": "markdown",
   "metadata": {
    "slideshow": {
     "slide_type": "fragment"
    }
   },
   "source": [
    "- Melyek nem Big Data problémák?"
   ]
  },
  {
   "cell_type": "markdown",
   "metadata": {
    "slideshow": {
     "slide_type": "slide"
    }
   },
   "source": [
    "# Köszönöm a megtisztelő figyelmet!"
   ]
  },
  {
   "cell_type": "markdown",
   "metadata": {
    "slideshow": {
     "slide_type": "notes"
    }
   },
   "source": [
    "**Források:**\n",
    "\n",
    "- Python nyelv kezdőknek: http://mek.oszk.hu/08400/08435/08435.pdf\n",
    "- Deep learning:\n",
    "    - Deep Dream: https://artofericwayne.com/2015/07/08/google-deep-dream-getting-too-good/\n",
    "    - Rembrandt 3d nyomtatás: http://www.wired.co.uk/article/new-rembrandt-painting-computer-3d-printed\n",
    "    - Képek átalakítása festői stílusokban: https://deepart.io/\n",
    "    - Hogyan értik meg a neurális hálózatok a képeket: https://distill.pub/2017/feature-visualization/\n",
    "    - Generatív nyelvek: http://karpathy.github.io/2015/05/21/rnn-effectiveness/\n",
    "    - word2vec: \n",
    "        - általános leírás: https://blog.acolyer.org/2016/04/21/the-amazing-power-of-word-vectors/\n",
    "        - kipróbálható online alkalmazás:  https://rare-technologies.com/word2vec-tutorial/\n",
    "        - tutorial:  http://mccormickml.com/2016/04/19/word2vec-tutorial-the-skip-gram-model/\n",
    "    - Deep Learning cats: https://github.com/AlexiaJM/Deep-learning-with-cats\n",
    "    - MarI/O: https://www.youtube.com/watch?v=qv6UVOQ0F44\n",
    "    - Mario Kart neurális hálózat: https://www.youtube.com/watch?v=Ipi40cb_RsI\n",
    "    - AlphaGo wins: https://gogameguru.com/lee-sedol-defeats-alphago-masterful-comeback-game-4/\n",
    "    - Deep Learning agents loses in StarCraft: https://www.technologyreview.com/s/609242/humans-are-still-better-than-ai-at-starcraftfor-now/\n",
    "    - Inspirobot: http://inspirobot.me/\n",
    "- Neurális Kő-Papír-Olló ágensek:\n",
    "    - https://www.his.se/PageFiles/8158/Henrik_Engstrom.pdf\n",
    "    - http://act-r.psy.cmu.edu/wordpress/wp-content/uploads/2012/12/874paper203.pdf\n",
    "- Hogyan nyerjünk emberi ellenfél ellen: \n",
    "    - http://worldrps.com/how-to-beat-anyone-at-rock-paper-scissors/\n",
    "    - https://www.youtube.com/watch?v=rudzYPHuewc\n",
    "    - http://bit.ly/RPSpaper\n",
    "    - http://blog.wolfram.com/2014/01/20/how-to-win-at-rock-paper-scissors/\n",
    "- RoChamBo - Kő-Papír-Olló MI bajnokság:\n",
    "    - https://github.com/NavjotMinhas/RockPaperScissors_AI\n",
    "    - https://www.reddit.com/r/gamedev/comments/doxb3/simple_ai_for_a_rockpaperscissors_game/\n",
    "    - http://webdocs.cs.ualberta.ca/~darse/rsbpc.html"
   ]
  }
 ],
 "metadata": {
  "celltoolbar": "Slideshow",
  "kernelspec": {
   "display_name": "Python 2",
   "language": "python",
   "name": "python2"
  },
  "language_info": {
   "codemirror_mode": {
    "name": "ipython",
    "version": 2
   },
   "file_extension": ".py",
   "mimetype": "text/x-python",
   "name": "python",
   "nbconvert_exporter": "python",
   "pygments_lexer": "ipython2",
   "version": "2.7.13"
  }
 },
 "nbformat": 4,
 "nbformat_minor": 2
}
