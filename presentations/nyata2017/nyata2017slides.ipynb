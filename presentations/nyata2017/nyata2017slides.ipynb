{
 "cells": [
  {
   "cell_type": "code",
   "execution_count": null,
   "metadata": {
    "slideshow": {
     "slide_type": "skip"
    }
   },
   "outputs": [],
   "source": [
    "%load_ext autoreload\n",
    "%autoreload 2"
   ]
  },
  {
   "cell_type": "code",
   "execution_count": null,
   "metadata": {
    "collapsed": true,
    "slideshow": {
     "slide_type": "skip"
    }
   },
   "outputs": [],
   "source": [
    "%matplotlib inline\n",
    "import matplotlib.pyplot as plt\n",
    "import seaborn as sns\n",
    "\n",
    "from tqdm import tqdm as progressbar\n",
    "from collections import defaultdict\n",
    "\n",
    "from dask.distributed import Client\n",
    "from dask.distributed import progress\n",
    "client = Client()\n",
    "\n",
    "import nyata2017"
   ]
  },
  {
   "cell_type": "markdown",
   "metadata": {
    "slideshow": {
     "slide_type": "slide"
    }
   },
   "source": [
    "# Big Data testközelből\n",
    "\n",
    "\n",
    "<i>Fülöp András - Data Scientist @ Lensa | Gitential</i>\n",
    "\n",
    "\n",
    "<b>NYATA2017</b>, 2017. július 22."
   ]
  },
  {
   "cell_type": "markdown",
   "metadata": {
    "slideshow": {
     "slide_type": "slide"
    }
   },
   "source": [
    "# Python\n",
    "\n",
    "> *A programozás a legközelebbi dolog a szupererőhöz.*  \n",
    "> Drew Houston (Dropbox)"
   ]
  },
  {
   "cell_type": "code",
   "execution_count": null,
   "metadata": {
    "collapsed": true,
    "slideshow": {
     "slide_type": "fragment"
    }
   },
   "outputs": [],
   "source": [
    "print \"Hello NYATA!\""
   ]
  },
  {
   "cell_type": "markdown",
   "metadata": {
    "slideshow": {
     "slide_type": "slide"
    }
   },
   "source": [
    "# Hogyan dolgozunk fel adatokat?"
   ]
  },
  {
   "cell_type": "markdown",
   "metadata": {
    "slideshow": {
     "slide_type": "subslide"
    }
   },
   "source": [
    "<img src=\"pics/meklogo.gif\" source=\"http://mek.oszk.hu\"/>"
   ]
  },
  {
   "cell_type": "code",
   "execution_count": null,
   "metadata": {
    "slideshow": {
     "slide_type": "-"
    }
   },
   "outputs": [],
   "source": [
    "bookpaths = nyata2017.list_books('./docs/')\n",
    "len(bookpaths)"
   ]
  },
  {
   "cell_type": "code",
   "execution_count": null,
   "metadata": {
    "collapsed": true,
    "slideshow": {
     "slide_type": "-"
    }
   },
   "outputs": [],
   "source": [
    "with open(bookpaths[0]) as bookfile:\n",
    "    print bookfile.readline()[:140]"
   ]
  },
  {
   "cell_type": "code",
   "execution_count": null,
   "metadata": {
    "slideshow": {
     "slide_type": "subslide"
    }
   },
   "outputs": [],
   "source": [
    "books = []\n",
    "for bookpath in progressbar(bookpaths[:1000]):\n",
    "    with open(bookpath) as bookfile:\n",
    "        books.append(bookfile.readline())"
   ]
  },
  {
   "cell_type": "code",
   "execution_count": null,
   "metadata": {
    "slideshow": {
     "slide_type": "-"
    }
   },
   "outputs": [],
   "source": [
    "nyata2017.mean(books)"
   ]
  },
  {
   "cell_type": "code",
   "execution_count": null,
   "metadata": {
    "collapsed": true,
    "slideshow": {
     "slide_type": "-"
    }
   },
   "outputs": [],
   "source": [
    "nyata2017.plot_histogram(books)"
   ]
  },
  {
   "cell_type": "markdown",
   "metadata": {
    "slideshow": {
     "slide_type": "subslide"
    }
   },
   "source": [
    "## Melyek a MEK leggyakoribb szavai?"
   ]
  },
  {
   "cell_type": "code",
   "execution_count": null,
   "metadata": {
    "scrolled": true,
    "slideshow": {
     "slide_type": "-"
    }
   },
   "outputs": [],
   "source": [
    "wordcount = defaultdict(int)\n",
    "\n",
    "for book in progressbar(books):\n",
    "    for word in book.split():\n",
    "        wordcount[word.lower()] += 1\n",
    "\n",
    "nyata2017.print_most_common(wordcount)"
   ]
  },
  {
   "cell_type": "markdown",
   "metadata": {
    "slideshow": {
     "slide_type": "slide"
    }
   },
   "source": [
    "# Mit tehetünk, ha nincs elég lóerő?"
   ]
  },
  {
   "cell_type": "markdown",
   "metadata": {
    "slideshow": {
     "slide_type": "subslide"
    }
   },
   "source": [
    "Átlagszámítás egy `20.000 x 20.000` mátrixon (400 Millió adatpont ~4 GB adat)."
   ]
  },
  {
   "cell_type": "code",
   "execution_count": null,
   "metadata": {
    "slideshow": {
     "slide_type": "-"
    }
   },
   "outputs": [],
   "source": [
    "%%time\n",
    "x = nyata2017.generate_random_matrix(size=(20000, 20000))\n",
    "y = nyata2017.mean(x)"
   ]
  },
  {
   "cell_type": "markdown",
   "metadata": {
    "slideshow": {
     "slide_type": "subslide"
    }
   },
   "source": [
    "## Párhuzamosítsunk!"
   ]
  },
  {
   "cell_type": "markdown",
   "metadata": {
    "slideshow": {
     "slide_type": "-"
    }
   },
   "source": [
    "<img src=\"pics/embarrassing.gif\" source=\"https://github.com/dask/dask-tutorial\" width=\"800px\"/>"
   ]
  },
  {
   "cell_type": "code",
   "execution_count": null,
   "metadata": {},
   "outputs": [],
   "source": [
    "%%time\n",
    "x = nyata2017.generate_random_matrix(size=(20000, 20000), distribute=True)\n",
    "y = nyata2017.mean(x)\n",
    "y.compute()"
   ]
  },
  {
   "cell_type": "markdown",
   "metadata": {
    "slideshow": {
     "slide_type": "subslide"
    }
   },
   "source": [
    "# Skálázás"
   ]
  },
  {
   "cell_type": "markdown",
   "metadata": {
    "slideshow": {
     "slide_type": "-"
    }
   },
   "source": [
    "<img src=\"pics/verticalvshorizontal.png\" source=\"http://www.pc-freak.net/blog/vertical-horizontal-server-services-scaling-vertical-horizontal-hardware-scaling/\" />"
   ]
  },
  {
   "cell_type": "markdown",
   "metadata": {
    "slideshow": {
     "slide_type": "slide"
    }
   },
   "source": [
    "# Hogyan dolgozzunk fel Big Data-t?"
   ]
  },
  {
   "cell_type": "markdown",
   "metadata": {
    "slideshow": {
     "slide_type": "subslide"
    }
   },
   "source": [
    "## A MapReduce paradigma"
   ]
  },
  {
   "cell_type": "markdown",
   "metadata": {},
   "source": [
    "<img src=\"pics/mapreduce.png\" source=\"https://wikis.nyu.edu/display/NYUHPC/Big+Data+Tutorial+1%3A+MapReduce\" width=\"750px\"/>"
   ]
  },
  {
   "cell_type": "code",
   "execution_count": null,
   "metadata": {
    "slideshow": {
     "slide_type": "-"
    }
   },
   "outputs": [],
   "source": [
    "books = nyata2017.load_books('./docs/00*.txt')\n",
    "splitted = (books.str.lower()\n",
    "                 .str.split()\n",
    "                 .flatten())\n",
    "mapped = splitted.frequencies()\n",
    "reduced = mapped.topk(10, lambda x: x[1])"
   ]
  },
  {
   "cell_type": "code",
   "execution_count": null,
   "metadata": {
    "collapsed": true,
    "slideshow": {
     "slide_type": "subslide"
    }
   },
   "outputs": [],
   "source": [
    "wordcount = client.compute(reduced)\n",
    "progress(wordcount)"
   ]
  },
  {
   "cell_type": "code",
   "execution_count": null,
   "metadata": {
    "slideshow": {
     "slide_type": "-"
    }
   },
   "outputs": [],
   "source": [
    "results = client.gather(wordcount)\n",
    "nyata2017.print_most_common(results)\n",
    "client.close()"
   ]
  },
  {
   "cell_type": "markdown",
   "metadata": {
    "slideshow": {
     "slide_type": "subslide"
    }
   },
   "source": [
    "## Alternatívák"
   ]
  },
  {
   "cell_type": "markdown",
   "metadata": {
    "slideshow": {
     "slide_type": "-"
    }
   },
   "source": [
    "<img src=\"pics/solutions.jpg\" source1=\"http://www.tomsitpro.com/articles/mesos-mesosphere-data-center-open-source-apache,1-2001.html\" source2=\"https://www.slideshare.net/PowerPoint-Templates/computers-and-servers-powerpoint-presentation-slides-ppt-templates\" width=\"600px\"/>\n"
   ]
  },
  {
   "cell_type": "markdown",
   "metadata": {
    "slideshow": {
     "slide_type": "slide"
    }
   },
   "source": [
    "# Milyen lehetőségek nyílnak meg a Big Data-n keresztül?"
   ]
  },
  {
   "cell_type": "markdown",
   "metadata": {
    "slideshow": {
     "slide_type": "subslide"
    }
   },
   "source": [
    "# Kitérő: Neurális hálózatok\n",
    "\n",
    "## Perceptron model\n",
    "<img src=\"pics/neuron.png\" width=400 align=\"left\"/>"
   ]
  },
  {
   "cell_type": "markdown",
   "metadata": {
    "slideshow": {
     "slide_type": "subslide"
    }
   },
   "source": [
    "## Többrétegű hálózat\n",
    "<img src=\"pics/mlp.png\" width=400 align=\"left\" source=\"https://github.com/nikolaypavlov/MLPNeuralNet\">"
   ]
  },
  {
   "cell_type": "markdown",
   "metadata": {
    "slideshow": {
     "slide_type": "subslide"
    }
   },
   "source": [
    "# Mi az a mélytanulás?"
   ]
  },
  {
   "cell_type": "markdown",
   "metadata": {
    "slideshow": {
     "slide_type": "fragment"
    }
   },
   "source": [
    "<img src=\"pics/mgc.gif\" align=\"middle\"/>"
   ]
  },
  {
   "cell_type": "markdown",
   "metadata": {
    "slideshow": {
     "slide_type": "subslide"
    }
   },
   "source": [
    "<img src=\"pics/deepdream.jpg\" source=\"https://artofericwayne.com/2015/07/08/google-deep-dream-getting-too-good/\"/>"
   ]
  },
  {
   "cell_type": "markdown",
   "metadata": {
    "slideshow": {
     "slide_type": "subslide"
    }
   },
   "source": [
    "<img src=\"pics/deeprebrandt.jpg\" source=\"http://www.wired.co.uk/article/new-rembrandt-painting-computer-3d-printed\"/>"
   ]
  },
  {
   "cell_type": "markdown",
   "metadata": {
    "slideshow": {
     "slide_type": "subslide"
    }
   },
   "source": [
    "<img src=\"pics/deeptransform.jpg\" source=\"https://deepart.io/\"/>"
   ]
  },
  {
   "cell_type": "markdown",
   "metadata": {
    "slideshow": {
     "slide_type": "subslide"
    }
   },
   "source": [
    "> *PANDARUS:*  \n",
    "> *Alas, I think he shall be come approached and the day*  \n",
    "> *When little srain would be attain'd into being never fed,*  \n",
    "> *And who is but a chain and subjects of his death,*  \n",
    "> *I should not sleep.*  \n",
    "> ...  \n",
    ">   \n",
    "> *Clown:*  \n",
    "> *Come, sir, I will make did behold your worship.*  \n",
    ">   \n",
    "> *VIOLA:*  \n",
    "> *I'll drink it.*  \n",
    "\n",
    "\\- William RNNspear"
   ]
  },
  {
   "cell_type": "markdown",
   "metadata": {
    "slideshow": {
     "slide_type": "subslide"
    }
   },
   "source": [
    "<img src=\"pics/deeppaper.jpg\" source=\"http://karpathy.github.io/2015/05/21/rnn-effectiveness/\">"
   ]
  },
  {
   "cell_type": "markdown",
   "metadata": {
    "slideshow": {
     "slide_type": "subslide"
    }
   },
   "source": [
    "<img src=\"pics/w2v-context-words.png\" source=\"https://blog.acolyer.org/2016/04/21/the-amazing-power-of-word-vectors/\">\n",
    "\n",
    "<img src=\"pics/w2v-king-queen-vectors.png\" source=\"https://blog.acolyer.org/2016/04/21/the-amazing-power-of-word-vectors/\" align=\"left\" width=\"400px\">\n",
    "\n",
    "<img src=\"pics/w2v-king-queen-composition.png\" source=\"https://blog.acolyer.org/2016/04/21/the-amazing-power-of-word-vectors/\" align=\"right\" width=\"400px\">"
   ]
  },
  {
   "cell_type": "markdown",
   "metadata": {
    "slideshow": {
     "slide_type": "subslide"
    }
   },
   "source": [
    "<img src=\"pics/gan_cats.gif\" source=\"https://github.com/AlexiaJM/Deep-learning-with-cats\">"
   ]
  },
  {
   "cell_type": "markdown",
   "metadata": {
    "slideshow": {
     "slide_type": "subslide"
    }
   },
   "source": [
    "<img src=\"pics/inspiroquotes.jpg\" source=\"http://inspirobot.me/\">"
   ]
  },
  {
   "cell_type": "markdown",
   "metadata": {
    "slideshow": {
     "slide_type": "slide"
    }
   },
   "source": [
    "# Mik azok az ajánló rendszerek?\n",
    "\n",
    "<img src=\"pics/logos.png\">"
   ]
  },
  {
   "cell_type": "markdown",
   "metadata": {
    "slideshow": {
     "slide_type": "subslide"
    }
   },
   "source": [
    "# Collaborative filtering\n",
    "\n",
    "<img src=\"pics/cfinteract.png\" />"
   ]
  },
  {
   "cell_type": "markdown",
   "metadata": {
    "slideshow": {
     "slide_type": "subslide"
    }
   },
   "source": [
    "<img src=\"pics/cfmatrix.png\" />"
   ]
  },
  {
   "cell_type": "markdown",
   "metadata": {
    "slideshow": {
     "slide_type": "subslide"
    }
   },
   "source": [
    "# Tartalom alapú módszerek \n",
    "\n",
    "<img src=\"pics/cbinteract.png\" />"
   ]
  },
  {
   "cell_type": "markdown",
   "metadata": {
    "slideshow": {
     "slide_type": "slide"
    }
   },
   "source": [
    "# A nagy testvér figyel?"
   ]
  },
  {
   "cell_type": "markdown",
   "metadata": {
    "slideshow": {
     "slide_type": "slide"
    }
   },
   "source": [
    "# Köszönöm megtisztelő figyelmüket!\n",
    "\n",
    "<img src=\"pics/twitter.png\" align='left' style='margin-right: 5px; margin-left: 15px' /><b>twitter.com/fulibacsi</b><br>\n",
    "\n",
    "<img src=\"pics/github.png\" align='left' style='margin-right: 5px; margin-left: 15px' /><b>github.com/fulibacsi</b>\n",
    "\n",
    "<img src=\"pics/qr.jpg\" align='right' width=\"200px\">"
   ]
  },
  {
   "cell_type": "markdown",
   "metadata": {
    "slideshow": {
     "slide_type": "skip"
    }
   },
   "source": [
    "**Források:**\n",
    "\n",
    "- Dokumentumok:\n",
    "    - mek.oszk.hu\n",
    "\n",
    "\n",
    "- Adatfeldolgozás képek:\n",
    "    - párhuzamos feldolgozás: https://github.com/dask/dask-tutorial\n",
    "    - vertikális vs horizontális skálázás: http://www.pc-freak.net/blog/vertical-horizontal-server-services-scaling-vertical-horizontal-hardware-scaling/\n",
    "    - mapreduce paradigma: https://wikis.nyu.edu/display/NYUHPC/Big+Data+Tutorial+1%3A+MapReduce\n",
    "    - commodity hardverek: http://www.tomsitpro.com/articles/mesos-mesosphere-data-center-open-source-apache,1-2001.html\n",
    "    - szuperszámítógép: https://www.slideshare.net/PowerPoint-Templates/computers-and-servers-powerpoint-presentation-slides-ppt-templates\n",
    "\n",
    "\n",
    "- Deep learning képek:\n",
    "    - deep dream: https://artofericwayne.com/2015/07/08/google-deep-dream-getting-too-good/\n",
    "    - Rembrandt 3d nyomtatás: http://www.wired.co.uk/article/new-rembrandt-painting-computer-3d-printed\n",
    "    - Képek átalakítása festői stílusokban: https://deepart.io/\n",
    "    - Generatív nyelvek: http://karpathy.github.io/2015/05/21/rnn-effectiveness/\n",
    "    - word2vec: https://blog.acolyer.org/2016/04/21/the-amazing-power-of-word-vectors/\n",
    "    - Deep Learning cats: https://github.com/AlexiaJM/Deep-learning-with-cats\n",
    "    - Inspirobot: http://inspirobot.me/"
   ]
  },
  {
   "cell_type": "markdown",
   "metadata": {
    "slideshow": {
     "slide_type": "skip"
    }
   },
   "source": [
    "**Részletekről bővebben:**\n",
    "\n",
    "- Python nyelv kezdőknek: http://mek.oszk.hu/08400/08435/08435.pdf\n",
    "- Dask tutorial: https://github.com/dask/dask-tutorial\n",
    "- Word2Vec kipróbálható online alkalmazással:  https://rare-technologies.com/word2vec-tutorial/\n",
    "- Word2Vec tutorial:  http://mccormickml.com/2016/04/19/word2vec-tutorial-the-skip-gram-model/"
   ]
  }
 ],
 "metadata": {
  "celltoolbar": "Slideshow",
  "kernelspec": {
   "display_name": "Python 2",
   "language": "python",
   "name": "python2"
  },
  "language_info": {
   "codemirror_mode": {
    "name": "ipython",
    "version": 2
   },
   "file_extension": ".py",
   "mimetype": "text/x-python",
   "name": "python",
   "nbconvert_exporter": "python",
   "pygments_lexer": "ipython2",
   "version": "2.7.12"
  },
  "widgets": {
   "state": {
    "dc1fe3bfcc684386b25a50742ae14491": {
     "views": [
      {
       "cell_index": 27
      }
     ]
    }
   },
   "version": "1.2.0"
  }
 },
 "nbformat": 4,
 "nbformat_minor": 2
}
