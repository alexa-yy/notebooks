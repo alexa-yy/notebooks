{
 "cells": [
  {
   "cell_type": "markdown",
   "metadata": {},
   "source": [
    "#### Requirements:\n",
    "\n",
    "- requests\n",
    "- beautifulsoup4\n",
    "- pdfminer.six\n",
    "- dask\n",
    "- distributed"
   ]
  },
  {
   "cell_type": "code",
   "execution_count": 1,
   "metadata": {
    "collapsed": true
   },
   "outputs": [],
   "source": [
    "import os\n",
    "import StringIO\n",
    "from collections import Counter\n",
    "\n",
    "import requests\n",
    "from bs4 import BeautifulSoup\n",
    "\n",
    "import dask.bag as db\n",
    "from dask.distributed import Client\n",
    "from distributed.diagnostics import progress\n",
    "from pdfminer.high_level import extract_text_to_fp as extract"
   ]
  },
  {
   "cell_type": "markdown",
   "metadata": {},
   "source": [
    "# Dowload docs"
   ]
  },
  {
   "cell_type": "code",
   "execution_count": 2,
   "metadata": {
    "collapsed": true
   },
   "outputs": [],
   "source": [
    "resp = requests.get('http://www.mek.oszk.hu/export/mek2excel.htm')\n",
    "soup = BeautifulSoup(resp.content, 'html.parser')\n",
    "table = soup.find('table')"
   ]
  },
  {
   "cell_type": "markdown",
   "metadata": {},
   "source": [
    "### Get most common formats"
   ]
  },
  {
   "cell_type": "code",
   "execution_count": 3,
   "metadata": {},
   "outputs": [
    {
     "data": {
      "text/plain": [
       "[(u'PDF', 15049),\n",
       " (u'HTML', 6288),\n",
       " (u'RTF', 5173),\n",
       " (u'PVU', 2430),\n",
       " (u'WORD 8.0', 2066)]"
      ]
     },
     "execution_count": 3,
     "metadata": {},
     "output_type": "execute_result"
    }
   ],
   "source": [
    "formats = []\n",
    "for tr in table.findAll('tr'):\n",
    "    tds = tr.findAll('td')\n",
    "    if len(tds) > 1:\n",
    "        for f in tds[-2].text.strip().split('|'):\n",
    "            if f: \n",
    "                formats.append(f.strip())\n",
    "\n",
    "Counter(formats).most_common(5)"
   ]
  },
  {
   "cell_type": "markdown",
   "metadata": {},
   "source": [
    "### Download docs in most common format"
   ]
  },
  {
   "cell_type": "code",
   "execution_count": 3,
   "metadata": {
    "collapsed": true
   },
   "outputs": [],
   "source": [
    "def download_pdfs_as_txt(link):\n",
    "    filename = link.split('/')[-2]\n",
    "    path = './docs/' + filename + '.txt'\n",
    "    if os.path.isfile(path) and os.path.getsize(path) > 0:\n",
    "        return 1\n",
    "    \n",
    "    response = requests.get(link + filename + '.pdf')\n",
    "    if not response.status_code == 200: \n",
    "        return 0\n",
    "    \n",
    "    pdf = response.content\n",
    "    instr = StringIO.StringIO(pdf)\n",
    "\n",
    "    with open(path, 'w') as out:\n",
    "        try:\n",
    "            extract(instr, out, codec='utf-8')\n",
    "        except:\n",
    "            return 0\n",
    "    return 1"
   ]
  },
  {
   "cell_type": "code",
   "execution_count": 5,
   "metadata": {},
   "outputs": [],
   "source": [
    "links = db.from_sequence([a.get('href') for a in table.findAll('a')], partition_size=50)\n",
    "\n",
    "with Client() as client:    \n",
    "    docs = links.map(download_pdfs_as_txt)\n",
    "    future = client.compute(docs)\n",
    "    progress(future)\n",
    "    results = future.result()"
   ]
  },
  {
   "cell_type": "code",
   "execution_count": 6,
   "metadata": {},
   "outputs": [
    {
     "name": "stdout",
     "output_type": "stream",
     "text": [
      "12713/16675 - 76.24%\n"
     ]
    }
   ],
   "source": [
    "print '{}/{} - {:.2f}%'.format(sum(results), len(results), sum(results) / float(len(results)) * 100)"
   ]
  },
  {
   "cell_type": "code",
   "execution_count": null,
   "metadata": {
    "collapsed": true
   },
   "outputs": [],
   "source": []
  }
 ],
 "metadata": {
  "kernelspec": {
   "display_name": "Python [default]",
   "language": "python",
   "name": "python2"
  },
  "language_info": {
   "codemirror_mode": {
    "name": "ipython",
    "version": 2
   },
   "file_extension": ".py",
   "mimetype": "text/x-python",
   "name": "python",
   "nbconvert_exporter": "python",
   "pygments_lexer": "ipython2",
   "version": "2.7.13"
  }
 },
 "nbformat": 4,
 "nbformat_minor": 2
}
