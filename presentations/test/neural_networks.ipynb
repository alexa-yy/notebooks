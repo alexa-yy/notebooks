{
 "cells": [
  {
   "cell_type": "code",
   "execution_count": null,
   "metadata": {
    "slideshow": {
     "slide_type": "skip"
    }
   },
   "outputs": [],
   "source": [
    "%matplotlib inline\n",
    "import matplotlib.pyplot as plt\n",
    "import seaborn as sns"
   ]
  },
  {
   "cell_type": "markdown",
   "metadata": {
    "slideshow": {
     "slide_type": "slide"
    }
   },
   "source": [
    "# Neurális hálózatok - bevezetés\n",
    "\n",
    "Fülöp András - 2017.11.26"
   ]
  },
  {
   "cell_type": "markdown",
   "metadata": {
    "slideshow": {
     "slide_type": "slide"
    }
   },
   "source": [
    "# Inspiráció"
   ]
  },
  {
   "cell_type": "markdown",
   "metadata": {
    "slideshow": {
     "slide_type": "subslide"
    }
   },
   "source": [
    "## A neuron\n",
    "\n",
    "<img src='pics/neuron.png'>\n",
    "\n",
    "<small><a href=\"https://commons.wikimedia.org/wiki/File:Neuron.svg\">Forrás</a></small>"
   ]
  },
  {
   "cell_type": "markdown",
   "metadata": {
    "slideshow": {
     "slide_type": "slide"
    }
   },
   "source": [
    "# Formalizáció"
   ]
  },
  {
   "cell_type": "markdown",
   "metadata": {
    "slideshow": {
     "slide_type": "subslide"
    }
   },
   "source": [
    "## A perceptron modell\n",
    "\n",
    "<img src='pics/artificial_neuron.png'>"
   ]
  },
  {
   "cell_type": "markdown",
   "metadata": {
    "slideshow": {
     "slide_type": "subslide"
    }
   },
   "source": [
    "## Működése\n",
    "\n",
    "Bemenet:\n",
    "- Bemeneti értékek: $X = \\{x_{1}, x_{2}, \\dots, x_{i}\\}$  \n",
    "- Elvárt kimenet (osztály): $D = \\{d_{1}, d_{2}, ..., d_{i}\\}$   \n",
    "\n",
    "Predikció:\n",
    "- Paraméterek (súlyok): $W = \\{w_{1}, w_{2}, \\dots, w_{i}\\}$   \n",
    "- Számított kimenet (predikció): $y = f(\\sum_{i}w_{i}x_{i})$  \n",
    "- Kimeneti függvény: $f(x) = \\begin{cases}{1, \\text{ha } \\sum_{i}w_{i}x_{i} > 0}\\\\{0 \\text{ egyébként}}\\end{cases}$\n",
    "\n",
    "Tanítás\n",
    "- Számított hiba: $e = d - y$  \n",
    "- Paraméter frissítés: $w_{i}(t+1) = w_{i}(t) + (d - y)x_{i}$"
   ]
  },
  {
   "cell_type": "markdown",
   "metadata": {
    "slideshow": {
     "slide_type": "subslide"
    }
   },
   "source": [
    "## Gyakorlatban"
   ]
  },
  {
   "cell_type": "markdown",
   "metadata": {
    "slideshow": {
     "slide_type": "subslide"
    }
   },
   "source": [
    "### Adatgenerálás"
   ]
  },
  {
   "cell_type": "code",
   "execution_count": null,
   "metadata": {
    "slideshow": {
     "slide_type": "-"
    }
   },
   "outputs": [],
   "source": [
    "from sklearn.datasets import make_classification\n",
    "\n",
    "X, d = make_classification(n_samples=100, n_features=2, \n",
    "                           n_redundant=0, n_clusters_per_class=1,\n",
    "                           random_state=11)\n",
    "plt.scatter(x=X[:, 0], y=X[:, 1], c=d);"
   ]
  },
  {
   "cell_type": "markdown",
   "metadata": {
    "slideshow": {
     "slide_type": "subslide"
    }
   },
   "source": [
    "### Használat"
   ]
  },
  {
   "cell_type": "code",
   "execution_count": null,
   "metadata": {
    "slideshow": {
     "slide_type": "-"
    }
   },
   "outputs": [],
   "source": [
    "from sklearn.linear_model import Perceptron\n",
    "\n",
    "model = Perceptron(max_iter=5, random_state=42)\n",
    "model.fit(X, d)\n",
    "y = model.predict(X)\n",
    "\n",
    "plt.scatter(x=X[:, 0], y=X[:, 1], c=y);"
   ]
  },
  {
   "cell_type": "markdown",
   "metadata": {
    "slideshow": {
     "slide_type": "subslide"
    }
   },
   "source": [
    "### Hibás osztályzás"
   ]
  },
  {
   "cell_type": "code",
   "execution_count": null,
   "metadata": {
    "slideshow": {
     "slide_type": "-"
    }
   },
   "outputs": [],
   "source": [
    "plt.scatter(X[:, 0], X[:, 1], c=y==d);"
   ]
  },
  {
   "cell_type": "markdown",
   "metadata": {
    "slideshow": {
     "slide_type": "subslide"
    }
   },
   "source": [
    "### Korlátai - az XOR probléma"
   ]
  },
  {
   "cell_type": "code",
   "execution_count": null,
   "metadata": {
    "slideshow": {
     "slide_type": "-"
    }
   },
   "outputs": [],
   "source": [
    "import numpy as np\n",
    "\n",
    "XOR_X = np.array([(0, 0), (0, 1), (1, 0), (1, 1)])\n",
    "XOR_d = [0, 1, 1, 0]\n",
    "\n",
    "plt.scatter(x=XOR_X[:, 0], y=XOR_X[:, 1], c=XOR_d);"
   ]
  },
  {
   "cell_type": "code",
   "execution_count": null,
   "metadata": {
    "slideshow": {
     "slide_type": "subslide"
    }
   },
   "outputs": [],
   "source": [
    "model = Perceptron(max_iter=5, random_state=42)\n",
    "model.fit(XOR_X, XOR_d)\n",
    "XOR_y = model.predict(XOR_X)\n",
    "\n",
    "plt.scatter(x=XOR_X[:, 0], y=XOR_X[:, 1], c=XOR_y);"
   ]
  },
  {
   "cell_type": "markdown",
   "metadata": {
    "slideshow": {
     "slide_type": "slide"
    }
   },
   "source": [
    "# Továbbgondolás"
   ]
  },
  {
   "cell_type": "markdown",
   "metadata": {
    "slideshow": {
     "slide_type": "subslide"
    }
   },
   "source": [
    "## A többrétegű hálózat (MLP)\n",
    "\n",
    "<img src=\"pics/mlp.png\">"
   ]
  },
  {
   "cell_type": "markdown",
   "metadata": {
    "slideshow": {
     "slide_type": "subslide"
    }
   },
   "source": [
    "## Működése"
   ]
  },
  {
   "cell_type": "markdown",
   "metadata": {
    "slideshow": {
     "slide_type": "-"
    }
   },
   "source": [
    "Bemenet:\n",
    "- Bemeneti értékek: $X = \\{x_{1}, x_{2}, \\dots, x_{i}\\}$  \n",
    "- Elvárt kimenet (osztály): $D = \\{d_{1}, d_{2}, ..., d_{i}\\}$   \n",
    "\n",
    "Predikció - Forward propagation:\n",
    "- Paraméterek (súlyok): $W = \\{w_{11}, w_{12}, \\dots, w_{ij}\\}$   \n",
    "- Számított kimenet (predikció): $y_{i} = f(\\sum_{j}w_{ij}x_{ij})$  \n",
    "- Kimeneti függvények:\n",
    "    - sigmoid: $f(x) = \\frac{1}{1+e^{-x}}$\n",
    "    - tanh: $f(x) = \\frac{1-e^{-2x}}{1+e^{-2x}}$\n",
    "\n",
    "Tanítás - Backpropagation:\n",
    "- Számított hiba: $e = d - y$\n",
    "- Tanítási paraméter: $\\alpha$\n",
    "- Paraméter frissítés: $w_{ij}(t+1) = w_{ij}(t) + \\alpha(d_{ij} - y_{ij})x_{ij}$"
   ]
  },
  {
   "cell_type": "markdown",
   "metadata": {
    "slideshow": {
     "slide_type": "subslide"
    }
   },
   "source": [
    "## Gyakorlatban"
   ]
  },
  {
   "cell_type": "code",
   "execution_count": null,
   "metadata": {
    "slideshow": {
     "slide_type": "-"
    }
   },
   "outputs": [],
   "source": [
    "from sklearn.neural_network import MLPClassifier\n",
    "\n",
    "model = MLPClassifier(hidden_layer_sizes=(2,), activation='logistic', \n",
    "                      max_iter=5000, random_state=42)\n",
    "\n",
    "model.fit(X, d)\n",
    "y = model.predict(X)\n",
    "plt.scatter(x=X[:, 0], y=X[:, 1], c=y);"
   ]
  },
  {
   "cell_type": "markdown",
   "metadata": {
    "slideshow": {
     "slide_type": "subslide"
    }
   },
   "source": [
    "### Hibás osztályzás"
   ]
  },
  {
   "cell_type": "code",
   "execution_count": null,
   "metadata": {
    "slideshow": {
     "slide_type": "-"
    }
   },
   "outputs": [],
   "source": [
    "plt.scatter(x=X[:, 0], y=X[:, 1], c=d==y);"
   ]
  },
  {
   "cell_type": "markdown",
   "metadata": {
    "slideshow": {
     "slide_type": "subslide"
    }
   },
   "source": [
    "### XOR probléma"
   ]
  },
  {
   "cell_type": "code",
   "execution_count": null,
   "metadata": {
    "slideshow": {
     "slide_type": "-"
    }
   },
   "outputs": [],
   "source": [
    "model = MLPClassifier(random_state=42, max_iter=1000)\n",
    "model.fit(XOR_X, XOR_d)\n",
    "XOR_y = model.predict(XOR_X)\n",
    "\n",
    "plt.scatter(x=XOR_X[:, 0], y=XOR_X[:, 1], c=XOR_y);"
   ]
  },
  {
   "cell_type": "markdown",
   "metadata": {
    "slideshow": {
     "slide_type": "slide"
    }
   },
   "source": [
    "# Aktualitása"
   ]
  },
  {
   "cell_type": "markdown",
   "metadata": {
    "slideshow": {
     "slide_type": "subslide"
    }
   },
   "source": [
    "## Mélytanulás\n",
    "\n",
    "<img src=\"pics/mgc.gif\">"
   ]
  },
  {
   "cell_type": "markdown",
   "metadata": {
    "slideshow": {
     "slide_type": "subslide"
    }
   },
   "source": [
    "<img src=\"pics/deepdream.jpg\" width=\"800\">\n",
    "<small><a href=\"https://artofericwayne.com/2015/07/08/google-deep-dream-getting-too-good/\">Forrás</a></small>"
   ]
  },
  {
   "cell_type": "markdown",
   "metadata": {
    "slideshow": {
     "slide_type": "subslide"
    }
   },
   "source": [
    "<img src=\"pics/w2v-context-words.png\">\n",
    "<img src=\"pics/w2v-king-queen-vectors.png\" align=\"left\" width=\"400px\">\n",
    "<img src=\"pics/w2v-king-queen-composition.png\" align=\"right\" width=\"400px\">\n",
    "\n",
    "<div style=\"clear:both\">\n",
    "    <small><a href=\"https://blog.acolyer.org/2016/04/21/the-amazing-power-of-word-vectors/\">Forrás</a></small>\n",
    "</div>"
   ]
  },
  {
   "cell_type": "markdown",
   "metadata": {
    "slideshow": {
     "slide_type": "subslide"
    }
   },
   "source": [
    "<img src=\"pics/DLmario.gif\" paper=\"http://nn.cs.utexas.edu/downloads/papers/stanley.ec02.pdf\" source-code=\"https://pastebin.com/ZZmSNaHX\" source=\"https://www.youtube.com/watch?v=qv6UVOQ0F44\">\n",
    "<small><a href=\"https://www.youtube.com/watch?v=qv6UVOQ0F44\">Forrás</a></small>"
   ]
  },
  {
   "cell_type": "markdown",
   "metadata": {
    "slideshow": {
     "slide_type": "slide"
    }
   },
   "source": [
    "# Köszönöm megtisztelő figyelmüket!"
   ]
  }
 ],
 "metadata": {
  "celltoolbar": "Slideshow",
  "kernelspec": {
   "display_name": "Python 3",
   "language": "python",
   "name": "python3"
  },
  "language_info": {
   "codemirror_mode": {
    "name": "ipython",
    "version": 3
   },
   "file_extension": ".py",
   "mimetype": "text/x-python",
   "name": "python",
   "nbconvert_exporter": "python",
   "pygments_lexer": "ipython3",
   "version": "3.6.3"
  }
 },
 "nbformat": 4,
 "nbformat_minor": 2
}
