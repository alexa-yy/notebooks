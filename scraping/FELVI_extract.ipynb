{
 "cells": [
  {
   "cell_type": "code",
   "execution_count": null,
   "metadata": {
    "scrolled": true
   },
   "outputs": [],
   "source": [
    "import numpy as np\n",
    "import pandas as pd\n",
    "\n",
    "import requests\n",
    "from bs4 import BeautifulSoup\n",
    "\n",
    "import urllib\n",
    "import tqdm"
   ]
  },
  {
   "cell_type": "code",
   "execution_count": null,
   "metadata": {},
   "outputs": [],
   "source": [
    "BASE_URI = u'../../data/karok/'"
   ]
  },
  {
   "cell_type": "code",
   "execution_count": null,
   "metadata": {},
   "outputs": [],
   "source": [
    "FELVI_URL = 'http://www.felvi.hu/felveteli/ponthatarok_rangsorok/elmult_evek/!ElmultEvek/ajax_back.php'\n",
    "headers = {\n",
    "    'User-Agent': 'Mozilla/5.0 (Macintosh; Intel Mac OS X 10_10_2) AppleWebKit/537.36 (KHTML, like Gecko) Chrome/41.0.2272.118 Safari/537.36',\n",
    "    'Accept': '*/*',\n",
    "    'Accept-Encoding': 'gzip, deflate, sdch',\n",
    "    'Accept-Language': 'en-US,en;q=0.8,hu;q=0.6',\n",
    "    'x-prototype.test': 'x-prototype.test'\n",
    "}"
   ]
  },
  {
   "cell_type": "code",
   "execution_count": null,
   "metadata": {},
   "outputs": [],
   "source": [
    "session = requests.session()\n",
    "session.get('http://www.felvi.hu/felveteli/ponthatarok_rangsorok/elmult_evek/!ElmultEvek/elmult_evek.php?stat=13')\n",
    "response = session.get(FELVI_URL + '?stat=13', headers=headers)\n",
    "if response.status_code == 200:\n",
    "    soup = BeautifulSoup(response.content, 'html.parser')\n",
    "    content = soup.findAll('select')"
   ]
  },
  {
   "cell_type": "code",
   "execution_count": null,
   "metadata": {},
   "outputs": [],
   "source": [
    "id_mapping = {}\n",
    "for select in content:\n",
    "    tmp = {}\n",
    "    for option in select.findAll('option'):\n",
    "        tmp[option.get('value')] = option.getText()\n",
    "    id_mapping[select.get('name')] = tmp"
   ]
  },
  {
   "cell_type": "code",
   "execution_count": null,
   "metadata": {},
   "outputs": [],
   "source": [
    "id_mapping['sta_kar_id']['0']"
   ]
  },
  {
   "cell_type": "markdown",
   "metadata": {},
   "source": [
    "# Get actual data"
   ]
  },
  {
   "cell_type": "code",
   "execution_count": null,
   "metadata": {},
   "outputs": [],
   "source": [
    "session = requests.session()\n",
    "session.get('http://www.felvi.hu/felveteli/ponthatarok_rangsorok/elmult_evek/!ElmultEvek/elmult_evek.php?stat=13')\n",
    "data = {\n",
    "    'rendez_mit': 'sta_sorrend',\n",
    "    'rendez_hogy': 'ASC',\n",
    "    'sta_ev': '0',\n",
    "    #'sta_int_id': '7',\n",
    "    'sta_kar_id': '10', \n",
    "    'stat': '13',\n",
    "    'oldal': '1',\n",
    "    'elsokor': ''\n",
    "}\n",
    "DATA = {}"
   ]
  },
  {
   "cell_type": "code",
   "execution_count": null,
   "metadata": {
    "scrolled": true
   },
   "outputs": [],
   "source": [
    "for f_id, faculty in id_mapping['sta_kar_id'].iteritems():\n",
    "    if f_id == '0':\n",
    "        continue\n",
    "    print faculty,\n",
    "    faculty_data = pd.DataFrame()\n",
    "    data['sta_kar_id'] = f_id\n",
    "    for y_id, year in id_mapping['sta_ev'].iteritems():\n",
    "        if y_id == '0':\n",
    "            continue\n",
    "        print year,\n",
    "        data['sta_ev'] = y_id.encode('utf-8')\n",
    "        for page in xrange(1, 100):\n",
    "            data['oldal'] = page\n",
    "            print page,\n",
    "            encoded = urllib.urlencode(data) + '&php_self=/felvi/statisztika//elmult_evek.php'\n",
    "            response = session.get(FELVI_URL + '?' + encoded, headers=headers)\n",
    "            if response.status_code == 200:\n",
    "                soup = BeautifulSoup(response.content, 'html.parser')\n",
    "                content = soup.find('table', attrs ={'class': 'tblc'})\n",
    "                if content is None:\n",
    "                    break\n",
    "                df = pd.io.html.read_html(\n",
    "                        io=content.prettify().encode('utf-8'), \n",
    "                        encoding='utf-8'\n",
    "                )[0]\n",
    "                df = df[2:]\n",
    "                faculty_data = pd.concat((\n",
    "                    faculty_data,\n",
    "                    df\n",
    "                ))\n",
    "        \n",
    "    DATA[faculty] = faculty_data\n",
    "    print\n",
    "    print 'Done.' "
   ]
  },
  {
   "cell_type": "code",
   "execution_count": null,
   "metadata": {},
   "outputs": [],
   "source": [
    "DATA_len = len(DATA)\n",
    "\n",
    "for i, (faculty, df) in enumerate(DATA.iteritems()):\n",
    "    print u'Saving {} ({}/{})...'.format(faculty, i+1, DATA_len),\n",
    "    df.to_excel(BASE_URI + faculty + '.xls')\n",
    "    print 'Done.'"
   ]
  },
  {
   "cell_type": "code",
   "execution_count": null,
   "metadata": {},
   "outputs": [],
   "source": [
    "allin = pd.DataFrame()\n",
    "faculties = sorted(DATA.keys())\n",
    "for i, faculty in enumerate(faculties):\n",
    "    print 'Concatting {}/{}...'.format(i+1, DATA_len),\n",
    "    allin = pd.concat((DATA[faculty], allin))\n",
    "    print 'Done.'\n",
    "\n",
    "print 'Saving...',\n",
    "allin.to_excel(BASE_URI + 'allin.xlsx')\n",
    "print 'Done.'"
   ]
  },
  {
   "cell_type": "markdown",
   "metadata": {},
   "source": [
    "# Képzési helyek scrape"
   ]
  },
  {
   "cell_type": "code",
   "execution_count": null,
   "metadata": {},
   "outputs": [],
   "source": [
    "FELVI_URL = 'http://www.felvi.hu/felveteli/szakok_kepzesek'\n",
    "# munkarend\n",
    "eljs = ['N', 'L', 'E']\n",
    "# szaknevek\n",
    "majors = [\n",
    "    u'építőmérnök',\n",
    "    u'kertészmérnöki',\n",
    "    u'környezetgazdálkodási agrármérnök',\n",
    "    u'környezetmérnök',\n",
    "    u'környezettan',\n",
    "    u'mezőgazdasági mérnöki',\n",
    "    u'természetvédelmi mérnöki',\n",
    "    u'vegyészmérnök'\n",
    "]\n",
    "# formátum\n",
    "data = {\n",
    "    'elj':\"N\",\n",
    "    'mehet':\"1\",\n",
    "    'reszletese':\"\",\n",
    "    'szaknev':\"vegyészmérnök\",\n",
    "    'intId':\"999999\",\n",
    "    'oldal':\"0\",\n",
    "    'limit':\"1000\",\n",
    "    'dom':\"0\"\n",
    "}"
   ]
  },
  {
   "cell_type": "code",
   "execution_count": null,
   "metadata": {},
   "outputs": [],
   "source": [
    "def request(major):\n",
    "    print major, 'download process started'\n",
    "    print\n",
    "    content = {}\n",
    "    for elj in eljs:\n",
    "        print 'Request started'\n",
    "        data['elj'] = elj\n",
    "        response = requests.post(FELVI_URL, data=data)\n",
    "        if response.status_code == 200:\n",
    "            print 'Page downloaded:', elj\n",
    "            soup = BeautifulSoup(response.content)\n",
    "            content[elj] = soup.find(id='talalatilista').find('table')\n",
    "            print 'Content extracted'\n",
    "    print 'Done.'\n",
    "    return content"
   ]
  },
  {
   "cell_type": "code",
   "execution_count": null,
   "metadata": {},
   "outputs": [],
   "source": [
    "content = {}\n",
    "for major in majors[:1]:\n",
    "    content[major] = request(major)"
   ]
  },
  {
   "cell_type": "code",
   "execution_count": null,
   "metadata": {},
   "outputs": [],
   "source": [
    "a = soup.find(id='talalatilista').find('table')"
   ]
  },
  {
   "cell_type": "code",
   "execution_count": null,
   "metadata": {},
   "outputs": [],
   "source": [
    "df = pd.io.html.read_html(io=a.prettify().encode('utf-8'), encoding='utf-8')"
   ]
  },
  {
   "cell_type": "code",
   "execution_count": null,
   "metadata": {},
   "outputs": [],
   "source": [
    "import sys\n",
    "reload(sys) \n",
    "sys.setdefaultencoding(\"utf-8\")"
   ]
  },
  {
   "cell_type": "code",
   "execution_count": null,
   "metadata": {},
   "outputs": [],
   "source": [
    "df[2:]"
   ]
  },
  {
   "cell_type": "markdown",
   "metadata": {},
   "source": [
    "---\n",
    "\n",
    "# Aggregating data\n",
    "\n",
    "## Preparing df"
   ]
  },
  {
   "cell_type": "code",
   "execution_count": null,
   "metadata": {},
   "outputs": [],
   "source": [
    "allin.columns = ['institute', 'period', 'major', 'types',\n",
    "                 'applied', 'first', 'accepted', 'threshold']\n",
    "allin.threshold.replace('n.i.', np.nan, inplace=True)\n",
    "\n",
    "allin['year'] = allin.period.map(lambda x: int(x.split('/')[0]))\n",
    "\n",
    "allin['level'] = allin.types.str[0]\n",
    "allin['form'] = allin.types.str[1]\n",
    "allin['finance'] = allin.types.str[2]\n",
    "\n",
    "for col in ['applied', 'first', 'accepted', 'threshold']:\n",
    "    allin[col] = allin[col].astype(np.float)\n",
    "\n",
    "allin.head()"
   ]
  },
  {
   "cell_type": "markdown",
   "metadata": {},
   "source": [
    "## Aggregating"
   ]
  },
  {
   "cell_type": "code",
   "execution_count": null,
   "metadata": {},
   "outputs": [],
   "source": [
    "groups = [\n",
    "    ['year', 'major'],\n",
    "    ['year', 'major', 'level'],\n",
    "    ['year', 'major', 'level', 'form'],\n",
    "    ['year', 'major', 'level', 'finance'],\n",
    "    ['year', 'major', 'level', 'form', 'finance'],\n",
    "    ['year', 'major', 'level', 'institute'],\n",
    "    ['year', 'major', 'level', 'institute', 'form'],\n",
    "    ['year', 'major', 'level', 'institute', 'finance'],\n",
    "    ['year', 'major', 'level', 'institute', 'form', 'finance'],\n",
    "]\n",
    "stats = {'applied': 'sum', 'first': 'sum', \n",
    "         'accepted': 'sum', 'threshold': 'mean'}"
   ]
  },
  {
   "cell_type": "markdown",
   "metadata": {},
   "source": [
    "## Saving"
   ]
  },
  {
   "cell_type": "code",
   "execution_count": null,
   "metadata": {},
   "outputs": [],
   "source": [
    "with pd.ExcelWriter('./data/stats2017.xlsx') as writer:\n",
    "    for group in tqdm.tqdm(groups):\n",
    "        sheetname = '_'.join(map(lambda x: x[:2].upper(), group))\n",
    "        (allin.groupby(group)\n",
    "              .agg(stats)\n",
    "              .reset_index()\n",
    "              .to_excel(writer, sheet_name=sheetname, encoding='utf-8', index=False))"
   ]
  },
  {
   "cell_type": "markdown",
   "metadata": {
    "collapsed": true
   },
   "source": [
    "## Loading & Reaggregating"
   ]
  },
  {
   "cell_type": "code",
   "execution_count": null,
   "metadata": {},
   "outputs": [],
   "source": [
    "infile = './data/stats2017.xlsx'\n",
    "DATA = {}\n",
    "with pd.ExcelFile(infile) as reader:\n",
    "    for sheet in reader.sheet_names:\n",
    "        DATA[sheet] = pd.read_excel(reader, sheetname=sheet)"
   ]
  },
  {
   "cell_type": "code",
   "execution_count": null,
   "metadata": {},
   "outputs": [],
   "source": [
    "sheet_mapping = {col.upper()[:2]: col \n",
    "                 for col in ['year', 'major', 'level', \n",
    "                             'institute', 'form', 'finance']}"
   ]
  },
  {
   "cell_type": "code",
   "execution_count": null,
   "metadata": {},
   "outputs": [],
   "source": [
    "with pd.ExcelWriter('./data/stats2017turizmus.xlsx') as writer:\n",
    "    for sheetname, df in tqdm.tqdm(DATA.items()):\n",
    "        if sheetname == u'YE_MA':\n",
    "            continue\n",
    "        group = [mapping[level] for level in sheetname.split('_')]\n",
    "\n",
    "        turizmus = df.major.str.startswith('turizmus')\n",
    "        df.loc[(df.level=='M')&(turizmus), 'major'] = 'turizmus-menedzsment'\n",
    "        df.loc[(df.level.isin(['A', 'F']))&(turizmus), 'major'] = 'turizmus-vendéglátás'\n",
    "        \n",
    "        (df.loc[(df.level.isin(['A', 'F', 'M']))&(turizmus)]\n",
    "           .groupby(group, as_index=False)\n",
    "           .agg(stats)\n",
    "           .to_excel(writer, sheet_name=sheetname, encoding='utf-8', index=False))"
   ]
  },
  {
   "cell_type": "markdown",
   "metadata": {
    "collapsed": true
   },
   "source": [
    "---\n",
    "\n",
    "# Yearly distribution of applicants\n",
    "\n",
    "## Between IT and other sectors"
   ]
  },
  {
   "cell_type": "code",
   "execution_count": null,
   "metadata": {},
   "outputs": [],
   "source": [
    "allin = pd.read_excel(BASE_URI + 'allin.xlsx')"
   ]
  },
  {
   "cell_type": "code",
   "execution_count": null,
   "metadata": {},
   "outputs": [],
   "source": [
    "allin.columns = ['institute', 'period', 'major', 'types',\n",
    "                 'applied', 'first', 'accepted', 'threshold']\n",
    "allin.threshold.replace('n.i.', np.nan, inplace=True)\n",
    "\n",
    "allin['year'] = allin.period.map(lambda x: int(x.split('/')[0]))\n",
    "\n",
    "allin['level'] = allin.types.str[0]\n",
    "allin['form'] = allin.types.str[1]\n",
    "allin['finance'] = allin.types.str[2]\n",
    "\n",
    "for col in ['applied', 'first', 'accepted', 'threshold']:\n",
    "    allin[col] = allin[col].astype(np.float)\n",
    "\n",
    "allin.head()"
   ]
  },
  {
   "cell_type": "code",
   "execution_count": null,
   "metadata": {},
   "outputs": [],
   "source": [
    "%matplotlib inline\n",
    "import matplotlib.pyplot as plt\n",
    "import seaborn as sns\n",
    "\n",
    "import matplotlib.style as style\n",
    "style.use('fivethirtyeight')"
   ]
  },
  {
   "cell_type": "code",
   "execution_count": null,
   "metadata": {},
   "outputs": [],
   "source": [
    "info = [\n",
    "    u'gazdaságinformatikus',\n",
    "    u'mérnök informatikus',\n",
    "    u'programtervező informatikus',\n",
    "    u'mérnökinformatikus',\n",
    "    u'programtervező informatikus (angol nyelven)',\n",
    "    u'programtervező informatikus (magyar nyelven)',\n",
    "    u'mérnökinformatikus (angol nyelven) (Budapest)',\n",
    "    u'mérnökinformatikus (magyar nyelven) (Budapest)',\n",
    "    u'mérnökinformatikus (Székesfehérvár)',\n",
    "    u'mérnökinformatikus (Budapest)',\n",
    "    u'mérnök informatikus (Budapest)',\n",
    "    u'mérnök informatikus (Székesfehérvár)',\n",
    "    u'mérnökinformatikus (angol nyelven)',\n",
    "    u'mérnökinformatikus (magyar nyelven)',\n",
    "    u'mérnök informatikus (Nagykanizsa)',\n",
    "    u'mérnök informatikus (Veszprém)',\n",
    "    u'gazdaságinformatikus (Nagykanizsa)',\n",
    "    u'gazdaságinformatikus (Veszprém)',\n",
    "    u'mérnökinformatikus (Nagykanizsa)',\n",
    "    u'mérnökinformatikus (Veszprém)',\n",
    "    u'mérnök informatikus (magyar nyelven)',\n",
    "    u'mérnök informatikus (angol nyelven)',\n",
    "    u'mérnök informatikus (Esztergom)',\n",
    "]"
   ]
  },
  {
   "cell_type": "code",
   "execution_count": null,
   "metadata": {},
   "outputs": [],
   "source": [
    "allin['area'] = 'other'\n",
    "allin.loc[allin.major.isin(info), 'area'] = 'IT'"
   ]
  },
  {
   "cell_type": "code",
   "execution_count": null,
   "metadata": {},
   "outputs": [],
   "source": [
    "it_ratio = (allin\n",
    "            .loc[(allin.year > 2006) & (allin.level.isin(['A', 'O']))]\n",
    "            .groupby(['area', 'year'], as_index=False)\n",
    "            ['first'].sum()\n",
    "            .pivot(index='year', columns='area', values='first'))\n",
    "it_ratio['ratio'] = it_ratio.IT / (it_ratio.IT + it_ratio.other)\n",
    "it_first = (allin\n",
    "            .loc[(allin.year > 2006) & (allin.area=='IT') & (allin.level.isin(['A', 'O']))]\n",
    "            .groupby('year')\n",
    "            [['first']].sum())\n",
    "            \n",
    "year_pos = [2007.1, 2007.8, 2008.8, 2009.8, 2010.8, 2011.8, 2012.8, 2013.8, 2014.8, 2015.8, 2016.6]\n",
    "\n",
    "fig, ax = plt.subplots(figsize=(15, 6))\n",
    "\n",
    "ax.set_ylim(0, 10000)\n",
    "ax.set_facecolor('white')\n",
    "ax.set_ylabel(u'IT területre első helyen jelentkezők száma')\n",
    "\n",
    "axr = ax.twinx()\n",
    "axr.set_ylim(0, .3)\n",
    "axr.set_yticklabels(['{:3.0f}%'.format(x*100) for x in axr.get_yticks()])\n",
    "axr.set_ylabel(u'IT területre első helyen jelentkezők aránya')\n",
    "\n",
    "it_first.plot.area(ax=ax, legend=False, grid=False)\n",
    "it_ratio[['ratio']].plot.line(ax=axr, color='red', grid=False, legend=False)\n",
    "\n",
    "ax.set_xlabel(u'')\n",
    "\n",
    "for year, (index, first) in zip(year_pos, it_first.iterrows()):\n",
    "    ax.text(year, int(first.values[0])-700, str(int(first.values[0])), color='w', fontdict={'weight': 'bold'})\n",
    "    \n",
    "for year, (index, ratio) in zip(year_pos, it_ratio.iterrows()):\n",
    "    axr.text(year, ratio.ratio+0.005, '{:.1f}%'.format(ratio.ratio*100), color='r', fontdict={'weight': 'bold'})\n",
    "    \n",
    "fig.savefig('elsohelyes.png')"
   ]
  },
  {
   "cell_type": "markdown",
   "metadata": {},
   "source": [
    "---"
   ]
  },
  {
   "cell_type": "code",
   "execution_count": null,
   "metadata": {},
   "outputs": [],
   "source": [
    "it_ratio = (allin\n",
    "            .loc[(allin.year > 2006) & (allin.level.isin(['A', 'O']))]\n",
    "            .groupby(['area', 'year'], as_index=False)\n",
    "            ['accepted'].sum()\n",
    "            .pivot(index='year', columns='area', values='accepted'))\n",
    "it_ratio['ratio'] = it_ratio.IT / (it_ratio.IT + it_ratio.other)\n",
    "it_first = (allin\n",
    "            .loc[(allin.year > 2006) & (allin.area=='IT') & (allin.level.isin(['A', 'O']))]\n",
    "            .groupby('year')\n",
    "            [['accepted']].sum())\n",
    "            \n",
    "year_pos = [2007.1, 2007.8, 2008.8, 2009.8, 2010.8, 2011.8, 2012.8, 2013.8, 2014.8, 2015.8, 2016.6]\n",
    "\n",
    "fig, ax = plt.subplots(figsize=(15, 6))\n",
    "\n",
    "ax.set_ylim(0, 10000)\n",
    "ax.set_facecolor('white')\n",
    "ax.set_ylabel(u'IT területre felvettek száma')\n",
    "\n",
    "axr = ax.twinx()\n",
    "axr.set_ylim(0, .3)\n",
    "axr.set_yticklabels(['{:3.0f}%'.format(x*100) for x in axr.get_yticks()])\n",
    "axr.set_ylabel(u'IT területre felvettek aránya')\n",
    "\n",
    "it_first.plot.area(ax=ax, legend=False, grid=False)\n",
    "it_ratio[['ratio']].plot.line(ax=axr, color='red', grid=False, legend=False)\n",
    "\n",
    "ax.set_xlabel('')\n",
    "\n",
    "for year, (index, first) in zip(year_pos, it_first.iterrows()):\n",
    "    ax.text(year, int(first.values[0])-700, str(int(first.values[0])), color='w', fontdict={'weight': 'bold'})\n",
    "    \n",
    "for year, (index, ratio) in zip(year_pos, it_ratio.iterrows()):\n",
    "    axr.text(year, ratio.ratio+0.005, '{:.1f}%'.format(ratio.ratio*100), color='r', fontdict={'weight': 'bold'})\n",
    "    \n",
    "fig.savefig('felvettek.png')"
   ]
  },
  {
   "cell_type": "markdown",
   "metadata": {
    "collapsed": true
   },
   "source": [
    "---"
   ]
  }
 ],
 "metadata": {
  "kernelspec": {
   "display_name": "Python 2",
   "language": "python",
   "name": "python2"
  },
  "language_info": {
   "codemirror_mode": {
    "name": "ipython",
    "version": 2
   },
   "file_extension": ".py",
   "mimetype": "text/x-python",
   "name": "python",
   "nbconvert_exporter": "python",
   "pygments_lexer": "ipython2",
   "version": "2.7.13"
  }
 },
 "nbformat": 4,
 "nbformat_minor": 1
}
