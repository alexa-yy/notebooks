{
 "cells": [
  {
   "cell_type": "code",
   "execution_count": null,
   "metadata": {},
   "outputs": [],
   "source": [
    "import numpy as np\n",
    "import pandas as pd\n",
    "\n",
    "from scipy.stats import mode\n",
    "\n",
    "from tqdm import tqdm\n",
    "\n",
    "pd.set_option('display.height', 1000)\n",
    "pd.set_option('display.max_rows', 500)\n",
    "pd.set_option('display.max_columns', 500)\n",
    "pd.set_option('display.width', 1000)"
   ]
  },
  {
   "cell_type": "markdown",
   "metadata": {},
   "source": [
    "# Loading"
   ]
  },
  {
   "cell_type": "code",
   "execution_count": null,
   "metadata": {},
   "outputs": [],
   "source": [
    "BASE_URI = \"D:\\\\Dropbox\\\\Aktuális munkák\\\\OH\\\\Kreditelorehaladas\\\\ADAT\\\\\"\n",
    "BASE = pd.read_excel(BASE_URI + '858_1024_B_2011_12_v2.xlsx')"
   ]
  },
  {
   "cell_type": "code",
   "execution_count": null,
   "metadata": {
    "scrolled": true
   },
   "outputs": [],
   "source": [
    "BASE.head()"
   ]
  },
  {
   "cell_type": "markdown",
   "metadata": {},
   "source": [
    "# Preparing"
   ]
  },
  {
   "cell_type": "code",
   "execution_count": null,
   "metadata": {},
   "outputs": [],
   "source": [
    "def getcol(feature, yearcode):\n",
    "    return ('HKI_{feature}_{yearcode}'\n",
    "            .format(feature=feature, yearcode=yearcode))\n",
    "\n",
    "\n",
    "def yearcode_from_date(date):\n",
    "    if pd.isnull(date):\n",
    "        return '9999'\n",
    "    \n",
    "    month = int(date.month)\n",
    "    year = int(date.year) - int(month < 8)\n",
    "    sem = '2' if month < 8 else '1'\n",
    "\n",
    "    return '{}2{}'.format(str(year)[-2:], sem)\n",
    "\n",
    "\n",
    "def reg_yearcode_from_date(date, start, end):\n",
    "    if pd.isnull(date):\n",
    "        return '9999'\n",
    "    \n",
    "    month = int(date.month)\n",
    "    year = int(date.year) - int(start <= month <= end)\n",
    "    sem = '2' if start <= month <= end else '1'\n",
    "    \n",
    "    return '{}2{}'.format(str(year)[-2:], sem)\n",
    "\n",
    "\n",
    "def get_vegzes_kat(row, yearcode):\n",
    "    start = int(yearcode_from_date(row.HKPZ_KEZDDAT))\n",
    "    end = int(reg_yearcode_from_date(row.HKPZ_VEGDAT, 5, 10))\n",
    "    absz = int(reg_yearcode_from_date(row.HKPZ_ABSZ_DAT, 5, 10))\n",
    "    vizsg = int(reg_yearcode_from_date(row.HKPZ_KIVIZSGA_DAT, 5, 10))\n",
    "    act = int(yearcode)\n",
    "    \n",
    "    if act < start:\n",
    "        return 'nemkezdte'\n",
    "    \n",
    "    if act > vizsg:\n",
    "        return 'zarovizsga'\n",
    "    \n",
    "    if act > absz:\n",
    "        return 'abszolutorium'\n",
    "        \n",
    "    if act > end:\n",
    "        return 'egyeb'\n",
    "    \n",
    "    statusz = row[getcol('STATUSZ', yearcode)]\n",
    "    if statusz == 'A':\n",
    "        return 'aktiv'\n",
    "    if statusz == 'P':\n",
    "        return 'passziv'\n",
    "    \n",
    "    return 'admin_hiba'\n",
    "\n",
    "\n",
    "def get_credit_cat(credit):\n",
    "    if credit < 0:\n",
    "        return '<0'\n",
    "    if pd.isnull(credit) or credit == 0:\n",
    "        return '0'\n",
    "    if credit < 36:\n",
    "        return '1-35'\n",
    "    if credit < 61:\n",
    "        return '36-60'\n",
    "    \n",
    "    return '>60'\n",
    "\n",
    "\n",
    "def count_decreases(row, tipus):\n",
    "    decs = 0\n",
    "    for act, prev in zip(yearcodes[1:], yearcodes[:-1]):\n",
    "        actcol = row[getcol(f'OSSZ_{tipus}_KREDIT', act)]\n",
    "        prevcol = row[getcol(f'OSSZ_{tipus}_KREDIT', prev)]\n",
    "        if pd.isnull(actcol):\n",
    "            break\n",
    "        if actcol < prevcol:\n",
    "            decs += 1\n",
    "    return decs\n",
    "\n",
    "\n",
    "def sum_credits(row, col):\n",
    "    yearcode = reg_yearcode_from_date(row[col], 5, 10)\n",
    "    if int(yearcode) < 1121 or int(yearcode) > 1622:\n",
    "        return 'null'\n",
    "        \n",
    "    credits = (row[getcol('OSSZ_MEGSZ_KREDIT', yearcode)] + \n",
    "               row[getcol('OSSZ_ELISM_KREDIT', yearcode)])\n",
    "    target = row.MKPZ_OSSZIDO * 30\n",
    "    ratio = credits / target\n",
    "    \n",
    "    if 1. <= ratio <= 1.1:\n",
    "        return 'normal'\n",
    "    \n",
    "    if ratio > 1.1:\n",
    "        return 'magas'\n",
    "    \n",
    "    return 'alacsony'"
   ]
  },
  {
   "cell_type": "code",
   "execution_count": null,
   "metadata": {},
   "outputs": [],
   "source": [
    "yearcodes = [f'{y}2{s}' for y in range(11, 17) for s in [1, 2]]"
   ]
  },
  {
   "cell_type": "code",
   "execution_count": null,
   "metadata": {},
   "outputs": [],
   "source": [
    "for yearcode in tqdm(yearcodes):\n",
    "    BASE[f'STATUSZ_{yearcode}'] = BASE.apply(get_vegzes_kat, args=(yearcode,), axis=1)"
   ]
  },
  {
   "cell_type": "code",
   "execution_count": null,
   "metadata": {},
   "outputs": [],
   "source": [
    "BASE[f'MEGSZ_KREDIT_1121'] = BASE[getcol('OSSZ_MEGSZ_KREDIT', '1121')]\n",
    "BASE[f'MEGSZ_KREDIT_KAT_1121'] = BASE[f'MEGSZ_KREDIT_1121'].apply(get_credit_cat)\n",
    "\n",
    "BASE[f'ELISM_KREDIT_1121'] = BASE[getcol('OSSZ_ELISM_KREDIT', '1121')]\n",
    "BASE[f'ELISM_KREDIT_KAT_1121'] = BASE[f'ELISM_KREDIT_1121'].apply(get_credit_cat)\n",
    "\n",
    "for act, prev in zip(yearcodes[1:], yearcodes[:-1]):\n",
    "    BASE[f'MEGSZ_KREDIT_{act}'] = BASE[getcol('OSSZ_MEGSZ_KREDIT', act)] - BASE[getcol('OSSZ_MEGSZ_KREDIT', prev)].fillna(0)\n",
    "    BASE[f'MEGSZ_KREDIT_KAT_{act}'] = BASE[f'MEGSZ_KREDIT_{act}'].apply(get_credit_cat)\n",
    "    \n",
    "    BASE[f'ELISM_KREDIT_{act}'] = BASE[getcol('OSSZ_ELISM_KREDIT', act)] - BASE[getcol('OSSZ_ELISM_KREDIT', prev)].fillna(0)\n",
    "    BASE[f'ELISM_KREDIT_KAT_{act}'] = BASE[f'ELISM_KREDIT_{act}'].apply(get_credit_cat)"
   ]
  },
  {
   "cell_type": "code",
   "execution_count": null,
   "metadata": {},
   "outputs": [],
   "source": [
    "BASE['MEGSZ_DECREASE'] = BASE.apply(count_decreases, axis=1, args=('MEGSZ',))\n",
    "BASE['ELISM_DECREASE'] = BASE.apply(count_decreases, axis=1, args=('ELISM',))"
   ]
  },
  {
   "cell_type": "code",
   "execution_count": null,
   "metadata": {},
   "outputs": [],
   "source": [
    "BASE['KREDIT_ABSZ'] = BASE.apply(sum_credits, axis=1, args=('HKPZ_ABSZ_DAT',))\n",
    "BASE['KREDIT_VIZSG'] = BASE.apply(sum_credits, axis=1, args=('HKPZ_KIVIZSGA_DAT',))"
   ]
  },
  {
   "cell_type": "markdown",
   "metadata": {},
   "source": [
    "---\n",
    "# Saving"
   ]
  },
  {
   "cell_type": "code",
   "execution_count": null,
   "metadata": {},
   "outputs": [],
   "source": [
    "with pd.ExcelWriter(BASE_URI + 'kredit_statisztikak.xlsx') as writer:\n",
    "    for yearcode in tqdm(yearcodes):\n",
    "        for tipus in ['MEGSZ', 'ELISM']:\n",
    "            tmp = (BASE\n",
    "                   .groupby(f'STATUSZ_{yearcode}')\n",
    "                   [f'{tipus}_KREDIT_{yearcode}']\n",
    "                   .agg(['count', 'min', 'mean', 'median', 'max']))\n",
    "            tmp['N'] = BASE[f'STATUSZ_{yearcode}'].count()\n",
    "            tmp['feltöltöttség'] = (tmp['count'] / tmp.N * 100).apply(lambda x: '{:.2f}%'.format(x))\n",
    "            (tmp\n",
    "             [['N', 'count', 'feltöltöttség','min', 'mean', 'median', 'max']]\n",
    "             .to_excel(writer, sheet_name=f'{tipus}_KREDITSTAT_{yearcode}'))\n",
    "\n",
    "            (BASE\n",
    "             .groupby([f'STATUSZ_{yearcode}', f'{tipus}_KREDIT_KAT_{yearcode}'])\n",
    "             .HLG_SK.count()\n",
    "             .to_frame()\n",
    "             .rename(columns={'HLG_SK': 'elofordulas'})\n",
    "             .to_excel(writer, sheet_name=f'{tipus}_KREDIT_KATSTAT_{yearcode}'))\n"
   ]
  },
  {
   "cell_type": "code",
   "execution_count": null,
   "metadata": {},
   "outputs": [],
   "source": [
    "def aggregate(yearcode, grouping):\n",
    "    out = {}\n",
    "    for tipus in ['MEGSZ', 'ELISM']:\n",
    "        out[f'{tipus}_STAT_{yearcode}'] = [\n",
    "            BASE\n",
    "            .groupby(grouping + [f'STATUSZ_{yearcode}'])\n",
    "            [f'{tipus}_KREDIT_{yearcode}']\n",
    "            .agg(['count', 'min', 'mean', 'median', 'max'])\n",
    "        ]\n",
    "        \n",
    "        out[f'{tipus}_KATSTAT_{yearcode}'] = [\n",
    "            BASE\n",
    "            .groupby(grouping + [f'STATUSZ_{yearcode}', f'{tipus}_KREDIT_KAT_{yearcode}'])\n",
    "            .HLG_SK.count()\n",
    "            .to_frame()\n",
    "            .rename(columns={'HLG_SK': 'occurences'})\n",
    "        ]\n",
    "        \n",
    "    return out"
   ]
  },
  {
   "cell_type": "code",
   "execution_count": null,
   "metadata": {},
   "outputs": [],
   "source": [
    "with pd.ExcelWriter(BASE_URI + 'kredit_statisztikak_meg_bontva.xlsx') as writer:\n",
    "    for yearcode in tqdm(yearcodes):\n",
    "        dfs = aggregate(yearcode, [])\n",
    "        for grouping in tqdm(['SZER_KOD', 'HKPZ_MUNKAREND_SZO_HNEV', 'HKPZ_KEL_TIPUS_NEV', 'HKI_FINANSZIROZAS_SZO_HNEV_{}']):\n",
    "            grouping = grouping.format(yearcode)\n",
    "            result = aggregate(yearcode, [grouping])\n",
    "            for key, value in result.items():\n",
    "                dfs[key] += value\n",
    "\n",
    "        for key, values in dfs.items():\n",
    "            row = 0\n",
    "            for df in values:\n",
    "                df.to_excel(writer, sheet_name=key, startrow=row , startcol=0)   \n",
    "                row = row + len(df.index) + 4\n"
   ]
  },
  {
   "cell_type": "markdown",
   "metadata": {},
   "source": [
    "---"
   ]
  },
  {
   "cell_type": "code",
   "execution_count": null,
   "metadata": {},
   "outputs": [],
   "source": [
    "def sum_decrease(group):\n",
    "    df = pd.DataFrame({\n",
    "        'type': ['megszerzett', 'elismert'],\n",
    "        'occurences': [group[f'MEGSZ_DECREASE'].sum(),\n",
    "                       group[f'ELISM_DECREASE'].sum()],\n",
    "        'N': [group[f'MEGSZ_DECREASE'].count(),\n",
    "              group[f'ELISM_DECREASE'].count()],\n",
    "    }).set_index('type')\n",
    "    df['ratio'] = (df.occurences / df.N).apply(lambda x: '{:.2f}%'.format(x*100))\n",
    "    return df[['occurences', 'N', 'ratio']]"
   ]
  },
  {
   "cell_type": "code",
   "execution_count": null,
   "metadata": {},
   "outputs": [],
   "source": [
    "row = 0\n",
    "with pd.ExcelWriter(BASE_URI + 'kredit_csokkenes.xlsx') as writer:\n",
    "    df = BASE.groupby(lambda _ : True).apply(sum_decrease)\n",
    "    df.to_excel(writer, sheet_name='csokkenes', startrow=row , startcol=0)\n",
    "    row = row + len(df.index) + 4\n",
    "    for grouping in tqdm(['SZER_KOD', 'HKPZ_MUNKAREND_SZO_HNEV', 'HKPZ_KEL_TIPUS_NEV']):\n",
    "        df = BASE.groupby(grouping).apply(sum_decrease)\n",
    "        df.to_excel(writer, sheet_name='csokkenes', startrow=row , startcol=0)\n",
    "        row = row + len(df.index) + 4"
   ]
  },
  {
   "cell_type": "markdown",
   "metadata": {},
   "source": [
    "---"
   ]
  },
  {
   "cell_type": "code",
   "execution_count": null,
   "metadata": {},
   "outputs": [],
   "source": [
    "def count_credit_ratio(group, tipus):\n",
    "    df = group.groupby(f'KREDIT_{tipus}').HLG_SK.count().to_frame().rename(columns={'HLG_SK': 'occurences'})\n",
    "    df['N'] = df.occurences.sum()\n",
    "    df['ratio'] = (df.occurences / df.N).apply(lambda x: '{:.2f}%'.format(x*100))\n",
    "    return df[['occurences', 'N', 'ratio']]"
   ]
  },
  {
   "cell_type": "code",
   "execution_count": null,
   "metadata": {},
   "outputs": [],
   "source": [
    "with pd.ExcelWriter(BASE_URI + 'kreditszam.xlsx') as writer:\n",
    "    for tipus in ['ABSZ', 'VIZSG']:\n",
    "        row = 0\n",
    "        df = BASE.groupby(lambda _ : True).apply(count_credit_ratio, tipus=tipus)\n",
    "        df.to_excel(writer, sheet_name=tipus, startrow=row , startcol=0)\n",
    "        row = row + len(df.index) + 4\n",
    "        \n",
    "        for grouping in tqdm(['SZER_KOD', 'HKPZ_MUNKAREND_SZO_HNEV', 'HKPZ_KEL_TIPUS_NEV']):\n",
    "            df = BASE.groupby(grouping).apply(count_credit_ratio, tipus='ABSZ')\n",
    "            df.to_excel(writer, sheet_name=tipus, startrow=row , startcol=0)\n",
    "            row = row + len(df.index) + 4\n"
   ]
  },
  {
   "cell_type": "code",
   "execution_count": 347,
   "metadata": {},
   "outputs": [],
   "source": [
    "with pd.ExcelWriter(BASE_URI + 'kredit_evfolyam.xlsx') as writer:\n",
    "    for tipus in ['MEGSZ', 'ELISM']:\n",
    "        for yc in yearcodes:\n",
    "            (BASE\n",
    "             .groupby(getcol('AKTIV_EVFOLYAM', yc))\n",
    "             [getcol(f'OSSZ_{tipus}_KREDIT', yc)]\n",
    "             .describe()\n",
    "             .to_excel(writer, sheet_name=f'{tipus}_{yc}'))"
   ]
  }
 ],
 "metadata": {
  "kernelspec": {
   "display_name": "Python 3",
   "language": "python",
   "name": "python3"
  },
  "language_info": {
   "codemirror_mode": {
    "name": "ipython",
    "version": 3
   },
   "file_extension": ".py",
   "mimetype": "text/x-python",
   "name": "python",
   "nbconvert_exporter": "python",
   "pygments_lexer": "ipython3",
   "version": "3.6.3"
  }
 },
 "nbformat": 4,
 "nbformat_minor": 1
}
