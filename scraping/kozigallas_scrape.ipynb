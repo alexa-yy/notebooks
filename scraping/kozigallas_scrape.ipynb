{
 "cells": [
  {
   "cell_type": "code",
   "execution_count": 1,
   "metadata": {
    "collapsed": true
   },
   "outputs": [],
   "source": [
    "import pandas as pd\n",
    "import requests\n",
    "from bs4 import BeautifulSoup"
   ]
  },
  {
   "cell_type": "code",
   "execution_count": 2,
   "metadata": {
    "collapsed": true
   },
   "outputs": [],
   "source": [
    "kozig_uri = u'https://kozigallas.gov.hu/pages/jobviewer.aspx?ID={}'\n",
    "chrome_header = ('Mozilla/5.0 (Windows NT 6.2; Win64; x64) '\n",
    "                 'AppleWebKit/537.36 (KHTML, like Gecko) '\n",
    "                 'Chrome/32.0.1667.0 Safari/537.36')"
   ]
  },
  {
   "cell_type": "code",
   "execution_count": 3,
   "metadata": {
    "collapsed": true
   },
   "outputs": [],
   "source": [
    "def init_session():\n",
    "    session = requests.Session()\n",
    "    response = session.get('https://kozigallas.gov.hu/publicsearch.aspx',\n",
    "                           headers={'User-agent': chrome_header})\n",
    "    return session"
   ]
  },
  {
   "cell_type": "code",
   "execution_count": 4,
   "metadata": {
    "collapsed": true
   },
   "outputs": [],
   "source": [
    "def get_page(session, url):\n",
    "    return session.get(url, headers={'User-agent': chrome_header})"
   ]
  },
  {
   "cell_type": "code",
   "execution_count": 5,
   "metadata": {
    "collapsed": true
   },
   "outputs": [],
   "source": [
    "def get_joblists(session):\n",
    "    response = get_page(session, 'https://kozigallas.gov.hu/publicsearch.aspx')\n",
    "    soup = BeautifulSoup(response.content, 'html.parser')\n",
    "    \n",
    "    max_page = soup.find('span', {'id': ('ctl00_ContentPlaceHolder1_'\n",
    "                                         'JobSearchForm1_JobList1_lblPageCount2')})\n",
    "    max_page = int(max_page.getText().split(':')[-1].strip())\n",
    "    print('Found {} page.'.format(max_page))\n",
    "    \n",
    "    search_uri = u'https://kozigallas.gov.hu/publicsearch.aspx?p={}'\n",
    "    return [search_uri.format(page) for page in range(1, max_page+1)]"
   ]
  },
  {
   "cell_type": "code",
   "execution_count": 6,
   "metadata": {
    "collapsed": true
   },
   "outputs": [],
   "source": [
    "def extract_jobs(response):\n",
    "    soup = BeautifulSoup(response.content, 'html.parser')\n",
    "    table = soup.find('div', {'class': 'joblist'}).find('table')\n",
    "    df = pd.read_html(table.prettify(), header=0)[0]\n",
    "    df = df[df.columns[:-2]]\n",
    "    df['job_id'] = [jid.get('href').split(\"'\")[1] \n",
    "                    for jid in soup.findAll('a', {'class': 'jobapplication'})]\n",
    "    return df"
   ]
  },
  {
   "cell_type": "code",
   "execution_count": 7,
   "metadata": {
    "collapsed": true
   },
   "outputs": [],
   "source": [
    "def read_job(session, job_id):\n",
    "    print '.',\n",
    "    response = session.get(kozig_uri.format(job_id))\n",
    "    soup = BeautifulSoup(response.content, 'html.parser')\n",
    "    tag = soup.find('p', {'class': 'MsoNormal'})\n",
    "    return ' '.join([tag.getText().strip() for tag in soup.findAll('p', {'class': 'MsoNormal'})])"
   ]
  },
  {
   "cell_type": "code",
   "execution_count": 8,
   "metadata": {
    "collapsed": true
   },
   "outputs": [],
   "source": [
    "def scrape():\n",
    "    with init_session() as session:\n",
    "        print('joblist download')\n",
    "        dfs = [extract_jobs(get_page(session, joblist))\n",
    "               for joblist in get_joblists(session)]\n",
    "        print('df concat')\n",
    "        dfs = pd.concat(dfs)\n",
    "        print('downloading {} jobs'.format(len(dfs)))\n",
    "        dfs['text'] = dfs.apply(lambda row: read_job(session, row['job_id']),\n",
    "                                axis=1)\n",
    "        print('done.')\n",
    "    return dfs"
   ]
  },
  {
   "cell_type": "code",
   "execution_count": null,
   "metadata": {
    "collapsed": true
   },
   "outputs": [],
   "source": [
    "df = scrape()"
   ]
  },
  {
   "cell_type": "code",
   "execution_count": 10,
   "metadata": {
    "collapsed": true
   },
   "outputs": [],
   "source": [
    "df.to_csv('data/kozigallas20170727.csv', encoding='utf-8')\n",
    "df.to_excel('data/kozigallas20170727.xlsx', encoding='utf-8')"
   ]
  },
  {
   "cell_type": "markdown",
   "metadata": {},
   "source": [
    "---"
   ]
  },
  {
   "cell_type": "code",
   "execution_count": 2,
   "metadata": {},
   "outputs": [
    {
     "data": {
      "text/html": [
       "<div>\n",
       "<style>\n",
       "    .dataframe thead tr:only-child th {\n",
       "        text-align: right;\n",
       "    }\n",
       "\n",
       "    .dataframe thead th {\n",
       "        text-align: left;\n",
       "    }\n",
       "\n",
       "    .dataframe tbody tr th {\n",
       "        vertical-align: top;\n",
       "    }\n",
       "</style>\n",
       "<table border=\"1\" class=\"dataframe\">\n",
       "  <thead>\n",
       "    <tr style=\"text-align: right;\">\n",
       "      <th></th>\n",
       "      <th>Jelentkezési határidő</th>\n",
       "      <th>Állás megnevezése</th>\n",
       "      <th>Közzétevő</th>\n",
       "      <th>Munkavégzés helye</th>\n",
       "      <th>Típus</th>\n",
       "      <th>job_id</th>\n",
       "      <th>text</th>\n",
       "    </tr>\n",
       "  </thead>\n",
       "  <tbody>\n",
       "    <tr>\n",
       "      <th>0</th>\n",
       "      <td>2017. július 27.</td>\n",
       "      <td>diplomás ápoló</td>\n",
       "      <td>Csongrád Városi Önkormányzat</td>\n",
       "      <td>Csongrád megye  , Csongrád</td>\n",
       "      <td>Közalkalmazott</td>\n",
       "      <td>rk5d2q17c3</td>\n",
       "      <td>Csongrád Városi Önkormányzat Csongrád Városi ...</td>\n",
       "    </tr>\n",
       "    <tr>\n",
       "      <th>1</th>\n",
       "      <td>2017. július 27.</td>\n",
       "      <td>Magyar nyelv és irodalom - bármely szakos taná...</td>\n",
       "      <td>Tatabányai Tankerületi Központ Bárdos László G...</td>\n",
       "      <td>Komárom-Esztergom megye  , Tatabánya</td>\n",
       "      <td>Közalkalmazott</td>\n",
       "      <td>rlye3za7h5</td>\n",
       "      <td>Tatabányai Tankerületi Központ Bárdos László ...</td>\n",
       "    </tr>\n",
       "    <tr>\n",
       "      <th>2</th>\n",
       "      <td>2017. július 27.</td>\n",
       "      <td>magyar - történelem szakos középiskolai tanár</td>\n",
       "      <td>Tatabányai Tankerületi Központ Bárdos László G...</td>\n",
       "      <td>Komárom-Esztergom megye  , Tatabánya</td>\n",
       "      <td>Közalkalmazott</td>\n",
       "      <td>rlye2qaxf1</td>\n",
       "      <td>Tatabányai Tankerületi Központ Bárdos László ...</td>\n",
       "    </tr>\n",
       "    <tr>\n",
       "      <th>3</th>\n",
       "      <td>2017. július 27.</td>\n",
       "      <td>tanár - vendéglátás  310773.</td>\n",
       "      <td>Karcagi Szakképzési Centrum</td>\n",
       "      <td>Jász-Nagykun-Szolnok megye  , Tiszafüred</td>\n",
       "      <td>Közalkalmazott</td>\n",
       "      <td>rlcj9rgxd6</td>\n",
       "      <td>Karcagi Szakképzési Centrum Karcagi Szakképzé...</td>\n",
       "    </tr>\n",
       "    <tr>\n",
       "      <th>4</th>\n",
       "      <td>2017. július 27.</td>\n",
       "      <td>raktáros</td>\n",
       "      <td>Országos Korányi Pulmonológiai Intézet - Budapest</td>\n",
       "      <td>NaN</td>\n",
       "      <td>Közalkalmazott</td>\n",
       "      <td>rlvd8eg3a4</td>\n",
       "      <td>Országos Korányi Pulmonológiai Intézet - Buda...</td>\n",
       "    </tr>\n",
       "  </tbody>\n",
       "</table>\n",
       "</div>"
      ],
      "text/plain": [
       "  Jelentkezési határidő                                  Állás megnevezése  \\\n",
       "0      2017. július 27.                                     diplomás ápoló   \n",
       "1      2017. július 27.  Magyar nyelv és irodalom - bármely szakos taná...   \n",
       "2      2017. július 27.      magyar - történelem szakos középiskolai tanár   \n",
       "3      2017. július 27.                       tanár - vendéglátás  310773.   \n",
       "4      2017. július 27.                                           raktáros   \n",
       "\n",
       "                                           Közzétevő  \\\n",
       "0                       Csongrád Városi Önkormányzat   \n",
       "1  Tatabányai Tankerületi Központ Bárdos László G...   \n",
       "2  Tatabányai Tankerületi Központ Bárdos László G...   \n",
       "3                        Karcagi Szakképzési Centrum   \n",
       "4  Országos Korányi Pulmonológiai Intézet - Budapest   \n",
       "\n",
       "                          Munkavégzés helye           Típus      job_id  \\\n",
       "0                Csongrád megye  , Csongrád  Közalkalmazott  rk5d2q17c3   \n",
       "1      Komárom-Esztergom megye  , Tatabánya  Közalkalmazott  rlye3za7h5   \n",
       "2      Komárom-Esztergom megye  , Tatabánya  Közalkalmazott  rlye2qaxf1   \n",
       "3  Jász-Nagykun-Szolnok megye  , Tiszafüred  Közalkalmazott  rlcj9rgxd6   \n",
       "4                                       NaN  Közalkalmazott  rlvd8eg3a4   \n",
       "\n",
       "                                                text  \n",
       "0   Csongrád Városi Önkormányzat Csongrád Városi ...  \n",
       "1   Tatabányai Tankerületi Központ Bárdos László ...  \n",
       "2   Tatabányai Tankerületi Központ Bárdos László ...  \n",
       "3   Karcagi Szakképzési Centrum Karcagi Szakképzé...  \n",
       "4   Országos Korányi Pulmonológiai Intézet - Buda...  "
      ]
     },
     "execution_count": 2,
     "metadata": {},
     "output_type": "execute_result"
    }
   ],
   "source": [
    "df2 = pd.read_csv('data/kozigallas20170727.csv', index_col=0)\n",
    "df2.head()"
   ]
  },
  {
   "cell_type": "code",
   "execution_count": 8,
   "metadata": {},
   "outputs": [
    {
     "data": {
      "text/plain": [
       "count     6477.000000\n",
       "mean      6117.330863\n",
       "std       1854.319251\n",
       "min       3296.000000\n",
       "25%       4886.000000\n",
       "50%       5728.000000\n",
       "75%       6800.000000\n",
       "max      24395.000000\n",
       "Name: text, dtype: float64"
      ]
     },
     "execution_count": 8,
     "metadata": {},
     "output_type": "execute_result"
    }
   ],
   "source": [
    "df2.text.str.len().describe()"
   ]
  },
  {
   "cell_type": "code",
   "execution_count": 3,
   "metadata": {
    "collapsed": true
   },
   "outputs": [],
   "source": [
    "df3 = pd.read_excel('data/kozigallas20170727.xlsx', index_col=0)\n",
    "df3.head()"
   ]
  },
  {
   "cell_type": "code",
   "execution_count": 7,
   "metadata": {},
   "outputs": [
    {
     "data": {
      "text/plain": [
       "count     6477.000000\n",
       "mean      5523.809480\n",
       "std       1668.504575\n",
       "min       2978.000000\n",
       "25%       4413.000000\n",
       "50%       5174.000000\n",
       "75%       6130.000000\n",
       "max      21836.000000\n",
       "Name: text, dtype: float64"
      ]
     },
     "execution_count": 7,
     "metadata": {},
     "output_type": "execute_result"
    }
   ],
   "source": [
    "df3.text.str.len().describe()"
   ]
  },
  {
   "cell_type": "code",
   "execution_count": 9,
   "metadata": {
    "collapsed": true
   },
   "outputs": [],
   "source": [
    "df2.to_excel('data/kozigallas20170727_fromcsv.xlsx', encoding='utf-8')"
   ]
  },
  {
   "cell_type": "markdown",
   "metadata": {
    "collapsed": true
   },
   "source": [
    "---"
   ]
  },
  {
   "cell_type": "code",
   "execution_count": null,
   "metadata": {
    "collapsed": true
   },
   "outputs": [],
   "source": [
    "data = pd.read_excel('/Users/fulibacsi/workspace/DATA/kozigallas20170725.xlsx').set_index('job_id')"
   ]
  },
  {
   "cell_type": "code",
   "execution_count": null,
   "metadata": {
    "collapsed": true
   },
   "outputs": [],
   "source": [
    "unwanted = ['\\xa0', '\\r', '\\n']\n",
    "def clear(text):\n",
    "    cleared = ''.join([char for char in text if char not in unwanted])\n",
    "    return ' '.join(cleared.split())\n",
    "\n",
    "def process(itemlist):\n",
    "    items = itemlist.strip().split('•')\n",
    "    return [item.strip() for item in items if item]\n",
    "\n",
    "def split(text):\n",
    "    text = clear(text)\n",
    "    header, tasks = text.split('A munkakörbe tartozó, illetve a vezetői megbízással járó lényeges feladatok:')\n",
    "    tasks, footer = tasks.split('Illetmény és juttatások:')\n",
    "    body, req = footer.split('Pályázati feltételek:')\n",
    "    req, plus = req.split('A pályázat elbírálásánál előnyt jelent:')\n",
    "    plus, footer = plus.split('A pályázat részeként benyújtandó iratok, igazolások:')\n",
    "    etc = ' '.join([header.strip(), body.strip(), footer.strip()])\n",
    "    return process(tasks), process(req), process(plus), etc\n",
    "\n",
    "tasks, req, plus, etc = split(data.loc['rjyg6qkbb3', 'text'])\n",
    "\n",
    "def extract(text):\n",
    "    tasks, req, plus, etc = split(text)\n",
    "    return {'tasks': tasks, 'req': req, 'plus': plus}"
   ]
  },
  {
   "cell_type": "code",
   "execution_count": null,
   "metadata": {
    "collapsed": true
   },
   "outputs": [],
   "source": [
    "data.text.apply(extract)"
   ]
  }
 ],
 "metadata": {
  "kernelspec": {
   "display_name": "Python 2",
   "language": "python",
   "name": "python2"
  },
  "language_info": {
   "codemirror_mode": {
    "name": "ipython",
    "version": 2
   },
   "file_extension": ".py",
   "mimetype": "text/x-python",
   "name": "python",
   "nbconvert_exporter": "python",
   "pygments_lexer": "ipython2",
   "version": "2.7.13"
  }
 },
 "nbformat": 4,
 "nbformat_minor": 2
}
