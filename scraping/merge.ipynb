{
 "cells": [
  {
   "cell_type": "code",
   "execution_count": null,
   "metadata": {},
   "outputs": [],
   "source": [
    "import tqdm\n",
    "import pandas as pd"
   ]
  },
  {
   "cell_type": "code",
   "execution_count": null,
   "metadata": {},
   "outputs": [],
   "source": [
    "BASE = 'D:\\\\workspace\\\\DATA\\\\Pirinyo\\\\kapcsolas\\\\2009_10\\\\'"
   ]
  },
  {
   "cell_type": "markdown",
   "metadata": {},
   "source": [
    "<img src=\"../../DATA/Pirinyo/kapcsolas/2009_10/OH_kapcsolatok.jpg\">"
   ]
  },
  {
   "cell_type": "code",
   "execution_count": null,
   "metadata": {},
   "outputs": [],
   "source": [
    "df_map = {\n",
    "    'cim': '868_0111_hcim_v2.xlsx',\n",
    "    'elony': '868_0111_helo_v1.xlsx',\n",
    "    'jogviszony': '868_0111_hjv_v2.xlsx',\n",
    "    'kepzesi_elem': '868_0111_hke_v2.xlsx',\n",
    "    'kepzesi_idoszak': '868_0111_hki_v2.xlsx',\n",
    "    'kepzes': '868_0111_hkpz_v3.xlsx',\n",
    "    'kulfoldi_tanulmany': '868_0111_hkt_v2.xlsx',\n",
    "    'kimeneti_vizsga': '868_0111_hkv_v2.xlsx',\n",
    "    'hallgato': '868_0111_hlg_v2.xlsx',\n",
    "    'oklevel': '868_0111_hlo_v3.xlsx',\n",
    "    'oklevel_vegzettseg': '868_0111_hlov_v2.xlsx',\n",
    "    'nyelvvizsga': '868_0111_hnyv_v1.xlsx',\n",
    "    'hozott_dokumentum': '868_0111_hod_v1.xlsx',\n",
    "    'penzugyi_juttatas': '868_0111_hpuj_v2.xlsx',\n",
    "    'penzugyi_terites': '868_0111_hput_v2.xlsx',\n",
    "}"
   ]
  },
  {
   "cell_type": "code",
   "execution_count": null,
   "metadata": {},
   "outputs": [],
   "source": [
    "dfs = {name: pd.read_excel(BASE + fn) \n",
    "       for name, fn in tqdm.tqdm_notebook(df_map.items())}"
   ]
  },
  {
   "cell_type": "code",
   "execution_count": null,
   "metadata": {},
   "outputs": [],
   "source": [
    "connections = [\n",
    "    {'left': 'hallgato',\n",
    "     'left_on': ['HLG_INT_ID', 'HLG_INTAZON'],\n",
    "     'right': 'cim', \n",
    "     'right_on': ['HCIM_INT_ID', 'HCIM_HLG_INTAZON'],\n",
    "     'how': 'left'},\n",
    "    {'left': 'hallgato', \n",
    "     'left_on': ['HLG_INT_ID', 'HLG_INTAZON'],\n",
    "     'right': 'hozott_dokumentum', \n",
    "     'right_on': ['HOD_INT_ID', 'HOD_HLG_INTAZON'],\n",
    "     'how': 'left'},\n",
    "    {'left': 'hallgato', \n",
    "     'left_on': ['HLG_INT_ID', 'HLG_INTAZON'],\n",
    "     'right': 'nyelvvizsga', \n",
    "     'right_on': ['HNYV_INT_ID', 'HNYV_HLG_INTAZON'],\n",
    "     'how': 'left'},\n",
    "    {'left': 'hallgato', \n",
    "     'left_on': ['HLG_INT_ID', 'HLG_INTAZON'],\n",
    "     'right': 'elony', \n",
    "     'right_on': ['HELO_INT_ID', 'HELO_HLG_INTAZON'],\n",
    "     'how': 'left'},\n",
    "    {'left': 'hallgato', \n",
    "     'left_on': ['HLG_INT_ID', 'HLG_INTAZON'],\n",
    "     'right': 'kulfoldi_tanulmany', \n",
    "     'right_on': ['HKT_INT_ID', 'HKT_HLG_INTAZON'],\n",
    "     'how': 'left'},\n",
    "    {'left': 'hallgato', \n",
    "     'left_on': ['HLG_INT_ID', 'HLG_INTAZON'],\n",
    "     'right': 'jogviszony',\n",
    "     'right_on': ['HJV_INT_ID', 'HJV_HLG_INTAZON'],\n",
    "     'how': 'inner'},\n",
    "    {'left': 'jogviszony', \n",
    "     'left_on': ['HJV_INT_ID', 'HJV_HLG_INTAZON', 'HJV_INTAZON'],\n",
    "     'right': 'kepzes', \n",
    "     'right_on': ['HKPZ_INT_ID', 'HKPZ_HLG_INTAZON', 'HKPZ_HJV_INTAZON'],\n",
    "     'how': 'left'},\n",
    "    {'left': 'kepzes', \n",
    "     'left_on': ['HKPZ_INT_ID', 'HKPZ_HLG_INTAZON', 'HKPZ_INTAZON'],\n",
    "     'right': 'kepzesi_idoszak', \n",
    "     'right_on': ['HKI_INT_ID', 'HKI_HLG_INTAZON', 'HKI_HKPZ_INTAZON'],\n",
    "     'how': 'left'},\n",
    "    {'left': 'kepzes', \n",
    "     'left_on': ['HKPZ_INT_ID', 'HKPZ_HLG_INTAZON', 'HKPZ_INTAZON'],\n",
    "     'right': 'kepzesi_elem', \n",
    "     'right_on': ['HKE_INT_ID', 'HKE_HLG_INTAZON', 'HKE_HKPZ_INTAZON'],\n",
    "     'how': 'left'},\n",
    "    {'left': 'kepzes', \n",
    "     'left_on': ['HKPZ_INT_ID', 'HKPZ_HLG_INTAZON', 'HKPZ_INTAZON'],\n",
    "     'right': 'kimeneti_vizsga', \n",
    "     'right_on': ['HKV_INT_ID', 'HKV_HLG_INTAZON', 'HKV_HKPZ_INTAZON'],\n",
    "     'how': 'left'},\n",
    "    {'left': 'kepzes', \n",
    "     'left_on': ['HKPZ_INT_ID', 'HKPZ_HLG_INTAZON', 'HKPZ_INTAZON'],\n",
    "     'right': 'penzugyi_juttatas', \n",
    "     'right_on': ['HPUJ_INT_ID', 'HPUJ_HLG_INTAZON', 'HPUJ_HKPZ_INTAZON'],\n",
    "     'how': 'left'},\n",
    "    {'left': 'kepzes', \n",
    "     'left_on': ['HKPZ_INT_ID', 'HKPZ_HLG_INTAZON', 'HKPZ_INTAZON'],\n",
    "     'right': 'penzugyi_terites', \n",
    "     'right_on': ['HPUT_INT_ID', 'HPUT_HLG_INTAZON', 'HPUT_HKPZ_INTAZON'],\n",
    "     'how': 'left'},\n",
    "    {'left': 'kepzes', \n",
    "     'left_on': ['HKPZ_INT_ID', 'HKPZ_HLG_INTAZON', 'HKPZ_INTAZON'],\n",
    "     'right': 'oklevel', \n",
    "     'right_on': ['HLO_INT_ID', 'HLO_HLG_INTAZON', 'HLO_HKPZ_INTAZON'],\n",
    "     'how': 'inner'},\n",
    "    {'left': 'oklevel', \n",
    "     'left_on': ['HLO_INT_ID', 'HLO_HLG_INTAZON', 'HLO_INTAZON'],\n",
    "     'right': 'oklevel_vegzettseg', \n",
    "     'right_on': ['HLOV_INT_ID', 'HLOV_HLG_INTAZON', 'HLOV_HLO_INTAZON'],\n",
    "     'how': 'left'}\n",
    "]"
   ]
  },
  {
   "cell_type": "code",
   "execution_count": null,
   "metadata": {},
   "outputs": [],
   "source": [
    "def merge(base, dfs, conn):\n",
    "    conn['left'] = base\n",
    "    conn['right'] = dfs[conn['right']]\n",
    "    return pd.merge(**conn)"
   ]
  },
  {
   "cell_type": "code",
   "execution_count": null,
   "metadata": {},
   "outputs": [],
   "source": [
    "base = dfs['hallgato']\n",
    "for connection in tqdm.tqdm_notebook(connections):\n",
    "    base = merge(base, dfs, connection)"
   ]
  },
  {
   "cell_type": "code",
   "execution_count": null,
   "metadata": {},
   "outputs": [],
   "source": [
    "base.shape"
   ]
  },
  {
   "cell_type": "code",
   "execution_count": null,
   "metadata": {},
   "outputs": [],
   "source": [
    "base.to_excel(BASE + 'MERGED.xlsx')"
   ]
  }
 ],
 "metadata": {
  "anaconda-cloud": {},
  "kernelspec": {
   "display_name": "Python 3",
   "language": "python",
   "name": "python3"
  },
  "language_info": {
   "codemirror_mode": {
    "name": "ipython",
    "version": 3
   },
   "file_extension": ".py",
   "mimetype": "text/x-python",
   "name": "python",
   "nbconvert_exporter": "python",
   "pygments_lexer": "ipython3",
   "version": "3.6.4"
  }
 },
 "nbformat": 4,
 "nbformat_minor": 2
}
