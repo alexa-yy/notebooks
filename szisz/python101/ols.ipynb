{
 "cells": [
  {
   "cell_type": "code",
   "execution_count": 1,
   "metadata": {
    "collapsed": true
   },
   "outputs": [],
   "source": [
    "import random\n",
    "from itertools import product\n",
    "\n",
    "import numpy as np\n",
    "import matplotlib.pyplot as plt\n",
    "from mpl_toolkits.mplot3d import Axes3D\n",
    "import plotly.plotly as py"
   ]
  },
  {
   "cell_type": "code",
   "execution_count": 2,
   "metadata": {
    "collapsed": true
   },
   "outputs": [],
   "source": [
    "%matplotlib inline"
   ]
  },
  {
   "cell_type": "code",
   "execution_count": 3,
   "metadata": {},
   "outputs": [
    {
     "data": {
      "text/plain": [
       "<matplotlib.collections.PathCollection at 0x95ed710>"
      ]
     },
     "execution_count": 3,
     "metadata": {},
     "output_type": "execute_result"
    },
    {
     "data": {
      "image/png": "[encoded data removed]",
      "text/plain": [
       "<matplotlib.figure.Figure at 0x46557f0>"
      ]
     },
     "metadata": {},
     "output_type": "display_data"
    }
   ],
   "source": [
    "xs = [random.random() for _ in range(100)]\n",
    "ys = [ 3.14 * x + random.random() * 0.45 for x in xs]\n",
    "plt.scatter(xs, ys)"
   ]
  },
  {
   "cell_type": "markdown",
   "metadata": {},
   "source": [
    "y = a*x + b"
   ]
  },
  {
   "cell_type": "code",
   "execution_count": 4,
   "metadata": {
    "collapsed": true
   },
   "outputs": [],
   "source": [
    "def sqdistance(x1, x2):\n",
    "    return (x1-x2)**2"
   ]
  },
  {
   "cell_type": "code",
   "execution_count": 5,
   "metadata": {
    "collapsed": true
   },
   "outputs": [],
   "source": [
    "def tup_op(tup, val, ops):\n",
    "    if ops == 'aa':\n",
    "        return (tup[0] + val, tup[1] + val)\n",
    "    if ops == 'as':\n",
    "        return (tup[0] + val, tup[1] - val)\n",
    "    if ops == 'sa':\n",
    "        return (tup[0] - val, tup[1] + val)\n",
    "    if ops == 'ss':\n",
    "        return (tup[0] - val, tup[1] - val)\n",
    "    if ops == 'dd':\n",
    "        return (tup[0] / float(val), tup[1] / float(val))\n",
    "    else:\n",
    "        raise NotImplementedError"
   ]
  },
  {
   "cell_type": "code",
   "execution_count": 6,
   "metadata": {
    "collapsed": true
   },
   "outputs": [],
   "source": [
    "def lin(coefs, x):\n",
    "    return coefs[0] * x + coefs[1]"
   ]
  },
  {
   "cell_type": "code",
   "execution_count": 7,
   "metadata": {
    "collapsed": true
   },
   "outputs": [],
   "source": [
    "def err_count(coefs, xs, ys, dist_fun):\n",
    "    err = 0\n",
    "    for ind, x in enumerate(xs):\n",
    "        # print x, coefs, lin(coefs, x)\n",
    "        err += dist_fun(lin(coefs, x), ys[ind])\n",
    "    return err"
   ]
  },
  {
   "cell_type": "code",
   "execution_count": 177,
   "metadata": {
    "collapsed": true
   },
   "outputs": [],
   "source": [
    "learning_rate = 0.00005"
   ]
  },
  {
   "cell_type": "code",
   "execution_count": 178,
   "metadata": {
    "collapsed": true
   },
   "outputs": [],
   "source": [
    "epsilon = 0.000001"
   ]
  },
  {
   "cell_type": "code",
   "execution_count": 179,
   "metadata": {
    "collapsed": true
   },
   "outputs": [],
   "source": [
    "max_iter = 10000"
   ]
  },
  {
   "cell_type": "code",
   "execution_count": 180,
   "metadata": {
    "collapsed": true
   },
   "outputs": [],
   "source": [
    "delta = float('inf')"
   ]
  },
  {
   "cell_type": "code",
   "execution_count": 181,
   "metadata": {},
   "outputs": [
    {
     "name": "stdout",
     "output_type": "stream",
     "text": [
      "8784\n"
     ]
    }
   ],
   "source": [
    "# coefs = a, b\n",
    "coefs = (random.random() * 10, random.random() * 10)\n",
    "bl_errs = []\n",
    "coefs_list = []\n",
    "\n",
    "i = 0\n",
    "while (delta > epsilon and i <= max_iter):\n",
    "    i += 1\n",
    "    err = err_count(coefs, xs, ys, sqdistance)\n",
    "    bl_err = err\n",
    "    bl_errs.append(bl_err)\n",
    "    step = bl_err * learning_rate\n",
    "    step_errs = [0, 0, 0, 0]\n",
    "    step_coefs = [tup_op(coefs, step, 'aa'), \n",
    "                  tup_op(coefs, step, 'as'), \n",
    "                  tup_op(coefs, step, 'sa'), \n",
    "                  tup_op(coefs, step, 'ss')]\n",
    "    coefs_list.extend(step_coefs)\n",
    "    for ind, coef in enumerate(step_coefs):\n",
    "        step_errs[ind] = err_count(coef, xs, ys, sqdistance)\n",
    "    coefs = step_coefs[step_errs.index(min(step_errs))]\n",
    "    delta = bl_err - min(step_errs)\n",
    "\n",
    "print i"
   ]
  },
  {
   "cell_type": "code",
   "execution_count": 42,
   "metadata": {},
   "outputs": [
    {
     "data": {
      "text/plain": [
       "(3.161127101583147, 0.2259461704405237)"
      ]
     },
     "execution_count": 42,
     "metadata": {},
     "output_type": "execute_result"
    }
   ],
   "source": [
    "coefs"
   ]
  },
  {
   "cell_type": "code",
   "execution_count": 43,
   "metadata": {},
   "outputs": [
    {
     "data": {
      "text/plain": [
       "<matplotlib.collections.PathCollection at 0x98b48d0>"
      ]
     },
     "execution_count": 43,
     "metadata": {},
     "output_type": "execute_result"
    },
    {
     "data": {
      "image/png": "[encoded data removed]",
      "text/plain": [
       "<matplotlib.figure.Figure at 0x983d128>"
      ]
     },
     "metadata": {},
     "output_type": "display_data"
    }
   ],
   "source": [
    "plt.scatter(range(200), bl_errs[:200])"
   ]
  },
  {
   "cell_type": "markdown",
   "metadata": {},
   "source": [
    "---"
   ]
  },
  {
   "cell_type": "code",
   "execution_count": 195,
   "metadata": {
    "collapsed": true
   },
   "outputs": [],
   "source": [
    "mx = np.linspace(-3, 6, num=101)\n",
    "my = np.linspace(0, 9, num=101)\n",
    "\n",
    "tile = list(product(mx, my))\n",
    "\n",
    "for i, point in enumerate(tile):\n",
    "    tile[i] = (round(point[0],2), round(point[1],2))"
   ]
  },
  {
   "cell_type": "code",
   "execution_count": 196,
   "metadata": {
    "collapsed": true
   },
   "outputs": [],
   "source": [
    "mesh_errs = []\n",
    "for coef in tile:\n",
    "    mesh_errs.append(err_count(coef, xs, ys, sqdistance))\n",
    "resh = np.array(mesh_errs).reshape(101,101).T"
   ]
  },
  {
   "cell_type": "code",
   "execution_count": 197,
   "metadata": {},
   "outputs": [
    {
     "data": {
      "text/plain": [
       "(1.5812293092352774, 10519.87861346516)"
      ]
     },
     "execution_count": 197,
     "metadata": {},
     "output_type": "execute_result"
    }
   ],
   "source": [
    "min(mesh_errs), max(mesh_errs)"
   ]
  },
  {
   "cell_type": "code",
   "execution_count": 198,
   "metadata": {},
   "outputs": [
    {
     "data": {
      "text/plain": [
       "<matplotlib.collections.PathCollection at 0x121b2f28>"
      ]
     },
     "execution_count": 198,
     "metadata": {},
     "output_type": "execute_result"
    },
    {
     "data": {
      "image/png": "[encoded data removed]",
      "text/plain": [
       "<matplotlib.figure.Figure at 0x1430b0b8>"
      ]
     },
     "metadata": {},
     "output_type": "display_data"
    }
   ],
   "source": [
    "plot = plt.contourf(mx, my, resh, np.logspace(0,3.8, 15), cmap='jet')\n",
    "plt.scatter(*zip(*coefs_list))"
   ]
  }
 ],
 "metadata": {
  "kernelspec": {
   "display_name": "Python 2",
   "language": "python",
   "name": "python2"
  },
  "language_info": {
   "codemirror_mode": {
    "name": "ipython",
    "version": 2
   },
   "file_extension": ".py",
   "mimetype": "text/x-python",
   "name": "python",
   "nbconvert_exporter": "python",
   "pygments_lexer": "ipython2",
   "version": "2.7.13"
  }
 },
 "nbformat": 4,
 "nbformat_minor": 2
}
