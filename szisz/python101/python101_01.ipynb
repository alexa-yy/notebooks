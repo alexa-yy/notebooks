{
 "cells": [
  {
   "cell_type": "markdown",
   "metadata": {},
   "source": [
    "# Python 101\n",
    "## Part I.\n",
    "\n",
    "---"
   ]
  },
  {
   "cell_type": "code",
   "execution_count": null,
   "metadata": {
    "collapsed": true,
    "slideshow": {
     "slide_type": "-"
    }
   },
   "outputs": [],
   "source": [
    "import random"
   ]
  },
  {
   "cell_type": "markdown",
   "metadata": {},
   "source": [
    "<img width=\"640\" src=\"http://westmarch.sjsoft.com/wp-content/uploads/2012/11/zen-of-python-poster-a3.png\"/>\n",
    "\n",
    "----\n",
    "\n",
    "## Before we start\n",
    "\n",
    "### Who am I?\n",
    "\n",
    "* ex-PhD student (absolutorium achieved)\n",
    "* ex-teaching assistant @ Unideb\n",
    "* ex-python developer @ HigherClick\n",
    "* data scientist @ Lensa\n",
    "* programmer (<a href=\"github.com/fulibacsi\">github</a>)\n",
    "* geek (<a href=\"twitter.com/fulibacsi\">twitter</a>)\n",
    "\n",
    "### What are we gonna do?\n",
    "\n",
    "1. Have fun!\n",
    "2. Learn something useful.\n",
    "3. Create something awesome.\n",
    "4. Conquer the world!\n",
    "\n",
    "### Requirements?\n",
    "\n",
    "* Solve the weekly challenges.\n",
    "* Define a problem and solve it.\n",
    "* Write some docs about it.\n",
    "* Free your mind!\n",
    "        \n",
    "---\n",
    "\n",
    "## Warming up - Computer Science in 5 min:\n",
    "\n",
    "To get everyone to the same pace.\n",
    "\n",
    "### Where it begins: NAND\n",
    "\n",
    "<img align=\"left\" height=\"200\" width=\"200\" src=\"pics/NAND.png\"/>\n",
    "<img align=\"right\" height=\"200\" width=\"300\" src=\"pics/Quad_2-input_NAND_Gates.PNG\"/>\n",
    "<br style=\"clear:left;\"/>\n",
    "\n",
    "### How NAND gates have been produced?\n",
    "\n",
    "#### Relays\n",
    "\n",
    "<img align=\"left\" height=\"400\" width=\"400\" src=\"pics/Electronic_component_relays.jpg\"/>\n",
    "<br style=\"clear:left;\"/>\n",
    "\n",
    "#### Vacuum tubes\n",
    "\n",
    "<img align=\"left\" height=\"300\" width=\"600\" src=\"pics/Elektronenroehren-auswahl.jpg\"/>\n",
    "<br style=\"clear:left;\"/>\n",
    "\n",
    "#### Transistors\n",
    "\n",
    "<img align=\"left\" height=\"200\" width=\"200\" src=\"pics/transistor.jpg\"\n",
    "     style=\"padding-right: 10px; padding-top: 16px\"/>\n",
    "<img align=\"left\" src=\"pics/proc.jpg\"/>\n",
    "<br style=\"clear:left;\"/>\n",
    "\n",
    "### From human readable to \"machine readable\"\n",
    "\n",
    "#### Low level languages\n",
    "\n",
    "<img align=\"left\" src=\"pics/lowlevel.png\"/>\n",
    "<br style=\"clear:left;\"/>\n",
    "\n",
    "#### Compiled languages\n",
    "\n",
    "<img align=\"left\" src=\"pics/compiled.png\"/>\n",
    "<br style=\"clear:left;\"/>\n",
    "\n",
    "* BASIC\n",
    "* C, C++\n",
    "* Pascal\n",
    "\n",
    "#### Interpreted languages\n",
    "\n",
    "<img align=\"left\" src=\"pics/interpreted.png\"/>\n",
    "<br style=\"clear:left;\"/>\n",
    "\n",
    "* Javascript\n",
    "* PHP\n",
    "\n",
    "#### Python\n",
    "\n",
    "Something from both worlds:\n",
    "\n",
    "<img align=\"left\" src=\"pics/precompiled.png\"/>\n",
    "<br style=\"clear:left;\"/>\n",
    "\n",
    "### Meet the designer: Guido van Rossum\n",
    "\n",
    "<img align=\"left\" height=\"600\" width=\"300\" src=\"pics/Guido_van_Rossum_OSCON_2006.jpg\"/>\n",
    "<br style=\"clear:left;\"/>\n",
    "\n",
    "### Origin of the name:\n",
    "\n",
    "<img align=\"left\" width=\"600\" height=\"400\" src=\"pics/HolyGrail034.jpg\"/>\n",
    "<br style=\"clear:left;\"/>\n",
    "\n",
    "---\n",
    "\n",
    "## Everyone's first lines\n",
    "\n",
    "I don't want to ruin the moment and do it for you, so follow the instructions below:\n",
    "\n",
    "- Hit [Enter] on the following cell\n",
    "- Position your cursor to the first empty line\n",
    "- Type the `print` word followed by a space, then type \"Hello World\" in quotation\n",
    "- Hit [Ctrl] + [Enter] to run your code"
   ]
  },
  {
   "cell_type": "code",
   "execution_count": null,
   "metadata": {
    "collapsed": true
   },
   "outputs": [],
   "source": [
    "# Before we start: \n",
    "# This line is a comment. It is useful for others to understand your code,\n",
    "# so use it often. Every text after the # character is comment.\n"
   ]
  },
  {
   "cell_type": "markdown",
   "metadata": {},
   "source": [
    "__Let's do some math too!__\n",
    "\n",
    "Try out the following operators:\n",
    "- `+, -, *, /`\n",
    "- `%, **`"
   ]
  },
  {
   "cell_type": "code",
   "execution_count": null,
   "metadata": {
    "collapsed": true
   },
   "outputs": [],
   "source": [
    "1 + 1"
   ]
  },
  {
   "cell_type": "markdown",
   "metadata": {},
   "source": [
    "Try out the followings logical operators:\n",
    "- `==, >, >=, <=, <`\n",
    "- `not, and, or`  \n",
    "\n",
    "and logical values:\n",
    "- `True, False`"
   ]
  },
  {
   "cell_type": "code",
   "execution_count": null,
   "metadata": {
    "collapsed": true
   },
   "outputs": [],
   "source": [
    "True or False"
   ]
  },
  {
   "cell_type": "markdown",
   "metadata": {},
   "source": [
    "## Variables\n",
    "\n",
    "What if we want to store some values? We use the assignment (`=`) operator!\n",
    "\n",
    "- __`a`__ is a number"
   ]
  },
  {
   "cell_type": "code",
   "execution_count": null,
   "metadata": {
    "collapsed": true
   },
   "outputs": [],
   "source": [
    "a = 3\n",
    "print a\n",
    "print type(a)"
   ]
  },
  {
   "cell_type": "markdown",
   "metadata": {},
   "source": [
    "- __`a`__ is a floating point number"
   ]
  },
  {
   "cell_type": "code",
   "execution_count": null,
   "metadata": {
    "collapsed": true
   },
   "outputs": [],
   "source": [
    "a = 3.14\n",
    "print a\n",
    "print type(a)"
   ]
  },
  {
   "cell_type": "markdown",
   "metadata": {},
   "source": [
    "- __`a`__ is a boolean value"
   ]
  },
  {
   "cell_type": "code",
   "execution_count": null,
   "metadata": {
    "collapsed": true
   },
   "outputs": [],
   "source": [
    "a = True # False\n",
    "print a\n",
    "print type(a)"
   ]
  },
  {
   "cell_type": "markdown",
   "metadata": {},
   "source": [
    "- __`a`__ is a character"
   ]
  },
  {
   "cell_type": "code",
   "execution_count": null,
   "metadata": {
    "collapsed": true
   },
   "outputs": [],
   "source": [
    "a = 'a'\n",
    "print a\n",
    "print type(a)"
   ]
  },
  {
   "cell_type": "markdown",
   "metadata": {},
   "source": [
    "- __`a`__ is a string"
   ]
  },
  {
   "cell_type": "code",
   "execution_count": null,
   "metadata": {
    "collapsed": true
   },
   "outputs": [],
   "source": [
    "a = 'spam'\n",
    "print a\n",
    "# or\n",
    "a = \"spam and eggs\"\n",
    "print a\n",
    "# or\n",
    "a = '''spam'\n",
    "spam\n",
    "sausage'''\n",
    "print a\n",
    "# or\n",
    "a = \"\"\"spam\n",
    "spam\n",
    "eggs\n",
    "and spam\"\"\"\n",
    "print a\n",
    "print type(a)"
   ]
  },
  {
   "cell_type": "markdown",
   "metadata": {},
   "source": [
    "__According to strings:__  \n",
    "There are some so called __`escape character`__s. They always starts with a __\\\\__ following by an another character, like:\n",
    "- `\\n`\n",
    "- `\\t`\n",
    "- `\\r`\n",
    "- `\\'`\n",
    "- `\\\"`\n",
    "\n",
    "Try them out!"
   ]
  },
  {
   "cell_type": "code",
   "execution_count": null,
   "metadata": {
    "collapsed": true
   },
   "outputs": [],
   "source": [
    "a = 'sp\\nam'\n",
    "print a"
   ]
  },
  {
   "cell_type": "markdown",
   "metadata": {},
   "source": [
    "#### Naming conventions"
   ]
  },
  {
   "cell_type": "markdown",
   "metadata": {},
   "source": [
    "* starts with a letter\n",
    "* available characters:\n",
    "    * a-z\n",
    "    * A-Z\n",
    "    * 0-9\n",
    "    * _"
   ]
  },
  {
   "cell_type": "code",
   "execution_count": null,
   "metadata": {
    "collapsed": true
   },
   "outputs": [],
   "source": [
    "spam_is_a_valid_variable_name = True"
   ]
  },
  {
   "cell_type": "code",
   "execution_count": null,
   "metadata": {
    "collapsed": true
   },
   "outputs": [],
   "source": [
    "9spam_is_not = True"
   ]
  },
  {
   "cell_type": "markdown",
   "metadata": {},
   "source": [
    "## Let's try it out...\n",
    "\n",
    "...and make something (almost) useful!"
   ]
  },
  {
   "cell_type": "code",
   "execution_count": null,
   "metadata": {
    "collapsed": true
   },
   "outputs": [],
   "source": [
    "your_name = ''                                # please specify your name\n",
    "print 'Hello', your_name, '!'\n",
    "\n",
    "year_of_birth = XXXX                          # please specify your year of birth\n",
    "print 'You are', 2017 - year_of_birth, 'years old.'"
   ]
  },
  {
   "cell_type": "markdown",
   "metadata": {},
   "source": [
    "## Let's do some...\n",
    "\n",
    "<img align=\"left\" width=150 src=\"pics/magic.gif\">\n",
    "<br style=\"clear:left;\"/>\n",
    "\n",
    "### Cool library of the week: qrcode\n",
    "* Generate a QR code in two lines!"
   ]
  },
  {
   "cell_type": "code",
   "execution_count": null,
   "metadata": {
    "collapsed": true
   },
   "outputs": [],
   "source": [
    "import qrcode\n",
    "qrcode.make('fulibacsi.github.io/notebooks')"
   ]
  },
  {
   "cell_type": "markdown",
   "metadata": {},
   "source": [
    "## Now it's your turn! Write the missing code snippets!\n",
    "\n",
    "**1. Print the \"your_name\" variable \"repeat\" times!**"
   ]
  },
  {
   "cell_type": "code",
   "execution_count": null,
   "metadata": {
    "collapsed": true
   },
   "outputs": [],
   "source": [
    "your_name = ''\n",
    "repeat = random.randint(1, 5) # believe in this magic for now\n",
    "# hint: you can multiply strings too.\n",
    "\n",
    "# ---------------------------------------------------------------------\n",
    "print                                                      # solution\n",
    "# ---------------------------------------------------------------------"
   ]
  },
  {
   "cell_type": "markdown",
   "metadata": {},
   "source": [
    "**2. Calculate the selling price to achieve the desired profit after tax!**"
   ]
  },
  {
   "cell_type": "code",
   "execution_count": null,
   "metadata": {
    "collapsed": true
   },
   "outputs": [],
   "source": [
    "cost = random.randint(1000, 2000) # currency\n",
    "tax = random.randint(20, 50) / 100.0 # percent\n",
    "profit = random.randint(0, 100) / 100.0 # percent\n",
    "\n",
    "# ---------------------------------------------------------------------\n",
    "price =                                                     # solution\n",
    "# ---------------------------------------------------------------------\n",
    "\n",
    "print 'If I bought the product for', cost,\n",
    "print 'and I would like to achieve', profit * 100,\n",
    "print 'percent profit and the tax I have to pay after my income is', tax * 100,\n",
    "print 'percent, then I have to set the price to:', price, '.' "
   ]
  },
  {
   "cell_type": "markdown",
   "metadata": {},
   "source": [
    "**3. Now let the geek side of the force shine!**  \n",
    "\n",
    "<img align=\"left\" width=\"150\" src=\"pics/ww.png\" style=\"padding-right: 10px\"/>\n",
    "\n",
    "A warrior fights against an evil wizard lizard. He has a magical sword and a magical axe.   \n",
    "The evil wizard lizard cast a protective spell on himself, so he is resistant to one of the  \n",
    "damage types. The warrior has two weapons to choose from. Help him defeat the evil wizard lizard  \n",
    "by calculating the damage values of his weapons!"
   ]
  },
  {
   "cell_type": "markdown",
   "metadata": {},
   "source": [
    "He has:\n",
    "- a sword"
   ]
  },
  {
   "cell_type": "code",
   "execution_count": null,
   "metadata": {
    "collapsed": true
   },
   "outputs": [],
   "source": [
    "sword_damage = random.randint(5, 10)\n",
    "sword_damage_type = random.choice(['fire', 'ice', 'lightning', 'arcane', 'poison'])\n",
    "print 'This sword will inflict', sword_damage, sword_damage_type, 'type damage.'"
   ]
  },
  {
   "cell_type": "markdown",
   "metadata": {},
   "source": [
    "- an axe"
   ]
  },
  {
   "cell_type": "code",
   "execution_count": null,
   "metadata": {
    "collapsed": true
   },
   "outputs": [],
   "source": [
    "axe_damage = random.randint(5, 10)\n",
    "axe_damage_type = random.choice(['fire', 'ice', 'lightning', 'arcane', 'poison'])\n",
    "print 'This axe will inflict', sword_damage, sword_damage_type, 'type damage.'"
   ]
  },
  {
   "cell_type": "markdown",
   "metadata": {},
   "source": [
    "The evil wizard lizard is resistant to one element:"
   ]
  },
  {
   "cell_type": "code",
   "execution_count": null,
   "metadata": {
    "collapsed": true
   },
   "outputs": [],
   "source": [
    "evil_wizard_lizard_resist_type = random.choice(['fire', 'ice', 'lightning', 'arcane', 'poison'])\n",
    "evil_wizard_lizard_damage_reduction = random.randint(0, 75) / 100.0\n",
    "print 'The evil lizard will receive', evil_wizard_lizard_damage_reduction * 100,\n",
    "print '% less damage if hit with a', evil_wizard_lizard_resist_type, 'type weapon.'"
   ]
  },
  {
   "cell_type": "markdown",
   "metadata": {},
   "source": [
    "Which weapon should the warrior choose?"
   ]
  },
  {
   "cell_type": "code",
   "execution_count": null,
   "metadata": {
    "collapsed": true
   },
   "outputs": [],
   "source": [
    "# ---------------------------------------------------------------------\n",
    "sword_actual_damage =                   # compute sword and axe damage  \n",
    "axe_actual_damage =                     # hint: True is 1, False is 0\n",
    "# should the warrior choose the sword?\n",
    "answer =                                # solution should be boolean\n",
    "# ---------------------------------------------------------------------\n",
    "\n",
    "print 'The warrior should use the sword!'\n",
    "print answer,\n",
    "print 'because sword does', sword_actual_damage,\n",
    "print 'damage and axe does', axe_actual_damage,\n",
    "print 'damage to the evil wizard lizard.'"
   ]
  },
  {
   "cell_type": "markdown",
   "metadata": {},
   "source": [
    "**4. Aaaaare we there yet?**  \n",
    "Ever wonder how much time do you need to get home?  \n",
    "Let's calculate the trip time! It is possible to hit a traffic jam, so add that to the trip time too."
   ]
  },
  {
   "cell_type": "code",
   "execution_count": null,
   "metadata": {
    "collapsed": true
   },
   "outputs": [],
   "source": [
    "distance = random.randint(30, 230) * 1.0 # because of the division\n",
    "average_speed = random.randint(30, 90)\n",
    "# if I hit the traffic jam, my trip takes `traffic_jam_penalty`\n",
    "# minutes more then without it.\n",
    "traffic_jam = random.randint(0, 1)\n",
    "traffic_jam_penalty = random.randint(30, 60)\n",
    "\n",
    "# ---------------------------------------------------------------------\n",
    "trip_time =                                          # compute in mins\n",
    "hours =                                              # hint: use the int(value) function to get an integer number\n",
    "minutes = \n",
    "seconds = \n",
    "# ---------------------------------------------------------------------\n",
    "\n",
    "print 'I need', trip_time, 'minutes',\n",
    "print 'or', hours, 'hours,', \n",
    "print minutes, 'minutes,',\n",
    "print seconds, 'seconds to get home',\n",
    "print 'if I live', distance, 'kms away',\n",
    "print 'and I usually drive at', average_speed, 'km/hs.'\n",
    "print 'I have to wait', traffic_jam_penalty,\n",
    "print 'minutes because of a traffic jam. It\\'s', \n",
    "\n",
    "# ---------------------------------------------------------------------\n",
    "print ,                              # create an appropriate condition\n",
    "# ---------------------------------------------------------------------\n",
    "\n",
    "print '!'"
   ]
  },
  {
   "cell_type": "markdown",
   "metadata": {},
   "source": [
    "**Variant from real life:**  \n",
    "An average hungarian coach travels at 60 km/h on average. (Self collected empiric data.)  \n",
    "Calculate the travel time!"
   ]
  },
  {
   "cell_type": "code",
   "execution_count": null,
   "metadata": {
    "collapsed": true
   },
   "outputs": [],
   "source": [
    "hungarian_coach_average_speed = 60\n",
    "distance_till_home = random.randint(30, 300)\n",
    "\n",
    "# ---------------------------------------------------------------------\n",
    "minutes_left =\n",
    "# ---------------------------------------------------------------------\n",
    "\n",
    "print 'I only have to survive', minutes_left, 'minutes, and I\\'m home!'"
   ]
  },
  {
   "cell_type": "markdown",
   "metadata": {},
   "source": [
    "**5. Rock-paper-scissors.**  \n",
    "Generate a logical expression which generates the game's outcome."
   ]
  },
  {
   "cell_type": "code",
   "execution_count": null,
   "metadata": {
    "collapsed": true
   },
   "outputs": [],
   "source": [
    "your_choice = 'r' # 'r', 'p' or 's'\n",
    "comp_choice = random.choice('rps')\n",
    "\n",
    "# ---------------------------------------------------------------------\n",
    "winner =                                 # compute if player's winning\n",
    "# ---------------------------------------------------------------------\n",
    "\n",
    "print 'Are you a winner?', \n",
    "print winner"
   ]
  },
  {
   "cell_type": "markdown",
   "metadata": {},
   "source": [
    "**6. Calculate the good-old (and boring) quadratic equation!**  \n",
    "For those who forgot:  \n",
    "$$x_{1,2}=\\dfrac{-b \\pm \\sqrt{b^2 - 4ac}}{2a}$$"
   ]
  },
  {
   "cell_type": "code",
   "execution_count": null,
   "metadata": {
    "collapsed": true
   },
   "outputs": [],
   "source": [
    "a = random.randint(1, 10)\n",
    "b = random.randint(1, 10)\n",
    "c = random.randint(1, 10)\n",
    "\n",
    "# ---------------------------------------------------------------------\n",
    "x_1 = \n",
    "x_2 = \n",
    "# ---------------------------------------------------------------------\n",
    "\n",
    "print 'The solutions to the', \n",
    "print str(a) + 'x^2 + ' + str(b) + 'x + ' + str(c) + ' = 0',\n",
    "print 'is:', x_1, 'and', x_2"
   ]
  }
 ],
 "metadata": {
  "anaconda-cloud": {},
  "kernelspec": {
   "display_name": "Python [default]",
   "language": "python",
   "name": "python2"
  },
  "language_info": {
   "codemirror_mode": {
    "name": "ipython",
    "version": 2
   },
   "file_extension": ".py",
   "mimetype": "text/x-python",
   "name": "python",
   "nbconvert_exporter": "python",
   "pygments_lexer": "ipython2",
   "version": "2.7.13"
  }
 },
 "nbformat": 4,
 "nbformat_minor": 1
}
