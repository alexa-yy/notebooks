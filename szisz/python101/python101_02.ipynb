{
 "cells": [
  {
   "cell_type": "markdown",
   "metadata": {},
   "source": [
    "# Python 101 \n",
    "## Part II."
   ]
  },
  {
   "cell_type": "markdown",
   "metadata": {},
   "source": [
    "---"
   ]
  },
  {
   "cell_type": "code",
   "execution_count": null,
   "metadata": {},
   "outputs": [],
   "source": [
    "import random\n",
    "from helpers import *"
   ]
  },
  {
   "cell_type": "markdown",
   "metadata": {},
   "source": [
    "---"
   ]
  },
  {
   "cell_type": "markdown",
   "metadata": {},
   "source": [
    "## I/O"
   ]
  },
  {
   "cell_type": "markdown",
   "metadata": {},
   "source": [
    "Let's have some user input:"
   ]
  },
  {
   "cell_type": "code",
   "execution_count": null,
   "metadata": {},
   "outputs": [],
   "source": [
    "prompt = 'What is your name? '\n",
    "answer = input(prompt)\n",
    "print 'Your name is', answer,'.'"
   ]
  },
  {
   "cell_type": "code",
   "execution_count": null,
   "metadata": {},
   "outputs": [],
   "source": [
    "prompt = 'What is your quest? '\n",
    "answer = raw_input(prompt)\n",
    "print answer, type(answer)"
   ]
  },
  {
   "cell_type": "code",
   "execution_count": null,
   "metadata": {},
   "outputs": [],
   "source": [
    "prompt = 'What is the air-speed velocity of an unladen swallow? '\n",
    "answer = raw_input(prompt)\n",
    "print answer, type(answer)"
   ]
  },
  {
   "cell_type": "code",
   "execution_count": null,
   "metadata": {},
   "outputs": [],
   "source": [
    "print int(answer), type(int(answer))"
   ]
  },
  {
   "cell_type": "code",
   "execution_count": null,
   "metadata": {},
   "outputs": [],
   "source": [
    "print float(answer), type(float(answer))"
   ]
  },
  {
   "cell_type": "code",
   "execution_count": null,
   "metadata": {},
   "outputs": [],
   "source": [
    "print bool(answer), type(bool(answer))"
   ]
  },
  {
   "cell_type": "markdown",
   "metadata": {},
   "source": [
    "---"
   ]
  },
  {
   "cell_type": "markdown",
   "metadata": {},
   "source": [
    "### About strings"
   ]
  },
  {
   "cell_type": "code",
   "execution_count": null,
   "metadata": {},
   "outputs": [],
   "source": [
    "# String formatting:\n",
    "# (use \\ to continue the command in the next line)\n",
    "# (use braces and the commands are concatenated at newlines)\n",
    "print 'And Saint Atila raised the hand grenade up on high, saying,\\n' + \\\n",
    "      ('\\'Oh, Lord, bless this thy hand '\n",
    "       'grenade that with it thou mayest blow\\n'),\\\n",
    "      'thy enemies to tiny bits, in thy mercy.\\'  And the Lord did grin, and\\n{0}\\n{1}'.format(\n",
    "      'people did feast upon the lambs, and sloths, and carp, and anchovies,',\n",
    "      'and orangutans, and breakfast cereals, and fruit bats, and large --')"
   ]
  },
  {
   "cell_type": "markdown",
   "metadata": {},
   "source": [
    "### Slicing"
   ]
  },
  {
   "cell_type": "code",
   "execution_count": null,
   "metadata": {},
   "outputs": [],
   "source": [
    "example_string = 'Monty Python'\n",
    "print example_string[0]"
   ]
  },
  {
   "cell_type": "code",
   "execution_count": null,
   "metadata": {},
   "outputs": [],
   "source": [
    "print example_string[-1]"
   ]
  },
  {
   "cell_type": "code",
   "execution_count": null,
   "metadata": {},
   "outputs": [],
   "source": [
    "print example_string[6:10]"
   ]
  },
  {
   "cell_type": "code",
   "execution_count": null,
   "metadata": {},
   "outputs": [],
   "source": [
    "print example_string[-12:-7]"
   ]
  },
  {
   "cell_type": "code",
   "execution_count": null,
   "metadata": {},
   "outputs": [],
   "source": [
    "print example_string[-7:-12:-1]"
   ]
  },
  {
   "cell_type": "code",
   "execution_count": null,
   "metadata": {},
   "outputs": [],
   "source": [
    "print example_string[::-1]"
   ]
  },
  {
   "cell_type": "code",
   "execution_count": null,
   "metadata": {},
   "outputs": [],
   "source": [
    "start = 1\n",
    "end = 2\n",
    "step = 1\n",
    "print example_string[start:end:step]"
   ]
  },
  {
   "cell_type": "code",
   "execution_count": null,
   "metadata": {},
   "outputs": [],
   "source": [
    "range(10,-1,-1)[8:3:-1]"
   ]
  },
  {
   "cell_type": "code",
   "execution_count": null,
   "metadata": {},
   "outputs": [],
   "source": [
    "print len(example_string)"
   ]
  },
  {
   "cell_type": "code",
   "execution_count": null,
   "metadata": {},
   "outputs": [],
   "source": [
    "print 'y' in example_string"
   ]
  },
  {
   "cell_type": "markdown",
   "metadata": {},
   "source": [
    "### Excercise: Decrypt the encrypted text\n",
    "\n",
    "An encryption is applied to a text. Find out a way to decrypt it using only the slicing method."
   ]
  },
  {
   "cell_type": "code",
   "execution_count": null,
   "metadata": {},
   "outputs": [],
   "source": [
    "text = 'titkositott szoveg'\n",
    "encrypted = encrypt(text, strength=4, level=1)\n",
    "print encrypted"
   ]
  },
  {
   "cell_type": "code",
   "execution_count": null,
   "metadata": {},
   "outputs": [],
   "source": [
    "print encrypted # use a slicing method here"
   ]
  },
  {
   "cell_type": "markdown",
   "metadata": {},
   "source": [
    "---"
   ]
  },
  {
   "cell_type": "markdown",
   "metadata": {},
   "source": [
    "## Conditional operators"
   ]
  },
  {
   "cell_type": "code",
   "execution_count": null,
   "metadata": {},
   "outputs": [],
   "source": [
    "expression_1 = True\n",
    "expression_2 = False\n",
    "operator = OR # try to change it to AND\n",
    "# expression = expression_1 [operator] [expression_2]\n",
    "expression = operator(expression_1, expression_2)\n",
    "condition_1 = expression\n",
    "condition_2 = not expression\n",
    "statement = 'Statement {0}'\n",
    "\n",
    "if condition_1:\n",
    "    print statement.format('1')\n",
    "elif condition_2:\n",
    "    print statement.format('2')\n",
    "else:\n",
    "    print statement.format('impossible')"
   ]
  },
  {
   "cell_type": "raw",
   "metadata": {},
   "source": [
    "### Exercise: Would you like to continue?\n",
    "\n",
    "Ask the user if he/she would like to continue. If the user types `'yes'`, `'YES'`, `'y'` or `'Y'` print `continue`,  \n",
    "else set the `go` variable to `False` and and print `bye`."
   ]
  },
  {
   "cell_type": "code",
   "execution_count": null,
   "metadata": {},
   "outputs": [],
   "source": [
    "go = True\n",
    "while go:\n",
    "    user_input = raw_input()\n",
    "    # insert the described if structure here\n",
    "    \n",
    "    \n",
    "    \n",
    "    "
   ]
  },
  {
   "cell_type": "markdown",
   "metadata": {},
   "source": [
    "---"
   ]
  },
  {
   "cell_type": "markdown",
   "metadata": {},
   "source": [
    "## Complex data structures"
   ]
  },
  {
   "cell_type": "markdown",
   "metadata": {},
   "source": [
    "### List"
   ]
  },
  {
   "cell_type": "code",
   "execution_count": null,
   "metadata": {},
   "outputs": [],
   "source": [
    "my_list = [1, 2, 'spam', 'eggs', 'ham', ['spam', 'and', 'spam', ['more', 'spam']]]\n",
    "print my_list\n",
    "my_list[1] = 4\n",
    "print my_list"
   ]
  },
  {
   "cell_type": "markdown",
   "metadata": {},
   "source": [
    "### Tuple"
   ]
  },
  {
   "cell_type": "code",
   "execution_count": null,
   "metadata": {},
   "outputs": [],
   "source": [
    "my_tuple_1 = ('spam', 'eggs', 'bacon')\n",
    "print my_tuple_1\n",
    "# the elements of a tuple cannot be changed!\n",
    "my_tuple_1[1] = 4"
   ]
  },
  {
   "cell_type": "markdown",
   "metadata": {},
   "source": [
    "### Set"
   ]
  },
  {
   "cell_type": "code",
   "execution_count": null,
   "metadata": {},
   "outputs": [],
   "source": [
    "set('arthurarthur')"
   ]
  },
  {
   "cell_type": "code",
   "execution_count": null,
   "metadata": {},
   "outputs": [],
   "source": [
    "A = set(['a', 'b', 'c'])\n",
    "B = set(['c', 'c', 'd', 'e'])\n",
    "print A\n",
    "# every item in a set is unique!\n",
    "print B"
   ]
  },
  {
   "cell_type": "markdown",
   "metadata": {},
   "source": [
    "### Dictionary"
   ]
  },
  {
   "cell_type": "code",
   "execution_count": null,
   "metadata": {},
   "outputs": [],
   "source": [
    "my_dict = {'key1': 'spam', 2: 2, 'key3': ['s', 'p', 'a', 'm', 3]}\n",
    "my_dict"
   ]
  },
  {
   "cell_type": "markdown",
   "metadata": {},
   "source": [
    "---\n",
    "\n",
    "## Let's do some...\n",
    "\n",
    "<img align=\"left\" width=150 src=\"aux/magic.gif\">"
   ]
  },
  {
   "cell_type": "markdown",
   "metadata": {},
   "source": [
    "### Cool library of the week: youtube_dl\n",
    "* Download a youtube video in five lines!"
   ]
  },
  {
   "cell_type": "code",
   "execution_count": null,
   "metadata": {},
   "outputs": [],
   "source": [
    "!pip install youtube-dl"
   ]
  },
  {
   "cell_type": "code",
   "execution_count": null,
   "metadata": {},
   "outputs": [],
   "source": [
    "from __future__ import unicode_literals\n",
    "import youtube_dl\n",
    "\n",
    "with youtube_dl.YoutubeDL({}) as ydl:\n",
    "    ydl.download(['https://www.youtube.com/watch?v=dQw4w9WgXcQ'])"
   ]
  },
  {
   "cell_type": "markdown",
   "metadata": {},
   "source": [
    "## Now it's your turn! Write the missing code snippets!\n",
    "\n",
    "__1. Write a grocery list with at least 5 items!__"
   ]
  },
  {
   "cell_type": "code",
   "execution_count": null,
   "metadata": {},
   "outputs": [],
   "source": [
    "# --------------------------------------------\n",
    "grocery_list = \n",
    "# --------------------------------------------\n",
    "check_grocery_list(grocery_list)"
   ]
  },
  {
   "cell_type": "markdown",
   "metadata": {},
   "source": [
    "**2. Update the grocery list with measurement types!**  \n",
    "So you will know that you need to buy three dozen eggs instead of three pieces."
   ]
  },
  {
   "cell_type": "code",
   "execution_count": null,
   "metadata": {
    "collapsed": true
   },
   "outputs": [],
   "source": [
    "# --------------------------------------------\n",
    "updated_grocery_list = \n",
    "# --------------------------------------------\n",
    "check_updated_grocery_list(updated_grocery_list)"
   ]
  },
  {
   "cell_type": "markdown",
   "metadata": {},
   "source": [
    "**3. Create a choose your own adventure book! With at least two branching!**  \n",
    "A <a href=\"https://en.wikipedia.org/wiki/Fighting_Fantasy\">choose your own adventure</a> book contains a lot of small chapters - usually 400 - with a decision to make at the end of each chapter, where the decisions will point the reader to a chapter number associated with the decision where the reader should read the consequences of his choice.  \n",
    "Each chapter should contain:\n",
    "- a chapter number\n",
    "- a text\n",
    "- a decision list with:\n",
    "    - text \n",
    "    - a target chapter number\n",
    "    \n",
    "The two special case chapters are the _winning_, and the _failing_ chapter. In these cases the decision list should contain only one item, with a text and a boolean value (which indicates if the player won or failed)."
   ]
  },
  {
   "cell_type": "code",
   "execution_count": null,
   "metadata": {
    "collapsed": true
   },
   "outputs": [],
   "source": [
    "# --------------------------------------------\n",
    "CYOA = \n",
    "# --------------------------------------------\n",
    "check_book(CYOA)"
   ]
  },
  {
   "cell_type": "markdown",
   "metadata": {
    "collapsed": true
   },
   "source": [
    "**4. Create a unique list from a not unique list!**"
   ]
  },
  {
   "cell_type": "code",
   "execution_count": null,
   "metadata": {},
   "outputs": [],
   "source": [
    "# --------------------------------------------\n",
    "not_unique_list = [chr(random.randint(65, 90)) for _ in range(26)]\n",
    "# --------------------------------------------\n",
    "unique_list = []"
   ]
  },
  {
   "cell_type": "markdown",
   "metadata": {},
   "source": [
    "** 5. Write a condition to check if a number is positive, negative or zero.**"
   ]
  },
  {
   "cell_type": "code",
   "execution_count": null,
   "metadata": {
    "collapsed": true
   },
   "outputs": [],
   "source": [
    "number = random.randint(-1, 1)\n",
    "# --------------------------------------------\n",
    "\n",
    "# --------------------------------------------"
   ]
  },
  {
   "cell_type": "markdown",
   "metadata": {},
   "source": [
    "**6. Write a condition to check if a number is:**\n",
    "\n",
    "- positive and if it is:\n",
    "    - odd\n",
    "    - even\n",
    "- negative and if it is:\n",
    "    - divisible with 3\n",
    "    - divisible with 2\n",
    "    - divisible with 6\n",
    "- zero"
   ]
  },
  {
   "cell_type": "code",
   "execution_count": null,
   "metadata": {
    "collapsed": true
   },
   "outputs": [],
   "source": [
    "number = random.randint(-1, 1) * random.randint(1, 100)\n",
    "# --------------------------------------------\n",
    "\n",
    "# --------------------------------------------"
   ]
  },
  {
   "cell_type": "markdown",
   "metadata": {},
   "source": [
    "**7. Kinga's problem:**  \n",
    "Kinga has good recipes, but she hates making shopping lists. Help her!\n",
    "\n",
    "- Create the cookbook with receipt name and ingredients\n",
    "- Ohh, you forgot amounts and measurents?! Add them!\n",
    "- Now ask Kinga, to write her weekly dinner plan! (I/O)\n",
    "- Create a weekly shopping list to Kinga (pro version: with amounts)\n",
    "- Kinga has a starting lactose intolerance. Warn her, if there is milk in her shopping list!"
   ]
  },
  {
   "cell_type": "code",
   "execution_count": null,
   "metadata": {
    "collapsed": true
   },
   "outputs": [],
   "source": [
    "# --------------------------------------------\n",
    "cookbook =\n",
    "# --------------------------------------------"
   ]
  },
  {
   "cell_type": "markdown",
   "metadata": {},
   "source": [
    "**8. Create a data structure for a real world problem!**  \n",
    "Make an argument!"
   ]
  },
  {
   "cell_type": "code",
   "execution_count": null,
   "metadata": {
    "collapsed": true
   },
   "outputs": [],
   "source": [
    "# --------------------------------------------\n",
    "\n",
    "# --------------------------------------------"
   ]
  },
  {
   "cell_type": "markdown",
   "metadata": {},
   "source": [
    "#### Selected problem:\n",
    "\n",
    "\n",
    "#### Proposed solution:\n",
    "\n",
    "\n",
    "#### Pro/Against:\n",
    "\n",
    "\n",
    "#### Other possible solutions:\n",
    "\n"
   ]
  }
 ],
 "metadata": {
  "kernelspec": {
   "display_name": "Python 2",
   "language": "python",
   "name": "python2"
  },
  "language_info": {
   "codemirror_mode": {
    "name": "ipython",
    "version": 2
   },
   "file_extension": ".py",
   "mimetype": "text/x-python",
   "name": "python",
   "nbconvert_exporter": "python",
   "pygments_lexer": "ipython2",
   "version": "2.7.13"
  }
 },
 "nbformat": 4,
 "nbformat_minor": 1
}
