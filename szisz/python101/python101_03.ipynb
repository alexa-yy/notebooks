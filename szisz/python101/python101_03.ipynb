{
 "cells": [
  {
   "cell_type": "markdown",
   "metadata": {},
   "source": [
    "# Python 101 \n",
    "## Part III."
   ]
  },
  {
   "cell_type": "markdown",
   "metadata": {},
   "source": [
    "---"
   ]
  },
  {
   "cell_type": "code",
   "execution_count": null,
   "metadata": {
    "collapsed": false
   },
   "outputs": [],
   "source": [
    "import webbrowser\n",
    "from szisz import *"
   ]
  },
  {
   "cell_type": "markdown",
   "metadata": {},
   "source": [
    "---"
   ]
  },
  {
   "cell_type": "markdown",
   "metadata": {},
   "source": [
    "## Control structures"
   ]
  },
  {
   "cell_type": "markdown",
   "metadata": {},
   "source": [
    "### For loop"
   ]
  },
  {
   "cell_type": "code",
   "execution_count": null,
   "metadata": {
    "collapsed": false
   },
   "outputs": [],
   "source": [
    "# iterate on numbers\n",
    "start = 1\n",
    "end = 11\n",
    "step = 1\n",
    "for number in range(start, end, step):\n",
    "    print number"
   ]
  },
  {
   "cell_type": "code",
   "execution_count": null,
   "metadata": {
    "collapsed": false
   },
   "outputs": [],
   "source": [
    "# iterate on values\n",
    "my_list_of_things = ['a', 'b', 'c', 'd', \n",
    "                     1, 2, 3, 4, \n",
    "                     'foo', 'bar', 'baz', 'qux']\n",
    "for item in my_list_of_things:\n",
    "    print item"
   ]
  },
  {
   "cell_type": "code",
   "execution_count": null,
   "metadata": {
    "collapsed": false
   },
   "outputs": [],
   "source": [
    "for char in 'the holy grail':\n",
    "    if char == ' ':\n",
    "        print 'space',\n",
    "    else:\n",
    "        print char,"
   ]
  },
  {
   "cell_type": "markdown",
   "metadata": {},
   "source": [
    "### While loop"
   ]
  },
  {
   "cell_type": "code",
   "execution_count": null,
   "metadata": {
    "collapsed": false
   },
   "outputs": [],
   "source": [
    "condition = True\n",
    "counter = 1\n",
    "while(condition):\n",
    "    print counter\n",
    "    counter += 1\n",
    "    if counter > 10:\n",
    "        condition = False"
   ]
  },
  {
   "cell_type": "code",
   "execution_count": null,
   "metadata": {
    "collapsed": false
   },
   "outputs": [],
   "source": [
    "i = 0\n",
    "sztring = 'the holy grail'\n",
    "while(not sztring[i] == ' '):\n",
    "    print sztring[i],\n",
    "    i += 1"
   ]
  },
  {
   "cell_type": "markdown",
   "metadata": {},
   "source": [
    "### Excersise: Prisoner's dilemma\n",
    "\n",
    "Two members of a criminal-gang are arrested and imprisoned. Each prisoner is in solitary confinement with no means of communicating with the other. The prosecutors lack sufficient evidence to convinct the pair on the principal charge. They hope to get both sentenced to a year in prison on a lesser charge. Simultaneously, the prosecutors offer each prisoner a bargain. Each prisoner is given the oppurtunity either to: betray the other by testifying that the other committed the crime, or to cooperate with the other by remaining silent. The offer is:  \n",
    "\n",
    "- If A and B each betray the other, each of them serves 6 years in prison\n",
    "- If A betrays B but B remains silent, A will be set free and B will serve 10 years in prison (and vice versa)\n",
    "- If A and B both remain silent, both of them will only serve 6 months in prison (on the lesser charge)\n",
    "\n",
    "We describe the problem as a list of dictionaries containing the different decisions and thir outcomes. The `user_choice` variable represents the A prisoner's decision, the `AI_choice` is the B's. Print the correct outcome by iterating over the `decisions` list, and examining the decision. If the decision matches with the user and AI choices, print the outcome."
   ]
  },
  {
   "cell_type": "code",
   "execution_count": null,
   "metadata": {
    "collapsed": false
   },
   "outputs": [],
   "source": [
    "decisions = [{'player1': False, 'player2': False, 'p1score': -0.5, 'p2score': -0.5},\n",
    "             {'player1': True, 'player2': False, 'p1score': 0, 'p2score': -10},\n",
    "             {'player1': False, 'player2': True, 'p1score': -10, 'p2score': 0},\n",
    "             {'player1': True, 'player2': True, 'p1score': -6, 'p2score': -6}]\n",
    "user_choice = ??? # set either True or False \n",
    "AI_choice = random.choice([True, False])\n",
    "# iterate over the decision list and print the outcome in the matching case\n",
    "\n",
    "\n",
    "\n"
   ]
  },
  {
   "cell_type": "markdown",
   "metadata": {},
   "source": [
    "---"
   ]
  },
  {
   "cell_type": "markdown",
   "metadata": {},
   "source": [
    "## List comprehension"
   ]
  },
  {
   "cell_type": "code",
   "execution_count": null,
   "metadata": {
    "collapsed": false
   },
   "outputs": [],
   "source": [
    "sequence = [1, 2, 3, 4]\n",
    "print [item for item in sequence]\n",
    "print [item * 2 for item in sequence]"
   ]
  },
  {
   "cell_type": "code",
   "execution_count": null,
   "metadata": {
    "collapsed": false
   },
   "outputs": [],
   "source": [
    "sequence = ['a', 'b', 'c']\n",
    "separator = ''\n",
    "print separator.join([item for item in sequence])\n",
    "separator = ', '\n",
    "print separator.join([item for item in sequence])"
   ]
  },
  {
   "cell_type": "markdown",
   "metadata": {},
   "source": [
    "---"
   ]
  },
  {
   "cell_type": "markdown",
   "metadata": {},
   "source": [
    "## Functions"
   ]
  },
  {
   "cell_type": "code",
   "execution_count": null,
   "metadata": {
    "collapsed": false
   },
   "outputs": [],
   "source": [
    "# define a function\n",
    "def my_function():\n",
    "    print 'Hello World!'\n",
    "    \n",
    "# the variables in the brackets are called arguments\n",
    "# you can use them as variables inside the function\n",
    "# but you have to provide them when you call the function\n",
    "def my_updated_function(name): \n",
    "    print 'Hello', name, '!'\n",
    "    \n",
    "def my_updated_updated_function(greeting, name):\n",
    "    \"\"\"This is my super descriptive docstring \n",
    "    for my super advanced function.\n",
    "    Arguments:\n",
    "        greeting: the greeting word.\n",
    "        name: the name of the greeted one.\"\"\"\n",
    "    return greeting, name, '!'\n",
    "    \n",
    "name = '' # enter your name\n",
    "greeting = 'Aye-aye'\n",
    "\n",
    "# calling a function\n",
    "my_function()\n",
    "my_updated_function(name)\n",
    "my_greeting, my_name, my_punctuation = my_updated_updated_function(greeting, name)\n",
    "print my_greeting, my_name, my_punctuation\n",
    "# getting some help == getting the docstring of a function\n",
    "# in IPython Notebook pressing [shift]-[tab] twice inside the brackets\n",
    "# will do the same\n",
    "help(my_updated_updated_function)\n",
    "print 'My docstring:'\n",
    "print my_updated_updated_function.__doc__"
   ]
  },
  {
   "cell_type": "markdown",
   "metadata": {},
   "source": [
    "---\n",
    "\n",
    "## Let's do some...\n",
    "\n",
    "<img align=\"left\" width=150 src=\"http://www.reactiongifs.com/r/mgc.gif\">"
   ]
  },
  {
   "cell_type": "markdown",
   "metadata": {},
   "source": [
    "### Cool library of the week: moviepy\n",
    "- Edit videos in a few lines\n",
    "\n",
    "Real life example:\n",
    "- Our friend recorded a video with his/her cell in portrait mode. Awful! Let's rotate that video!"
   ]
  },
  {
   "cell_type": "code",
   "execution_count": null,
   "metadata": {
    "collapsed": true
   },
   "outputs": [],
   "source": [
    "!pip install moviepy"
   ]
  },
  {
   "cell_type": "code",
   "execution_count": 5,
   "metadata": {
    "collapsed": false
   },
   "outputs": [],
   "source": [
    "from moviepy.editor import *\n",
    "\n",
    "clip = VideoFileClip('./Rick Astley - Never Gonna Give You Up-dQw4w9WgXcQ.mp4')\n",
    "clip = clip.fx(vfx.rotate, 90)\n",
    "ipython_display(clip, maxduration=clip.duration+1)"
   ]
  },
  {
   "cell_type": "markdown",
   "metadata": {},
   "source": [
    "---\n",
    "\n",
    "## Let's have some fun!\n",
    "\n",
    "Now that we have everything we need, let's use it for a real life example: \n",
    "\n",
    "A `.csv` file contains links in two categories: \n",
    "\n",
    "- learn\n",
    "- fun\n",
    "\n",
    "Open every link from one of the categories in your browser by reading the file contents, iterating over the rows, and examining if the type of link matches with the selected category. Open the link using the `webbrowser.open_new_tab(url)` function."
   ]
  },
  {
   "cell_type": "code",
   "execution_count": null,
   "metadata": {
    "collapsed": false
   },
   "outputs": [],
   "source": [
    "# import data from the bookmark.csv into this variable \n",
    "# use the import_from_csv function\n",
    "# hint: addition works with strings (make use of the base variable)\n",
    "base = '../data/'\n",
    "url_data = # write a function call here\n",
    "reason = random.choice(['learn', 'fun'])\n",
    "\n",
    "# write a function which will open every link of the given type.\n",
    "# name: opentabs\n",
    "# arguments: reason, url_data\n",
    "# hint: webbrowser.open_new_tab function\n",
    "\n",
    "# define, iterate, check, open link\n",
    "\n",
    "\n",
    "\n",
    "print url_data"
   ]
  },
  {
   "cell_type": "code",
   "execution_count": null,
   "metadata": {
    "collapsed": false
   },
   "outputs": [],
   "source": [
    "opentabs(reason, url_data)"
   ]
  },
  {
   "cell_type": "markdown",
   "metadata": {},
   "source": [
    "We want to know if a file is in the current directory. Write a function which will tell you so."
   ]
  },
  {
   "cell_type": "code",
   "execution_count": null,
   "metadata": {
    "collapsed": false
   },
   "outputs": [],
   "source": [
    "# hint: use the list_files function to get the files from the working directory.\n",
    "def isin(filename):\n",
    "    # return the boolean result\n",
    "    \n",
    "print isin('szisz.py')\n",
    "print isin('awesome.txt')"
   ]
  },
  {
   "cell_type": "markdown",
   "metadata": {},
   "source": [
    "Our friend recommends us a new series. We downloaded the full series (7 seasons) and we believe that we downloaded all of the subtitles as well - although we're not that sure. Check if we miss some!\n",
    "\n",
    "\"Download\" the series with the function called **`download`**. (*hint*: use the help function!)"
   ]
  },
  {
   "cell_type": "code",
   "execution_count": null,
   "metadata": {
    "collapsed": false
   },
   "outputs": [],
   "source": [
    "       # download"
   ]
  },
  {
   "cell_type": "markdown",
   "metadata": {},
   "source": [
    "Write a function which outputs those video filenames which are missing subtitles.  \n",
    "The video file's extension is `.avi`, the subtitle file's extension is `.srt`.   \n",
    "We only accept a subtitle if it's name is perfectly matches the video's name.  \n",
    "\n",
    "- Create a list of avis and a list of srts. \n",
    "- Iterate over the avis list\n",
    "- In the loop, check if the actual item is in the srts list"
   ]
  },
  {
   "cell_type": "code",
   "execution_count": null,
   "metadata": {
    "collapsed": true
   },
   "outputs": [],
   "source": [
    "def missing_subtitle(directory):\n",
    "    # list, iterate, check, print\n",
    "    \n",
    "    \n",
    "    \n",
    "    \n",
    "    "
   ]
  },
  {
   "cell_type": "code",
   "execution_count": null,
   "metadata": {
    "collapsed": false
   },
   "outputs": [],
   "source": [
    "missing_subtitle('super_series')"
   ]
  },
  {
   "cell_type": "markdown",
   "metadata": {},
   "source": [
    "Display every image from the current directory (use the `list_files()` function)!  \n",
    "Valid image file extensions are `.png`, `.jpg`, `.jpeg`."
   ]
  },
  {
   "cell_type": "code",
   "execution_count": null,
   "metadata": {
    "collapsed": false
   },
   "outputs": [],
   "source": [
    "def images():\n",
    "    # list, iterate, check, print\n",
    "    \n",
    "    "
   ]
  },
  {
   "cell_type": "code",
   "execution_count": null,
   "metadata": {
    "collapsed": true
   },
   "outputs": [],
   "source": [
    "images()"
   ]
  },
  {
   "cell_type": "markdown",
   "metadata": {},
   "source": [
    "Create a csv file with picture urls. Display every picture from the CSV.\n",
    "\n",
    "- Iterate over the image_links\n",
    "- Use the `print_image` function with _type='net' parameter"
   ]
  },
  {
   "cell_type": "code",
   "execution_count": null,
   "metadata": {
    "collapsed": false
   },
   "outputs": [],
   "source": [
    "image_links = import_from_csv(base + 'pictures.csv')\n",
    "# iterate, check, print\n",
    "\n"
   ]
  },
  {
   "cell_type": "markdown",
   "metadata": {},
   "source": [
    "Create a csv file with cursewords. Write a function which substitutes these words in an input text.\n",
    "\n",
    "- Split the text into words\n",
    "- Iterate over the words\n",
    "- Check if the current word is a curseword\n",
    "- Change the word to the `substitution` parameter\n",
    "\n",
    "**hint(s):**\n",
    " - `string.split(splitchar)` splits the string\n",
    " - `string.lower()` will lower every char in the string\n",
    " - `string.strip(char_to_strip)`\n",
    " - `string.join(iterable)` will join the iterable elements together, the string will be the separator \n",
    " - commas will be part of the words"
   ]
  },
  {
   "cell_type": "code",
   "execution_count": null,
   "metadata": {
    "collapsed": false
   },
   "outputs": [],
   "source": [
    "def clean(text, substitution='*#%=!'):\n",
    "    # split, iterate, check, substitute\n",
    "    \n",
    "    \n",
    "    "
   ]
  },
  {
   "cell_type": "code",
   "execution_count": null,
   "metadata": {
    "collapsed": false
   },
   "outputs": [],
   "source": [
    "print clean('A monkey and a donkey went to visit Boby .')"
   ]
  }
 ],
 "metadata": {
  "anaconda-cloud": {},
  "kernelspec": {
   "display_name": "Python [Root]",
   "language": "python",
   "name": "Python [Root]"
  },
  "language_info": {
   "codemirror_mode": {
    "name": "ipython",
    "version": 2
   },
   "file_extension": ".py",
   "mimetype": "text/x-python",
   "name": "python",
   "nbconvert_exporter": "python",
   "pygments_lexer": "ipython2",
   "version": "2.7.12"
  }
 },
 "nbformat": 4,
 "nbformat_minor": 0
}
