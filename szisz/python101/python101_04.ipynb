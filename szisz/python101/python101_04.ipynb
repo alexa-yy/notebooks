{
 "cells": [
  {
   "cell_type": "markdown",
   "metadata": {},
   "source": [
    "# Python 101\n",
    "\n",
    "## Part IV.\n",
    "\n",
    "---"
   ]
  },
  {
   "cell_type": "code",
   "execution_count": null,
   "metadata": {
    "collapsed": true
   },
   "outputs": [],
   "source": [
    "from helpers import *\n",
    "BASE = './data/'"
   ]
  },
  {
   "cell_type": "markdown",
   "metadata": {},
   "source": [
    "---\n",
    "\n",
    "## Deus ex Python\n",
    "\n",
    "You've downloaded a series complete with subtitles but the video and  \n",
    "subtitle filenames don't match! Write a function which renames the  \n",
    "mismatching subtitles!\n",
    "\n",
    "hint(s) - useful functions:\n",
    "\n",
    "- `download(_name, _season, _episodes, _mismatch)`\n",
    "- `string.lower()` (built-in)\n",
    "- `find_episode_number(filename)`\n",
    "- `rename_subtitle(original, new, target_dir)`\n"
   ]
  },
  {
   "cell_type": "code",
   "execution_count": null,
   "metadata": {
    "collapsed": true
   },
   "outputs": [],
   "source": [
    "# ---------------------------------------------\n",
    "\n",
    "# ---------------------------------------------"
   ]
  },
  {
   "cell_type": "markdown",
   "metadata": {},
   "source": [
    "---\n",
    "\n",
    "## File I/O\n",
    "\n",
    "### Reading from a file...\n",
    "...is actually really easy:\n",
    "\n",
    "- we need a filename"
   ]
  },
  {
   "cell_type": "code",
   "execution_count": null,
   "metadata": {
    "collapsed": true
   },
   "outputs": [],
   "source": [
    "filename = BASE + 'text.txt'"
   ]
  },
  {
   "cell_type": "markdown",
   "metadata": {},
   "source": [
    "- and a mode"
   ]
  },
  {
   "cell_type": "code",
   "execution_count": null,
   "metadata": {
    "collapsed": true
   },
   "outputs": [],
   "source": [
    "mode = 'r' # r stands for reading"
   ]
  },
  {
   "cell_type": "markdown",
   "metadata": {},
   "source": [
    "- and we have to open the file for reading"
   ]
  },
  {
   "cell_type": "code",
   "execution_count": null,
   "metadata": {
    "collapsed": true
   },
   "outputs": [],
   "source": [
    "my_file = open(filename, mode)"
   ]
  },
  {
   "cell_type": "markdown",
   "metadata": {},
   "source": [
    "A) We can iterate over on an opened file's lines directly:"
   ]
  },
  {
   "cell_type": "code",
   "execution_count": null,
   "metadata": {
    "collapsed": true
   },
   "outputs": [],
   "source": [
    "for line in my_file:\n",
    "    print line"
   ]
  },
  {
   "cell_type": "markdown",
   "metadata": {},
   "source": [
    "Python reads files like we read: start from the beginning - from the first line till the last one. Once he read all the lines, that's it. No more lines are left to read. To read a line from the same file, it has to __`seek`__ that position in the file before it can read it."
   ]
  },
  {
   "cell_type": "code",
   "execution_count": null,
   "metadata": {
    "collapsed": true
   },
   "outputs": [],
   "source": [
    "my_file.seek(0, 0) # help(file.seek)"
   ]
  },
  {
   "cell_type": "markdown",
   "metadata": {},
   "source": [
    "B) Or we can read every line into a list"
   ]
  },
  {
   "cell_type": "code",
   "execution_count": null,
   "metadata": {
    "collapsed": true
   },
   "outputs": [],
   "source": [
    "lines_as_list = my_file.readlines()\n",
    "print lines_as_list"
   ]
  },
  {
   "cell_type": "markdown",
   "metadata": {},
   "source": [
    "C) Or read the whole file as string:"
   ]
  },
  {
   "cell_type": "code",
   "execution_count": null,
   "metadata": {
    "collapsed": true
   },
   "outputs": [],
   "source": [
    "my_file.seek(0, 0)\n",
    "lines_as_string = my_file.read()\n",
    "print lines_as_string"
   ]
  },
  {
   "cell_type": "markdown",
   "metadata": {},
   "source": [
    "We can do it either way... BUT!  \n",
    "__DO NOT FORGET TO CLOSE IT__ once you finished working with it!"
   ]
  },
  {
   "cell_type": "code",
   "execution_count": null,
   "metadata": {
    "collapsed": true
   },
   "outputs": [],
   "source": [
    "my_file.close()"
   ]
  },
  {
   "cell_type": "markdown",
   "metadata": {},
   "source": [
    "Pretty easy, huh? What about..\n",
    "### Writing into a file?\n",
    "\n",
    "We need a filename, and a mode."
   ]
  },
  {
   "cell_type": "code",
   "execution_count": null,
   "metadata": {
    "collapsed": true
   },
   "outputs": [],
   "source": [
    "mode = 'w' # as you can guess, w stands for writing ;)\n",
    "my_file = open(filename, mode) "
   ]
  },
  {
   "cell_type": "markdown",
   "metadata": {},
   "source": [
    "Then we can write into the file directly:"
   ]
  },
  {
   "cell_type": "code",
   "execution_count": null,
   "metadata": {
    "collapsed": true
   },
   "outputs": [],
   "source": [
    "my_file.write('You take the red pill, you stay in Wonderland, '\n",
    "              'and I show you how deep the rabbit hole goes...')\n",
    "my_file.close() # again, don't forget to close the file"
   ]
  },
  {
   "cell_type": "markdown",
   "metadata": {},
   "source": [
    "There is more! Do you feel cumbersome to open and close the file?  \n",
    "__Good news:__ You do not have to worry about at all!  "
   ]
  },
  {
   "cell_type": "code",
   "execution_count": null,
   "metadata": {
    "collapsed": true
   },
   "outputs": [],
   "source": [
    "mode = 'r' \n",
    "with open(filename, mode) as my_file: \n",
    "    for line in my_file.readlines(): \n",
    "        print line \n",
    "# aaaaand it's closed ;)"
   ]
  },
  {
   "cell_type": "markdown",
   "metadata": {},
   "source": [
    "Can we add content to existing files?"
   ]
  },
  {
   "cell_type": "code",
   "execution_count": null,
   "metadata": {
    "collapsed": true
   },
   "outputs": [],
   "source": [
    "# Yes, we can!\n",
    "mode = 'a' # a stands for append\n",
    "with open(filename, mode) as my_file:\n",
    "    my_file.write('Remember, all I\\'m offering is the truth, nothing more...')"
   ]
  },
  {
   "cell_type": "markdown",
   "metadata": {},
   "source": [
    "---\n",
    "\n",
    "## CSV files\n",
    "\n",
    "But... We want to read in some CSV files. Do we really need to do all  \n",
    "the hassle with the commas, quotations and all that bs?\n",
    "\n",
    "Of course not! Someone already wrote that for us!"
   ]
  },
  {
   "cell_type": "code",
   "execution_count": null,
   "metadata": {
    "collapsed": true
   },
   "outputs": [],
   "source": [
    "import csv\n",
    "filename = BASE + 'text.csv'"
   ]
  },
  {
   "cell_type": "markdown",
   "metadata": {},
   "source": [
    "Read it!"
   ]
  },
  {
   "cell_type": "code",
   "execution_count": null,
   "metadata": {
    "collapsed": true
   },
   "outputs": [],
   "source": [
    "mode = 'r'\n",
    "with open(filename, mode) as my_file:\n",
    "    # we have to create a csv reader in order to read\n",
    "    # and we have to specify the delimeter, and the quotecharacter\n",
    "    # or the dialect.\n",
    "    my_csv = csv.reader(my_file, delimiter=';', quotechar='\"')\n",
    "    # we can read out the rows easily from the file\n",
    "    for row in my_csv:\n",
    "        # you get each row as a list\n",
    "        print row"
   ]
  },
  {
   "cell_type": "markdown",
   "metadata": {},
   "source": [
    "Write it!"
   ]
  },
  {
   "cell_type": "code",
   "execution_count": null,
   "metadata": {
    "collapsed": true
   },
   "outputs": [],
   "source": [
    "mode = 'w'\n",
    "with open(filename, mode) as my_file:\n",
    "    # we'll need a writer\n",
    "    # the arguments are the same as before\n",
    "    my_csv = csv.writer(my_file, delimiter=';', quotechar='\"')\n",
    "    # we need some data to save:\n",
    "    data = [['Smith', 'Smith', 'Smith', 'Smith'],\n",
    "            ['Smith', 'Smith', 'Smith', 'Smith']]\n",
    "    # then write each row into the file,\n",
    "    # one-by-one\n",
    "    for row in data:\n",
    "        my_csv.writerow(row)"
   ]
  },
  {
   "cell_type": "markdown",
   "metadata": {},
   "source": [
    "---\n",
    "\n",
    "## Unicode madness\n",
    "\n",
    "Writing in exotic languages can cause problems, and we need to handle them.  \n",
    "Originally we could only select from 128 characters to work with.\n",
    "\n",
    "<img src=\"aux/asciifull.gif\"/>\n",
    "\n",
    "But then the problem was addressed with the unicode character set.  \n",
    "It currently contains more than 100k characters - including the   \n",
    "complete kanji set, the klingon and the elf alphabet as well. Long  \n",
    "story short, we should use utf-8 character encoding when working with  \n",
    "text files."
   ]
  },
  {
   "cell_type": "code",
   "execution_count": null,
   "metadata": {
    "collapsed": true
   },
   "outputs": [],
   "source": [
    "# We need a built-in python module\n",
    "import codecs"
   ]
  },
  {
   "cell_type": "code",
   "execution_count": null,
   "metadata": {
    "collapsed": true
   },
   "outputs": [],
   "source": [
    "filename = BASE + 'unicodetext.txt'\n",
    "mode = 'r'\n",
    "encoding = 'utf-8'\n",
    "# and use it's functions to work with files:\n",
    "with codecs.open(filename, mode, encoding) as my_unicode_file:\n",
    "    content = u'\\n'.join(my_unicode_file.readlines())\n",
    "print content\n",
    "print repr(content)\n",
    "print type(content)"
   ]
  },
  {
   "cell_type": "code",
   "execution_count": null,
   "metadata": {
    "collapsed": true
   },
   "outputs": [],
   "source": [
    "mode = 'w'\n",
    "with codecs.open(filename, mode, encoding) as my_unicode_file:\n",
    "    my_unicode_file.write(u'Árvíztűrő tükörfúrógép')"
   ]
  },
  {
   "cell_type": "markdown",
   "metadata": {},
   "source": [
    "Represent a unicode sting in ascii"
   ]
  },
  {
   "cell_type": "code",
   "execution_count": null,
   "metadata": {
    "collapsed": true
   },
   "outputs": [],
   "source": [
    "ascii_content = content.encode('utf-8')\n",
    "print ascii_content\n",
    "print repr(ascii_content)\n",
    "print type(ascii_content)"
   ]
  },
  {
   "cell_type": "markdown",
   "metadata": {},
   "source": [
    "Represent an ascii sting in unicode"
   ]
  },
  {
   "cell_type": "code",
   "execution_count": null,
   "metadata": {
    "collapsed": true
   },
   "outputs": [],
   "source": [
    "unicode_content = ascii_content.decode('utf-8')\n",
    "print unicode_content\n",
    "print repr(unicode_content)\n",
    "print type(unicode_content)"
   ]
  },
  {
   "cell_type": "markdown",
   "metadata": {},
   "source": [
    "---\n",
    "\n",
    "## Let's do some...\n",
    "\n",
    "<img align=\"left\" width=150 src=\"pics/magic.gif\">\n",
    "<br style=\"clear:left;\"/>\n",
    "\n",
    "### Cool library of the week: moviepy - part II.\n",
    "- Create gifs from videos in a few lines"
   ]
  },
  {
   "cell_type": "code",
   "execution_count": null,
   "metadata": {
    "collapsed": true
   },
   "outputs": [],
   "source": [
    "import youtube_dl\n",
    "from moviepy.editor import VideoFileClip"
   ]
  },
  {
   "cell_type": "code",
   "execution_count": null,
   "metadata": {
    "collapsed": true
   },
   "outputs": [],
   "source": [
    "options = {'format': 'worstvideo', \n",
    "           'outtmpl': '%(id)s.%(ext)s'}\n",
    "with youtube_dl.YoutubeDL(options) as ydl:\n",
    "    ydl.download([\"https://www.youtube.com/watch?v=RP8uhXuS2n8\"])"
   ]
  },
  {
   "cell_type": "code",
   "execution_count": null,
   "metadata": {
    "collapsed": true
   },
   "outputs": [],
   "source": [
    "(VideoFileClip(\"RP8uhXuS2n8.webm\")\n",
    " .subclip((2.3),(3.7))\n",
    " .write_gif(\"whoa.gif\"))"
   ]
  },
  {
   "cell_type": "raw",
   "metadata": {},
   "source": [
    "<img src=\"whoa.gif\"/>"
   ]
  },
  {
   "cell_type": "markdown",
   "metadata": {},
   "source": [
    "You can read more about gif creation <a href=\"http://zulko.github.io/blog/2014/01/23/making-animated-gifs-from-video-files-with-python/\">here</a>, and about youtube download options <a href=\"https://github.com/rg3/youtube-dl/blob/master/README.md#options\">here</a>.\n",
    "\n",
    "---\n",
    "\n",
    "## Let's see how how deep the rabbit hole goes! a.k.a   \n",
    "## It's your turn - write the missing code snippets!\n",
    "\n",
    "#### 1. Write our fake \"download\" function\n",
    "With similar functionality as the one we used previously."
   ]
  },
  {
   "cell_type": "code",
   "execution_count": null,
   "metadata": {
    "collapsed": true
   },
   "outputs": [],
   "source": []
  },
  {
   "cell_type": "markdown",
   "metadata": {},
   "source": [
    "#### 2. Merge the matching rows.\n",
    "\n",
    "You have several entries from the same entities. Merge the corresponding field by adding the values from the separate rows together. Save the merged data to `\"merged.csv\"`\n",
    "\n",
    "- Read the data from the `\"matching.csv\"`\n",
    "- Add the numerical values together in the rows with matching ID values\n",
    "- Concatenate the string values and separate them with  `' & '`\n",
    "\n",
    "For eg. After merging, the first row should look like this:  \n",
    "`1;Neo & Trinity;15;76`"
   ]
  },
  {
   "cell_type": "code",
   "execution_count": null,
   "metadata": {
    "collapsed": true
   },
   "outputs": [],
   "source": []
  },
  {
   "cell_type": "markdown",
   "metadata": {},
   "source": [
    "#### 3. Write a word counting function...\n",
    "...which reads a textfile and counts every word. return the top n words with their counts.  \n",
    "Parameters: filename, n\n",
    "\n",
    "Hint(s):\n",
    "- use the `\"string\".split()` function  \n",
    "    eg: `print \"a b c\".split()` results `['a', 'b', 'c']`\n",
    "- punctuation does not matter\n",
    "- see `help(sorted)`"
   ]
  },
  {
   "cell_type": "code",
   "execution_count": null,
   "metadata": {
    "collapsed": true
   },
   "outputs": [],
   "source": []
  },
  {
   "cell_type": "markdown",
   "metadata": {},
   "source": [
    "#### 4. Write a file encryptor function\n",
    "Which uses the `encrypt` function from the helpers.py to encrypt a file. Save the encrypted file (with the `originalfilename_encrypted.extension` name).  \n",
    "Parameters: filename, strength (use this value in the encrypt function)"
   ]
  },
  {
   "cell_type": "code",
   "execution_count": null,
   "metadata": {
    "collapsed": true
   },
   "outputs": [],
   "source": []
  },
  {
   "cell_type": "markdown",
   "metadata": {},
   "source": [
    "#### 5. Write a decryptor function\n",
    "To decrypt the previously encrypted file, and save it decrypted (with the `originalfilename_decrypted.extension` name).  \n",
    "Parameters: filename, strength"
   ]
  },
  {
   "cell_type": "code",
   "execution_count": null,
   "metadata": {
    "collapsed": true
   },
   "outputs": [],
   "source": []
  }
 ],
 "metadata": {
  "kernelspec": {
   "display_name": "Python [default]",
   "language": "python",
   "name": "python2"
  },
  "language_info": {
   "codemirror_mode": {
    "name": "ipython",
    "version": 2
   },
   "file_extension": ".py",
   "mimetype": "text/x-python",
   "name": "python",
   "nbconvert_exporter": "python",
   "pygments_lexer": "ipython2",
   "version": "2.7.13"
  }
 },
 "nbformat": 4,
 "nbformat_minor": 1
}
