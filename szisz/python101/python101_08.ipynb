{
 "cells": [
  {
   "cell_type": "markdown",
   "metadata": {},
   "source": [
    "# Python 101 \n",
    "## Part VIII.\n",
    "\n",
    "---\n",
    "\n",
    "## Web Scraping - Part II.\n",
    "\n",
    "### Act I: Let's scrape!\n",
    "\n",
    "But first, import the necessary libraries."
   ]
  },
  {
   "cell_type": "code",
   "execution_count": null,
   "metadata": {
    "collapsed": false
   },
   "outputs": [],
   "source": [
    "import requests\n",
    "from bs4 import BeautifulSoup\n",
    "\n",
    "BASE_URI = './data/'"
   ]
  },
  {
   "cell_type": "markdown",
   "metadata": {},
   "source": [
    "#### 1. Let's collect the articles about migrants from index.hu\n",
    "\n",
    "This will require to search in the site.\n",
    "On the upper-left corner, there is a search icon. Use it, and observe the resulting url:\n",
    "\n",
    "`http://index.hu/24ora/?word=1&pepe=1&tol=1999-01-01&ig=2016-10-23&s=migráns`\n",
    "\n",
    "It has multiple parts:\n",
    "- `http://` - protocol\n",
    "- `index.hu` - base url\n",
    "- `/24ora/` - sub url\n",
    "- `?word=1&pepe=1&tol=1999-01-01&ig=2016-10-23&s=migráns` - query\n",
    "\n",
    "Let's investigate the query part a little more!  \n",
    "Every query starts with a __`?`__ charater followed by one or more key-value pairs. The key-value pairs are separated with the __`&`__ character. Based on this information, we can extract the query parameters:\n",
    "- `word`\n",
    "- `pepe`\n",
    "- `tol`\n",
    "- `ig`\n",
    "- `s`\n",
    "\n",
    "Use these values to construct our own request:"
   ]
  },
  {
   "cell_type": "code",
   "execution_count": null,
   "metadata": {
    "collapsed": false
   },
   "outputs": [],
   "source": [
    "base_url = 'http://index.hu'\n",
    "sub_url = '/24ora'\n",
    "query = {\n",
    "    'word': 1,\n",
    "    'pepe': 1,\n",
    "    'tol': '1999-01-01',\n",
    "    'ig': '2016-10-23',\n",
    "    's': u'migráns'\n",
    "}"
   ]
  },
  {
   "cell_type": "code",
   "execution_count": null,
   "metadata": {
    "collapsed": false,
    "scrolled": true
   },
   "outputs": [],
   "source": [
    "migrant_articles = []\n",
    "date = datetime.date(2016,9,23)  # start from last month to finish \"quickly\"\n",
    "while date < datetime.date.today():\n",
    "    query['tol'] = '{year}-{month:0>2}-{day:0>2}'.format(year=date.year, month=date.month, day=date.day)\n",
    "    date += datetime.timedelta(days=1)\n",
    "    query['ig'] = '{year}-{month:0>2}-{day:0>2}'.format(year=date.year, month=date.month, day=date.day)\n",
    "\n",
    "    print 'Downloading', query['tol'], '-', query['ig'], '...',\n",
    "    resp = requests.get(url=base_url+sub_url, data=query)\n",
    "    if not resp.status_code == 200:\n",
    "        print 'Download failed. ({})'.format(resp.status_code)\n",
    "        continue\n",
    "    print 'Done.'\n",
    "    print 'Extracting articles...',\n",
    "    soup = BeautifulSoup(resp.content, 'html.parser')\n",
    "    articles = soup.findAll('article', {'class': 'rovatajanlo'})\n",
    "    print 'Found {} articles.'.format(len(articles))\n",
    "    print 'Processing...',\n",
    "    for article in articles:\n",
    "        migrant_articles.append(article.find('a').get('href'))\n",
    "    print 'Done.'\n",
    "    print '-' * 80"
   ]
  },
  {
   "cell_type": "code",
   "execution_count": null,
   "metadata": {
    "collapsed": false
   },
   "outputs": [],
   "source": [
    "len(migrant_articles)"
   ]
  },
  {
   "cell_type": "markdown",
   "metadata": {},
   "source": [
    "We can use the requests library to send the query:"
   ]
  },
  {
   "cell_type": "code",
   "execution_count": null,
   "metadata": {
    "collapsed": false
   },
   "outputs": [],
   "source": [
    "resp = requests.get(url=base_url+sub_url, data=query)\n",
    "resp"
   ]
  },
  {
   "cell_type": "markdown",
   "metadata": {},
   "source": [
    "Using the response, extract the articles' urls!"
   ]
  },
  {
   "cell_type": "code",
   "execution_count": null,
   "metadata": {
    "collapsed": false
   },
   "outputs": [],
   "source": []
  },
  {
   "cell_type": "markdown",
   "metadata": {},
   "source": [
    "You can see that only 30 results showed up. We can customize our query to cover shorter amount of timed by replacing __`tol`__ and __`ig`__ parameters with a formattable string: __`'{year}-{month:0>2}-{day:0>2}'`__. This string can be formatted by providing the required parameters:\n",
    "- year\n",
    "- month\n",
    "- day\n",
    "\n",
    "like this:"
   ]
  },
  {
   "cell_type": "code",
   "execution_count": null,
   "metadata": {
    "collapsed": false
   },
   "outputs": [],
   "source": [
    "'{year}-{month:0>2}-{day:0>2}'.format(year=2016, month=1, day=1)"
   ]
  },
  {
   "cell_type": "markdown",
   "metadata": {},
   "source": [
    "There is a useful library called __`datetime`__. You can use it to generate dates automatically."
   ]
  },
  {
   "cell_type": "code",
   "execution_count": null,
   "metadata": {
    "collapsed": false
   },
   "outputs": [],
   "source": [
    "import datetime\n",
    "\n",
    "date = datetime.date(1999, 1, 1)\n",
    "day_after_date = date + datetime.timedelta(days=1)\n",
    "day_before_date = date - datetime.timedelta(days=1)\n",
    "today = datetime.date.today()\n",
    "\n",
    "print day_before_date\n",
    "print date\n",
    "print day_after_date\n",
    "print today\n",
    "\n",
    "print today.year, today.month, today.day"
   ]
  },
  {
   "cell_type": "markdown",
   "metadata": {},
   "source": [
    "Create a loop which iterate through every day from 1999-01-01 till today and execute the same procedure you created previously. (Pro tip: create a function!) Observe the number of results!"
   ]
  },
  {
   "cell_type": "code",
   "execution_count": null,
   "metadata": {
    "collapsed": true
   },
   "outputs": [],
   "source": []
  },
  {
   "cell_type": "markdown",
   "metadata": {},
   "source": [
    "#### 2. Let's do the same with 444.hu!\n",
    "\n",
    "__Hint__: To find all query parameters, scroll down to the end of the page."
   ]
  },
  {
   "cell_type": "code",
   "execution_count": null,
   "metadata": {
    "collapsed": true
   },
   "outputs": [],
   "source": []
  },
  {
   "cell_type": "markdown",
   "metadata": {},
   "source": [
    "#### 3. Check out discounts on humblebundle.com!\n",
    "\n",
    "List the names, prices and discount values for the top 100 games list (based on metacritic scores: http://www.metacritic.com/browse/games/score/metascore/all/pc/filtered)!"
   ]
  },
  {
   "cell_type": "code",
   "execution_count": null,
   "metadata": {
    "collapsed": true
   },
   "outputs": [],
   "source": []
  },
  {
   "cell_type": "markdown",
   "metadata": {},
   "source": [
    "Extra questions:  \n",
    "- How much does it cost to buy every (available) games from humblebundle?\n",
    "- How much money do I save if I buy them right now?\n",
    "- How much money do I save if we compare their price to their initial price? (Let's assume that every game initial price was \\$60) "
   ]
  },
  {
   "cell_type": "code",
   "execution_count": null,
   "metadata": {
    "collapsed": true
   },
   "outputs": [],
   "source": []
  },
  {
   "cell_type": "markdown",
   "metadata": {},
   "source": [
    "#### 4. Functionize!\n",
    "\n",
    "##### a. Create a function to check a game's price"
   ]
  },
  {
   "cell_type": "code",
   "execution_count": null,
   "metadata": {
    "collapsed": true
   },
   "outputs": [],
   "source": [
    "def check_price(game):\n",
    "    pass"
   ]
  },
  {
   "cell_type": "markdown",
   "metadata": {},
   "source": [
    "##### b. Create a function to get the top100 games"
   ]
  },
  {
   "cell_type": "code",
   "execution_count": null,
   "metadata": {
    "collapsed": true
   },
   "outputs": [],
   "source": [
    "def get_top100():\n",
    "    pass"
   ]
  },
  {
   "cell_type": "markdown",
   "metadata": {},
   "source": [
    "##### c. Write a function with the same functionality as the 3rd excersise!"
   ]
  },
  {
   "cell_type": "code",
   "execution_count": null,
   "metadata": {
    "collapsed": true
   },
   "outputs": [],
   "source": [
    "def main():\n",
    "    pass"
   ]
  },
  {
   "cell_type": "markdown",
   "metadata": {},
   "source": [
    "---\n",
    "\n",
    "### Intermission: Creating a standalone script"
   ]
  },
  {
   "cell_type": "code",
   "execution_count": 61,
   "metadata": {
    "collapsed": false
   },
   "outputs": [
    {
     "data": {
      "image/jpeg": "[encoded data removed]",
      "text/html": [
       "\n",
       "        <iframe\n",
       "            width=\"400\"\n",
       "            height=\"300\"\n",
       "            src=\"https://www.youtube.com/embed/O0wOD9TWynM\"\n",
       "            frameborder=\"0\"\n",
       "            allowfullscreen\n",
       "        ></iframe>\n",
       "        "
      ],
      "text/plain": [
       "<IPython.lib.display.YouTubeVideo at 0xafc7220c>"
      ]
     },
     "execution_count": 61,
     "metadata": {},
     "output_type": "execute_result"
    }
   ],
   "source": [
    "from IPython.display import YouTubeVideo\n",
    "YouTubeVideo('O0wOD9TWynM')"
   ]
  },
  {
   "cell_type": "markdown",
   "metadata": {},
   "source": [
    "Create a new text file with .py extension! You can specify the filename.\n",
    "Start it with:  \n",
    "    `# encoding: utf-8`  \n",
    "then copy-paste:\n",
    "    - the imports, \n",
    "    - the global variables \n",
    "    - the three functions\n",
    "and insert the following two lines into the end of the file:  \n",
    "`if __name__ == '__main__':  \n",
    "     main()`  \n",
    "Save it, and now you can execute this script by invoking:  \n",
    "    __`python your_specified_filename.py`__\n",
    "\n",
    "\n",
    "You can even:\n",
    "- import your newly created script:"
   ]
  },
  {
   "cell_type": "code",
   "execution_count": null,
   "metadata": {
    "collapsed": false
   },
   "outputs": [],
   "source": [
    "import myscript # use your filename"
   ]
  },
  {
   "cell_type": "markdown",
   "metadata": {},
   "source": [
    "- get it's contents"
   ]
  },
  {
   "cell_type": "code",
   "execution_count": null,
   "metadata": {
    "collapsed": false
   },
   "outputs": [],
   "source": [
    "dir(myscript)"
   ]
  },
  {
   "cell_type": "markdown",
   "metadata": {},
   "source": [
    "- print its variables"
   ]
  },
  {
   "cell_type": "code",
   "execution_count": null,
   "metadata": {
    "collapsed": false
   },
   "outputs": [],
   "source": [
    "print myscript.base_url, myscript.sub_url, myscript.query"
   ]
  },
  {
   "cell_type": "markdown",
   "metadata": {},
   "source": [
    "- use its functions"
   ]
  },
  {
   "cell_type": "code",
   "execution_count": null,
   "metadata": {
    "collapsed": false
   },
   "outputs": [],
   "source": [
    "hl2 = myscript.check_price('half-life 2')\n",
    "print hl2"
   ]
  },
  {
   "cell_type": "code",
   "execution_count": null,
   "metadata": {
    "collapsed": false
   },
   "outputs": [],
   "source": [
    "myscript.get_top100()"
   ]
  },
  {
   "cell_type": "markdown",
   "metadata": {},
   "source": [
    "---\n",
    "\n",
    "### Act II: Disguise yourself!\n",
    "\n",
    "Let's pretend to be a browser instead of a script"
   ]
  },
  {
   "cell_type": "code",
   "execution_count": null,
   "metadata": {
    "collapsed": false
   },
   "outputs": [],
   "source": [
    "USER_AGENTS = [\n",
    "    # Chrome\n",
    "    'Mozilla/5.0 (Windows NT 6.2; Win64; x64) AppleWebKit/537.36 (KHTML, like Gecko) Chrome/32.0.1667.0 Safari/537.36',\n",
    "    # Firefox\n",
    "    'Mozilla/5.0 (Windows NT 6.1; Win64; x64; rv:25.0) Gecko/20100101 Firefox/25.0',\n",
    "    # Opera\n",
    "    'Opera/9.80 (Windows NT 6.0) Presto/2.12.388 Version/12.14',\n",
    "    # Safari\n",
    "    'Mozilla/5.0 (iPad; CPU OS 6_0 like Mac OS X) AppleWebKit/536.26 (KHTML, like Gecko) Version/6.0 Mobile/10A5355d Safari/8536.25',\n",
    "    # Internet Explorer, probably a good idea to leave this one out...\n",
    "    'Mozilla/5.0 (compatible; MSIE 10.6; Windows NT 6.1; Trident/5.0; InfoPath.2; SLCC1; .NET CLR 3.0.4506.2152; .NET CLR 3.5.30729; .NET CLR 2.0.50727) 3gpp-gba UNTRUSTED/1.0',\n",
    "]"
   ]
  },
  {
   "cell_type": "markdown",
   "metadata": {},
   "source": [
    "Let's write a wrapper function to handle the user-agent string."
   ]
  },
  {
   "cell_type": "code",
   "execution_count": null,
   "metadata": {
    "collapsed": false
   },
   "outputs": [],
   "source": [
    "import random\n",
    "def get_header(agents):\n",
    "    return {'User-agent': random.choice(agents)}"
   ]
  },
  {
   "cell_type": "markdown",
   "metadata": {},
   "source": [
    "#### Get the main articles from index.hu\n",
    "Write a function that prints that extracts the current main articles! It should contain:\n",
    "- the title\n",
    "- the article text\n",
    "- the url\n",
    "- every picture from the article"
   ]
  },
  {
   "cell_type": "code",
   "execution_count": null,
   "metadata": {
    "collapsed": false
   },
   "outputs": [],
   "source": [
    "url = 'http://index.hu'\n",
    "index_response = requests.get(url, headers=get_header(USER_AGENTS))"
   ]
  },
  {
   "cell_type": "code",
   "execution_count": null,
   "metadata": {
    "collapsed": true
   },
   "outputs": [],
   "source": []
  },
  {
   "cell_type": "markdown",
   "metadata": {},
   "source": [
    "---\n",
    "\n",
    "## Let's do some...\n",
    "\n",
    "<img align=\"left\" width=150 src=\"http://www.reactiongifs.com/r/mgc.gif\">"
   ]
  },
  {
   "cell_type": "markdown",
   "metadata": {},
   "source": [
    "### Act III: Cool library of the week: \n",
    "#### Something really awesome\n",
    "- Install it"
   ]
  },
  {
   "cell_type": "code",
   "execution_count": null,
   "metadata": {
    "collapsed": true
   },
   "outputs": [],
   "source": []
  },
  {
   "cell_type": "markdown",
   "metadata": {},
   "source": [
    "## Final Act:  It's your turn - write the missing code snippets!\n",
    "\n",
    "Write a script called `youtube.py`, in which you create an object called RelatedTube.\n",
    "It has an attribute: `base_url` (youtube's base url)\n",
    "It has three functions: `init`, `get`, and `set`\n",
    "\n",
    "Init:\n",
    "    - Arguments: (`self` and) `youtube_video_id`\n",
    "    - Output: -\n",
    "    - Workflow: set the `self.video` to `youtube_video_id`\n",
    "Get:\n",
    "    - Arguments: `self`\n",
    "    - Output: the links to the related videos\n",
    "    - Workflow: \n",
    "        * get the `self.video` page\n",
    "        * parse it for the related links\n",
    "        * return them in a list\n",
    "Set:\n",
    "    - Arguments: (`self` and) `youtube_video_id`\n",
    "    - Output: -\n",
    "    - Workflow: set the `self.video` to `youtube_video_id`\n",
    "Don't forget to hide your a**!!!"
   ]
  },
  {
   "cell_type": "code",
   "execution_count": null,
   "metadata": {
    "collapsed": false
   },
   "outputs": [],
   "source": [
    "# test the script\n",
    "import youtube"
   ]
  },
  {
   "cell_type": "code",
   "execution_count": null,
   "metadata": {
    "collapsed": false
   },
   "outputs": [],
   "source": [
    "related = youtube.RelatedTube('zkxqRthhwIs')"
   ]
  },
  {
   "cell_type": "code",
   "execution_count": null,
   "metadata": {
    "collapsed": false
   },
   "outputs": [],
   "source": [
    "for video in related.get():\n",
    "    print video"
   ]
  }
 ],
 "metadata": {
  "kernelspec": {
   "display_name": "Python 2",
   "language": "python",
   "name": "python2"
  },
  "language_info": {
   "codemirror_mode": {
    "name": "ipython",
    "version": 2
   },
   "file_extension": ".py",
   "mimetype": "text/x-python",
   "name": "python",
   "nbconvert_exporter": "python",
   "pygments_lexer": "ipython2",
   "version": "2.7.12"
  }
 },
 "nbformat": 4,
 "nbformat_minor": 0
}
