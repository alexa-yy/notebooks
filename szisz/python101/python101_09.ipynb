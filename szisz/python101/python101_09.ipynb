{
 "cells": [
  {
   "cell_type": "markdown",
   "metadata": {},
   "source": [
    "# Python 101\n",
    "## Part IX.\n",
    "---\n",
    "## Dataframes and visualization\n",
    "\n",
    "### Act I: Get the data!\n",
    "\n",
    "<img src=\"http://www.london24.com/polopoly_fs/1.3024317.1385128334!/image/4183113330.jpg_gen/derivatives/landscape_630/4183113330.jpg\" width=\"360\" align=\"left\"></img>\n",
    "<br style=\"clear:left;\"/>\n",
    "\n",
    "Scrape the 2014 hungarian voting results!\n",
    "- import required libraries"
   ]
  },
  {
   "cell_type": "code",
   "execution_count": null,
   "metadata": {
    "collapsed": true
   },
   "outputs": [],
   "source": [
    "import requests\n",
    "from bs4 import BeautifulSoup"
   ]
  },
  {
   "cell_type": "markdown",
   "metadata": {},
   "source": [
    "- set up basic URIs"
   ]
  },
  {
   "cell_type": "code",
   "execution_count": null,
   "metadata": {
    "collapsed": true
   },
   "outputs": [],
   "source": [
    "VOTE_BASE = 'http://valasztas.hu/dyn/pv14/szavossz/hu/'\n",
    "OVERALL = 'oevker.html'\n",
    "BASE_URI = './data/'"
   ]
  },
  {
   "cell_type": "markdown",
   "metadata": {},
   "source": [
    "- download document"
   ]
  },
  {
   "cell_type": "code",
   "execution_count": null,
   "metadata": {},
   "outputs": [],
   "source": [
    "vote_response = requests.get(VOTE_BASE + OVERALL)\n",
    "print vote_response.status_code"
   ]
  },
  {
   "cell_type": "markdown",
   "metadata": {},
   "source": [
    "- extract data with beautifulsoup"
   ]
  },
  {
   "cell_type": "code",
   "execution_count": null,
   "metadata": {},
   "outputs": [],
   "source": [
    "vote_soup = BeautifulSoup(vote_response.content, \"lxml\") \n",
    "containers = vote_soup.find('table', {'border': '1'}).findAll('tr')\n",
    "print len(containers)\n",
    "containers[:5]"
   ]
  },
  {
   "cell_type": "markdown",
   "metadata": {},
   "source": [
    "- get the items out of the tablerows"
   ]
  },
  {
   "cell_type": "code",
   "execution_count": null,
   "metadata": {},
   "outputs": [],
   "source": [
    "rows = [row.findAll('td') for row in containers]\n",
    "rows[:5]"
   ]
  },
  {
   "cell_type": "markdown",
   "metadata": {},
   "source": [
    "- we've got an unneeded first row, remove it!"
   ]
  },
  {
   "cell_type": "code",
   "execution_count": null,
   "metadata": {},
   "outputs": [],
   "source": [
    "rows = rows[1:]\n",
    "rows[:5]"
   ]
  },
  {
   "cell_type": "markdown",
   "metadata": {},
   "source": [
    "- \"transform\" the data into a table-like format"
   ]
  },
  {
   "cell_type": "code",
   "execution_count": null,
   "metadata": {
    "scrolled": true
   },
   "outputs": [],
   "source": [
    "for row in rows[:5]:\n",
    "    print [r.getText() for r in row]"
   ]
  },
  {
   "cell_type": "markdown",
   "metadata": {},
   "source": [
    "- for our analysis, we need the region, the subregion and the links"
   ]
  },
  {
   "cell_type": "code",
   "execution_count": null,
   "metadata": {},
   "outputs": [],
   "source": [
    "REGIONS = []\n",
    "for row in rows:\n",
    "    REGIONS.append([row[0].getText(), row[2].getText(), row[1].find('a').get('href')])\n",
    "REGIONS[:5]"
   ]
  },
  {
   "cell_type": "code",
   "execution_count": null,
   "metadata": {
    "scrolled": true
   },
   "outputs": [],
   "source": [
    "print 'Number of regions:', len(REGIONS)"
   ]
  },
  {
   "cell_type": "markdown",
   "metadata": {},
   "source": [
    "- get the detailed information for each region"
   ]
  },
  {
   "cell_type": "code",
   "execution_count": null,
   "metadata": {
    "scrolled": true
   },
   "outputs": [],
   "source": [
    "results = []\n",
    "\n",
    "for city, region, sub_url in REGIONS:\n",
    "    print u\"Downloading and processing data for {} - {} ...\".format(city, region),\n",
    "    region_response = requests.get(VOTE_BASE + sub_url)\n",
    "    region_soup = BeautifulSoup(region_response.content, \"lxml\")\n",
    "    region_container = (region_soup\n",
    "                        .find(text='A szavazatok száma jelöltenként')\n",
    "                        .findNext('table')\n",
    "                        .findAll('tr'))\n",
    "    region_rows = [row.findAll('td') for row in region_container][1:] # remove empty header\n",
    "    # every candidate will go to a new row\n",
    "    for row in region_rows:\n",
    "        results.append([city, region] + [r.getText() for r in row][:-1]) # remove the last 'tick column'\n",
    "    print \"Done.\""
   ]
  },
  {
   "cell_type": "markdown",
   "metadata": {},
   "source": [
    "- let's look at the detailed information"
   ]
  },
  {
   "cell_type": "code",
   "execution_count": null,
   "metadata": {},
   "outputs": [],
   "source": [
    "print results[:5]\n",
    "print '-' * 79\n",
    "print 'Number of candidates:', len(results)"
   ]
  },
  {
   "cell_type": "markdown",
   "metadata": {},
   "source": [
    "- transform the items"
   ]
  },
  {
   "cell_type": "code",
   "execution_count": null,
   "metadata": {},
   "outputs": [],
   "source": [
    "cleaned_results =[]\n",
    "\n",
    "for row in results:\n",
    "    cleaned_results.append(\n",
    "        [item.replace(u'\\xa0', u'').replace(u'%', u'').strip() # replace the unneeded characters\n",
    "         for item in row]\n",
    "    )\n",
    "cleaned_results[:5]    "
   ]
  },
  {
   "cell_type": "markdown",
   "metadata": {},
   "source": [
    "Now we can finally save it!"
   ]
  },
  {
   "cell_type": "code",
   "execution_count": null,
   "metadata": {},
   "outputs": [],
   "source": [
    "import codecs\n",
    "header = [u'region', u'subregion', u'subid', u'name', u'party', u'votes', u'votes %']\n",
    "filename = 'vote2014.csv'\n",
    "with codecs.open(BASE_URI + filename, 'w', 'utf-8') as csv:\n",
    "    csv.write(u';'.join([u'\"' + item + u'\"' for item in header]) + u'\\n')\n",
    "    for row in cleaned_results:\n",
    "        csv.write(u';'.join([u'\"' + item + u'\"' for item in row]) + u'\\n')\n",
    "\n",
    "# check if it is successfully created\n",
    "import os\n",
    "os.path.isfile(BASE_URI + filename)"
   ]
  },
  {
   "cell_type": "markdown",
   "metadata": {},
   "source": [
    "---\n",
    "### Act II: Use the pandas, Luke!\n",
    "\n",
    "<img src=\"pics/pandas.png\" align=\"left\">\n",
    "<br style=\"clear:left;\"/>"
   ]
  },
  {
   "cell_type": "code",
   "execution_count": null,
   "metadata": {
    "collapsed": true
   },
   "outputs": [],
   "source": [
    "import pandas as pd"
   ]
  },
  {
   "cell_type": "markdown",
   "metadata": {},
   "source": [
    "#### Part I. Basic pandas operations\n",
    "- read csv data into a pandas dataframe"
   ]
  },
  {
   "cell_type": "code",
   "execution_count": null,
   "metadata": {},
   "outputs": [],
   "source": [
    "data = pd.read_csv(BASE_URI + filename, quotechar='\"', delimiter=';', encoding='utf-8')"
   ]
  },
  {
   "cell_type": "markdown",
   "metadata": {},
   "source": [
    "- show the first 5 rows"
   ]
  },
  {
   "cell_type": "code",
   "execution_count": null,
   "metadata": {},
   "outputs": [],
   "source": [
    "data.head()"
   ]
  },
  {
   "cell_type": "markdown",
   "metadata": {},
   "source": [
    "- get a dataframe's column names"
   ]
  },
  {
   "cell_type": "code",
   "execution_count": null,
   "metadata": {},
   "outputs": [],
   "source": [
    "data.columns"
   ]
  },
  {
   "cell_type": "markdown",
   "metadata": {},
   "source": [
    "- select a subset of columns"
   ]
  },
  {
   "cell_type": "code",
   "execution_count": null,
   "metadata": {},
   "outputs": [],
   "source": [
    "data[['name', 'votes']].head()"
   ]
  },
  {
   "cell_type": "markdown",
   "metadata": {},
   "source": [
    "- filter columns by selecting subset of columns"
   ]
  },
  {
   "cell_type": "code",
   "execution_count": null,
   "metadata": {},
   "outputs": [],
   "source": [
    "cols_i_want = [col for col in data.columns if not col == 'subid']\n",
    "cols_i_want"
   ]
  },
  {
   "cell_type": "code",
   "execution_count": null,
   "metadata": {},
   "outputs": [],
   "source": [
    "data[cols_i_want].head()"
   ]
  },
  {
   "cell_type": "markdown",
   "metadata": {},
   "source": [
    "__Caution!__ `data[cols]` only creates a view!  \n",
    "Use `data = data[cols]` if you want on a subset."
   ]
  },
  {
   "cell_type": "code",
   "execution_count": null,
   "metadata": {},
   "outputs": [],
   "source": [
    "data.head()"
   ]
  },
  {
   "cell_type": "code",
   "execution_count": null,
   "metadata": {},
   "outputs": [],
   "source": [
    "data = data[cols_i_want]\n",
    "data.head()"
   ]
  },
  {
   "cell_type": "markdown",
   "metadata": {},
   "source": [
    "- use aggregation functions  \n",
    "_How many people voted?_"
   ]
  },
  {
   "cell_type": "code",
   "execution_count": null,
   "metadata": {},
   "outputs": [],
   "source": [
    "data['votes'].sum()"
   ]
  },
  {
   "cell_type": "markdown",
   "metadata": {},
   "source": [
    "- group values to get more insight  \n",
    "_Let's get the sum of the votes for each party!_"
   ]
  },
  {
   "cell_type": "code",
   "execution_count": null,
   "metadata": {},
   "outputs": [],
   "source": [
    "data[['party', 'votes']].groupby('party').sum().head(10)"
   ]
  },
  {
   "cell_type": "markdown",
   "metadata": {},
   "source": [
    "- ordering dataframes  \n",
    "_Order results by the number of votes!_"
   ]
  },
  {
   "cell_type": "code",
   "execution_count": null,
   "metadata": {},
   "outputs": [],
   "source": [
    "party_votes = (\n",
    "    data\n",
    "    [['party', 'votes']]\n",
    "    .groupby('party')\n",
    "    .sum()\n",
    "    .sort_values('votes', ascending=False)\n",
    ")\n",
    "party_votes.head()"
   ]
  },
  {
   "cell_type": "code",
   "execution_count": null,
   "metadata": {},
   "outputs": [],
   "source": [
    "len(data['party'].unique())"
   ]
  },
  {
   "cell_type": "markdown",
   "metadata": {},
   "source": [
    "#### Part II. Plotting results\n",
    "\n",
    "Use a jupyter \"magic\" function to draw the plots into the notebook.  \n",
    "Also load plotting libraries `matplotlib` and `seaborn`."
   ]
  },
  {
   "cell_type": "code",
   "execution_count": null,
   "metadata": {
    "collapsed": true
   },
   "outputs": [],
   "source": [
    "%matplotlib inline\n",
    "import matplotlib.pyplot as plt\n",
    "try:\n",
    "    import seaborn as sns\n",
    "except:\n",
    "    try:\n",
    "        !conda install seaborn\n",
    "    except:\n",
    "        print 'Shit happens...'"
   ]
  },
  {
   "cell_type": "markdown",
   "metadata": {},
   "source": [
    "- simple barplot"
   ]
  },
  {
   "cell_type": "code",
   "execution_count": null,
   "metadata": {},
   "outputs": [],
   "source": [
    "party_votes.plot(kind='bar')"
   ]
  },
  {
   "cell_type": "markdown",
   "metadata": {},
   "source": [
    "- filtering and plotting  \n",
    "_Only plot parties with at least 10000 votes!_\n",
    "\n",
    "We can filter dataframes with the `dataframe[condition]` statement where condition is a logical expression on one (or more) column(s)."
   ]
  },
  {
   "cell_type": "code",
   "execution_count": null,
   "metadata": {},
   "outputs": [],
   "source": [
    "condition = party_votes['votes'] > 10000\n",
    "condition.head(15)"
   ]
  },
  {
   "cell_type": "code",
   "execution_count": null,
   "metadata": {},
   "outputs": [],
   "source": [
    "vote10k = party_votes.loc[condition]\n",
    "vote10k.plot(kind='bar')"
   ]
  },
  {
   "cell_type": "markdown",
   "metadata": {},
   "source": [
    "_Plot the top 6 party!_"
   ]
  },
  {
   "cell_type": "code",
   "execution_count": null,
   "metadata": {},
   "outputs": [],
   "source": [
    "top6 = party_votes.head(6)\n",
    "top6.plot(kind='bar')"
   ]
  },
  {
   "cell_type": "markdown",
   "metadata": {},
   "source": [
    "---\n",
    "### Act III: The devil lies in the details!\n",
    "\n",
    "<img src=\"pics/evil-panda.png\" width=300 height=300 align=\"left\">\n",
    "<br style=\"clear:left;\"/>\n",
    "\n",
    "- Nested grouping operations  \n",
    "_Consider the regional data too._"
   ]
  },
  {
   "cell_type": "code",
   "execution_count": null,
   "metadata": {},
   "outputs": [],
   "source": [
    "regional = (\n",
    "    data\n",
    "    [['party', 'region', 'votes']]\n",
    "    .groupby(['region', 'party'])\n",
    "    .sum()\n",
    ")\n",
    "regional.head(10)"
   ]
  },
  {
   "cell_type": "markdown",
   "metadata": {},
   "source": [
    "_Let's only have the ones with more than 5000 votes!_"
   ]
  },
  {
   "cell_type": "code",
   "execution_count": null,
   "metadata": {},
   "outputs": [],
   "source": [
    "regional5k = regional.loc[regional.votes > 5000]\n",
    "regional5k.head(10)"
   ]
  },
  {
   "cell_type": "markdown",
   "metadata": {},
   "source": [
    "- Pivot  \n",
    "To pivot this dataframe first we need to remove the nested index:"
   ]
  },
  {
   "cell_type": "code",
   "execution_count": null,
   "metadata": {},
   "outputs": [],
   "source": [
    "regional5k.reset_index().head()"
   ]
  },
  {
   "cell_type": "markdown",
   "metadata": {},
   "source": [
    "Now we can pivot this flattened dataframe:"
   ]
  },
  {
   "cell_type": "code",
   "execution_count": null,
   "metadata": {},
   "outputs": [],
   "source": [
    "(regional5k\n",
    " .reset_index()\n",
    " .pivot(index='region', columns='party', values='votes'))"
   ]
  },
  {
   "cell_type": "markdown",
   "metadata": {},
   "source": [
    "Set the resulting figure size:"
   ]
  },
  {
   "cell_type": "code",
   "execution_count": null,
   "metadata": {
    "collapsed": true
   },
   "outputs": [],
   "source": [
    "plt.rcParams['figure.figsize'] = 8, 6"
   ]
  },
  {
   "cell_type": "markdown",
   "metadata": {},
   "source": [
    "Plot the results:"
   ]
  },
  {
   "cell_type": "code",
   "execution_count": null,
   "metadata": {},
   "outputs": [],
   "source": [
    "(\n",
    "    regional5k\n",
    "    .reset_index()\n",
    "    .pivot(index='region', columns='party', values='votes')\n",
    "    .plot(kind='barh')\n",
    ")"
   ]
  },
  {
   "cell_type": "markdown",
   "metadata": {},
   "source": [
    "---\n",
    "\n",
    "## Let's do some...\n",
    "\n",
    "<img align=\"left\" width=150 src=\"http://www.reactiongifs.com/r/mgc.gif\">\n",
    "\n",
    "<br style=\"clear:left;\"/>\n",
    "\n",
    "### Act III: Cool library of the week: <a href=\"https://mzucker.github.io/2016/09/20/noteshrink.html\">noteshrink</a>\n",
    "#### Export your notes into readable pdfs!\n",
    "\n",
    "To install:\n",
    "- install pillow (in your shell execute: `conda install pillow`)\n",
    "- download and unzip the library (from <a href=\"https://github.com/mzucker/noteshrink/archive/master.zip\">here</a>)\n",
    "- change line #578 in noteshrink/noteshrink.py: comment out the line\n",
    "- optional: install with pip: `pip install -e noteshrink`\n",
    "Then use with:  \n",
    "`python filename(s) -b output_file_prefix`  \n",
    "example:"
   ]
  },
  {
   "cell_type": "code",
   "execution_count": null,
   "metadata": {
    "collapsed": true
   },
   "outputs": [],
   "source": [
    "!python ./noteshrink/noteshrink.py noteshrink/examples/notesA1.jpg noteshrink/examples/notesA2.jpg -b example"
   ]
  },
  {
   "cell_type": "markdown",
   "metadata": {},
   "source": [
    "<img src=\"noteshrink/examples/notesA1.jpg\" width=\"300\" align=\"left\"><img src=\"example0000.png\" width=\"300\" align=\"left\">"
   ]
  },
  {
   "cell_type": "markdown",
   "metadata": {},
   "source": [
    "---\n",
    "## Final Act: The pandas is strong with this one!\n",
    "\n",
    "<img src=\"http://2.bp.blogspot.com/-pgK8KdMmSn8/TsFTOwrGk9I/AAAAAAAABAk/5ondVGyw6w8/s320/Darth+Panda.jpg\" align=\"left\">\n",
    "\n",
    "<br style=\"clear:left;\"/>\n",
    "\n",
    "## It's your turn - write the missing code snippets!\n",
    "\n",
    "#### 1.  Plot the number of voters in each region!"
   ]
  },
  {
   "cell_type": "code",
   "execution_count": null,
   "metadata": {
    "scrolled": false
   },
   "outputs": [],
   "source": []
  },
  {
   "cell_type": "markdown",
   "metadata": {},
   "source": [
    "#### 2. Who would win, if Fidesz doesn't participate in the election?\n",
    "\n",
    "Hint: You can create filters based on equality. (`~data['party'] == 'FIDESZ-KDNP'`)"
   ]
  },
  {
   "cell_type": "code",
   "execution_count": null,
   "metadata": {},
   "outputs": [],
   "source": []
  },
  {
   "cell_type": "markdown",
   "metadata": {},
   "source": [
    "#### 3. Who would win by regions, if Fidesz doesn't participate in the election?"
   ]
  },
  {
   "cell_type": "code",
   "execution_count": null,
   "metadata": {},
   "outputs": [],
   "source": []
  },
  {
   "cell_type": "code",
   "execution_count": null,
   "metadata": {
    "collapsed": true
   },
   "outputs": [],
   "source": []
  }
 ],
 "metadata": {
  "kernelspec": {
   "display_name": "Python 2",
   "language": "python",
   "name": "python2"
  },
  "language_info": {
   "codemirror_mode": {
    "name": "ipython",
    "version": 2
   },
   "file_extension": ".py",
   "mimetype": "text/x-python",
   "name": "python",
   "nbconvert_exporter": "python",
   "pygments_lexer": "ipython2",
   "version": "2.7.13"
  }
 },
 "nbformat": 4,
 "nbformat_minor": 1
}
