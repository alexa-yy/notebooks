{
 "cells": [
  {
   "cell_type": "markdown",
   "metadata": {},
   "source": [
    "# Python 101\n",
    "## Part XI.\n",
    "---\n",
    "\n",
    "## Time series"
   ]
  },
  {
   "cell_type": "code",
   "execution_count": 52,
   "metadata": {
    "collapsed": false
   },
   "outputs": [],
   "source": [
    "%matplotlib inline\n",
    "import pandas as pd\n",
    "import numpy as np\n",
    "import matplotlib.pyplot as plt\n",
    "try:\n",
    "    import seaborn as sns\n",
    "except:\n",
    "    pass"
   ]
  },
  {
   "cell_type": "markdown",
   "metadata": {},
   "source": [
    "---\n",
    "### Act I: Read OTP stock pritces (lack of creativity, I know)\n",
    "\n",
    "Read data from the xls file."
   ]
  },
  {
   "cell_type": "code",
   "execution_count": 53,
   "metadata": {
    "collapsed": true
   },
   "outputs": [],
   "source": [
    "BASE = './data/'"
   ]
  },
  {
   "cell_type": "markdown",
   "metadata": {},
   "source": [
    "Read data from excel file."
   ]
  },
  {
   "cell_type": "code",
   "execution_count": 54,
   "metadata": {
    "collapsed": false
   },
   "outputs": [
    {
     "data": {
      "text/html": [
       "<div>\n",
       "<table border=\"1\" class=\"dataframe\">\n",
       "  <thead>\n",
       "    <tr style=\"text-align: right;\">\n",
       "      <th></th>\n",
       "      <th>Date</th>\n",
       "      <th>EUR/USD Close</th>\n",
       "      <th>EUR/USD High</th>\n",
       "      <th>EUR/USD Low</th>\n",
       "      <th>GBP/USD Close</th>\n",
       "      <th>GBP/USD High</th>\n",
       "      <th>GBP/USD Low</th>\n",
       "      <th>EUR/GBP Close</th>\n",
       "      <th>EUR/GBP High</th>\n",
       "      <th>EUR/GBP Low</th>\n",
       "    </tr>\n",
       "  </thead>\n",
       "  <tbody>\n",
       "    <tr>\n",
       "      <th>0</th>\n",
       "      <td>2015-11-13</td>\n",
       "      <td>1.07436</td>\n",
       "      <td>1.08170</td>\n",
       "      <td>1.07144</td>\n",
       "      <td>1.52270</td>\n",
       "      <td>1.52640</td>\n",
       "      <td>1.51880</td>\n",
       "      <td>0.70545</td>\n",
       "      <td>0.71070</td>\n",
       "      <td>0.70418</td>\n",
       "    </tr>\n",
       "    <tr>\n",
       "      <th>1</th>\n",
       "      <td>2015-11-16</td>\n",
       "      <td>1.06823</td>\n",
       "      <td>1.07580</td>\n",
       "      <td>1.06749</td>\n",
       "      <td>1.52030</td>\n",
       "      <td>1.52321</td>\n",
       "      <td>1.51817</td>\n",
       "      <td>0.70250</td>\n",
       "      <td>0.70800</td>\n",
       "      <td>0.70219</td>\n",
       "    </tr>\n",
       "    <tr>\n",
       "      <th>2</th>\n",
       "      <td>2015-11-17</td>\n",
       "      <td>1.06480</td>\n",
       "      <td>1.06909</td>\n",
       "      <td>1.06308</td>\n",
       "      <td>1.52130</td>\n",
       "      <td>1.52385</td>\n",
       "      <td>1.51548</td>\n",
       "      <td>0.69985</td>\n",
       "      <td>0.70330</td>\n",
       "      <td>0.69850</td>\n",
       "    </tr>\n",
       "    <tr>\n",
       "      <th>3</th>\n",
       "      <td>2015-11-18</td>\n",
       "      <td>1.06542</td>\n",
       "      <td>1.06925</td>\n",
       "      <td>1.06175</td>\n",
       "      <td>1.52368</td>\n",
       "      <td>1.52485</td>\n",
       "      <td>1.51886</td>\n",
       "      <td>0.69921</td>\n",
       "      <td>0.70201</td>\n",
       "      <td>0.69832</td>\n",
       "    </tr>\n",
       "    <tr>\n",
       "      <th>4</th>\n",
       "      <td>2015-11-19</td>\n",
       "      <td>1.07330</td>\n",
       "      <td>1.07630</td>\n",
       "      <td>1.06559</td>\n",
       "      <td>1.52850</td>\n",
       "      <td>1.53355</td>\n",
       "      <td>1.52278</td>\n",
       "      <td>0.70188</td>\n",
       "      <td>0.70280</td>\n",
       "      <td>0.69820</td>\n",
       "    </tr>\n",
       "  </tbody>\n",
       "</table>\n",
       "</div>"
      ],
      "text/plain": [
       "        Date  EUR/USD Close  EUR/USD High  EUR/USD Low  GBP/USD Close  \\\n",
       "0 2015-11-13        1.07436       1.08170      1.07144        1.52270   \n",
       "1 2015-11-16        1.06823       1.07580      1.06749        1.52030   \n",
       "2 2015-11-17        1.06480       1.06909      1.06308        1.52130   \n",
       "3 2015-11-18        1.06542       1.06925      1.06175        1.52368   \n",
       "4 2015-11-19        1.07330       1.07630      1.06559        1.52850   \n",
       "\n",
       "   GBP/USD High  GBP/USD Low  EUR/GBP Close  EUR/GBP High  EUR/GBP Low  \n",
       "0       1.52640      1.51880        0.70545       0.71070      0.70418  \n",
       "1       1.52321      1.51817        0.70250       0.70800      0.70219  \n",
       "2       1.52385      1.51548        0.69985       0.70330      0.69850  \n",
       "3       1.52485      1.51886        0.69921       0.70201      0.69832  \n",
       "4       1.53355      1.52278        0.70188       0.70280      0.69820  "
      ]
     },
     "execution_count": 54,
     "metadata": {},
     "output_type": "execute_result"
    }
   ],
   "source": [
    "df = pd.read_excel(io=BASE+'currency_rates.xlsx', sheetname='data')\n",
    "df.head()"
   ]
  },
  {
   "cell_type": "markdown",
   "metadata": {},
   "source": [
    "Convert date strings into dates, and set them as index (also sort the column)."
   ]
  },
  {
   "cell_type": "code",
   "execution_count": 55,
   "metadata": {
    "collapsed": false
   },
   "outputs": [],
   "source": [
    "#               convert a column into date\n",
    "#df['Date'] = pd.to_datetime(df['Date'])\n",
    "#       set it as index   sort the index\n",
    "df = df.set_index('Date').sort_index()\n",
    "#f.head()"
   ]
  },
  {
   "cell_type": "markdown",
   "metadata": {},
   "source": [
    "Get the basic statistics about the data.\n",
    "\n",
    "Minimum"
   ]
  },
  {
   "cell_type": "code",
   "execution_count": 56,
   "metadata": {
    "collapsed": false
   },
   "outputs": [
    {
     "data": {
      "text/plain": [
       "EUR/USD Close    1.05697\n",
       "EUR/USD High     1.05948\n",
       "EUR/USD Low      1.05236\n",
       "GBP/USD Close    1.21255\n",
       "GBP/USD High     1.22020\n",
       "GBP/USD Low      1.18067\n",
       "EUR/GBP Close    0.69921\n",
       "EUR/GBP High     0.70201\n",
       "EUR/GBP Low      0.69820\n",
       "dtype: float64"
      ]
     },
     "execution_count": 56,
     "metadata": {},
     "output_type": "execute_result"
    }
   ],
   "source": [
    "df.min()"
   ]
  },
  {
   "cell_type": "markdown",
   "metadata": {},
   "source": [
    "Maximum"
   ]
  },
  {
   "cell_type": "code",
   "execution_count": 57,
   "metadata": {
    "collapsed": false
   },
   "outputs": [
    {
     "data": {
      "text/plain": [
       "EUR/USD Close    1.15182\n",
       "EUR/USD High     1.16162\n",
       "EUR/USD Low      1.15013\n",
       "GBP/USD Close    1.52850\n",
       "GBP/USD High     1.53355\n",
       "GBP/USD Low      1.52278\n",
       "EUR/GBP Close    0.91151\n",
       "EUR/GBP High     0.94526\n",
       "EUR/GBP Low      0.90024\n",
       "dtype: float64"
      ]
     },
     "execution_count": 57,
     "metadata": {},
     "output_type": "execute_result"
    }
   ],
   "source": [
    "df.max()"
   ]
  },
  {
   "cell_type": "markdown",
   "metadata": {},
   "source": [
    "Mean"
   ]
  },
  {
   "cell_type": "code",
   "execution_count": 58,
   "metadata": {
    "collapsed": false
   },
   "outputs": [
    {
     "data": {
      "text/plain": [
       "EUR/USD Close    1.110086\n",
       "EUR/USD High     1.114641\n",
       "EUR/USD Low      1.105708\n",
       "GBP/USD Close    1.389731\n",
       "GBP/USD High     1.397531\n",
       "GBP/USD Low      1.382937\n",
       "EUR/GBP Close    0.801938\n",
       "EUR/GBP High     0.806071\n",
       "EUR/GBP Low      0.797600\n",
       "dtype: float64"
      ]
     },
     "execution_count": 58,
     "metadata": {},
     "output_type": "execute_result"
    }
   ],
   "source": [
    "df.mean()"
   ]
  },
  {
   "cell_type": "markdown",
   "metadata": {},
   "source": [
    "Get everything at once"
   ]
  },
  {
   "cell_type": "code",
   "execution_count": 59,
   "metadata": {
    "collapsed": false
   },
   "outputs": [
    {
     "data": {
      "text/html": [
       "<div>\n",
       "<table border=\"1\" class=\"dataframe\">\n",
       "  <thead>\n",
       "    <tr style=\"text-align: right;\">\n",
       "      <th></th>\n",
       "      <th>EUR/USD Close</th>\n",
       "      <th>EUR/USD High</th>\n",
       "      <th>EUR/USD Low</th>\n",
       "      <th>GBP/USD Close</th>\n",
       "      <th>GBP/USD High</th>\n",
       "      <th>GBP/USD Low</th>\n",
       "      <th>EUR/GBP Close</th>\n",
       "      <th>EUR/GBP High</th>\n",
       "      <th>EUR/GBP Low</th>\n",
       "    </tr>\n",
       "  </thead>\n",
       "  <tbody>\n",
       "    <tr>\n",
       "      <th>count</th>\n",
       "      <td>261.000000</td>\n",
       "      <td>261.000000</td>\n",
       "      <td>261.000000</td>\n",
       "      <td>261.000000</td>\n",
       "      <td>261.000000</td>\n",
       "      <td>261.000000</td>\n",
       "      <td>261.000000</td>\n",
       "      <td>261.000000</td>\n",
       "      <td>261.000000</td>\n",
       "    </tr>\n",
       "    <tr>\n",
       "      <th>mean</th>\n",
       "      <td>1.110086</td>\n",
       "      <td>1.114641</td>\n",
       "      <td>1.105708</td>\n",
       "      <td>1.389731</td>\n",
       "      <td>1.397531</td>\n",
       "      <td>1.382937</td>\n",
       "      <td>0.801938</td>\n",
       "      <td>0.806071</td>\n",
       "      <td>0.797600</td>\n",
       "    </tr>\n",
       "    <tr>\n",
       "      <th>std</th>\n",
       "      <td>0.019820</td>\n",
       "      <td>0.019829</td>\n",
       "      <td>0.020139</td>\n",
       "      <td>0.086002</td>\n",
       "      <td>0.085861</td>\n",
       "      <td>0.086682</td>\n",
       "      <td>0.054093</td>\n",
       "      <td>0.054961</td>\n",
       "      <td>0.054066</td>\n",
       "    </tr>\n",
       "    <tr>\n",
       "      <th>min</th>\n",
       "      <td>1.056970</td>\n",
       "      <td>1.059480</td>\n",
       "      <td>1.052360</td>\n",
       "      <td>1.212550</td>\n",
       "      <td>1.220200</td>\n",
       "      <td>1.180670</td>\n",
       "      <td>0.699210</td>\n",
       "      <td>0.702010</td>\n",
       "      <td>0.698200</td>\n",
       "    </tr>\n",
       "    <tr>\n",
       "      <th>25%</th>\n",
       "      <td>1.095570</td>\n",
       "      <td>1.099870</td>\n",
       "      <td>1.090390</td>\n",
       "      <td>1.313630</td>\n",
       "      <td>1.324800</td>\n",
       "      <td>1.307470</td>\n",
       "      <td>0.768190</td>\n",
       "      <td>0.771700</td>\n",
       "      <td>0.761450</td>\n",
       "    </tr>\n",
       "    <tr>\n",
       "      <th>50%</th>\n",
       "      <td>1.113380</td>\n",
       "      <td>1.117900</td>\n",
       "      <td>1.108070</td>\n",
       "      <td>1.422400</td>\n",
       "      <td>1.429070</td>\n",
       "      <td>1.413200</td>\n",
       "      <td>0.788900</td>\n",
       "      <td>0.791870</td>\n",
       "      <td>0.785700</td>\n",
       "    </tr>\n",
       "    <tr>\n",
       "      <th>75%</th>\n",
       "      <td>1.124900</td>\n",
       "      <td>1.129760</td>\n",
       "      <td>1.120540</td>\n",
       "      <td>1.450700</td>\n",
       "      <td>1.460060</td>\n",
       "      <td>1.444470</td>\n",
       "      <td>0.849510</td>\n",
       "      <td>0.852600</td>\n",
       "      <td>0.846300</td>\n",
       "    </tr>\n",
       "    <tr>\n",
       "      <th>max</th>\n",
       "      <td>1.151820</td>\n",
       "      <td>1.161620</td>\n",
       "      <td>1.150130</td>\n",
       "      <td>1.528500</td>\n",
       "      <td>1.533550</td>\n",
       "      <td>1.522780</td>\n",
       "      <td>0.911510</td>\n",
       "      <td>0.945260</td>\n",
       "      <td>0.900240</td>\n",
       "    </tr>\n",
       "  </tbody>\n",
       "</table>\n",
       "</div>"
      ],
      "text/plain": [
       "       EUR/USD Close  EUR/USD High  EUR/USD Low  GBP/USD Close  GBP/USD High  \\\n",
       "count     261.000000    261.000000   261.000000     261.000000    261.000000   \n",
       "mean        1.110086      1.114641     1.105708       1.389731      1.397531   \n",
       "std         0.019820      0.019829     0.020139       0.086002      0.085861   \n",
       "min         1.056970      1.059480     1.052360       1.212550      1.220200   \n",
       "25%         1.095570      1.099870     1.090390       1.313630      1.324800   \n",
       "50%         1.113380      1.117900     1.108070       1.422400      1.429070   \n",
       "75%         1.124900      1.129760     1.120540       1.450700      1.460060   \n",
       "max         1.151820      1.161620     1.150130       1.528500      1.533550   \n",
       "\n",
       "       GBP/USD Low  EUR/GBP Close  EUR/GBP High  EUR/GBP Low  \n",
       "count   261.000000     261.000000    261.000000   261.000000  \n",
       "mean      1.382937       0.801938      0.806071     0.797600  \n",
       "std       0.086682       0.054093      0.054961     0.054066  \n",
       "min       1.180670       0.699210      0.702010     0.698200  \n",
       "25%       1.307470       0.768190      0.771700     0.761450  \n",
       "50%       1.413200       0.788900      0.791870     0.785700  \n",
       "75%       1.444470       0.849510      0.852600     0.846300  \n",
       "max       1.522780       0.911510      0.945260     0.900240  "
      ]
     },
     "execution_count": 59,
     "metadata": {},
     "output_type": "execute_result"
    }
   ],
   "source": [
    "df.describe()"
   ]
  },
  {
   "cell_type": "markdown",
   "metadata": {},
   "source": [
    "Let's focus on closing values!"
   ]
  },
  {
   "cell_type": "code",
   "execution_count": 61,
   "metadata": {
    "collapsed": true
   },
   "outputs": [],
   "source": [
    "currencies = ['EUR/USD', 'GBP/USD', 'EUR/GBP']"
   ]
  },
  {
   "cell_type": "code",
   "execution_count": 62,
   "metadata": {
    "collapsed": false
   },
   "outputs": [
    {
     "data": {
      "text/plain": [
       "<matplotlib.axes._subplots.AxesSubplot at 0xb86f780>"
      ]
     },
     "execution_count": 62,
     "metadata": {},
     "output_type": "execute_result"
    },
    {
     "data": {
      "image/png": "[encoded data removed]",
      "text/plain": [
       "<matplotlib.figure.Figure at 0xb879be0>"
      ]
     },
     "metadata": {},
     "output_type": "display_data"
    }
   ],
   "source": [
    "df[[c + ' Close' for c in currencies]].plot()"
   ]
  },
  {
   "cell_type": "code",
   "execution_count": 25,
   "metadata": {
    "collapsed": false
   },
   "outputs": [
    {
     "ename": "AttributeError",
     "evalue": "'numpy.ndarray' object has no attribute 'items'",
     "output_type": "error",
     "traceback": [
      "\u001b[1;31m---------------------------------------------------------------------------\u001b[0m",
      "\u001b[1;31mAttributeError\u001b[0m                            Traceback (most recent call last)",
      "\u001b[1;32m<ipython-input-25-32469e1076ea>\u001b[0m in \u001b[0;36m<module>\u001b[1;34m()\u001b[0m\n\u001b[1;32m----> 1\u001b[1;33m \u001b[1;32mfor\u001b[0m \u001b[0mindex\u001b[0m\u001b[1;33m,\u001b[0m \u001b[0mval\u001b[0m \u001b[1;32min\u001b[0m \u001b[0mdf\u001b[0m\u001b[1;33m[\u001b[0m\u001b[1;34mu'EUR/USD Close'\u001b[0m\u001b[1;33m]\u001b[0m\u001b[1;33m.\u001b[0m\u001b[0mvalues\u001b[0m\u001b[1;33m.\u001b[0m\u001b[0mitems\u001b[0m\u001b[1;33m(\u001b[0m\u001b[1;33m)\u001b[0m\u001b[1;33m:\u001b[0m\u001b[1;33m\u001b[0m\u001b[0m\n\u001b[0m\u001b[0;32m      2\u001b[0m     \u001b[1;32mtry\u001b[0m\u001b[1;33m:\u001b[0m\u001b[1;33m\u001b[0m\u001b[0m\n\u001b[0;32m      3\u001b[0m         \u001b[0mfloat\u001b[0m\u001b[1;33m(\u001b[0m\u001b[0mval\u001b[0m\u001b[1;33m)\u001b[0m\u001b[1;33m\u001b[0m\u001b[0m\n\u001b[0;32m      4\u001b[0m     \u001b[1;32mexcept\u001b[0m\u001b[1;33m:\u001b[0m\u001b[1;33m\u001b[0m\u001b[0m\n\u001b[0;32m      5\u001b[0m         \u001b[1;32mprint\u001b[0m \u001b[0mval\u001b[0m\u001b[1;33m\u001b[0m\u001b[0m\n",
      "\u001b[1;31mAttributeError\u001b[0m: 'numpy.ndarray' object has no attribute 'items'"
     ]
    }
   ],
   "source": [
    "for index, val in :\n",
    "    try:\n",
    "        float(val)\n",
    "    except:\n",
    "        print val\n",
    "#.astype(np.float32).plot()"
   ]
  },
  {
   "cell_type": "code",
   "execution_count": null,
   "metadata": {
    "collapsed": false
   },
   "outputs": [],
   "source": [
    "try:\n",
    "    sns.boxplot(df['Close'])\n",
    "except:\n",
    "    df.boxplot('Close')"
   ]
  },
  {
   "cell_type": "markdown",
   "metadata": {},
   "source": [
    "Create a new column called 'diff' which is the difference between the opening and the closing prices. Plot it!"
   ]
  },
  {
   "cell_type": "code",
   "execution_count": null,
   "metadata": {
    "collapsed": false
   },
   "outputs": [],
   "source": [
    "df['diff'] = df['Close'] - df['Open'] \n",
    "df['diff'].plot()"
   ]
  },
  {
   "cell_type": "markdown",
   "metadata": {},
   "source": [
    "Let's have a closer look at that huge drop from summer 2011!"
   ]
  },
  {
   "cell_type": "code",
   "execution_count": null,
   "metadata": {
    "collapsed": false
   },
   "outputs": [],
   "source": [
    "df['2011-07':'2011-09']['Close'].plot()"
   ]
  },
  {
   "cell_type": "code",
   "execution_count": null,
   "metadata": {
    "collapsed": false
   },
   "outputs": [],
   "source": [
    "try:\n",
    "    sns.boxplot(df['2011-07':'2011-09']['diff'])\n",
    "except:\n",
    "    df['2011-07':'2011-09'].boxplot('diff')"
   ]
  },
  {
   "cell_type": "code",
   "execution_count": null,
   "metadata": {
    "collapsed": false
   },
   "outputs": [],
   "source": [
    "try:\n",
    "    sns.boxplot(df['2011-07':'2011-09']['Close'])\n",
    "except:\n",
    "    df['2011-07':'2011-09'].boxplot('Close')"
   ]
  },
  {
   "cell_type": "markdown",
   "metadata": {},
   "source": [
    "---\n",
    "### Act II: Advanced operations\n",
    "\n",
    "Save the closeing price to a new dataframe!"
   ]
  },
  {
   "cell_type": "code",
   "execution_count": null,
   "metadata": {
    "collapsed": false
   },
   "outputs": [],
   "source": [
    "# [c]loseing [p]rice [f]rame\n",
    "cpf = df['Close']"
   ]
  },
  {
   "cell_type": "markdown",
   "metadata": {},
   "source": [
    "#### Subact: Moving statistics\n",
    "\n",
    "The most common operation is the moving average (rolling mean). Feel free to experiment with the window size!"
   ]
  },
  {
   "cell_type": "code",
   "execution_count": null,
   "metadata": {
    "collapsed": false
   },
   "outputs": [],
   "source": [
    "#                      column,      window size\n",
    "mavg = pd.rolling_mean(cpf, 40)\n",
    "#    shows the last five row\n",
    "mavg.tail()"
   ]
  },
  {
   "cell_type": "markdown",
   "metadata": {},
   "source": [
    "We plot the last 5 because:"
   ]
  },
  {
   "cell_type": "code",
   "execution_count": null,
   "metadata": {
    "collapsed": false
   },
   "outputs": [],
   "source": [
    "mavg.head()"
   ]
  },
  {
   "cell_type": "markdown",
   "metadata": {},
   "source": [
    "Why?\n",
    "\n",
    "---\n",
    "\n",
    "After the answer, plot the moving average! "
   ]
  },
  {
   "cell_type": "code",
   "execution_count": null,
   "metadata": {
    "collapsed": false
   },
   "outputs": [],
   "source": [
    "mavg.plot()"
   ]
  },
  {
   "cell_type": "markdown",
   "metadata": {},
   "source": [
    "Put the two plot into the same axis system."
   ]
  },
  {
   "cell_type": "code",
   "execution_count": null,
   "metadata": {
    "collapsed": false
   },
   "outputs": [],
   "source": [
    "cpf.plot(label='Close')\n",
    "mavg.plot(label='Close AVG')\n",
    "plt.legend()"
   ]
  },
  {
   "cell_type": "markdown",
   "metadata": {},
   "source": [
    "We can apply several other types of functions with moving window, the complete list can be found [here](http://pandas.pydata.org/pandas-docs/stable/computation.html#moving-rolling-statistics-moments).  \n",
    "\n",
    "---\n",
    "\n",
    "#### Subact: Shifted computations\n",
    "\n",
    "How can we compute something based on yesterday's data?  \n",
    "Use the `shift` function!  \n",
    "Let's compute the difference between the days:\n",
    "$${d_t} = {p_t} - {p_{t-1}}$$"
   ]
  },
  {
   "cell_type": "code",
   "execution_count": null,
   "metadata": {
    "collapsed": false
   },
   "outputs": [],
   "source": [
    "df['d'] = cpf - cpf.shift(1)\n",
    "df['d'].head()"
   ]
  },
  {
   "cell_type": "code",
   "execution_count": null,
   "metadata": {
    "collapsed": false
   },
   "outputs": [],
   "source": [
    "df['d'].describe()"
   ]
  },
  {
   "cell_type": "code",
   "execution_count": null,
   "metadata": {
    "collapsed": false
   },
   "outputs": [],
   "source": [
    "df['d'].plot()"
   ]
  },
  {
   "cell_type": "code",
   "execution_count": null,
   "metadata": {
    "collapsed": false
   },
   "outputs": [],
   "source": [
    "df[df['d'] > 0]['Close'].describe()"
   ]
  },
  {
   "cell_type": "markdown",
   "metadata": {},
   "source": [
    "---\n",
    "### Act III: Resampling\n",
    "\n",
    "You can resample data to different time frequency. Two main parameters for the `resample` method is the time period you resemple to and the method that you use. By default the method is mean. The list time frames is accessable from [here](http://pandas.pydata.org/pandas-docs/dev/timeseries.html#offset-aliases).   "
   ]
  },
  {
   "cell_type": "code",
   "execution_count": null,
   "metadata": {
    "collapsed": false
   },
   "outputs": [],
   "source": [
    "# Monthly mean\n",
    "cpf.resample('M').plot()"
   ]
  },
  {
   "cell_type": "code",
   "execution_count": null,
   "metadata": {
    "collapsed": false
   },
   "outputs": [],
   "source": [
    "# Weekly median\n",
    "cpf.resample('W', how='median').plot()"
   ]
  },
  {
   "cell_type": "code",
   "execution_count": null,
   "metadata": {
    "collapsed": false
   },
   "outputs": [],
   "source": [
    "# 3 weekly minimum\n",
    "cpf.resample('3W', how='min').plot()"
   ]
  },
  {
   "cell_type": "code",
   "execution_count": null,
   "metadata": {
    "collapsed": false
   },
   "outputs": [],
   "source": [
    "# quarter year max\n",
    "cpf.resample('Q', how='max').plot()"
   ]
  },
  {
   "cell_type": "markdown",
   "metadata": {},
   "source": [
    "---\n",
    "### Final Act: your turn\n",
    "\n",
    "Compute the moving sum on the \"groving\" days (when the price of the stock went up)!  "
   ]
  },
  {
   "cell_type": "code",
   "execution_count": null,
   "metadata": {
    "collapsed": false
   },
   "outputs": [],
   "source": []
  },
  {
   "cell_type": "markdown",
   "metadata": {},
   "source": [
    "Compute the moving standard deviation function\n",
    "$${sd} = \\sqrt{{E}[({x}-\\mu)^2]}$$\n",
    "on the dataset with 60 window size! Plot it, and plot the resampled (quarterly, mean) dataframe into the same coordinate system (use the `style='--g'` argument in the `plot` method)!"
   ]
  },
  {
   "cell_type": "code",
   "execution_count": null,
   "metadata": {
    "collapsed": false
   },
   "outputs": [],
   "source": [
    "def msd(x):\n",
    "    return np.sqrt(np.square(x - x.mean()).mean())"
   ]
  },
  {
   "cell_type": "code",
   "execution_count": null,
   "metadata": {
    "collapsed": true
   },
   "outputs": [],
   "source": []
  }
 ],
 "metadata": {
  "anaconda-cloud": {},
  "kernelspec": {
   "display_name": "Python [Root]",
   "language": "python",
   "name": "Python [Root]"
  },
  "language_info": {
   "codemirror_mode": {
    "name": "ipython",
    "version": 2
   },
   "file_extension": ".py",
   "mimetype": "text/x-python",
   "name": "python",
   "nbconvert_exporter": "python",
   "pygments_lexer": "ipython2",
   "version": "2.7.12"
  }
 },
 "nbformat": 4,
 "nbformat_minor": 0
}
