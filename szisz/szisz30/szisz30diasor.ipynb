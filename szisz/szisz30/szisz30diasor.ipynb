{
 "cells": [
  {
   "cell_type": "markdown",
   "metadata": {
    "slideshow": {
     "slide_type": "slide"
    }
   },
   "source": [
    "# Kiszámítható egyéniségek\n",
    "<i>Fülöp András</i>\n",
    "\n",
    "<b>SzISz30 konferencia</b>, 2017 június 10."
   ]
  },
  {
   "cell_type": "markdown",
   "metadata": {
    "slideshow": {
     "slide_type": "slide"
    }
   },
   "source": [
    "# Magamról\n",
    "\n",
    "- Data Scientist @ Lensa/Gitential\n",
    "- SzISz-ben oktató ?. éve\n",
    "    - 8 Python kurzus\n",
    "    - 2 Data Science kurzus"
   ]
  },
  {
   "cell_type": "markdown",
   "metadata": {
    "slideshow": {
     "slide_type": "fragment"
    }
   },
   "source": [
    "- Játékok"
   ]
  },
  {
   "cell_type": "markdown",
   "metadata": {
    "slideshow": {
     "slide_type": "slide"
    }
   },
   "source": [
    "# Kő-papír-olló"
   ]
  },
  {
   "cell_type": "code",
   "execution_count": 1,
   "metadata": {
    "slideshow": {
     "slide_type": "-"
    }
   },
   "outputs": [],
   "source": [
    "import random\n",
    "import szisz30"
   ]
  },
  {
   "cell_type": "code",
   "execution_count": 2,
   "metadata": {},
   "outputs": [
    {
     "data": {
      "text/plain": [
       "'ko'"
      ]
     },
     "execution_count": 2,
     "metadata": {},
     "output_type": "execute_result"
    }
   ],
   "source": [
    "choices = ['ko', 'papir', 'ollo']\n",
    "random.choice(choices)"
   ]
  },
  {
   "cell_type": "code",
   "execution_count": 3,
   "metadata": {},
   "outputs": [],
   "source": [
    "from collections import defaultdict\n",
    "freqs = defaultdict(int)\n",
    "for _ in range(1000):\n",
    "    freqs[random.choice(['ko', 'papir', 'ollo'])] += 1"
   ]
  },
  {
   "cell_type": "code",
   "execution_count": 4,
   "metadata": {
    "slideshow": {
     "slide_type": "subslide"
    }
   },
   "outputs": [
    {
     "data": {
      "image/png": "[encoded data removed]",
      "text/plain": [
       "<matplotlib.figure.Figure at 0x9d846d8>"
      ]
     },
     "execution_count": 4,
     "metadata": {},
     "output_type": "execute_result"
    }
   ],
   "source": [
    "szisz30.plot_freqs(freqs)"
   ]
  },
  {
   "cell_type": "markdown",
   "metadata": {
    "slideshow": {
     "slide_type": "slide"
    }
   },
   "source": [
    "# Az \"egyéniség\" ára\n",
    "\n",
    "Hogy nem tökéletes a véletlenszám-generátorunk, tehát tanulhatóak vagyunk"
   ]
  },
  {
   "cell_type": "code",
   "execution_count": 2,
   "metadata": {},
   "outputs": [],
   "source": [
    "my_play = 'kppokkkpokpoppkko'\n",
    "rps = szisz30.RPS()"
   ]
  },
  {
   "cell_type": "code",
   "execution_count": 3,
   "metadata": {},
   "outputs": [],
   "source": [
    "for play in my_play:\n",
    "    rps.play(play)"
   ]
  },
  {
   "cell_type": "code",
   "execution_count": 4,
   "metadata": {},
   "outputs": [
    {
     "data": {
      "text/plain": [
       "{'Final probabilities': {'k': 0.25, 'o': 0.35, 'p': 0.4},\n",
       " 'Number of games': 17,\n",
       " 'Number of player wins': 7}"
      ]
     },
     "execution_count": 4,
     "metadata": {},
     "output_type": "execute_result"
    }
   ],
   "source": [
    "rps.stats()"
   ]
  },
  {
   "cell_type": "markdown",
   "metadata": {
    "slideshow": {
     "slide_type": "slide"
    }
   },
   "source": [
    "# Neurális hálózat\n",
    "\n",
    "![]() kép neuronról"
   ]
  },
  {
   "cell_type": "code",
   "execution_count": 14,
   "metadata": {
    "collapsed": true
   },
   "outputs": [],
   "source": [
    "# TODO: tensorflow-t beüzemelni"
   ]
  },
  {
   "cell_type": "markdown",
   "metadata": {
    "slideshow": {
     "slide_type": "slide"
    }
   },
   "source": [
    "# Ajánlói rendszerek\n",
    "\n",
    "sztori a fiatalkorú csajról és az áruházról\n",
    "\n",
    "- collaborative filtering  \n",
    "    ![]() kép róla  \n",
    "    példa róla\n",
    "- user-item mátrix  \n",
    "    ![]() kép erről is  \n",
    "    példa erről is"
   ]
  },
  {
   "cell_type": "markdown",
   "metadata": {
    "slideshow": {
     "slide_type": "slide"
    }
   },
   "source": [
    "# Átkötés az ajánlói rendszerekről az egyéniségre\n",
    "\n",
    "\\# TODO: vagy valami ilyesmi"
   ]
  },
  {
   "cell_type": "code",
   "execution_count": 15,
   "metadata": {
    "collapsed": true
   },
   "outputs": [],
   "source": [
    "# TODO: valami csoda kód még ide (mini ajánló rendszer kőpapírollóra? - esetleg valami heatmap?)"
   ]
  },
  {
   "cell_type": "markdown",
   "metadata": {
    "slideshow": {
     "slide_type": "slide"
    }
   },
   "source": [
    "Vélemény: azért jó ez nekünk mert:\n",
    "- személyre szabott ajánlások\n",
    "- csak egy sor egy óriási mátrixban\n",
    "- cégek érdeke, hogy ne legyen visszaélés (apple nem adta ki az adatot a cia-nek)\n",
    "- nem vagyunk egyedül"
   ]
  },
  {
   "cell_type": "markdown",
   "metadata": {
    "slideshow": {
     "slide_type": "slide"
    }
   },
   "source": [
    "# Köszönöm megtisztelő figyelmüket!\n",
    "\n",
    "<img src=\"http://icons.iconarchive.com/icons/ampeross/smooth/32/Twitter-icon.png\" align='left' style='margin-right: 5px; margin-left: 15px' /><b>twitter.com/fulibacsi</b><br>\n",
    "\n",
    "<img src=\"http://icons.iconarchive.com/icons/social-media-icons/glossy-social/32/Github-icon.png\" align='left' style='margin-right: 5px; margin-left: 15px' /><b>github.com/fulibacsi</b>"
   ]
  }
 ],
 "metadata": {
  "celltoolbar": "Slideshow",
  "kernelspec": {
   "display_name": "Python 2",
   "language": "python",
   "name": "python2"
  },
  "language_info": {
   "codemirror_mode": {
    "name": "ipython",
    "version": 2
   },
   "file_extension": ".py",
   "mimetype": "text/x-python",
   "name": "python",
   "nbconvert_exporter": "python",
   "pygments_lexer": "ipython2",
   "version": "2.7.13"
  }
 },
 "nbformat": 4,
 "nbformat_minor": 2
}
