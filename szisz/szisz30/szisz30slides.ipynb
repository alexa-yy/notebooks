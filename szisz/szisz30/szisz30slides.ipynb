{
 "cells": [
  {
   "cell_type": "markdown",
   "metadata": {
    "slideshow": {
     "slide_type": "slide"
    }
   },
   "source": [
    "# Kiszámítható egyéniségek\n",
    "<i>Fülöp András</i>\n",
    "\n",
    "<b>SzISz30 konferencia</b>, 2017 június 10."
   ]
  },
  {
   "cell_type": "markdown",
   "metadata": {
    "slideshow": {
     "slide_type": "slide"
    }
   },
   "source": [
    "# Magamról\n",
    "\n",
    "- Data Scientist @ Lensa/Gitential\n",
    "- SzISz-ben oktató ?. éve\n",
    "    - 8 Python kurzus\n",
    "    - 2 Data Science kurzus"
   ]
  },
  {
   "cell_type": "markdown",
   "metadata": {
    "slideshow": {
     "slide_type": "slide"
    }
   },
   "source": [
    "# Kő-papír-olló\n",
    "<img src=\"http://webdocs.cs.ualberta.ca/~darse/gifs/rock-hand.gif\" align='left'/>\n",
    "<img src=\"http://webdocs.cs.ualberta.ca/~darse/gifs/paper-hand.gif\" align='left'/>\n",
    "<img src=\"http://webdocs.cs.ualberta.ca/~darse/gifs/scissors-hand.gif\" align='left'/>"
   ]
  },
  {
   "cell_type": "code",
   "execution_count": null,
   "metadata": {
    "collapsed": true,
    "slideshow": {
     "slide_type": "-"
    }
   },
   "outputs": [],
   "source": [
    "import random\n",
    "from collections import defaultdict\n",
    "\n",
    "choices = ['ko', 'papir', 'ollo']\n",
    "random.choice(choices)"
   ]
  },
  {
   "cell_type": "code",
   "execution_count": null,
   "metadata": {
    "collapsed": true
   },
   "outputs": [],
   "source": [
    "freqs = defaultdict(int)\n",
    "for _ in range(1000):\n",
    "    freqs[random.choice(['ko', 'papir', 'ollo'])] += 1"
   ]
  },
  {
   "cell_type": "code",
   "execution_count": null,
   "metadata": {
    "slideshow": {
     "slide_type": "subslide"
    }
   },
   "outputs": [],
   "source": [
    "szisz30.plot_freqs(freqs)"
   ]
  },
  {
   "cell_type": "markdown",
   "metadata": {
    "slideshow": {
     "slide_type": "slide"
    }
   },
   "source": [
    "# Az \"egyéniség\" ára"
   ]
  },
  {
   "cell_type": "code",
   "execution_count": null,
   "metadata": {
    "collapsed": true,
    "slideshow": {
     "slide_type": "skip"
    }
   },
   "outputs": [],
   "source": [
    "%load_ext autoreload\n",
    "%autoreload 2"
   ]
  },
  {
   "cell_type": "code",
   "execution_count": null,
   "metadata": {},
   "outputs": [],
   "source": [
    "import szisz30\n",
    "my_play = 'kppokkkpokpoppkko'\n",
    "rps = szisz30.RPS('stateful', 42)"
   ]
  },
  {
   "cell_type": "code",
   "execution_count": null,
   "metadata": {
    "collapsed": true
   },
   "outputs": [],
   "source": [
    "rps.reset()\n",
    "for play in my_play:\n",
    "    rps.play(play)"
   ]
  },
  {
   "cell_type": "code",
   "execution_count": null,
   "metadata": {},
   "outputs": [],
   "source": [
    "rps.plot_probs()"
   ]
  },
  {
   "cell_type": "code",
   "execution_count": null,
   "metadata": {},
   "outputs": [],
   "source": [
    "rps.plot_win_ratio()"
   ]
  },
  {
   "cell_type": "markdown",
   "metadata": {
    "slideshow": {
     "slide_type": "slide"
    }
   },
   "source": [
    "# Gépek egymás ellen\n",
    "\n",
    "RoChamBo:\n",
    "- http://i.imgur.com/gJAy3.jpg\n",
    "- http://blog.wolfram.com/2014/01/20/how-to-win-at-rock-paper-scissors/\n",
    "- https://github.com/NavjotMinhas/RockPaperScissors_AI\n",
    "- https://www.reddit.com/r/gamedev/comments/doxb3/simple_ai_for_a_rockpaperscissors_game/\n",
    "- http://webdocs.cs.ualberta.ca/~darse/rsbpc.html"
   ]
  },
  {
   "cell_type": "code",
   "execution_count": null,
   "metadata": {
    "collapsed": true,
    "slideshow": {
     "slide_type": "-"
    }
   },
   "outputs": [],
   "source": [
    "rnd = szisz30.RPS('null')\n",
    "naive = szisz30.RPS()\n",
    "stateful = szisz30.RPS('stateful')"
   ]
  },
  {
   "cell_type": "code",
   "execution_count": null,
   "metadata": {
    "collapsed": true
   },
   "outputs": [],
   "source": [
    "# TODO: megcsinálni\n",
    "for i in range(1000):\n",
    "    rnd_vs_naive = rnd.play(naive.play())\n",
    "    rnd_vs_stateful = rnd.play(stateful.play())\n",
    "    naive_vs_stateful = 0"
   ]
  },
  {
   "cell_type": "markdown",
   "metadata": {
    "slideshow": {
     "slide_type": "slide"
    }
   },
   "source": [
    "# Neurális hálózat\n",
    "\n",
    "![]() kép neuronról\n",
    "\n",
    "cikkek:\n",
    "- https://www.his.se/PageFiles/8158/Henrik_Engstrom.pdf\n",
    "- http://act-r.psy.cmu.edu/wordpress/wp-content/uploads/2012/12/874paper203.pdf"
   ]
  },
  {
   "cell_type": "code",
   "execution_count": null,
   "metadata": {
    "collapsed": true
   },
   "outputs": [],
   "source": [
    "# TODO: tensorflow-t beüzemelni"
   ]
  },
  {
   "cell_type": "markdown",
   "metadata": {
    "slideshow": {
     "slide_type": "slide"
    }
   },
   "source": [
    "# Ajánlói rendszerek\n",
    "\n",
    "sztori a fiatalkorú csajról és az áruházról\n",
    "\n",
    "- collaborative filtering  \n",
    "    ![]() kép róla  \n",
    "    példa róla\n",
    "- user-item mátrix  \n",
    "    ![]() kép erről is  \n",
    "    példa erről is"
   ]
  },
  {
   "cell_type": "markdown",
   "metadata": {
    "slideshow": {
     "slide_type": "slide"
    }
   },
   "source": [
    "# Átkötés az ajánlói rendszerekről az egyéniségre\n",
    "\n",
    "\\# TODO: vagy valami ilyesmi"
   ]
  },
  {
   "cell_type": "code",
   "execution_count": null,
   "metadata": {
    "collapsed": true
   },
   "outputs": [],
   "source": [
    "# TODO: valami csoda kód még ide (mini ajánló rendszer kőpapírollóra? - esetleg valami heatmap?)"
   ]
  },
  {
   "cell_type": "markdown",
   "metadata": {
    "slideshow": {
     "slide_type": "slide"
    }
   },
   "source": [
    "Vélemény: azért jó ez nekünk mert:\n",
    "- személyre szabott ajánlások\n",
    "- csak egy sor egy óriási mátrixban\n",
    "- cégek érdeke, hogy ne legyen visszaélés (apple nem adta ki az adatot a cia-nek)\n",
    "- nem vagyunk egyedül"
   ]
  },
  {
   "cell_type": "markdown",
   "metadata": {
    "slideshow": {
     "slide_type": "slide"
    }
   },
   "source": [
    "# Köszönöm megtisztelő figyelmüket!\n",
    "\n",
    "<img src=\"http://icons.iconarchive.com/icons/ampeross/smooth/32/Twitter-icon.png\" align='left' style='margin-right: 5px; margin-left: 15px' /><b>twitter.com/fulibacsi</b><br>\n",
    "\n",
    "<img src=\"http://icons.iconarchive.com/icons/social-media-icons/glossy-social/32/Github-icon.png\" align='left' style='margin-right: 5px; margin-left: 15px' /><b>github.com/fulibacsi</b>"
   ]
  }
 ],
 "metadata": {
  "celltoolbar": "Slideshow",
  "kernelspec": {
   "display_name": "Python 2",
   "language": "python",
   "name": "python2"
  },
  "language_info": {
   "codemirror_mode": {
    "name": "ipython",
    "version": 2
   },
   "file_extension": ".py",
   "mimetype": "text/x-python",
   "name": "python",
   "nbconvert_exporter": "python",
   "pygments_lexer": "ipython2",
   "version": "2.7.12"
  }
 },
 "nbformat": 4,
 "nbformat_minor": 2
}
