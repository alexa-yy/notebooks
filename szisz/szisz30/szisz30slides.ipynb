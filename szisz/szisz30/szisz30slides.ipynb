{
 "cells": [
  {
   "cell_type": "code",
   "execution_count": null,
   "metadata": {
    "collapsed": true,
    "slideshow": {
     "slide_type": "skip"
    }
   },
   "outputs": [],
   "source": [
    "%load_ext autoreload\n",
    "%autoreload 2"
   ]
  },
  {
   "cell_type": "code",
   "execution_count": null,
   "metadata": {
    "collapsed": true,
    "slideshow": {
     "slide_type": "skip"
    }
   },
   "outputs": [],
   "source": [
    "import random\n",
    "from collections import Counter\n",
    "from IPython.display import display\n",
    "\n",
    "import szisz30"
   ]
  },
  {
   "cell_type": "markdown",
   "metadata": {
    "slideshow": {
     "slide_type": "slide"
    }
   },
   "source": [
    "# Kiszámítható egyéniségek\n",
    "<i>Fülöp András</i>\n",
    "\n",
    "<b>SZISZ30 konferencia</b>, 2017 június 10."
   ]
  },
  {
   "cell_type": "markdown",
   "metadata": {
    "slideshow": {
     "slide_type": "slide"
    }
   },
   "source": [
    "# Magamról\n",
    "\n",
    "- Data Scientist @ Lensa/Gitential\n",
    "- SzISz-ben oktató ~4. éve\n",
    "    - 7 Python kurzus\n",
    "    - 2 Data Science kurzus"
   ]
  },
  {
   "cell_type": "markdown",
   "metadata": {
    "slideshow": {
     "slide_type": "slide"
    }
   },
   "source": [
    "# Python\n",
    "\n",
    "> *A programozás a legközelebbi dolog a szupererőhöz.*  \n",
    "> Drew Houston (Dropbox)"
   ]
  },
  {
   "cell_type": "code",
   "execution_count": null,
   "metadata": {
    "collapsed": true,
    "slideshow": {
     "slide_type": "fragment"
    }
   },
   "outputs": [],
   "source": [
    "print \"Hello World!\""
   ]
  },
  {
   "cell_type": "markdown",
   "metadata": {
    "slideshow": {
     "slide_type": "slide"
    }
   },
   "source": [
    "# Kő-papír-olló\n",
    "<img src=\"pics/rock.gif\" align='left'/>\n",
    "<img src=\"pics/paper.gif\" align='left'/>\n",
    "<img src=\"pics/scissors.gif\" align='left'/>"
   ]
  },
  {
   "cell_type": "markdown",
   "metadata": {
    "slideshow": {
     "slide_type": "notes"
    }
   },
   "source": [
    "\\# TODO: egyéniségek vagyunk, mert küldönbözőképpen játsszuk még ezt az egyszerű játékot is"
   ]
  },
  {
   "cell_type": "code",
   "execution_count": null,
   "metadata": {
    "collapsed": true,
    "slideshow": {
     "slide_type": "subslide"
    }
   },
   "outputs": [],
   "source": [
    "hands = ['ko', 'papir', 'ollo']\n",
    "random.choice(hands)"
   ]
  },
  {
   "cell_type": "code",
   "execution_count": null,
   "metadata": {
    "collapsed": true,
    "slideshow": {
     "slide_type": "subslide"
    }
   },
   "outputs": [],
   "source": [
    "games = []\n",
    "for _ in range(10000):\n",
    "    games.append(random.choice(hands))\n",
    "    \n",
    "szisz30.plot_freqs(Counter(games))"
   ]
  },
  {
   "cell_type": "markdown",
   "metadata": {
    "slideshow": {
     "slide_type": "slide"
    }
   },
   "source": [
    "# Az Kő-Papír-Olló játékunk megtanulható?\n",
    "\n",
    "Tegyük fel, hogy a következő kéz-sorozatot fogjuk játszani:\n",
    "\n",
    "<img src=\"pics/rock.gif\" align='left'/>\n",
    "<img src=\"pics/paper.gif\" align='left'/>\n",
    "<img src=\"pics/paper.gif\" align='left'/>\n",
    "<img src=\"pics/scissors.gif\" align='left'/>\n",
    "<img src=\"pics/rock.gif\" align='left'/>\n",
    "<img src=\"pics/rock.gif\" align='left'/>\n",
    "<img src=\"pics/rock.gif\" align='left'/>\n",
    "<img src=\"pics/paper.gif\" align='left'/>\n",
    "<img src=\"pics/scissors.gif\" align='left'/>\n",
    "<img src=\"pics/rock.gif\" align='left'/>\n",
    "<img src=\"pics/paper.gif\" align='left'/>\n",
    "<img src=\"pics/scissors.gif\" align='left'/>\n",
    "<img src=\"pics/paper.gif\" align='left'/>\n",
    "<img src=\"pics/paper.gif\" align='left'/>\n",
    "<img src=\"pics/rock.gif\" align='left'/>\n",
    "<img src=\"pics/rock.gif\" align='left'/>\n",
    "<img src=\"pics/scissors.gif\" align='left'/>"
   ]
  },
  {
   "cell_type": "code",
   "execution_count": null,
   "metadata": {
    "collapsed": true
   },
   "outputs": [],
   "source": [
    "my_play = 'kppokkkpokpoppkko'"
   ]
  },
  {
   "cell_type": "markdown",
   "metadata": {
    "slideshow": {
     "slide_type": "subslide"
    }
   },
   "source": [
    "# Véletlenszerű AI"
   ]
  },
  {
   "cell_type": "code",
   "execution_count": null,
   "metadata": {
    "collapsed": true
   },
   "outputs": [],
   "source": [
    "rnd = szisz30.RPS('null', 42)\n",
    "rnd.play(my_play, plot=True)"
   ]
  },
  {
   "cell_type": "code",
   "execution_count": null,
   "metadata": {
    "collapsed": true,
    "slideshow": {
     "slide_type": "subslide"
    }
   },
   "outputs": [],
   "source": [
    "rnd.plot_probs()"
   ]
  },
  {
   "cell_type": "markdown",
   "metadata": {
    "slideshow": {
     "slide_type": "subslide"
    }
   },
   "source": [
    "# Naív AI\n",
    "\n",
    "A gyakrabban használt kezeket jegyezzük meg"
   ]
  },
  {
   "cell_type": "code",
   "execution_count": null,
   "metadata": {
    "collapsed": true
   },
   "outputs": [],
   "source": [
    "naive = szisz30.RPS('naive', 42)\n",
    "naive.play(my_play, plot=True)"
   ]
  },
  {
   "cell_type": "code",
   "execution_count": null,
   "metadata": {
    "collapsed": true,
    "slideshow": {
     "slide_type": "subslide"
    }
   },
   "outputs": [],
   "source": [
    "naive.plot_probs()"
   ]
  },
  {
   "cell_type": "markdown",
   "metadata": {
    "slideshow": {
     "slide_type": "subslide"
    }
   },
   "source": [
    "# Emlékező AI\n",
    "\n",
    "Jegyezzük meg, hogy milyen kezek után mik következnek\n",
    "\n",
    "<img src=\"pics/stateful.png\" width=400 align='left'/>"
   ]
  },
  {
   "cell_type": "code",
   "execution_count": null,
   "metadata": {
    "collapsed": true,
    "slideshow": {
     "slide_type": "subslide"
    }
   },
   "outputs": [],
   "source": [
    "stateful = szisz30.RPS('stateful', 42)\n",
    "stateful2 = szisz30.RPS('stateful', 42, 2)\n",
    "stateful3 = szisz30.RPS('stateful', 42, 3)\n",
    "\n",
    "stateful2.play(my_play)\n",
    "stateful3.play(my_play)\n",
    "stateful.play(my_play, plot=True)"
   ]
  },
  {
   "cell_type": "code",
   "execution_count": null,
   "metadata": {
    "collapsed": true,
    "slideshow": {
     "slide_type": "subslide"
    }
   },
   "outputs": [],
   "source": [
    "stateful.plot_probs()"
   ]
  },
  {
   "cell_type": "markdown",
   "metadata": {
    "slideshow": {
     "slide_type": "slide"
    }
   },
   "source": [
    "# Hogyan viszonyulnak egymáshoz az AI-k?"
   ]
  },
  {
   "cell_type": "markdown",
   "metadata": {
    "slideshow": {
     "slide_type": "notes"
    }
   },
   "source": [
    "RoChamBo:\n",
    "- Hogyan nyerjünk emberi ellenfél ellen: http://i.imgur.com/gJAy3.jpg\n",
    "- http://blog.wolfram.com/2014/01/20/how-to-win-at-rock-paper-scissors/\n",
    "- https://github.com/NavjotMinhas/RockPaperScissors_AI\n",
    "- https://www.reddit.com/r/gamedev/comments/doxb3/simple_ai_for_a_rockpaperscissors_game/\n",
    "- http://webdocs.cs.ualberta.ca/~darse/rsbpc.html"
   ]
  },
  {
   "cell_type": "code",
   "execution_count": null,
   "metadata": {
    "collapsed": true,
    "slideshow": {
     "slide_type": "-"
    }
   },
   "outputs": [],
   "source": [
    "szisz30.Simulate(stateful, stateful3, 50000, p1static=True).play(plot=True)"
   ]
  },
  {
   "cell_type": "markdown",
   "metadata": {
    "slideshow": {
     "slide_type": "slide"
    }
   },
   "source": [
    "# Neurális hálózatok\n",
    "\n",
    "## Perceptron model\n",
    "<img src=\"pics/neuron.png\" width=400 align=\"left\"/>"
   ]
  },
  {
   "cell_type": "markdown",
   "metadata": {
    "slideshow": {
     "slide_type": "subslide"
    }
   },
   "source": [
    "## Többrétegű hálózat\n",
    "<img src=\"pics/mlp.png\" width=400 align=\"left\"/>"
   ]
  },
  {
   "cell_type": "markdown",
   "metadata": {
    "slideshow": {
     "slide_type": "notes"
    }
   },
   "source": [
    "cikkek:\n",
    "- https://www.his.se/PageFiles/8158/Henrik_Engstrom.pdf\n",
    "- http://act-r.psy.cmu.edu/wordpress/wp-content/uploads/2012/12/874paper203.pdf"
   ]
  },
  {
   "cell_type": "markdown",
   "metadata": {
    "slideshow": {
     "slide_type": "slide"
    }
   },
   "source": [
    "# Demo"
   ]
  },
  {
   "cell_type": "code",
   "execution_count": null,
   "metadata": {
    "collapsed": true,
    "slideshow": {
     "slide_type": "subslide"
    }
   },
   "outputs": [],
   "source": [
    "nn = szisz30.RPS('neural', 42)\n",
    "nn.play(my_play, plot=True)"
   ]
  },
  {
   "cell_type": "code",
   "execution_count": null,
   "metadata": {
    "collapsed": true,
    "slideshow": {
     "slide_type": "subslide"
    }
   },
   "outputs": [],
   "source": [
    "display(szisz30.generate_interface(nn))"
   ]
  },
  {
   "cell_type": "code",
   "execution_count": null,
   "metadata": {
    "collapsed": true
   },
   "outputs": [],
   "source": [
    "nn.plot_win_ratio()"
   ]
  },
  {
   "cell_type": "markdown",
   "metadata": {
    "slideshow": {
     "slide_type": "slide"
    }
   },
   "source": [
    "# Ajánlói rendszerek"
   ]
  },
  {
   "cell_type": "markdown",
   "metadata": {
    "slideshow": {
     "slide_type": "notes"
    }
   },
   "source": [
    "Sztori a fiatalkorú csajról és az áruházról\n",
    "Egy kép, akik a különböző módszereket használnak (CC, CB, H)"
   ]
  },
  {
   "cell_type": "markdown",
   "metadata": {
    "slideshow": {
     "slide_type": "fragment"
    }
   },
   "source": [
    "- collaborative filtering  \n",
    "    ![]() kép róla  \n",
    "    példa róla  "
   ]
  },
  {
   "cell_type": "markdown",
   "metadata": {
    "slideshow": {
     "slide_type": "fragment"
    }
   },
   "source": [
    "- user-item mátrix  \n",
    "    ![]() kép erről is  \n",
    "    példa erről is"
   ]
  },
  {
   "cell_type": "markdown",
   "metadata": {
    "slideshow": {
     "slide_type": "slide"
    }
   },
   "source": [
    "# Átkötés az ajánlói rendszerekről az egyéniségre\n",
    "\n",
    "\\# TODO: vagy valami ilyesmi"
   ]
  },
  {
   "cell_type": "code",
   "execution_count": null,
   "metadata": {
    "collapsed": true
   },
   "outputs": [],
   "source": [
    "# TODO: valami csoda kód még ide (mini ajánló rendszer kőpapírollóra? - esetleg valami heatmap?)"
   ]
  },
  {
   "cell_type": "markdown",
   "metadata": {
    "slideshow": {
     "slide_type": "slide"
    }
   },
   "source": [
    "Vélemény: azért jó ez nekünk mert:\n",
    "- személyre szabott ajánlások\n",
    "- csak egy sor egy óriási mátrixban\n",
    "- cégek érdeke, hogy ne legyen visszaélés (apple nem adta ki az adatot a cia-nek)\n",
    "- nem vagyunk egyedül"
   ]
  },
  {
   "cell_type": "markdown",
   "metadata": {
    "slideshow": {
     "slide_type": "slide"
    }
   },
   "source": [
    "# Köszönöm megtisztelő figyelmüket!\n",
    "\n",
    "<img src=\"pics/twitter.png\" align='left' style='margin-right: 5px; margin-left: 15px' /><b>twitter.com/fulibacsi</b><br>\n",
    "\n",
    "<img src=\"pics/github.png\" align='left' style='margin-right: 5px; margin-left: 15px' /><b>github.com/fulibacsi</b>"
   ]
  }
 ],
 "metadata": {
  "celltoolbar": "Slideshow",
  "kernelspec": {
   "display_name": "Python 2",
   "language": "python",
   "name": "python2"
  },
  "language_info": {
   "codemirror_mode": {
    "name": "ipython",
    "version": 2
   },
   "file_extension": ".py",
   "mimetype": "text/x-python",
   "name": "python",
   "nbconvert_exporter": "python",
   "pygments_lexer": "ipython2",
   "version": "2.7.12"
  }
 },
 "nbformat": 4,
 "nbformat_minor": 2
}
